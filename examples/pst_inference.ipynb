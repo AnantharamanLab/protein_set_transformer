{
  "cells": [
    {
      "cell_type": "markdown",
      "metadata": {
        "id": "Nxr96eqDeB3u"
      },
      "source": [
        "# PST Inference\n",
        "\n",
        "## 1. GPU Runtime\n",
        "Ensure that you are using a runtime with GPU access:\n",
        "`Runtime > Change runtime type` and choose a GPU runtime.\n",
        "\n",
        "## 2. Setup software\n",
        "Google Colab servers already have the latest version of `PyTorch`. We need to check the version of `PyTorch` and `CUDA` to properly install other `PyTorch` extension libraries required by `PST`.\n",
        "\n",
        "All installation should take less than 1 minute."
      ]
    },
    {
      "cell_type": "code",
      "execution_count": 1,
      "metadata": {
        "id": "goEZyafiLCW_"
      },
      "outputs": [],
      "source": [
        "import torch\n",
        "from pathlib import Path"
      ]
    },
    {
      "cell_type": "code",
      "execution_count": 2,
      "metadata": {
        "colab": {
          "base_uri": "https://localhost:8080/",
          "height": 35
        },
        "id": "o56j4cCTLGDt",
        "outputId": "8c4f1f54-c84e-410d-a69a-c70e69d95b3e"
      },
      "outputs": [
        {
          "data": {
            "application/vnd.google.colaboratory.intrinsic+json": {
              "type": "string"
            },
            "text/plain": [
              "'2.8.0+cu126'"
            ]
          },
          "execution_count": 2,
          "metadata": {},
          "output_type": "execute_result"
        }
      ],
      "source": [
        "torch.__version__"
      ]
    },
    {
      "cell_type": "markdown",
      "metadata": {
        "id": "cWBU5AZWeszU"
      },
      "source": [
        "The wheel URL should be in the form: `https://data.pyg.org/whl/torch-{TORCHVERSION}+{CUDA}.html`\n",
        "\n",
        "Just change the command below to use the correct version information."
      ]
    },
    {
      "cell_type": "code",
      "execution_count": 3,
      "metadata": {
        "colab": {
          "base_uri": "https://localhost:8080/"
        },
        "id": "G4E0vkdCREju",
        "outputId": "3f4e2ffc-2a7d-4f0a-dd43-abc975c81125"
      },
      "outputs": [
        {
          "name": "stdout",
          "output_type": "stream",
          "text": [
            "\u001b[2mUsing Python 3.12.11 environment at: /usr\u001b[0m\n",
            "\u001b[2K\u001b[2mResolved \u001b[1m25 packages\u001b[0m \u001b[2min 897ms\u001b[0m\u001b[0m\n",
            "\u001b[2K\u001b[2mPrepared \u001b[1m3 packages\u001b[0m \u001b[2min 675ms\u001b[0m\u001b[0m\n",
            "\u001b[2K\u001b[2mInstalled \u001b[1m3 packages\u001b[0m \u001b[2min 38ms\u001b[0m\u001b[0m\n",
            " \u001b[32m+\u001b[39m \u001b[1mtorch-geometric\u001b[0m\u001b[2m==2.6.1\u001b[0m\n",
            " \u001b[32m+\u001b[39m \u001b[1mtorch-scatter\u001b[0m\u001b[2m==2.1.2+pt28cu126\u001b[0m\n",
            " \u001b[32m+\u001b[39m \u001b[1mtorch-sparse\u001b[0m\u001b[2m==0.6.18+pt28cu126\u001b[0m\n"
          ]
        }
      ],
      "source": [
        "!uv pip install torch-geometric torch-scatter torch-sparse -f https://data.pyg.org/whl/torch-2.8.0+cu126.html"
      ]
    },
    {
      "cell_type": "markdown",
      "metadata": {
        "id": "DA0Utbove-vk"
      },
      "source": [
        "Then install the `PST` library. *Note: must be `>=2.6.0` since that minor release unlocks the max python and PyTorch versions*"
      ]
    },
    {
      "cell_type": "code",
      "execution_count": 4,
      "metadata": {
        "colab": {
          "base_uri": "https://localhost:8080/"
        },
        "id": "IIDgYhsiLHap",
        "outputId": "2b1bbbb0-f09d-469e-af90-fc72b8dcf380"
      },
      "outputs": [
        {
          "name": "stdout",
          "output_type": "stream",
          "text": [
            "\u001b[2mUsing Python 3.12.11 environment at: /usr\u001b[0m\n",
            "\u001b[2K\u001b[2mResolved \u001b[1m84 packages\u001b[0m \u001b[2min 564ms\u001b[0m\u001b[0m\n",
            "\u001b[2K\u001b[2mPrepared \u001b[1m13 packages\u001b[0m \u001b[2min 327ms\u001b[0m\u001b[0m\n",
            "\u001b[2K\u001b[2mInstalled \u001b[1m13 packages\u001b[0m \u001b[2min 82ms\u001b[0m\u001b[0m\n",
            " \u001b[32m+\u001b[39m \u001b[1mboltons\u001b[0m\u001b[2m==25.0.0\u001b[0m\n",
            " \u001b[32m+\u001b[39m \u001b[1mcattrs\u001b[0m\u001b[2m==25.2.0\u001b[0m\n",
            " \u001b[32m+\u001b[39m \u001b[1mcolorlog\u001b[0m\u001b[2m==6.9.0\u001b[0m\n",
            " \u001b[32m+\u001b[39m \u001b[1mfair-esm\u001b[0m\u001b[2m==2.0.0\u001b[0m\n",
            " \u001b[32m+\u001b[39m \u001b[1mjsonargparse\u001b[0m\u001b[2m==4.41.0\u001b[0m\n",
            " \u001b[32m+\u001b[39m \u001b[1mlightning\u001b[0m\u001b[2m==2.5.5\u001b[0m\n",
            " \u001b[32m+\u001b[39m \u001b[1mlightning-cv\u001b[0m\u001b[2m==1.1.0\u001b[0m\n",
            " \u001b[32m+\u001b[39m \u001b[1mlightning-utilities\u001b[0m\u001b[2m==0.15.2\u001b[0m\n",
            " \u001b[32m+\u001b[39m \u001b[1moptuna\u001b[0m\u001b[2m==4.5.0\u001b[0m\n",
            " \u001b[32m+\u001b[39m \u001b[1mptn-set-transformer\u001b[0m\u001b[2m==2.6.0\u001b[0m\n",
            " \u001b[32m+\u001b[39m \u001b[1mpytorch-lightning\u001b[0m\u001b[2m==2.5.5\u001b[0m\n",
            " \u001b[32m+\u001b[39m \u001b[1mtorchmetrics\u001b[0m\u001b[2m==1.8.2\u001b[0m\n",
            " \u001b[32m+\u001b[39m \u001b[1mtypeshed-client\u001b[0m\u001b[2m==2.8.2\u001b[0m\n"
          ]
        }
      ],
      "source": [
        "!uv pip install \"ptn-set-transformer>=2.6.0\""
      ]
    },
    {
      "cell_type": "markdown",
      "metadata": {
        "id": "G3jedvqef689"
      },
      "source": [
        "## 3. Mount Google Drive (optional)\n",
        "PST inference requires specially formatted HDF5 files that can be created and stored on your Google Drive account.\n",
        "\n",
        "Your Google Drive account can be mounted to this runtime server so that your files are accessible.\n",
        "\n",
        "You can store your data files there (and models if you want, but those can also be downloaded locally).\n",
        "\n",
        "-----\n",
        "\n",
        "Mounting your Google Drive will prompt authentication each time this notebook is ran:"
      ]
    },
    {
      "cell_type": "code",
      "execution_count": 5,
      "metadata": {
        "colab": {
          "base_uri": "https://localhost:8080/"
        },
        "id": "ZvkV824NgfHc",
        "outputId": "d539a102-17fe-408c-ec5f-d6670554f81c"
      },
      "outputs": [
        {
          "name": "stdout",
          "output_type": "stream",
          "text": [
            "Mounted at /content/drive\n"
          ]
        }
      ],
      "source": [
        "from google.colab import drive\n",
        "\n",
        "drive.mount(\"/content/drive\")"
      ]
    },
    {
      "cell_type": "markdown",
      "metadata": {
        "id": "wpKUW9KGhG_X"
      },
      "source": [
        "After mounting your Google Drive, your files should be accessible at the path `/content/drive/MyDrive`.\n",
        "\n",
        "For example, I have a demo folder that has a test FASTA file (which is the first 250 scaffolds encoding 8,955 proteins from the PST training set)."
      ]
    },
    {
      "cell_type": "code",
      "execution_count": 6,
      "metadata": {
        "colab": {
          "base_uri": "https://localhost:8080/"
        },
        "id": "QIR1i3_6g_nO",
        "outputId": "bf86914f-a720-45c7-a948-485705f441e8"
      },
      "outputs": [
        {
          "name": "stdout",
          "output_type": "stream",
          "text": [
            "total 30M\n",
            "-rw------- 1 root root  27M Oct  1 16:01 PST_embeddings.h5\n",
            "-rw------- 1 root root 3.4M Oct  1 16:12 test.faa\n"
          ]
        }
      ],
      "source": [
        "!ls -lh /content/drive/MyDrive/pst_demo"
      ]
    },
    {
      "cell_type": "markdown",
      "metadata": {
        "id": "hx-E4EhapSaU"
      },
      "source": [
        "## 4. Compute ESM2 embeddings (optional)\n",
        "\n",
        "If you already have ESM2 embeddings for your protein sequences, then you can skip this step.\n",
        "\n",
        "-----\n",
        "\n",
        "**Advanced**: If you have a *large* number of proteins (ie 1M+), then you could benefit from splitting your large FASTA file into smaller segments (~100k sequences) to embed independently. This obviously benefits more if you have access to multiple GPUs to split the work across, but this will also help if you need to restart this runtime due to timelimits.\n",
        "\n",
        "You will need to concatenate the embeddings back **in the same order** since the FASTA file should be sorted such that the proteins are in order for each scaffold (based on the position in the genome)."
      ]
    },
    {
      "cell_type": "code",
      "execution_count": 7,
      "metadata": {
        "id": "nyWfYhIxjjO-"
      },
      "outputs": [],
      "source": [
        "from pst.embed.model import ESM2Models\n",
        "\n",
        "\n",
        "def esm_embed(\n",
        "    file: str,\n",
        "    esm_model: ESM2Models = ESM2Models.esm2_t30_150M,\n",
        "    batch_size: int = 2048,\n",
        "    outdir: Path = Path(\".\"),\n",
        "):\n",
        "    \"\"\"\n",
        "    Compute ESM2 embeddings for a FASTA file.\n",
        "\n",
        "    Args:\n",
        "        file (str): Path to FASTA file.\n",
        "        esm_model (ESM2Models, optional): ESM2 model to use. Defaults to ESM2Models.esm2_t30_150M.\n",
        "        batch_size (int, optional): Batch size in number of amino acids. Defaults to 2048.\n",
        "    \"\"\"\n",
        "    from pst.embed import ModelArgs, TrainerArgs, embed\n",
        "\n",
        "    model_args = ModelArgs(esm=esm_model, batch_size=batch_size)\n",
        "    trainer_args = TrainerArgs()\n",
        "\n",
        "    embed(\n",
        "        input=Path(file),\n",
        "        outdir=outdir,\n",
        "        model_cfg=model_args,\n",
        "        trainer_cfg=trainer_args,\n",
        "    )"
      ]
    },
    {
      "cell_type": "markdown",
      "metadata": {
        "id": "O5So_nqI2cjx"
      },
      "source": [
        "This will embed the sequences to `{outdir}/{esm2_model_name}_results.h5`\n",
        "\n",
        "This will download the relevant ESM2 model, but that could also be uploaded to your Google Drive. This would require you to adjust your `$TORCH_HOME` environment variable appropriately."
      ]
    },
    {
      "cell_type": "code",
      "execution_count": 8,
      "metadata": {
        "id": "OwINrpT3ZkGY"
      },
      "outputs": [],
      "source": [
        "fasta_file = \"/content/drive/MyDrive/pst_demo/test.faa\""
      ]
    },
    {
      "cell_type": "markdown",
      "metadata": {
        "id": "YO97Ftd2ip6n"
      },
      "source": [
        "Depending on the length of the proteins in your FASTA file, you may need to lower the `batch_size` (which is in units of amino acids).\n",
        "\n",
        "This will by far take the most amount of time in the PST inference process (~1 min/2.5k proteins). If you have access to more powerful GPUs or can upgrade a free Colab notebook, you would greatly benefit from ESM2 inference needed for PST **if you have a large number of proteins**."
      ]
    },
    {
      "cell_type": "code",
      "execution_count": 9,
      "metadata": {
        "colab": {
          "base_uri": "https://localhost:8080/",
          "height": 273,
          "referenced_widgets": [
            "4a941ca8a05248e1a6d32c956c4144a8",
            "62a93bf7750849a39b28527f364ea5af",
            "d4371b2864a34e3ba61c404edad2ccec",
            "da6d54dd32a04bc4bd2818ab01940748",
            "180aea0bf26a48c682245092d23f5f43",
            "731aa4dd27044b64b57f494a4be1bb50",
            "6ae5ed1f520943c3885fa4b6516e976e",
            "51b054068a88459eae3f1eca03db5605",
            "321e7f52473544e5ac67dbc9cf673bb2",
            "c66f247e8aac430c8a6d09fc8ace3927",
            "468db8f6bf014962a91cfb8c278d12da"
          ]
        },
        "id": "0rtKUvZnzpYc",
        "outputId": "2d9140c6-c260-44ef-b5e7-e5285543c935"
      },
      "outputs": [
        {
          "name": "stderr",
          "output_type": "stream",
          "text": [
            "INFO: Seed set to 111\n",
            "INFO:lightning.fabric.utilities.seed:Seed set to 111\n"
          ]
        },
        {
          "name": "stdout",
          "output_type": "stream",
          "text": [
            "Downloading: \"https://dl.fbaipublicfiles.com/fair-esm/models/esm2_t30_150M_UR50D.pt\" to /root/.cache/torch/hub/checkpoints/esm2_t30_150M_UR50D.pt\n",
            "Downloading: \"https://dl.fbaipublicfiles.com/fair-esm/regression/esm2_t30_150M_UR50D-contact-regression.pt\" to /root/.cache/torch/hub/checkpoints/esm2_t30_150M_UR50D-contact-regression.pt\n"
          ]
        },
        {
          "name": "stderr",
          "output_type": "stream",
          "text": [
            "INFO: GPU available: True (cuda), used: True\n",
            "INFO:lightning.pytorch.utilities.rank_zero:GPU available: True (cuda), used: True\n",
            "INFO: TPU available: False, using: 0 TPU cores\n",
            "INFO:lightning.pytorch.utilities.rank_zero:TPU available: False, using: 0 TPU cores\n",
            "INFO: HPU available: False, using: 0 HPUs\n",
            "INFO:lightning.pytorch.utilities.rank_zero:HPU available: False, using: 0 HPUs\n",
            "INFO: LOCAL_RANK: 0 - CUDA_VISIBLE_DEVICES: [0]\n",
            "INFO:lightning.pytorch.accelerators.cuda:LOCAL_RANK: 0 - CUDA_VISIBLE_DEVICES: [0]\n"
          ]
        },
        {
          "data": {
            "application/vnd.jupyter.widget-view+json": {
              "model_id": "4a941ca8a05248e1a6d32c956c4144a8",
              "version_major": 2,
              "version_minor": 0
            },
            "text/plain": [
              "Predicting: |          | 0/? [00:00<?, ?it/s]"
            ]
          },
          "metadata": {},
          "output_type": "display_data"
        }
      ],
      "source": [
        "esm_embed(fasta_file, batch_size=4096)"
      ]
    },
    {
      "cell_type": "code",
      "execution_count": 10,
      "metadata": {
        "colab": {
          "base_uri": "https://localhost:8080/"
        },
        "id": "d4DT5VmaYfY3",
        "outputId": "59cbdc81-e792-41ca-d2e2-a93507157f60"
      },
      "outputs": [
        {
          "name": "stdout",
          "output_type": "stream",
          "text": [
            "-rw-r--r-- 1 root root 21M Oct  1 16:19 esm2_t30_150M_results.h5\n"
          ]
        }
      ],
      "source": [
        "!ls -lh *.h5"
      ]
    },
    {
      "cell_type": "markdown",
      "metadata": {
        "id": "N05JOBgo2rsc"
      },
      "source": [
        "### 4.1 Graph format embeddings\n",
        "The embedding file needs to be reformatted to a graph format used by PST.\n",
        "\n",
        "For protein FASTA files generated by prodigal/pyrodigal, the following should be sufficient. However, `OptionalArgs` also takes an optional strand mapping file that maps each protein to a strand `[-1, 1]` (in a tab-delimited format: `protein\\tstrand`.\n",
        "\n",
        "The `scaffold_map_file`maps scaffolds to genomes for multi-scaffold genomes in a tab-delimited format: `scaffold name\\tgenome name`. `scaffold name` is defined as the part of the protein name before the numerical identifier: `scaffold name_PTNID`\n",
        "\n",
        "This will create a new file `{outdir}/{esm2_model_name}_results.graphfmt.h5` that should be used as input to `PST` models."
      ]
    },
    {
      "cell_type": "code",
      "execution_count": 11,
      "metadata": {
        "id": "_SiTBg8sW69R"
      },
      "outputs": [],
      "source": [
        "def graphify(\n",
        "    embeddings_file: str, fasta_file: str, scaffold_map_file: str | None = None\n",
        "):\n",
        "    from pst.utils.graphify import IOArgs, OptionalArgs, to_graph_format\n",
        "\n",
        "    io_args = IOArgs(file=Path(embeddings_file), fasta_file=Path(fasta_file))\n",
        "    optional_args = OptionalArgs(\n",
        "        scaffold_map_file=Path(scaffold_map_file)\n",
        "        if scaffold_map_file is not None\n",
        "        else None\n",
        "    )\n",
        "\n",
        "    to_graph_format(io_args, optional_args)"
      ]
    },
    {
      "cell_type": "code",
      "execution_count": 12,
      "metadata": {
        "id": "d8MFzg7bZaqZ"
      },
      "outputs": [],
      "source": [
        "graphify(embeddings_file=\"esm2_t30_150M_results.h5\", fasta_file=fasta_file)"
      ]
    },
    {
      "cell_type": "code",
      "execution_count": 13,
      "metadata": {
        "colab": {
          "base_uri": "https://localhost:8080/"
        },
        "id": "4dZh8XKHdOou",
        "outputId": "ca864ab0-9930-415c-978e-4aa9e99da976"
      },
      "outputs": [
        {
          "name": "stdout",
          "output_type": "stream",
          "text": [
            "-rw-r--r-- 1 root root 21M Oct  1 16:19 esm2_t30_150M_results.graphfmt.h5\n",
            "-rw-r--r-- 1 root root 21M Oct  1 16:19 esm2_t30_150M_results.h5\n"
          ]
        }
      ],
      "source": [
        "!ls -lh *.h5"
      ]
    },
    {
      "cell_type": "markdown",
      "metadata": {
        "id": "sBLCMUkNdSEH"
      },
      "source": [
        "There are now extra fields in the HDF5 file that enable efficient access to all protein embeddings from each genome."
      ]
    },
    {
      "cell_type": "code",
      "execution_count": 14,
      "metadata": {
        "id": "NiB7iBtAdZNP"
      },
      "outputs": [],
      "source": [
        "import tables as tb"
      ]
    },
    {
      "cell_type": "code",
      "execution_count": 15,
      "metadata": {
        "colab": {
          "base_uri": "https://localhost:8080/"
        },
        "id": "tFwr5_OCda9r",
        "outputId": "835ac97a-f410-4377-e950-38be6c75481c"
      },
      "outputs": [
        {
          "name": "stdout",
          "output_type": "stream",
          "text": [
            "/data (CArray(np.int64(8955), np.int64(640))shuffle, blosc:lz4(4)) ''\n",
            "/ptr (CArray(np.int64(251),)shuffle, blosc:lz4(4)) ''\n",
            "/sizes (CArray(np.int64(250),)shuffle, blosc:lz4(4)) ''\n",
            "/strand (CArray(np.int64(8955),)shuffle, blosc:lz4(4)) ''\n"
          ]
        }
      ],
      "source": [
        "esm_embeddings_file = \"esm2_t30_150M_results.graphfmt.h5\"\n",
        "with tb.open_file(esm_embeddings_file) as fp:\n",
        "    for node in fp.walk_nodes(classname=\"Array\"):\n",
        "        print(node)"
      ]
    },
    {
      "cell_type": "markdown",
      "metadata": {
        "id": "d8v28F5ddorV"
      },
      "source": [
        "## 5. PST inference\n",
        "With graph-formatted ESM2 embeddings, `PST` can be used for inference.\n",
        "\n",
        "Only 2 different ESM2 embedding sizes were used to train PSTs:\n",
        "- `esm2_t6_8M` -> `PST...__small`\n",
        "- `esm2_t30_150M` -> `PST...__large`\n",
        "\n",
        "So the correct `PST` model needs to be chosen based on the ESM2 embeddings generated.\n",
        "\n",
        "There are also several PST models trained with different objectives and cross validation strategies:\n",
        "- `PST-TL-P__small`\n",
        "- `PST-TL-P__large`\n",
        "- `PST-TL-T__small`\n",
        "- `PST-TL-T__large`\n",
        "- `PST-MLM-P__small`\n",
        "- `PST-MLM-P__large`\n",
        "- `PST-MLM-T__small`\n",
        "- `PST-MLM-T__large`\n",
        "\n",
        "I recommend starting with `PST-TL-P` models.\n",
        "\n",
        "### 5.1 Download PST model\n",
        "\n",
        "The following code uses the `PST` API to download the models from the DRYAD repository [https://doi.org/10.5061/dryad.d7wm37q8w](https://doi.org/10.5061/dryad.d7wm37q8w).\n",
        "\n",
        "For simplicity, the model checkpoint is downloaded to the current directory (`/content/drive/`)"
      ]
    },
    {
      "cell_type": "code",
      "execution_count": 16,
      "metadata": {
        "colab": {
          "base_uri": "https://localhost:8080/"
        },
        "id": "wFFjWkkOfFBR",
        "outputId": "dbb0198d-1823-4af6-b94f-800088e8c1d1"
      },
      "outputs": [
        {
          "name": "stdout",
          "output_type": "stream",
          "text": [
            "Downloading the following 2 files to .\n",
            "\tREADME.md\n",
            "\tPST-TL-P__large.ckpt.gz\n"
          ]
        },
        {
          "name": "stderr",
          "output_type": "stream",
          "text": [
            "[0/2] README.md: 100%|██████████| 28.7k/28.7k [00:00<00:00, 915kB/s]\n",
            "[1/2] PST-TL-P__large.ckpt.gz: 100%|██████████| 221M/221M [00:03<00:00, 70.2MB/s]\n"
          ]
        },
        {
          "name": "stdout",
          "output_type": "stream",
          "text": [
            "[2/2] Download finished.\n",
            "Decompressing all tarballs, zip files, and gzipped files.\n"
          ]
        }
      ],
      "source": [
        "# choices:\n",
        "# [\n",
        "#     \"PST-TL-P__small\",\n",
        "#     \"PST-TL-P__large\",\n",
        "#     \"PST-TL-T__small\",\n",
        "#     \"PST-TL-T__large\",\n",
        "#     \"PST-MLM\", # <- NOTE: this will create a subdirectory, so keep that in mind if using\n",
        "# ]\n",
        "def download_model(model: str | list[str]):\n",
        "    from pst.utils.download import DryadDownloader\n",
        "    from pst.utils.cli.download import (\n",
        "        ManuscriptDataArgs,\n",
        "        ClusterArgs,\n",
        "        EmbeddingsArgs,\n",
        "        ModelArgs,\n",
        "    )\n",
        "\n",
        "    if isinstance(model, str):\n",
        "        model = [model]\n",
        "\n",
        "    downloader = DryadDownloader(\n",
        "        manuscript=ManuscriptDataArgs(),\n",
        "        cluster=ClusterArgs(),\n",
        "        embeddings=EmbeddingsArgs(),\n",
        "        model=ModelArgs(choices=model),\n",
        "        all=False,\n",
        "        outdir=Path(\".\"),\n",
        "    )\n",
        "\n",
        "    downloader.download()\n",
        "\n",
        "\n",
        "download_model(\"PST-TL-P__large\")"
      ]
    },
    {
      "cell_type": "code",
      "execution_count": 17,
      "metadata": {
        "colab": {
          "base_uri": "https://localhost:8080/"
        },
        "id": "YykEQYKJe_OI",
        "outputId": "7de0b89b-ab9f-49be-e88c-84b9813259f5"
      },
      "outputs": [
        {
          "name": "stdout",
          "output_type": "stream",
          "text": [
            "total 286M\n",
            "drwx------ 6 root root 4.0K Oct  1 16:13 drive\n",
            "-rw-r--r-- 1 root root  21M Oct  1 16:19 esm2_t30_150M_results.graphfmt.h5\n",
            "-rw-r--r-- 1 root root  21M Oct  1 16:19 esm2_t30_150M_results.h5\n",
            "-rw-r--r-- 1 root root 245M Oct  1 16:19 PST-TL-P__large.ckpt\n",
            "-rw-r--r-- 1 root root  29K Oct  1 16:19 README.md\n",
            "drwxr-xr-x 1 root root 4.0K Sep 29 13:37 sample_data\n"
          ]
        }
      ],
      "source": [
        "!ls -lh"
      ]
    },
    {
      "cell_type": "markdown",
      "metadata": {
        "id": "roEoFZ6ugzO-"
      },
      "source": [
        "Now use the `model_inference` function to generate PST embeddings."
      ]
    },
    {
      "cell_type": "code",
      "execution_count": 18,
      "metadata": {
        "id": "vgbx9bs8LW7Y"
      },
      "outputs": [],
      "source": [
        "import pst\n",
        "from pst.predict import model_inference\n",
        "from pst.predict.predict import PredictArgs, AcceleratorOpts"
      ]
    },
    {
      "cell_type": "markdown",
      "metadata": {
        "id": "j_3RY80ug3iD"
      },
      "source": [
        "Note: The `output` file should be saved to your Google Drive account so that it is permanent. Otherwise, it will be deleted if stored locally on this server."
      ]
    },
    {
      "cell_type": "code",
      "execution_count": 19,
      "metadata": {
        "colab": {
          "base_uri": "https://localhost:8080/"
        },
        "id": "Gnr21Dh5hob2",
        "outputId": "a402ed05-018d-4898-cf20-a52f3ed61a7a"
      },
      "outputs": [
        {
          "name": "stderr",
          "output_type": "stream",
          "text": [
            "WARNING:pst.predict.predict:Output file /content/drive/MyDrive/pst_demo/PST_embeddings.h5 already exists and will be overwritten\n"
          ]
        },
        {
          "name": "stdout",
          "output_type": "stream",
          "text": [
            "100%|██████████| 8/8 [00:00<00:00,  9.26it/s]\n"
          ]
        }
      ],
      "source": [
        "esm_embeddings_file = Path(\"esm2_t30_150M_results.graphfmt.h5\")\n",
        "model_checkpoint = Path(\"PST-TL-P__large.ckpt\")  # CHANGE TO MODEL DOWNLOADED\n",
        "\n",
        "# NOTE: you will want this to be saved to your Google Drive so it will persist after this notebook ends\n",
        "output = Path(\"/content/drive/MyDrive/pst_demo/PST_embeddings.h5\")\n",
        "\n",
        "results = model_inference(\n",
        "    model_type=pst.ProteinSetTransformer,\n",
        "    file=esm_embeddings_file,\n",
        "    predict=PredictArgs(checkpoint=model_checkpoint, output=output),\n",
        "    lazy=True,\n",
        "    accelerator=AcceleratorOpts.gpu,\n",
        "    # OPTIONAL: if you want inspect results in this notebook\n",
        "    # The results are always saved to the file above\n",
        "    return_predictions=True,\n",
        ")"
      ]
    },
    {
      "cell_type": "markdown",
      "metadata": {
        "id": "wbrvYdTRgxtU"
      },
      "source": [
        "For the purposes of this notebook, I returned the predictions to inspect.\n",
        "\n",
        "Notice the shape of the first (batch) dimension of each tensor:\n",
        "- `protein` and `attn` are the same as the number of proteins\n",
        "- `genome` is the same as the number of scaffolds in this case\n",
        "  - Note: all the genomes in the test file were single scaffold, so `genome` and `scaffold` are interchangeable.\n",
        "  - For datasets that include multi-scaffold genomes, there will also be a `scaffold` field **if the graph-formatted HDF5 file includes a `scaffold_label` field that maps each scaffold to a unique integer corresponding to the genome**."
      ]
    },
    {
      "cell_type": "code",
      "execution_count": 20,
      "metadata": {
        "colab": {
          "base_uri": "https://localhost:8080/"
        },
        "id": "hg3zPRBVh2Ac",
        "outputId": "a2a3c6c1-875c-4c10-faa0-9f1eff35b59a"
      },
      "outputs": [
        {
          "name": "stdout",
          "output_type": "stream",
          "text": [
            "protein torch.Size([8955, 800])\n",
            "attn torch.Size([8955, 4])\n",
            "genome torch.Size([250, 800])\n"
          ]
        }
      ],
      "source": [
        "for k, v in results.items():\n",
        "    print(k, v.shape)"
      ]
    },
    {
      "cell_type": "code",
      "execution_count": 21,
      "metadata": {
        "colab": {
          "base_uri": "https://localhost:8080/"
        },
        "id": "1esZtV1_iSLd",
        "outputId": "2e145291-67d1-4c62-f0c0-b6771b5915b7"
      },
      "outputs": [
        {
          "name": "stdout",
          "output_type": "stream",
          "text": [
            "total 30M\n",
            "-rw------- 1 root root  27M Oct  1 16:19 PST_embeddings.h5\n",
            "-rw------- 1 root root 3.4M Oct  1 16:12 test.faa\n"
          ]
        }
      ],
      "source": [
        "!ls -lh /content/drive/MyDrive/pst_demo"
      ]
    },
    {
      "cell_type": "markdown",
      "metadata": {
        "id": "UfRGevfvh-Hr"
      },
      "source": [
        "Finally, we can inspect the HDF5 file to see that the fields present in the file are identical to the returned results."
      ]
    },
    {
      "cell_type": "code",
      "execution_count": 22,
      "metadata": {
        "colab": {
          "base_uri": "https://localhost:8080/"
        },
        "id": "T4Hxp_Cbh8WQ",
        "outputId": "2f9cecc7-0bbc-4a8b-d1b6-2e1ac5e28628"
      },
      "outputs": [
        {
          "name": "stdout",
          "output_type": "stream",
          "text": [
            "/attn (EArray(np.int64(8955), np.int64(4))shuffle, blosc:lz4(4)) ''\n",
            "/ctx_ptn (EArray(np.int64(8955), np.int64(800))shuffle, blosc:lz4(4)) ''\n",
            "/genome (EArray(np.int64(250), np.int64(800))shuffle, blosc:lz4(4)) ''\n"
          ]
        }
      ],
      "source": [
        "with tb.open_file(output) as fp:\n",
        "    for node in fp.walk_nodes(classname=\"Array\"):\n",
        "        print(node)"
      ]
    }
  ],
  "metadata": {
    "accelerator": "GPU",
    "colab": {
      "gpuType": "T4",
      "provenance": []
    },
    "kernelspec": {
      "display_name": "pst",
      "language": "python",
      "name": "python3"
    },
    "language_info": {
      "name": "python",
      "version": "3.10.15"
    }
  },
  "nbformat": 4,
  "nbformat_minor": 0
}
