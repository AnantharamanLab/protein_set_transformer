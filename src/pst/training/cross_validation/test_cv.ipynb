{
 "cells": [
  {
   "cell_type": "code",
   "execution_count": 200,
   "metadata": {},
   "outputs": [],
   "source": [
    "from sklearn.model_selection import GroupKFold\n",
    "# from .._data import GenomeDataset\n",
    "# import pst\n",
    "\n",
    "from cv import ImbalancedGroupKFold\n",
    "from pathlib import Path\n",
    "\n",
    "from dataclasses import dataclass\n",
    "\n",
    "import torch\n",
    "from torch.utils.data import DataLoader, Dataset\n",
    "import numpy as np\n",
    "from numpy.typing import NDArray\n",
    "\n",
    "from collections import Counter\n",
    "\n",
    "from typing import Iterator, Optional, Literal\n",
    "\n",
    "import lightning as L\n",
    "from lightning.pytorch.loggers import TensorBoardLogger\n",
    "\n",
    "import matplotlib.pyplot as plt\n",
    "import seaborn as sns\n",
    "\n",
    "import pandas as pd\n",
    "\n",
    "from tensorboard.backend.event_processing.event_accumulator import EventAccumulator"
   ]
  },
  {
   "cell_type": "code",
   "execution_count": 150,
   "metadata": {},
   "outputs": [],
   "source": [
    "torch.set_num_threads(128)"
   ]
  },
  {
   "cell_type": "code",
   "execution_count": 138,
   "metadata": {},
   "outputs": [
    {
     "name": "stderr",
     "output_type": "stream",
     "text": [
      "Global seed set to 111\n"
     ]
    },
    {
     "data": {
      "text/plain": [
       "(torch.Size([320, 4]), torch.Size([320]), torch.Size([320]))"
      ]
     },
     "execution_count": 138,
     "metadata": {},
     "output_type": "execute_result"
    }
   ],
   "source": [
    "L.seed_everything(111)\n",
    "\n",
    "bs = 32\n",
    "total = bs * 10\n",
    "dim = 3\n",
    "X = torch.randn(total, dim)\n",
    "X = torch.cat([torch.ones(X.size(0), 1, dtype=torch.float), X], dim=1)\n",
    "beta = torch.tensor([6.5, 2.2, 0.5, 1.2]) \n",
    "y = X @ beta + torch.normal(0.0, 1.5, (total,))\n",
    "label = torch.cat([\n",
    "    torch.tensor(0).repeat(123),\n",
    "    torch.tensor(1).repeat(23),\n",
    "    torch.tensor(2).repeat(88),\n",
    "    torch.tensor(3).repeat(86),\n",
    "])\n",
    "X.shape, y.shape, label.shape"
   ]
  },
  {
   "cell_type": "code",
   "execution_count": 139,
   "metadata": {},
   "outputs": [
    {
     "name": "stdout",
     "output_type": "stream",
     "text": [
      "0 torch.Size([240]) torch.Size([80])\n",
      "1 torch.Size([243]) torch.Size([77])\n",
      "2 torch.Size([244]) torch.Size([76])\n"
     ]
    }
   ],
   "source": [
    "data_handler = ImbalancedGroupKFold(label)\n",
    "for idx, (train_idx, val_idx) in enumerate(data_handler.split()):\n",
    "    print(idx, train_idx.shape, val_idx.shape)"
   ]
  },
  {
   "cell_type": "code",
   "execution_count": 185,
   "metadata": {},
   "outputs": [],
   "source": [
    "class SLR(L.LightningModule):\n",
    "    def __init__(self, in_dim: int, out_dim: int):\n",
    "        super().__init__()\n",
    "        self.model = torch.nn.Sequential(\n",
    "            torch.nn.Linear(in_dim, in_dim),\n",
    "            torch.nn.ReLU(),\n",
    "            torch.nn.Dropout(p=0.25),\n",
    "            torch.nn.Linear(in_dim, out_dim),\n",
    "        )\n",
    "        self.criterion = torch.nn.MSELoss()\n",
    "\n",
    "    def configure_optimizers(self) -> torch.optim.Optimizer:\n",
    "        return torch.optim.AdamW(params=self.model.parameters(), lr=1e-3)\n",
    "    \n",
    "    def forward(self, x: torch.Tensor) -> torch.Tensor:\n",
    "        logits = self.model(x)\n",
    "        return logits\n",
    "\n",
    "    def shared_foward(self, batch: tuple[torch.Tensor, torch.Tensor], stage: Literal[\"train\", \"val\"]) -> torch.Tensor:\n",
    "        x, y = batch\n",
    "        logits = self(x).squeeze()\n",
    "        loss: torch.Tensor = self.criterion(logits, y)\n",
    "        self.log(\n",
    "            name=f\"{stage}_loss\", \n",
    "            value=loss.item(),\n",
    "            prog_bar=True,\n",
    "        )\n",
    "        return loss\n",
    "    \n",
    "    def training_step(self, batch: tuple[torch.Tensor, torch.Tensor], batch_idx: Optional[int] = None) -> torch.Tensor:\n",
    "        return self.shared_foward(batch=batch, stage=\"train\")\n",
    "\n",
    "    def validation_step(self, batch: tuple[torch.Tensor, torch.Tensor], batch_idx: Optional[int] = None) -> torch.Tensor:\n",
    "        return self.shared_foward(batch=batch, stage=\"val\")\n",
    "    \n",
    "class TensorRegressionDataset(Dataset):\n",
    "    def __init__(self, x: torch.Tensor, y: torch.Tensor) -> None:\n",
    "        super().__init__()\n",
    "        self.x = x\n",
    "        self.y = y\n",
    "\n",
    "    def __len__(self) -> int:\n",
    "        return int(self.x.size(0))\n",
    "    \n",
    "    def __getitem__(self, index: int | list[int] | torch.Tensor) -> tuple[torch.Tensor, torch.Tensor]:\n",
    "        return self.x[index], self.y[index]\n",
    "\n",
    "def training_loop(\n",
    "        x: torch.Tensor, \n",
    "        y: torch.Tensor, \n",
    "        labels: torch.Tensor, \n",
    "        epochs: int,\n",
    "        exp_name: str = \"cv\",\n",
    "        batch_size: int = 32,\n",
    "        **kwargs\n",
    "    ):\n",
    "    dataset = TensorRegressionDataset(x, y)\n",
    "    data_handler = ImbalancedGroupKFold(labels)\n",
    "\n",
    "    for fold_idx, (train_idx, val_idx) in enumerate(data_handler.split()):\n",
    "        model = SLR(in_dim=x.size(-1), out_dim=1)\n",
    "        train_dataset = TensorRegressionDataset(*dataset[train_idx])\n",
    "        val_dataset =  TensorRegressionDataset(*dataset[val_idx])\n",
    "        train_loader = DataLoader(\n",
    "            dataset=train_dataset,\n",
    "            batch_size=batch_size,\n",
    "            shuffle=True\n",
    "        )\n",
    "        val_loader = DataLoader(\n",
    "            dataset=val_dataset,\n",
    "            batch_size=batch_size,\n",
    "            shuffle=True\n",
    "        )\n",
    "        logger = TensorBoardLogger(\n",
    "            save_dir=\"lightning_logs\",\n",
    "            name=exp_name,\n",
    "            version=fold_idx,\n",
    "        )\n",
    "        trainer = L.Trainer(\n",
    "            max_epochs=epochs, \n",
    "            logger=logger,\n",
    "            log_every_n_steps=1, \n",
    "            **kwargs\n",
    "        )\n",
    "        trainer.fit(model=model, train_dataloaders=train_loader, val_dataloaders=val_loader)"
   ]
  },
  {
   "cell_type": "code",
   "execution_count": 203,
   "metadata": {},
   "outputs": [
    {
     "name": "stderr",
     "output_type": "stream",
     "text": [
      "GPU available: False, used: False\n",
      "TPU available: False, using: 0 TPU cores\n",
      "IPU available: False, using: 0 IPUs\n",
      "HPU available: False, using: 0 HPUs\n"
     ]
    },
    {
     "name": "stdout",
     "output_type": "stream",
     "text": [
      "                                                                            "
     ]
    },
    {
     "name": "stderr",
     "output_type": "stream",
     "text": [
      "/scratch/ccmartin6/miniconda3/envs/pst/lib/python3.10/site-packages/lightning/pytorch/trainer/connectors/data_connector.py:478: PossibleUserWarning: Your `val_dataloader`'s sampler has shuffling enabled, it is strongly recommended that you turn shuffling off for val/test dataloaders.\n",
      "  rank_zero_warn(\n",
      "/scratch/ccmartin6/miniconda3/envs/pst/lib/python3.10/site-packages/lightning/pytorch/trainer/connectors/data_connector.py:430: PossibleUserWarning: The dataloader, val_dataloader, does not have many workers which may be a bottleneck. Consider increasing the value of the `num_workers` argument` (try 256 which is the number of cpus on this machine) in the `DataLoader` init to improve performance.\n",
      "  rank_zero_warn(\n",
      "/scratch/ccmartin6/miniconda3/envs/pst/lib/python3.10/site-packages/lightning/pytorch/trainer/connectors/data_connector.py:430: PossibleUserWarning: The dataloader, train_dataloader, does not have many workers which may be a bottleneck. Consider increasing the value of the `num_workers` argument` (try 256 which is the number of cpus on this machine) in the `DataLoader` init to improve performance.\n",
      "  rank_zero_warn(\n"
     ]
    },
    {
     "name": "stdout",
     "output_type": "stream",
     "text": [
      "Epoch 149: 100%|██████████| 8/8 [00:00<00:00, 177.73it/s, v_num=0, train_loss=9.210, val_loss=3.280]"
     ]
    },
    {
     "name": "stderr",
     "output_type": "stream",
     "text": [
      "`Trainer.fit` stopped: `max_epochs=150` reached.\n"
     ]
    },
    {
     "name": "stdout",
     "output_type": "stream",
     "text": [
      "Epoch 149: 100%|██████████| 8/8 [00:00<00:00, 165.29it/s, v_num=0, train_loss=9.210, val_loss=3.280]\n"
     ]
    },
    {
     "name": "stderr",
     "output_type": "stream",
     "text": [
      "GPU available: False, used: False\n",
      "TPU available: False, using: 0 TPU cores\n",
      "IPU available: False, using: 0 IPUs\n",
      "HPU available: False, using: 0 HPUs\n"
     ]
    },
    {
     "name": "stdout",
     "output_type": "stream",
     "text": [
      "Epoch 149: 100%|██████████| 8/8 [00:00<00:00, 205.30it/s, v_num=1, train_loss=3.220, val_loss=2.990]"
     ]
    },
    {
     "name": "stderr",
     "output_type": "stream",
     "text": [
      "`Trainer.fit` stopped: `max_epochs=150` reached.\n"
     ]
    },
    {
     "name": "stdout",
     "output_type": "stream",
     "text": [
      "Epoch 149: 100%|██████████| 8/8 [00:00<00:00, 190.25it/s, v_num=1, train_loss=3.220, val_loss=2.990]\n"
     ]
    },
    {
     "name": "stderr",
     "output_type": "stream",
     "text": [
      "GPU available: False, used: False\n",
      "TPU available: False, using: 0 TPU cores\n",
      "IPU available: False, using: 0 IPUs\n",
      "HPU available: False, using: 0 HPUs\n"
     ]
    },
    {
     "name": "stdout",
     "output_type": "stream",
     "text": [
      "Epoch 149: 100%|██████████| 10/10 [00:00<00:00, 203.31it/s, v_num=2, train_loss=4.950, val_loss=4.780]"
     ]
    },
    {
     "name": "stderr",
     "output_type": "stream",
     "text": [
      "`Trainer.fit` stopped: `max_epochs=150` reached.\n"
     ]
    },
    {
     "name": "stdout",
     "output_type": "stream",
     "text": [
      "Epoch 149: 100%|██████████| 10/10 [00:00<00:00, 185.94it/s, v_num=2, train_loss=4.950, val_loss=4.780]\n"
     ]
    }
   ],
   "source": [
    "training_loop(X, y, label, 150, exp_name=\"real\",enable_model_summary=False)"
   ]
  },
  {
   "cell_type": "code",
   "execution_count": 216,
   "metadata": {},
   "outputs": [
    {
     "name": "stderr",
     "output_type": "stream",
     "text": [
      "GPU available: False, used: False\n",
      "TPU available: False, using: 0 TPU cores\n",
      "IPU available: False, using: 0 IPUs\n",
      "HPU available: False, using: 0 HPUs\n"
     ]
    },
    {
     "name": "stdout",
     "output_type": "stream",
     "text": [
      "Epoch 149: 100%|██████████| 8/8 [00:00<00:00, 199.29it/s, v_num=0, train_loss=16.50, val_loss=15.80]"
     ]
    },
    {
     "name": "stderr",
     "output_type": "stream",
     "text": [
      "`Trainer.fit` stopped: `max_epochs=150` reached.\n"
     ]
    },
    {
     "name": "stdout",
     "output_type": "stream",
     "text": [
      "Epoch 149: 100%|██████████| 8/8 [00:00<00:00, 184.88it/s, v_num=0, train_loss=16.50, val_loss=15.80]\n"
     ]
    },
    {
     "name": "stderr",
     "output_type": "stream",
     "text": [
      "GPU available: False, used: False\n",
      "TPU available: False, using: 0 TPU cores\n",
      "IPU available: False, using: 0 IPUs\n",
      "HPU available: False, using: 0 HPUs\n"
     ]
    },
    {
     "name": "stdout",
     "output_type": "stream",
     "text": [
      "Epoch 149: 100%|██████████| 8/8 [00:00<00:00, 204.29it/s, v_num=1, train_loss=13.60, val_loss=14.30]"
     ]
    },
    {
     "name": "stderr",
     "output_type": "stream",
     "text": [
      "`Trainer.fit` stopped: `max_epochs=150` reached.\n"
     ]
    },
    {
     "name": "stdout",
     "output_type": "stream",
     "text": [
      "Epoch 149: 100%|██████████| 8/8 [00:00<00:00, 189.93it/s, v_num=1, train_loss=13.60, val_loss=14.30]\n"
     ]
    },
    {
     "name": "stderr",
     "output_type": "stream",
     "text": [
      "GPU available: False, used: False\n",
      "TPU available: False, using: 0 TPU cores\n",
      "IPU available: False, using: 0 IPUs\n",
      "HPU available: False, using: 0 HPUs\n"
     ]
    },
    {
     "name": "stdout",
     "output_type": "stream",
     "text": [
      "Epoch 149: 100%|██████████| 10/10 [00:00<00:00, 198.72it/s, v_num=2, train_loss=15.00, val_loss=18.40]"
     ]
    },
    {
     "name": "stderr",
     "output_type": "stream",
     "text": [
      "`Trainer.fit` stopped: `max_epochs=150` reached.\n"
     ]
    },
    {
     "name": "stdout",
     "output_type": "stream",
     "text": [
      "Epoch 149: 100%|██████████| 10/10 [00:00<00:00, 185.31it/s, v_num=2, train_loss=15.00, val_loss=18.40]\n"
     ]
    }
   ],
   "source": [
    "fake_X = torch.randn(total, 4)\n",
    "fake_y = torch.sin(fake_X).sum(dim=-1) + torch.normal(0.0, 3.4, (total,))\n",
    "\n",
    "training_loop(fake_X, fake_y, label, 150, exp_name=\"fake\",enable_model_summary=False)"
   ]
  },
  {
   "cell_type": "code",
   "execution_count": 205,
   "metadata": {},
   "outputs": [],
   "source": [
    "@dataclass\n",
    "class _CVRecord:\n",
    "    fold: int\n",
    "    metric: str\n",
    "    step: int\n",
    "    value: float\n",
    "\n",
    "def load_events(path: Path) -> EventAccumulator:\n",
    "    events = EventAccumulator(path=path.as_posix(), size_guidance=0)\n",
    "    events.Reload()\n",
    "    return events\n",
    "\n",
    "\n",
    "def get_metrics(logdir: Path) -> pd.DataFrame:\n",
    "    metric = \"val_loss\"\n",
    "    summary: list[_CVRecord] = list()\n",
    "    for checkpoint in logdir.glob(\"version_*\"):\n",
    "        fold_idx = int(checkpoint.stem.rsplit(\"_\", maxsplit=1)[-1])\n",
    "        events = load_events(checkpoint)\n",
    "        for event in events.Scalars(metric):\n",
    "            record = _CVRecord(fold_idx, metric, event.step, float(event.value))\n",
    "            summary.append(record)\n",
    "\n",
    "    with logdir.joinpath(\"cv_summary.tsv\").open(\"w\") as fp:\n",
    "        header = \"\\t\".join([\"fold\", \"metric\", \"step\", \"value\"])\n",
    "        fp.write(f\"{header}\\n\")\n",
    "        for record in summary:\n",
    "            fields = [record.fold, record.metric, record.step, record.value]\n",
    "            line = \"\\t\".join(map(str, fields))\n",
    "            fp.write(f\"{line}\\n\")\n",
    "    \n",
    "    df = (\n",
    "        pd.DataFrame(summary)\n",
    "        .sort_values(by=[\"fold\", \"step\"])\n",
    "        .reset_index(drop=True)\n",
    "    )\n",
    "\n",
    "    minmax = df.groupby(\"fold\")[\"step\"].agg([\"min\", \"max\"]).reset_index()\n",
    "\n",
    "    df = (\n",
    "        df\n",
    "        .merge(minmax)\n",
    "        .assign(\n",
    "            diff = lambda df: df[\"max\"] - df[\"min\"],\n",
    "            norm_step = lambda df: (df[\"step\"] - df[\"min\"]) / df[\"diff\"],\n",
    "        )\n",
    "        .drop(columns=[\"diff\"])\n",
    "    )\n",
    "    return df"
   ]
  },
  {
   "cell_type": "code",
   "execution_count": 206,
   "metadata": {},
   "outputs": [],
   "source": []
  },
  {
   "cell_type": "code",
   "execution_count": 217,
   "metadata": {},
   "outputs": [
    {
     "data": {
      "text/html": [
       "<div>\n",
       "<style scoped>\n",
       "    .dataframe tbody tr th:only-of-type {\n",
       "        vertical-align: middle;\n",
       "    }\n",
       "\n",
       "    .dataframe tbody tr th {\n",
       "        vertical-align: top;\n",
       "    }\n",
       "\n",
       "    .dataframe thead th {\n",
       "        text-align: right;\n",
       "    }\n",
       "</style>\n",
       "<table border=\"1\" class=\"dataframe\">\n",
       "  <thead>\n",
       "    <tr style=\"text-align: right;\">\n",
       "      <th></th>\n",
       "      <th>fold</th>\n",
       "      <th>metric</th>\n",
       "      <th>step</th>\n",
       "      <th>value</th>\n",
       "      <th>min</th>\n",
       "      <th>max</th>\n",
       "      <th>norm_step</th>\n",
       "      <th>category</th>\n",
       "    </tr>\n",
       "  </thead>\n",
       "  <tbody>\n",
       "    <tr>\n",
       "      <th>0</th>\n",
       "      <td>0</td>\n",
       "      <td>val_loss</td>\n",
       "      <td>7</td>\n",
       "      <td>60.762829</td>\n",
       "      <td>7</td>\n",
       "      <td>1199</td>\n",
       "      <td>0.000000</td>\n",
       "      <td>real</td>\n",
       "    </tr>\n",
       "    <tr>\n",
       "      <th>1</th>\n",
       "      <td>0</td>\n",
       "      <td>val_loss</td>\n",
       "      <td>15</td>\n",
       "      <td>60.434448</td>\n",
       "      <td>7</td>\n",
       "      <td>1199</td>\n",
       "      <td>0.006711</td>\n",
       "      <td>real</td>\n",
       "    </tr>\n",
       "    <tr>\n",
       "      <th>2</th>\n",
       "      <td>0</td>\n",
       "      <td>val_loss</td>\n",
       "      <td>23</td>\n",
       "      <td>60.117172</td>\n",
       "      <td>7</td>\n",
       "      <td>1199</td>\n",
       "      <td>0.013423</td>\n",
       "      <td>real</td>\n",
       "    </tr>\n",
       "    <tr>\n",
       "      <th>3</th>\n",
       "      <td>0</td>\n",
       "      <td>val_loss</td>\n",
       "      <td>31</td>\n",
       "      <td>59.797817</td>\n",
       "      <td>7</td>\n",
       "      <td>1199</td>\n",
       "      <td>0.020134</td>\n",
       "      <td>real</td>\n",
       "    </tr>\n",
       "    <tr>\n",
       "      <th>4</th>\n",
       "      <td>0</td>\n",
       "      <td>val_loss</td>\n",
       "      <td>39</td>\n",
       "      <td>59.480995</td>\n",
       "      <td>7</td>\n",
       "      <td>1199</td>\n",
       "      <td>0.026846</td>\n",
       "      <td>real</td>\n",
       "    </tr>\n",
       "    <tr>\n",
       "      <th>...</th>\n",
       "      <td>...</td>\n",
       "      <td>...</td>\n",
       "      <td>...</td>\n",
       "      <td>...</td>\n",
       "      <td>...</td>\n",
       "      <td>...</td>\n",
       "      <td>...</td>\n",
       "      <td>...</td>\n",
       "    </tr>\n",
       "    <tr>\n",
       "      <th>445</th>\n",
       "      <td>2</td>\n",
       "      <td>val_loss</td>\n",
       "      <td>1459</td>\n",
       "      <td>18.388840</td>\n",
       "      <td>9</td>\n",
       "      <td>1499</td>\n",
       "      <td>0.973154</td>\n",
       "      <td>fake</td>\n",
       "    </tr>\n",
       "    <tr>\n",
       "      <th>446</th>\n",
       "      <td>2</td>\n",
       "      <td>val_loss</td>\n",
       "      <td>1469</td>\n",
       "      <td>18.386490</td>\n",
       "      <td>9</td>\n",
       "      <td>1499</td>\n",
       "      <td>0.979866</td>\n",
       "      <td>fake</td>\n",
       "    </tr>\n",
       "    <tr>\n",
       "      <th>447</th>\n",
       "      <td>2</td>\n",
       "      <td>val_loss</td>\n",
       "      <td>1479</td>\n",
       "      <td>18.389484</td>\n",
       "      <td>9</td>\n",
       "      <td>1499</td>\n",
       "      <td>0.986577</td>\n",
       "      <td>fake</td>\n",
       "    </tr>\n",
       "    <tr>\n",
       "      <th>448</th>\n",
       "      <td>2</td>\n",
       "      <td>val_loss</td>\n",
       "      <td>1489</td>\n",
       "      <td>18.416471</td>\n",
       "      <td>9</td>\n",
       "      <td>1499</td>\n",
       "      <td>0.993289</td>\n",
       "      <td>fake</td>\n",
       "    </tr>\n",
       "    <tr>\n",
       "      <th>449</th>\n",
       "      <td>2</td>\n",
       "      <td>val_loss</td>\n",
       "      <td>1499</td>\n",
       "      <td>18.449240</td>\n",
       "      <td>9</td>\n",
       "      <td>1499</td>\n",
       "      <td>1.000000</td>\n",
       "      <td>fake</td>\n",
       "    </tr>\n",
       "  </tbody>\n",
       "</table>\n",
       "<p>900 rows × 8 columns</p>\n",
       "</div>"
      ],
      "text/plain": [
       "     fold    metric  step      value  min   max  norm_step category\n",
       "0       0  val_loss     7  60.762829    7  1199   0.000000     real\n",
       "1       0  val_loss    15  60.434448    7  1199   0.006711     real\n",
       "2       0  val_loss    23  60.117172    7  1199   0.013423     real\n",
       "3       0  val_loss    31  59.797817    7  1199   0.020134     real\n",
       "4       0  val_loss    39  59.480995    7  1199   0.026846     real\n",
       "..    ...       ...   ...        ...  ...   ...        ...      ...\n",
       "445     2  val_loss  1459  18.388840    9  1499   0.973154     fake\n",
       "446     2  val_loss  1469  18.386490    9  1499   0.979866     fake\n",
       "447     2  val_loss  1479  18.389484    9  1499   0.986577     fake\n",
       "448     2  val_loss  1489  18.416471    9  1499   0.993289     fake\n",
       "449     2  val_loss  1499  18.449240    9  1499   1.000000     fake\n",
       "\n",
       "[900 rows x 8 columns]"
      ]
     },
     "execution_count": 217,
     "metadata": {},
     "output_type": "execute_result"
    }
   ],
   "source": [
    "logdir = Path(\"lightning_logs\")\n",
    "real = get_metrics(logdir.joinpath(\"real\")).assign(category = \"real\")\n",
    "fake = get_metrics(logdir.joinpath(\"fake\")).assign(category = \"fake\")\n",
    "\n",
    "final = pd.concat([real, fake])\n",
    "final"
   ]
  },
  {
   "cell_type": "code",
   "execution_count": 220,
   "metadata": {},
   "outputs": [
    {
     "data": {
      "text/plain": [
       "<Axes: xlabel='norm_step', ylabel='value'>"
      ]
     },
     "execution_count": 220,
     "metadata": {},
     "output_type": "execute_result"
    },
    {
     "data": {
      "image/png": "[encoded data removed]",
      "text/plain": [
       "<Figure size 640x480 with 1 Axes>"
      ]
     },
     "metadata": {},
     "output_type": "display_data"
    }
   ],
   "source": [
    "sns.lineplot(\n",
    "    data=final,\n",
    "    x=\"norm_step\",\n",
    "    y=\"value\",\n",
    "    hue=\"category\",\n",
    "    errorbar=\"sd\",\n",
    ")"
   ]
  },
  {
   "cell_type": "code",
   "execution_count": 3,
   "metadata": {},
   "outputs": [
    {
     "data": {
      "text/plain": [
       "True"
      ]
     },
     "execution_count": 3,
     "metadata": {},
     "output_type": "execute_result"
    }
   ],
   "source": [
    "datadir = Path(\"/scratch/ccmartin6/pst/data\")\n",
    "datafile = datadir.joinpath(\"esm2_t6_8M_results--filtered--GRAPHFMT.h5\")\n",
    "datafile.exists()"
   ]
  },
  {
   "cell_type": "code",
   "execution_count": 199,
   "metadata": {},
   "outputs": [
    {
     "data": {
      "text/html": [
       "<div>\n",
       "<style scoped>\n",
       "    .dataframe tbody tr th:only-of-type {\n",
       "        vertical-align: middle;\n",
       "    }\n",
       "\n",
       "    .dataframe tbody tr th {\n",
       "        vertical-align: top;\n",
       "    }\n",
       "\n",
       "    .dataframe thead th {\n",
       "        text-align: right;\n",
       "    }\n",
       "</style>\n",
       "<table border=\"1\" class=\"dataframe\">\n",
       "  <thead>\n",
       "    <tr style=\"text-align: right;\">\n",
       "      <th></th>\n",
       "      <th>0</th>\n",
       "      <th>1</th>\n",
       "      <th>2</th>\n",
       "      <th>3</th>\n",
       "    </tr>\n",
       "  </thead>\n",
       "  <tbody>\n",
       "    <tr>\n",
       "      <th>0</th>\n",
       "      <td>1</td>\n",
       "      <td>val_loss</td>\n",
       "      <td>7</td>\n",
       "      <td>49.242039</td>\n",
       "    </tr>\n",
       "    <tr>\n",
       "      <th>1</th>\n",
       "      <td>1</td>\n",
       "      <td>val_loss</td>\n",
       "      <td>15</td>\n",
       "      <td>48.775089</td>\n",
       "    </tr>\n",
       "    <tr>\n",
       "      <th>2</th>\n",
       "      <td>1</td>\n",
       "      <td>val_loss</td>\n",
       "      <td>23</td>\n",
       "      <td>48.318790</td>\n",
       "    </tr>\n",
       "    <tr>\n",
       "      <th>3</th>\n",
       "      <td>1</td>\n",
       "      <td>val_loss</td>\n",
       "      <td>31</td>\n",
       "      <td>47.873512</td>\n",
       "    </tr>\n",
       "    <tr>\n",
       "      <th>4</th>\n",
       "      <td>1</td>\n",
       "      <td>val_loss</td>\n",
       "      <td>39</td>\n",
       "      <td>47.438908</td>\n",
       "    </tr>\n",
       "    <tr>\n",
       "      <th>...</th>\n",
       "      <td>...</td>\n",
       "      <td>...</td>\n",
       "      <td>...</td>\n",
       "      <td>...</td>\n",
       "    </tr>\n",
       "    <tr>\n",
       "      <th>445</th>\n",
       "      <td>2</td>\n",
       "      <td>val_loss</td>\n",
       "      <td>1459</td>\n",
       "      <td>2.707267</td>\n",
       "    </tr>\n",
       "    <tr>\n",
       "      <th>446</th>\n",
       "      <td>2</td>\n",
       "      <td>val_loss</td>\n",
       "      <td>1469</td>\n",
       "      <td>2.704127</td>\n",
       "    </tr>\n",
       "    <tr>\n",
       "      <th>447</th>\n",
       "      <td>2</td>\n",
       "      <td>val_loss</td>\n",
       "      <td>1479</td>\n",
       "      <td>2.701407</td>\n",
       "    </tr>\n",
       "    <tr>\n",
       "      <th>448</th>\n",
       "      <td>2</td>\n",
       "      <td>val_loss</td>\n",
       "      <td>1489</td>\n",
       "      <td>2.680500</td>\n",
       "    </tr>\n",
       "    <tr>\n",
       "      <th>449</th>\n",
       "      <td>2</td>\n",
       "      <td>val_loss</td>\n",
       "      <td>1499</td>\n",
       "      <td>2.683985</td>\n",
       "    </tr>\n",
       "  </tbody>\n",
       "</table>\n",
       "<p>450 rows × 4 columns</p>\n",
       "</div>"
      ],
      "text/plain": [
       "     0         1     2          3\n",
       "0    1  val_loss     7  49.242039\n",
       "1    1  val_loss    15  48.775089\n",
       "2    1  val_loss    23  48.318790\n",
       "3    1  val_loss    31  47.873512\n",
       "4    1  val_loss    39  47.438908\n",
       "..  ..       ...   ...        ...\n",
       "445  2  val_loss  1459   2.707267\n",
       "446  2  val_loss  1469   2.704127\n",
       "447  2  val_loss  1479   2.701407\n",
       "448  2  val_loss  1489   2.680500\n",
       "449  2  val_loss  1499   2.683985\n",
       "\n",
       "[450 rows x 4 columns]"
      ]
     },
     "execution_count": 199,
     "metadata": {},
     "output_type": "execute_result"
    }
   ],
   "source": [
    "pd.DataFrame(summary)"
   ]
  },
  {
   "cell_type": "code",
   "execution_count": 4,
   "metadata": {},
   "outputs": [],
   "source": [
    "dataset = GenomeDataset(\n",
    "    file=datafile,\n",
    "    edge_strategy=\"chunked\",\n",
    "    chunk_size=30\n",
    ")"
   ]
  },
  {
   "cell_type": "code",
   "execution_count": 12,
   "metadata": {},
   "outputs": [
    {
     "data": {
      "text/plain": [
       "tensor(67737)"
      ]
     },
     "execution_count": 12,
     "metadata": {},
     "output_type": "execute_result"
    }
   ],
   "source": [
    "torch.where(dataset.class_id == 4, 1, 0).sum()"
   ]
  },
  {
   "cell_type": "code",
   "execution_count": 15,
   "metadata": {},
   "outputs": [
    {
     "data": {
      "text/plain": [
       "tensor([21734, 10594,  2807,   717, 67737])"
      ]
     },
     "execution_count": 15,
     "metadata": {},
     "output_type": "execute_result"
    }
   ],
   "source": [
    "class_counts = torch.bincount(dataset.class_id)\n",
    "class_counts"
   ]
  },
  {
   "cell_type": "code",
   "execution_count": 13,
   "metadata": {},
   "outputs": [
    {
     "data": {
      "text/plain": [
       "torch.Size([103589])"
      ]
     },
     "execution_count": 13,
     "metadata": {},
     "output_type": "execute_result"
    }
   ],
   "source": [
    "idx = torch.arange(len(dataset))\n",
    "idx.shape"
   ]
  },
  {
   "cell_type": "code",
   "execution_count": 14,
   "metadata": {},
   "outputs": [],
   "source": [
    "group = dataset.class_id"
   ]
  },
  {
   "cell_type": "code",
   "execution_count": 31,
   "metadata": {},
   "outputs": [
    {
     "name": "stdout",
     "output_type": "stream",
     "text": [
      "Fold: 0\n",
      "\tTrain:\n",
      "\t\tClass: 0\tCount: 21734\n",
      "\t\tClass: 1\tCount: 10594\n",
      "\t\tClass: 2\tCount: 2807\n",
      "\t\tClass: 3\tCount: 717\n",
      "\tValidation:\n",
      "\t\tClass: 4\tCount: 67737\n",
      "Fold: 1\n",
      "\tTrain:\n",
      "\t\tClass: 1\tCount: 10594\n",
      "\t\tClass: 2\tCount: 2807\n",
      "\t\tClass: 3\tCount: 717\n",
      "\t\tClass: 4\tCount: 67737\n",
      "\tValidation:\n",
      "\t\tClass: 0\tCount: 21734\n",
      "Fold: 2\n",
      "\tTrain:\n",
      "\t\tClass: 0\tCount: 21734\n",
      "\t\tClass: 2\tCount: 2807\n",
      "\t\tClass: 3\tCount: 717\n",
      "\t\tClass: 4\tCount: 67737\n",
      "\tValidation:\n",
      "\t\tClass: 1\tCount: 10594\n",
      "Fold: 3\n",
      "\tTrain:\n",
      "\t\tClass: 0\tCount: 21734\n",
      "\t\tClass: 1\tCount: 10594\n",
      "\t\tClass: 3\tCount: 717\n",
      "\t\tClass: 4\tCount: 67737\n",
      "\tValidation:\n",
      "\t\tClass: 2\tCount: 2807\n",
      "Fold: 4\n",
      "\tTrain:\n",
      "\t\tClass: 0\tCount: 21734\n",
      "\t\tClass: 1\tCount: 10594\n",
      "\t\tClass: 2\tCount: 2807\n",
      "\t\tClass: 4\tCount: 67737\n",
      "\tValidation:\n",
      "\t\tClass: 3\tCount: 717\n"
     ]
    }
   ],
   "source": [
    "gkfold = GroupKFold(n_splits=len(class_counts))\n",
    "folds = gkfold.split(X=idx, groups=group)\n",
    "for i, (train_idx, val_idx) in enumerate(folds):\n",
    "    train_classes = group[train_idx]\n",
    "    val_classes = group[val_idx]\n",
    "\n",
    "    train_class_counts = Counter(train_classes.tolist())\n",
    "    val_class_counts = list(Counter(val_classes.tolist()).items())[0]\n",
    "    print(f\"Fold: {i}\")\n",
    "    print(\"\\tTrain:\")\n",
    "    for k, v in train_class_counts.items():\n",
    "        print(f\"\\t\\tClass: {k}\\tCount: {v}\")\n",
    "    \n",
    "    k, v = val_class_counts\n",
    "    print(f\"\\tValidation:\\n\\t\\tClass: {k}\\tCount: {v}\")\n"
   ]
  },
  {
   "cell_type": "code",
   "execution_count": 33,
   "metadata": {},
   "outputs": [
    {
     "data": {
      "text/plain": [
       "tensor([21734, 10594,  2807,   717, 67737])"
      ]
     },
     "execution_count": 33,
     "metadata": {},
     "output_type": "execute_result"
    }
   ],
   "source": [
    "class_counts"
   ]
  },
  {
   "cell_type": "code",
   "execution_count": 57,
   "metadata": {},
   "outputs": [
    {
     "data": {
      "text/plain": [
       "(tensor([0, 1, 2, 3, 4]), tensor([21734, 10594,  2807,   717, 67737]))"
      ]
     },
     "execution_count": 57,
     "metadata": {},
     "output_type": "execute_result"
    }
   ],
   "source": [
    "uniq_classes, class_counts = torch.unique(dataset.class_id, return_counts=True)\n",
    "uniq_classes, class_counts"
   ]
  },
  {
   "cell_type": "code",
   "execution_count": 60,
   "metadata": {},
   "outputs": [
    {
     "data": {
      "text/plain": [
       "tensor(True)"
      ]
     },
     "execution_count": 60,
     "metadata": {},
     "output_type": "execute_result"
    }
   ],
   "source": [
    "_uniq_classes = torch.arange(uniq_classes.numel())\n",
    "if not torch.all(_uniq_classes == uniq_classes):\n",
    "    uniq_classes = _uniq_classes"
   ]
  },
  {
   "cell_type": "code",
   "execution_count": 61,
   "metadata": {},
   "outputs": [
    {
     "data": {
      "text/plain": [
       "tensor(4)"
      ]
     },
     "execution_count": 61,
     "metadata": {},
     "output_type": "execute_result"
    }
   ],
   "source": [
    "argmax = torch.argmax(class_counts)\n",
    "max_class_id = uniq_classes[argmax]\n",
    "max_class_id"
   ]
  },
  {
   "cell_type": "code",
   "execution_count": 58,
   "metadata": {},
   "outputs": [
    {
     "data": {
      "text/plain": [
       "tensor([0, 2, 4, 6, 8])"
      ]
     },
     "execution_count": 58,
     "metadata": {},
     "output_type": "execute_result"
    }
   ],
   "source": [
    "torch.unique(torch.arange(0, 10, 2))"
   ]
  },
  {
   "cell_type": "code",
   "execution_count": 88,
   "metadata": {},
   "outputs": [],
   "source": [
    "Int64Array = NDArray[np.int64]\n",
    "LongArray = Int64Array | torch.Tensor\n",
    "class ImbalancedGroupKFold:\n",
    "    def __init__(self, groups: LongArray, return_torch: bool = True) -> None:\n",
    "        self.X_idx = self.get_X_index(groups, return_torch)\n",
    "\n",
    "        self.uniq_groups: Int64Array\n",
    "        self.groups: Int64Array\n",
    "        # self.groups maps actual group labels to consecutively increasing,\n",
    "        # ie [0, 1, ..., n-1, n]\n",
    "        self.uniq_groups, self.groups = np.unique(groups, return_inverse=True)\n",
    "        self.group_counts = np.bincount(self.groups)\n",
    "        self._sort_groups()\n",
    "\n",
    "        # don't have a fold for the most frequent group\n",
    "        self.n_folds = self.uniq_groups.shape[0] - 1\n",
    "        self.largest_group_id = np.argmax(self.group_counts)\n",
    "\n",
    "    def get_X_index(self, groups: LongArray, return_torch: bool = True) -> LongArray:\n",
    "        n = groups.shape[0]\n",
    "        if return_torch:\n",
    "            return torch.arange(n)\n",
    "        return np.arange(n)\n",
    "        \n",
    "    def _sort_groups(self):\n",
    "        # reverse sort, ie 0th element is count of most frequent group\n",
    "        sort_idx = np.argsort(self.group_counts)[::-1]\n",
    "        self.uniq_groups = self.uniq_groups[sort_idx]\n",
    "        self.group_counts = self.group_counts[sort_idx]\n",
    "\n",
    "    def __len__(self) -> int:\n",
    "        return self.n_folds\n",
    "    \n",
    "    def split(self) -> Iterator[tuple[LongArray, LongArray]]:\n",
    "        for fold_idx, group_id in enumerate(self.uniq_groups):\n",
    "            if fold_idx == 0:\n",
    "                # the first group will be the most frequent and\n",
    "                # we don't want a fold where teh most frequent group\n",
    "                # is the validation set\n",
    "                continue\n",
    "\n",
    "            val_mask = np.where(self.groups == group_id, True, False)\n",
    "            train_mask = ~val_mask\n",
    "\n",
    "            train_idx = self.X_idx[train_mask]\n",
    "            val_idx = self.X_idx[val_mask]\n",
    "            yield train_idx, val_idx\n",
    "    \n",
    "igkf = ImbalancedGroupKFold(dataset.class_id)"
   ]
  },
  {
   "cell_type": "code",
   "execution_count": 99,
   "metadata": {},
   "outputs": [
    {
     "name": "stdout",
     "output_type": "stream",
     "text": [
      "0 81855 21734 103589 tensor([1, 2, 3, 4]) tensor([10594,  2807,   717, 67737]) tensor(81855) 0\n",
      "1 92995 10594 103589 tensor([0, 2, 3, 4]) tensor([21734,  2807,   717, 67737]) tensor(92995) 1\n",
      "2 100782 2807 103589 tensor([0, 1, 3, 4]) tensor([21734, 10594,   717, 67737]) tensor(100782) 2\n",
      "3 102872 717 103589 tensor([0, 1, 2, 4]) tensor([21734, 10594,  2807, 67737]) tensor(102872) 3\n"
     ]
    }
   ],
   "source": [
    "train_idx: torch.Tensor\n",
    "val_idx: torch.Tensor\n",
    "for fold_idx, (train_idx, val_idx) in enumerate(igkf.split()): # type: ignore\n",
    "    # training loop\n",
    "    n_train = train_idx.shape[0]\n",
    "    n_val = val_idx.shape[0]\n",
    "    total = n_train + n_val\n",
    "    val_group_id = dataset.class_id[val_idx]\n",
    "    train_group_ids = torch.unique(dataset.class_id[train_idx])\n",
    "    train_group_counts = class_counts[train_group_ids]\n",
    "    print(fold_idx, n_train, n_val, total, train_group_ids, train_group_counts, train_group_counts.sum(), val_group_id[0].item())"
   ]
  },
  {
   "cell_type": "code",
   "execution_count": 103,
   "metadata": {},
   "outputs": [
    {
     "data": {
      "text/plain": [
       "torch.Size([81855])"
      ]
     },
     "execution_count": 103,
     "metadata": {},
     "output_type": "execute_result"
    }
   ],
   "source": [
    "train_idx: torch.Tensor\n",
    "val_idx: torch.Tensor\n",
    "train_idx, val_idx = next(igkf.split()) # type: ignore\n",
    "train_idx.shape"
   ]
  },
  {
   "cell_type": "code",
   "execution_count": 130,
   "metadata": {},
   "outputs": [],
   "source": [
    "dataloader = DataLoader(\n",
    "    dataset=TensorDataset(train_idx),\n",
    "    batch_size=32,\n",
    "    shuffle=True,\n",
    "    collate_fn=lambda x: torch.tensor([i[0] for i in x])\n",
    ")\n",
    "\n",
    "classes: list[list[int]] = [\n",
    "    dataset.class_id[batch].tolist()\n",
    "    for batch in dataloader\n",
    "]"
   ]
  },
  {
   "cell_type": "code",
   "execution_count": 152,
   "metadata": {},
   "outputs": [
    {
     "data": {
      "text/plain": [
       "tensor([21734, 10594,  2807,   717, 67737])"
      ]
     },
     "execution_count": 152,
     "metadata": {},
     "output_type": "execute_result"
    }
   ],
   "source": [
    "class_counts"
   ]
  },
  {
   "cell_type": "code",
   "execution_count": null,
   "metadata": {},
   "outputs": [],
   "source": [
    "class ImbalancedCVDataModule(L.LightningDataModule):\n",
    "    def __init__(self, ) -> None:\n",
    "        super().__init__()"
   ]
  },
  {
   "cell_type": "code",
   "execution_count": 153,
   "metadata": {},
   "outputs": [
    {
     "data": {
      "text/plain": [
       "[tensor(0), tensor(1), tensor(2)]"
      ]
     },
     "execution_count": 153,
     "metadata": {},
     "output_type": "execute_result"
    }
   ],
   "source": [
    "x = [\n",
    "    torch.tensor(0),\n",
    "    torch.tensor(1),\n",
    "    torch.tensor(2)\n",
    "]\n",
    "x"
   ]
  },
  {
   "cell_type": "code",
   "execution_count": 155,
   "metadata": {},
   "outputs": [
    {
     "data": {
      "text/plain": [
       "tensor([0, 1, 2])"
      ]
     },
     "execution_count": 155,
     "metadata": {},
     "output_type": "execute_result"
    }
   ],
   "source": [
    "torch.stack(x)"
   ]
  },
  {
   "cell_type": "code",
   "execution_count": 156,
   "metadata": {},
   "outputs": [
    {
     "data": {
      "text/plain": [
       "[tensor([0, 1, 2]), tensor([3, 4, 5]), tensor([6, 7, 8])]"
      ]
     },
     "execution_count": 156,
     "metadata": {},
     "output_type": "execute_result"
    }
   ],
   "source": [
    "x = [\n",
    "    torch.arange(0, 3),\n",
    "    torch.arange(3, 6),\n",
    "    torch.arange(6, 9)\n",
    "]\n",
    "x"
   ]
  },
  {
   "cell_type": "code",
   "execution_count": 157,
   "metadata": {},
   "outputs": [
    {
     "data": {
      "text/plain": [
       "tensor([[0, 1, 2],\n",
       "        [3, 4, 5],\n",
       "        [6, 7, 8]])"
      ]
     },
     "execution_count": 157,
     "metadata": {},
     "output_type": "execute_result"
    }
   ],
   "source": [
    "torch.stack(x)"
   ]
  },
  {
   "cell_type": "code",
   "execution_count": null,
   "metadata": {},
   "outputs": [],
   "source": []
  }
 ],
 "metadata": {
  "kernelspec": {
   "display_name": "pst",
   "language": "python",
   "name": "python3"
  },
  "language_info": {
   "codemirror_mode": {
    "name": "ipython",
    "version": 3
   },
   "file_extension": ".py",
   "mimetype": "text/x-python",
   "name": "python",
   "nbconvert_exporter": "python",
   "pygments_lexer": "ipython3",
   "version": "3.10.10"
  },
  "orig_nbformat": 4
 },
 "nbformat": 4,
 "nbformat_minor": 2
}
