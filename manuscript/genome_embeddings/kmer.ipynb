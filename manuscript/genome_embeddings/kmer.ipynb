{
 "cells": [
  {
   "cell_type": "code",
   "execution_count": 1,
   "metadata": {},
   "outputs": [],
   "source": [
    "import bionumpy as bnp\n",
    "from bionumpy.bnpdataclass import BNPDataClass\n",
    "import numpy as np\n",
    "import re\n",
    "from tempfile import NamedTemporaryFile\n",
    "from fastatools import FastaFile\n",
    "from contextlib import contextmanager\n",
    "\n",
    "from typing import TypeVar\n",
    "T = TypeVar(\"T\", bound=BNPDataClass)"
   ]
  },
  {
   "cell_type": "code",
   "execution_count": 2,
   "metadata": {},
   "outputs": [
    {
     "name": "stdout",
     "output_type": "stream",
     "text": [
      "numpy   : 1.23.5\n",
      "re      : 2.2.1\n",
      "bionumpy: 1.0.8\n",
      "\n"
     ]
    }
   ],
   "source": [
    "# package versions\n",
    "%load_ext watermark\n",
    "%watermark --iversions"
   ]
  },
  {
   "cell_type": "markdown",
   "metadata": {},
   "source": [
    "`fastatools` is a simple FASTA-parsing library I wrote that you can install with `pip install pyfastatools`"
   ]
  },
  {
   "cell_type": "code",
   "execution_count": 3,
   "metadata": {},
   "outputs": [],
   "source": [
    "# bionumpy only works with ACGT characters\n",
    "@contextmanager\n",
    "def remove_ambiguous_chars(file: str):\n",
    "    pattern = re.compile(r\"N|W|K|R|S|B|D|H|Y|M|V\")\n",
    "    try:\n",
    "        tmpfile = NamedTemporaryFile(\"w+\", dir=\".\", suffix=\".fna\")\n",
    "        for record in FastaFile(file).parse():\n",
    "            record.sequence = pattern.sub(\"\", record.sequence)\n",
    "            record.write(tmpfile) # type: ignore\n",
    "            \n",
    "        tmpfile.seek(0)\n",
    "\n",
    "        yield FastaFile(tmpfile.name)        \n",
    "    finally:\n",
    "        tmpfile.close()"
   ]
  },
  {
   "cell_type": "code",
   "execution_count": 4,
   "metadata": {},
   "outputs": [],
   "source": [
    "@bnp.streamable(np.vstack)\n",
    "def kmers(chunk: T, k: int = 4):\n",
    "    seqs = bnp.change_encoding(chunk.sequence, bnp.DNAEncoding)\n",
    "    counts = bnp.count_encoded(bnp.get_kmers(seqs, k=k))\n",
    "    return counts.counts / counts.counts.sum(-1, keepdims=True)"
   ]
  },
  {
   "cell_type": "markdown",
   "metadata": {},
   "source": [
    "This is the main function to use, taking as input a genome FASTA file"
   ]
  },
  {
   "cell_type": "code",
   "execution_count": 5,
   "metadata": {},
   "outputs": [],
   "source": [
    "# results come back in the order of the input files\n",
    "def process(file: str, is_vmag: bool = False) -> np.ndarray:\n",
    "    with remove_ambiguous_chars(file) as fasta:\n",
    "        stream = (\n",
    "            bnp.open(\n",
    "                fasta._file,\n",
    "                buffer_type=bnp.io.MultiLineFastaBuffer()\n",
    "            )\n",
    "            .read_chunks()\n",
    "        )\n",
    "\n",
    "        kmer_freq = kmers(stream, k=4).astype(np.float32)\n",
    "\n",
    "        # if input file is for a single vMAG, then all sequences are fragments of the same genome, so we should average them\n",
    "        if is_vmag:\n",
    "            kmer_freq = kmer_freq.mean(0, keepdims=True)\n",
    "\n",
    "    return kmer_freq"
   ]
  },
  {
   "cell_type": "markdown",
   "metadata": {},
   "source": [
    "The results from the above function can be stored in a variety of ways, but the most common would be `.h5` files (using the Python `hdf5` or `pytables` libraries).\n",
    "\n",
    "The benefit of `.h5` files is that the outputs from all genomes can be stacked into a single matrix for storage. You can create a separate list to keep track of the order of genomes. "
   ]
  }
 ],
 "metadata": {
  "kernelspec": {
   "display_name": "datasci",
   "language": "python",
   "name": "python3"
  },
  "language_info": {
   "codemirror_mode": {
    "name": "ipython",
    "version": 3
   },
   "file_extension": ".py",
   "mimetype": "text/x-python",
   "name": "python",
   "nbconvert_exporter": "python",
   "pygments_lexer": "ipython3",
   "version": "3.11.3"
  }
 },
 "nbformat": 4,
 "nbformat_minor": 2
}
