{
 "cells": [
  {
   "cell_type": "code",
   "execution_count": 1,
   "metadata": {},
   "outputs": [],
   "source": [
    "import bionumpy as bnp\n",
    "from bionumpy.bnpdataclass import BNPDataClass\n",
    "import numpy as np\n",
    "import re\n",
    "from tempfile import NamedTemporaryFile\n",
    "from fastatools import FastaFile\n",
    "from contextlib import contextmanager\n",
    "\n",
    "# need to mask a warning from numpy that bionumpy should handle\n",
    "# if you follow the versions used here, this should all work...\n",
    "import warnings\n",
    "warnings.filterwarnings(\"ignore\", category=FutureWarning)\n",
    "\n",
    "from typing import TypeVar\n",
    "T = TypeVar(\"T\", bound=BNPDataClass)"
   ]
  },
  {
   "cell_type": "code",
   "execution_count": 2,
   "metadata": {},
   "outputs": [
    {
     "name": "stdout",
     "output_type": "stream",
     "text": [
      "Python implementation: CPython\n",
      "Python version       : 3.11.3\n",
      "IPython version      : 8.13.2\n",
      "\n",
      "bionumpy: 1.0.8\n",
      "numpy   : 1.23.5\n",
      "\n"
     ]
    }
   ],
   "source": [
    "# package versions\n",
    "%load_ext watermark\n",
    "%watermark -vp bionumpy,numpy"
   ]
  },
  {
   "cell_type": "markdown",
   "metadata": {},
   "source": [
    "`fastatools` is a simple FASTA-parsing library I wrote that you can install with `pip install pyfastatools`"
   ]
  },
  {
   "cell_type": "code",
   "execution_count": 3,
   "metadata": {},
   "outputs": [],
   "source": [
    "# bionumpy only works with ACGT characters\n",
    "@contextmanager\n",
    "def remove_ambiguous_chars(file: str):\n",
    "    pattern = re.compile(r\"N|W|K|R|S|B|D|H|Y|M|V\")\n",
    "    try:\n",
    "        tmpfile = NamedTemporaryFile(\"w+\", dir=\".\", suffix=\".fna\")\n",
    "        for record in FastaFile(file).parse():\n",
    "            record.sequence = pattern.sub(\"\", record.sequence)\n",
    "            record.write(tmpfile) # type: ignore\n",
    "            \n",
    "        tmpfile.seek(0)\n",
    "\n",
    "        yield FastaFile(tmpfile.name)        \n",
    "    finally:\n",
    "        tmpfile.close()"
   ]
  },
  {
   "cell_type": "code",
   "execution_count": 4,
   "metadata": {},
   "outputs": [],
   "source": [
    "@bnp.streamable(np.vstack)\n",
    "def kmers(chunk: T, k: int = 4):\n",
    "    seqs = bnp.change_encoding(chunk.sequence, bnp.DNAEncoding)\n",
    "    counts = bnp.count_encoded(bnp.get_kmers(seqs, k=k))\n",
    "    return counts.counts / counts.counts.sum(-1, keepdims=True)"
   ]
  },
  {
   "cell_type": "markdown",
   "metadata": {},
   "source": [
    "This is the main function to use, taking as input a genome FASTA file"
   ]
  },
  {
   "cell_type": "code",
   "execution_count": 5,
   "metadata": {},
   "outputs": [],
   "source": [
    "# results come back in the order of the input files\n",
    "def process(file: str, is_vmag: bool = False) -> np.ndarray:\n",
    "    with remove_ambiguous_chars(file) as fasta:\n",
    "        stream = (\n",
    "            bnp.open(\n",
    "                fasta._file,\n",
    "                buffer_type=bnp.io.MultiLineFastaBuffer\n",
    "            )\n",
    "            .read_chunks()\n",
    "        )\n",
    "\n",
    "        kmer_freq = kmers(stream, k=4).astype(np.float32)\n",
    "\n",
    "        # if input file is for a single vMAG, then all sequences are fragments of the same genome, so we should average them\n",
    "        if is_vmag:\n",
    "            kmer_freq = kmer_freq.mean(0, keepdims=True)\n",
    "\n",
    "    return kmer_freq"
   ]
  },
  {
   "cell_type": "markdown",
   "metadata": {},
   "source": [
    "This genome FASTA file is not being released since these are publicly available genomes described in `Supplementary Table 1`."
   ]
  },
  {
   "cell_type": "code",
   "execution_count": 6,
   "metadata": {},
   "outputs": [
    {
     "data": {
      "text/plain": [
       "array([[0.00397601, 0.00411079, 0.00380753, ..., 0.00360536, 0.00566076,\n",
       "        0.00532381],\n",
       "       [0.00587671, 0.00493573, 0.00594773, ..., 0.00582345, 0.00447411,\n",
       "        0.00722605],\n",
       "       [0.01522759, 0.0102066 , 0.01514528, ..., 0.00847806, 0.00263396,\n",
       "        0.00864269],\n",
       "       ...,\n",
       "       [0.00316154, 0.00435881, 0.00621083, ..., 0.00319895, 0.00278739,\n",
       "        0.00246937],\n",
       "       [0.01490281, 0.00539957, 0.00453564, ..., 0.01166307, 0.00475162,\n",
       "        0.01555076],\n",
       "       [0.01008002, 0.00592447, 0.00572792, ..., 0.00769339, 0.00746876,\n",
       "        0.01142777]], dtype=float32)"
      ]
     },
     "execution_count": 6,
     "metadata": {},
     "output_type": "execute_result"
    }
   ],
   "source": [
    "process(\"datasets/genomes/training_viruses.fna\", False)"
   ]
  },
  {
   "cell_type": "markdown",
   "metadata": {},
   "source": [
    "The results from the above function can be stored in a variety of ways, but the most common would be `.h5` files (using the Python `hdf5` or `pytables` libraries).\n",
    "\n",
    "The benefit of `.h5` files is that the outputs from all genomes can be stacked into a single matrix for storage. You can create a separate list to keep track of the order of genomes. "
   ]
  }
 ],
 "metadata": {
  "kernelspec": {
   "display_name": "datasci",
   "language": "python",
   "name": "python3"
  },
  "language_info": {
   "codemirror_mode": {
    "name": "ipython",
    "version": 3
   },
   "file_extension": ".py",
   "mimetype": "text/x-python",
   "name": "python",
   "nbconvert_exporter": "python",
   "pygments_lexer": "ipython3",
   "version": "3.11.3"
  }
 },
 "nbformat": 4,
 "nbformat_minor": 2
}
