{
 "cells": [
  {
   "cell_type": "code",
   "execution_count": 1,
   "metadata": {},
   "outputs": [],
   "source": [
    "import igraph as ig\n",
    "import numpy as np\n",
    "import tables as tb\n",
    "from faiss import IndexFlatL2, IndexIVFFlat, omp_set_num_threads\n",
    "from numpy.typing import NDArray"
   ]
  },
  {
   "cell_type": "code",
   "execution_count": 2,
   "metadata": {},
   "outputs": [
    {
     "name": "stdout",
     "output_type": "stream",
     "text": [
      "Python implementation: CPython\n",
      "Python version       : 3.11.3\n",
      "IPython version      : 8.13.2\n",
      "\n",
      "numpy : 1.23.5\n",
      "igraph: 0.11.3\n",
      "tables: 3.8.0\n",
      "faiss : 1.8.0\n",
      "\n"
     ]
    }
   ],
   "source": [
    "%load_ext watermark\n",
    "%watermark -vp numpy,igraph,tables,faiss"
   ]
  },
  {
   "cell_type": "code",
   "execution_count": 3,
   "metadata": {},
   "outputs": [],
   "source": [
    "FloatArray = NDArray[np.float32]\n",
    "LongArray = NDArray[np.int64]\n",
    "THREADS = 128\n",
    "\n",
    "omp_set_num_threads(THREADS)\n",
    "\n",
    "def build_index(data: FloatArray, n_cells: int) -> IndexIVFFlat:\n",
    "    quantizer = IndexFlatL2(data.shape[-1])\n",
    "    index = IndexIVFFlat(quantizer, data.shape[-1], n_cells)\n",
    "    index.train(data)  # type: ignore\n",
    "    index.add(data)  # type: ignore\n",
    "    return index\n",
    "\n",
    "\n",
    "def to_sparse(idx: LongArray, sim: FloatArray) -> ig.Graph:\n",
    "    _adj = []\n",
    "    _total_mask = []\n",
    "    for i, (row_idx, row_sim) in enumerate(zip(idx, sim)):\n",
    "        mask = (row_idx >= 0) & (row_sim > 0)  # ignore 0 similarity edges\n",
    "        row_idx = row_idx[mask]\n",
    "\n",
    "        dsize = row_idx.shape[0]\n",
    "        d = np.vstack((np.repeat(i, dsize), row_idx))\n",
    "\n",
    "        _adj.append(d)\n",
    "        _total_mask.append(mask)\n",
    "\n",
    "    adj = np.hstack(_adj)\n",
    "    total_mask = np.hstack(_total_mask)\n",
    "\n",
    "    edge_attr = sim.reshape(-1)[total_mask]\n",
    "\n",
    "    n_nodes = idx.shape[0]\n",
    "    g = ig.Graph(n_nodes, adj.T)\n",
    "    g.es[\"weight\"] = edge_attr\n",
    "    return g\n",
    "\n",
    "\n",
    "def knn(data: FloatArray, index: IndexIVFFlat, k: int) -> ig.Graph:\n",
    "    dist: FloatArray\n",
    "    idx: LongArray\n",
    "    # faiss includes self hits so need k + 1 neighbors\n",
    "    dist, idx = index.search(data, k=k + 1)  # type: ignore\n",
    "    scale = 1 / np.sqrt(data.shape[-1])\n",
    "    # upcast to prevent overflow\n",
    "    rbf = np.exp(-(np.square(dist.astype(np.float64))) * scale)\n",
    "\n",
    "    return to_sparse(idx, rbf)\n",
    "\n",
    "\n",
    "def leiden_clustering(graph: ig.Graph, resolution: float) -> LongArray:\n",
    "    output = graph.community_leiden(weights=\"weight\", resolution=resolution)\n",
    "    labels = output.membership\n",
    "    return np.array(labels)"
   ]
  },
  {
   "cell_type": "code",
   "execution_count": 4,
   "metadata": {},
   "outputs": [
    {
     "data": {
      "text/plain": [
       "(151255, 1280)"
      ]
     },
     "execution_count": 4,
     "metadata": {},
     "output_type": "execute_result"
    }
   ],
   "source": [
    "# just need any (n genomes, d features) genome embedding matrix\n",
    "with tb.open_file(\"../../../genome_repr/IMGVRv4_test_set_esm2_t30_150M_accum50_results.h5\") as fp:\n",
    "    genome_embed = fp.root.data[:]\n",
    "\n",
    "# n genomes x d features\n",
    "genome_embed.shape"
   ]
  },
  {
   "cell_type": "code",
   "execution_count": 5,
   "metadata": {},
   "outputs": [],
   "source": [
    "n_cells = 3875\n",
    "index = build_index(genome_embed, n_cells)\n",
    "graph = knn(genome_embed, index, k=15)"
   ]
  },
  {
   "cell_type": "code",
   "execution_count": 6,
   "metadata": {},
   "outputs": [
    {
     "data": {
      "text/plain": [
       "((151255,), array([    0,     1,     2, ..., 41671, 20422, 15804]))"
      ]
     },
     "execution_count": 6,
     "metadata": {},
     "output_type": "execute_result"
    }
   ],
   "source": [
    "# (n genomes, ) dimensional array that just has a cluster label for each genome\n",
    "cluster_labels = leiden_clustering(graph, resolution=1.0)\n",
    "cluster_labels.shape, cluster_labels"
   ]
  },
  {
   "cell_type": "code",
   "execution_count": 7,
   "metadata": {},
   "outputs": [
    {
     "data": {
      "text/plain": [
       "array([3, 7, 2, ..., 1, 1, 1])"
      ]
     },
     "execution_count": 7,
     "metadata": {},
     "output_type": "execute_result"
    }
   ],
   "source": [
    "# cluster sizes\n",
    "np.bincount(cluster_labels)"
   ]
  }
 ],
 "metadata": {
  "kernelspec": {
   "display_name": "datasci",
   "language": "python",
   "name": "python3"
  },
  "language_info": {
   "codemirror_mode": {
    "name": "ipython",
    "version": 3
   },
   "file_extension": ".py",
   "mimetype": "text/x-python",
   "name": "python",
   "nbconvert_exporter": "python",
   "pygments_lexer": "ipython3",
   "version": "3.1.-1"
  }
 },
 "nbformat": 4,
 "nbformat_minor": 2
}
