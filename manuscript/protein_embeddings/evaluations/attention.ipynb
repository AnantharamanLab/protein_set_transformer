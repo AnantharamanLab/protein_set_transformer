{
 "cells": [
  {
   "cell_type": "code",
   "execution_count": 1,
   "metadata": {},
   "outputs": [],
   "source": [
    "import torch\n",
    "import tables as tb\n",
    "import einops\n",
    "\n",
    "import os\n",
    "\n",
    "os.environ['POLARS_MAX_THREADS'] = '128'\n",
    "import polars as pl"
   ]
  },
  {
   "cell_type": "code",
   "execution_count": 2,
   "metadata": {},
   "outputs": [
    {
     "name": "stdout",
     "output_type": "stream",
     "text": [
      "Python implementation: CPython\n",
      "Python version       : 3.10.14\n",
      "IPython version      : 8.24.0\n",
      "\n",
      "numpy : 1.26.4\n",
      "torch : 2.2.2\n",
      "tables: 3.9.2\n",
      "einops: 0.8.0\n",
      "\n"
     ]
    }
   ],
   "source": [
    "%load_ext watermark\n",
    "%watermark -vp numpy,torch,tables,einops"
   ]
  },
  {
   "cell_type": "code",
   "execution_count": 3,
   "metadata": {},
   "outputs": [],
   "source": [
    "def entropy(distr: torch.Tensor) -> torch.Tensor:\n",
    "    summand = distr * torch.log2(distr + 1e-8)\n",
    "    if len(summand.shape) == 1:\n",
    "        return -torch.sum(summand)\n",
    "    return -einops.reduce(summand, \"nodes heads -> heads\", reduction=\"sum\")\n",
    "\n",
    "def uniform_distr(n: int) -> torch.Tensor:\n",
    "    return torch.ones(n) / n\n",
    "\n",
    "def uniform_entropy(n: int) -> torch.Tensor:\n",
    "    distr = uniform_distr(n)\n",
    "    return entropy(distr)"
   ]
  },
  {
   "cell_type": "code",
   "execution_count": 4,
   "metadata": {},
   "outputs": [
    {
     "data": {
      "text/plain": [
       "torch.Size([7182220, 32])"
      ]
     },
     "execution_count": 4,
     "metadata": {},
     "output_type": "execute_result"
    }
   ],
   "source": [
    "with tb.open_file(\"pst-large_model_outputs.h5\") as fp:\n",
    "    attn = torch.from_numpy(fp.root.attn[:])\n",
    "\n",
    "# shape: (num proteins, num heads)\n",
    "attn.shape"
   ]
  },
  {
   "cell_type": "code",
   "execution_count": 5,
   "metadata": {},
   "outputs": [
    {
     "data": {
      "text/plain": [
       "torch.Size([7182220])"
      ]
     },
     "execution_count": 5,
     "metadata": {},
     "output_type": "execute_result"
    }
   ],
   "source": [
    "# average attention per head\n",
    "mean_attn = einops.reduce(attn, \"nodes heads -> nodes\", reduction=\"mean\")\n",
    "\n",
    "# shape: (num proteins,)\n",
    "mean_attn.shape"
   ]
  },
  {
   "cell_type": "markdown",
   "metadata": {},
   "source": [
    "Since these are stacked batches of protein embeddings, we need an index pointer to keep track of the start and stop of each genome."
   ]
  },
  {
   "cell_type": "code",
   "execution_count": 6,
   "metadata": {},
   "outputs": [
    {
     "data": {
      "text/plain": [
       "torch.Size([151256])"
      ]
     },
     "execution_count": 6,
     "metadata": {},
     "output_type": "execute_result"
    }
   ],
   "source": [
    "with tb.open_file(\"IMGVRv4_test_set_esm-large_embeddings.h5\") as fp:\n",
    "    genome_ptr = torch.from_numpy(fp.root.ptr[:])\n",
    "\n",
    "# shape: (num genomes + 1,)\n",
    "genome_ptr.shape"
   ]
  },
  {
   "cell_type": "code",
   "execution_count": 7,
   "metadata": {},
   "outputs": [],
   "source": [
    "# number of proteins per genome\n",
    "sizes = genome_ptr[1:] - genome_ptr[:-1]\n",
    "\n",
    "# assign each ptn to each genome id\n",
    "index = torch.cat([\n",
    "    torch.tensor([i] * size.item())\n",
    "    for i, size in enumerate(sizes)\n",
    "])"
   ]
  },
  {
   "cell_type": "code",
   "execution_count": 8,
   "metadata": {},
   "outputs": [
    {
     "data": {
      "text/plain": [
       "tensor([4.5850, 3.5850, 3.4594,  ..., 8.6402, 8.8517, 8.5887])"
      ]
     },
     "execution_count": 8,
     "metadata": {},
     "output_type": "execute_result"
    }
   ],
   "source": [
    "background_entropy = torch.tensor(\n",
    "    [\n",
    "        uniform_entropy(size.item())\n",
    "        for size in sizes\n",
    "    ],\n",
    "    dtype=torch.float,\n",
    ")\n",
    "\n",
    "background_entropy"
   ]
  },
  {
   "cell_type": "code",
   "execution_count": 9,
   "metadata": {},
   "outputs": [
    {
     "data": {
      "text/plain": [
       "tensor([2.0856, 1.9859, 1.8284,  ..., 2.6654, 2.6339, 2.4102])"
      ]
     },
     "execution_count": 9,
     "metadata": {},
     "output_type": "execute_result"
    }
   ],
   "source": [
    "genome_entropies: list[torch.Tensor] = []\n",
    "for idx in range(genome_ptr.numel() - 1):\n",
    "    start = genome_ptr[idx]\n",
    "    end = genome_ptr[idx + 1]\n",
    "    distr = mean_attn[start:end]\n",
    "    ent = entropy(distr)\n",
    "    genome_entropies.append(ent)\n",
    "\n",
    "# shape: (num genomes,)\n",
    "genome_entropy = torch.tensor(genome_entropies)\n",
    "genome_entropy"
   ]
  },
  {
   "cell_type": "code",
   "execution_count": 10,
   "metadata": {},
   "outputs": [],
   "source": [
    "gain = background_entropy - genome_entropy\n",
    "gain_ratio = gain / background_entropy\n",
    "\n",
    "# scale all attention values by the genome's \n",
    "# distance from a uniform distribution (gain_ratio)\n",
    "weighted_attn = mean_attn * gain_ratio[index]"
   ]
  },
  {
   "cell_type": "code",
   "execution_count": 11,
   "metadata": {},
   "outputs": [
    {
     "data": {
      "text/html": [
       "<div><style>\n",
       ".dataframe > thead > tr,\n",
       ".dataframe > tbody > tr {\n",
       "  text-align: right;\n",
       "  white-space: pre-wrap;\n",
       "}\n",
       "</style>\n",
       "<small>shape: (7_182_220, 13)</small><table border=\"1\" class=\"dataframe\"><thead><tr><th>ptn</th><th>ptn_id</th><th>genome</th><th>genome_id</th><th>vog_annot</th><th>vog_category</th><th>phrog_annot</th><th>phrog_category</th><th>dataset</th><th>rep</th><th>cluster_id</th><th>cluster_size</th><th>attn</th></tr><tr><td>str</td><td>i64</td><td>str</td><td>i64</td><td>str</td><td>str</td><td>str</td><td>str</td><td>str</td><td>str</td><td>u32</td><td>u32</td><td>f32</td></tr></thead><tbody><tr><td>&quot;IMGVR_UViG_GVMAG-S-1016713-123…</td><td>6997237</td><td>&quot;IMGVR_UViG_GVMAG-S-1016713-123…</td><td>150790</td><td>&quot;unknown function&quot;</td><td>&quot;unknown&quot;</td><td>&quot;NA&quot;</td><td>&quot;unknown function&quot;</td><td>&quot;test&quot;</td><td>&quot;IMGVR_UViG_GVMAG-S-1016713-123…</td><td>0</td><td>1</td><td>0.238486</td></tr><tr><td>&quot;IMGVR_UViG_3300020065_000052|3…</td><td>29590</td><td>&quot;IMGVR_UViG_3300020065_000052&quot;</td><td>7702</td><td>&quot;unknown function&quot;</td><td>&quot;unknown&quot;</td><td>&quot;NA&quot;</td><td>&quot;unknown function&quot;</td><td>&quot;test&quot;</td><td>&quot;IMGVR_UViG_3300020065_000052|3…</td><td>1</td><td>1</td><td>0.017035</td></tr><tr><td>&quot;IMGVR_UViG_3300020068_000030|3…</td><td>29878</td><td>&quot;IMGVR_UViG_3300020068_000030&quot;</td><td>7780</td><td>&quot;unknown function&quot;</td><td>&quot;unknown&quot;</td><td>&quot;NA&quot;</td><td>&quot;unknown function&quot;</td><td>&quot;test&quot;</td><td>&quot;IMGVR_UViG_3300020068_000030|3…</td><td>2</td><td>2</td><td>0.0</td></tr><tr><td>&quot;IMGVR_UViG_3300042413_000309|3…</td><td>229911</td><td>&quot;IMGVR_UViG_3300042413_000309&quot;</td><td>29399</td><td>&quot;unknown function&quot;</td><td>&quot;unknown&quot;</td><td>&quot;NA&quot;</td><td>&quot;unknown function&quot;</td><td>&quot;test&quot;</td><td>&quot;IMGVR_UViG_3300020068_000030|3…</td><td>2</td><td>2</td><td>4.8572e-23</td></tr><tr><td>&quot;IMGVR_UViG_3300020070_000833|3…</td><td>30294</td><td>&quot;IMGVR_UViG_3300020070_000833&quot;</td><td>7896</td><td>&quot;unknown function&quot;</td><td>&quot;unknown&quot;</td><td>&quot;NA&quot;</td><td>&quot;unknown function&quot;</td><td>&quot;test&quot;</td><td>&quot;IMGVR_UViG_3300020070_000833|3…</td><td>3</td><td>1</td><td>0.0</td></tr><tr><td>&hellip;</td><td>&hellip;</td><td>&hellip;</td><td>&hellip;</td><td>&hellip;</td><td>&hellip;</td><td>&hellip;</td><td>&hellip;</td><td>&hellip;</td><td>&hellip;</td><td>&hellip;</td><td>&hellip;</td><td>&hellip;</td></tr><tr><td>&quot;IMGVR_UViG_3300037124_000040|3…</td><td>2380370</td><td>&quot;IMGVR_UViG_3300037124_000040&quot;</td><td>86529</td><td>&quot;unknown function&quot;</td><td>&quot;unknown&quot;</td><td>&quot;NA&quot;</td><td>&quot;unknown function&quot;</td><td>&quot;test&quot;</td><td>&quot;IMGVR_UViG_3300037124_000040|3…</td><td>1742934</td><td>2</td><td>0.0</td></tr><tr><td>&quot;IMGVR_UViG_3300019790_000089|3…</td><td>737478</td><td>&quot;IMGVR_UViG_3300019790_000089&quot;</td><td>47932</td><td>&quot;unknown function&quot;</td><td>&quot;unknown&quot;</td><td>&quot;NA&quot;</td><td>&quot;unknown function&quot;</td><td>&quot;test&quot;</td><td>&quot;IMGVR_UViG_3300037124_000040|3…</td><td>1742934</td><td>2</td><td>0.0</td></tr><tr><td>&quot;IMGVR_UViG_3300037124_000040|3…</td><td>2380402</td><td>&quot;IMGVR_UViG_3300037124_000040&quot;</td><td>86529</td><td>&quot;unknown function&quot;</td><td>&quot;unknown&quot;</td><td>&quot;NA&quot;</td><td>&quot;unknown function&quot;</td><td>&quot;test&quot;</td><td>&quot;IMGVR_UViG_3300037124_000040|3…</td><td>1742935</td><td>1</td><td>0.0</td></tr><tr><td>&quot;IMGVR_UViG_3300037124_000029|3…</td><td>2380498</td><td>&quot;IMGVR_UViG_3300037124_000029&quot;</td><td>86530</td><td>&quot;unknown function&quot;</td><td>&quot;unknown&quot;</td><td>&quot;NA&quot;</td><td>&quot;unknown function&quot;</td><td>&quot;test&quot;</td><td>&quot;IMGVR_UViG_3300037124_000029|3…</td><td>1742936</td><td>1</td><td>0.0</td></tr><tr><td>&quot;IMGVR_UViG_3300037124_000019|3…</td><td>2380530</td><td>&quot;IMGVR_UViG_3300037124_000019&quot;</td><td>86531</td><td>&quot;unknown function&quot;</td><td>&quot;unknown&quot;</td><td>&quot;NA&quot;</td><td>&quot;unknown function&quot;</td><td>&quot;test&quot;</td><td>&quot;IMGVR_UViG_3300037124_000019|3…</td><td>1742937</td><td>1</td><td>0.0</td></tr></tbody></table></div>"
      ],
      "text/plain": [
       "shape: (7_182_220, 13)\n",
       "┌────────────┬─────────┬───────────┬───────────┬───┬───────────┬───────────┬───────────┬───────────┐\n",
       "│ ptn        ┆ ptn_id  ┆ genome    ┆ genome_id ┆ … ┆ rep       ┆ cluster_i ┆ cluster_s ┆ attn      │\n",
       "│ ---        ┆ ---     ┆ ---       ┆ ---       ┆   ┆ ---       ┆ d         ┆ ize       ┆ ---       │\n",
       "│ str        ┆ i64     ┆ str       ┆ i64       ┆   ┆ str       ┆ ---       ┆ ---       ┆ f32       │\n",
       "│            ┆         ┆           ┆           ┆   ┆           ┆ u32       ┆ u32       ┆           │\n",
       "╞════════════╪═════════╪═══════════╪═══════════╪═══╪═══════════╪═══════════╪═══════════╪═══════════╡\n",
       "│ IMGVR_UViG ┆ 6997237 ┆ IMGVR_UVi ┆ 150790    ┆ … ┆ IMGVR_UVi ┆ 0         ┆ 1         ┆ 0.238486  │\n",
       "│ _GVMAG-S-1 ┆         ┆ G_GVMAG-S ┆           ┆   ┆ G_GVMAG-S ┆           ┆           ┆           │\n",
       "│ 016713-123 ┆         ┆ -1016713- ┆           ┆   ┆ -1016713- ┆           ┆           ┆           │\n",
       "│ …          ┆         ┆ 123…      ┆           ┆   ┆ 123…      ┆           ┆           ┆           │\n",
       "│ IMGVR_UViG ┆ 29590   ┆ IMGVR_UVi ┆ 7702      ┆ … ┆ IMGVR_UVi ┆ 1         ┆ 1         ┆ 0.017035  │\n",
       "│ _330002006 ┆         ┆ G_3300020 ┆           ┆   ┆ G_3300020 ┆           ┆           ┆           │\n",
       "│ 5_000052|3 ┆         ┆ 065_00005 ┆           ┆   ┆ 065_00005 ┆           ┆           ┆           │\n",
       "│ …          ┆         ┆ 2         ┆           ┆   ┆ 2|3…      ┆           ┆           ┆           │\n",
       "│ IMGVR_UViG ┆ 29878   ┆ IMGVR_UVi ┆ 7780      ┆ … ┆ IMGVR_UVi ┆ 2         ┆ 2         ┆ 0.0       │\n",
       "│ _330002006 ┆         ┆ G_3300020 ┆           ┆   ┆ G_3300020 ┆           ┆           ┆           │\n",
       "│ 8_000030|3 ┆         ┆ 068_00003 ┆           ┆   ┆ 068_00003 ┆           ┆           ┆           │\n",
       "│ …          ┆         ┆ 0         ┆           ┆   ┆ 0|3…      ┆           ┆           ┆           │\n",
       "│ IMGVR_UViG ┆ 229911  ┆ IMGVR_UVi ┆ 29399     ┆ … ┆ IMGVR_UVi ┆ 2         ┆ 2         ┆ 4.8572e-2 │\n",
       "│ _330004241 ┆         ┆ G_3300042 ┆           ┆   ┆ G_3300020 ┆           ┆           ┆ 3         │\n",
       "│ 3_000309|3 ┆         ┆ 413_00030 ┆           ┆   ┆ 068_00003 ┆           ┆           ┆           │\n",
       "│ …          ┆         ┆ 9         ┆           ┆   ┆ 0|3…      ┆           ┆           ┆           │\n",
       "│ IMGVR_UViG ┆ 30294   ┆ IMGVR_UVi ┆ 7896      ┆ … ┆ IMGVR_UVi ┆ 3         ┆ 1         ┆ 0.0       │\n",
       "│ _330002007 ┆         ┆ G_3300020 ┆           ┆   ┆ G_3300020 ┆           ┆           ┆           │\n",
       "│ 0_000833|3 ┆         ┆ 070_00083 ┆           ┆   ┆ 070_00083 ┆           ┆           ┆           │\n",
       "│ …          ┆         ┆ 3         ┆           ┆   ┆ 3|3…      ┆           ┆           ┆           │\n",
       "│ …          ┆ …       ┆ …         ┆ …         ┆ … ┆ …         ┆ …         ┆ …         ┆ …         │\n",
       "│ IMGVR_UViG ┆ 2380370 ┆ IMGVR_UVi ┆ 86529     ┆ … ┆ IMGVR_UVi ┆ 1742934   ┆ 2         ┆ 0.0       │\n",
       "│ _330003712 ┆         ┆ G_3300037 ┆           ┆   ┆ G_3300037 ┆           ┆           ┆           │\n",
       "│ 4_000040|3 ┆         ┆ 124_00004 ┆           ┆   ┆ 124_00004 ┆           ┆           ┆           │\n",
       "│ …          ┆         ┆ 0         ┆           ┆   ┆ 0|3…      ┆           ┆           ┆           │\n",
       "│ IMGVR_UViG ┆ 737478  ┆ IMGVR_UVi ┆ 47932     ┆ … ┆ IMGVR_UVi ┆ 1742934   ┆ 2         ┆ 0.0       │\n",
       "│ _330001979 ┆         ┆ G_3300019 ┆           ┆   ┆ G_3300037 ┆           ┆           ┆           │\n",
       "│ 0_000089|3 ┆         ┆ 790_00008 ┆           ┆   ┆ 124_00004 ┆           ┆           ┆           │\n",
       "│ …          ┆         ┆ 9         ┆           ┆   ┆ 0|3…      ┆           ┆           ┆           │\n",
       "│ IMGVR_UViG ┆ 2380402 ┆ IMGVR_UVi ┆ 86529     ┆ … ┆ IMGVR_UVi ┆ 1742935   ┆ 1         ┆ 0.0       │\n",
       "│ _330003712 ┆         ┆ G_3300037 ┆           ┆   ┆ G_3300037 ┆           ┆           ┆           │\n",
       "│ 4_000040|3 ┆         ┆ 124_00004 ┆           ┆   ┆ 124_00004 ┆           ┆           ┆           │\n",
       "│ …          ┆         ┆ 0         ┆           ┆   ┆ 0|3…      ┆           ┆           ┆           │\n",
       "│ IMGVR_UViG ┆ 2380498 ┆ IMGVR_UVi ┆ 86530     ┆ … ┆ IMGVR_UVi ┆ 1742936   ┆ 1         ┆ 0.0       │\n",
       "│ _330003712 ┆         ┆ G_3300037 ┆           ┆   ┆ G_3300037 ┆           ┆           ┆           │\n",
       "│ 4_000029|3 ┆         ┆ 124_00002 ┆           ┆   ┆ 124_00002 ┆           ┆           ┆           │\n",
       "│ …          ┆         ┆ 9         ┆           ┆   ┆ 9|3…      ┆           ┆           ┆           │\n",
       "│ IMGVR_UViG ┆ 2380530 ┆ IMGVR_UVi ┆ 86531     ┆ … ┆ IMGVR_UVi ┆ 1742937   ┆ 1         ┆ 0.0       │\n",
       "│ _330003712 ┆         ┆ G_3300037 ┆           ┆   ┆ G_3300037 ┆           ┆           ┆           │\n",
       "│ 4_000019|3 ┆         ┆ 124_00001 ┆           ┆   ┆ 124_00001 ┆           ┆           ┆           │\n",
       "│ …          ┆         ┆ 9         ┆           ┆   ┆ 9|3…      ┆           ┆           ┆           │\n",
       "└────────────┴─────────┴───────────┴───────────┴───┴───────────┴───────────┴───────────┴───────────┘"
      ]
     },
     "execution_count": 11,
     "metadata": {},
     "output_type": "execute_result"
    }
   ],
   "source": [
    "mmseqs_clusters = (\n",
    "    pl.read_csv(\n",
    "        \"mmseqs_clusters.tsv\",\n",
    "        separator=\"\\t\",\n",
    "        has_header=False,\n",
    "        new_columns=[\"rep\", \"ptn\"],\n",
    "    )\n",
    "    .with_columns(\n",
    "        cluster_id = pl.col(\"rep\").rle_id(),\n",
    "        cluster_size = pl.col(\"ptn\").len().over(\"rep\")\n",
    "    )\n",
    ")\n",
    "\n",
    "ptn_info = (\n",
    "    pl.read_csv(\"supplementary_table_2.tsv\", separator=\"\\t\")\n",
    "    .filter(pl.col(\"dataset\") == \"test\")\n",
    "    .join(mmseqs_clusters, on=\"ptn\")\n",
    "    .with_columns(\n",
    "        attn = weighted_attn.numpy(),\n",
    "    )\n",
    ")\n",
    "\n",
    "ptn_info"
   ]
  },
  {
   "cell_type": "code",
   "execution_count": 12,
   "metadata": {},
   "outputs": [],
   "source": [
    "def most_attended_functional_categories(ptn_info: pl.DataFrame, top_n: int = 50, annotation_database: str = \"VOG\") -> pl.DataFrame:\n",
    "    annotation_database = annotation_database.upper()\n",
    "    if annotation_database not in {\"VOG\", \"PHROG\"}:\n",
    "        raise ValueError(\"Annotation database must be either VOG or PHROG\")\n",
    "    \n",
    "    cat_col = f\"{annotation_database.lower()}_category\"\n",
    "    summary = (\n",
    "        ptn_info\n",
    "        .group_by(\"cluster_id\")\n",
    "        .agg(\n",
    "            pl.max(\"attn\"),\n",
    "            pl.col(cat_col).unique(),\n",
    "        )\n",
    "        .explode(cat_col)\n",
    "        .sort(\"attn\", descending=True)\n",
    "        .group_by(cat_col)\n",
    "        .head(top_n)\n",
    "        .sort(\"attn\", descending=True)\n",
    "    )\n",
    "\n",
    "    return summary"
   ]
  },
  {
   "cell_type": "code",
   "execution_count": 13,
   "metadata": {},
   "outputs": [
    {
     "data": {
      "text/html": [
       "<div><style>\n",
       ".dataframe > thead > tr,\n",
       ".dataframe > tbody > tr {\n",
       "  text-align: right;\n",
       "  white-space: pre-wrap;\n",
       "}\n",
       "</style>\n",
       "<small>shape: (450, 3)</small><table border=\"1\" class=\"dataframe\"><thead><tr><th>vog_category</th><th>cluster_id</th><th>attn</th></tr><tr><td>str</td><td>u32</td><td>f32</td></tr></thead><tbody><tr><td>&quot;unknown&quot;</td><td>1634748</td><td>0.341053</td></tr><tr><td>&quot;unknown&quot;</td><td>313789</td><td>0.33946</td></tr><tr><td>&quot;unknown&quot;</td><td>1711756</td><td>0.336021</td></tr><tr><td>&quot;unknown&quot;</td><td>1606130</td><td>0.33581</td></tr><tr><td>&quot;other&quot;</td><td>1617312</td><td>0.335521</td></tr><tr><td>&hellip;</td><td>&hellip;</td><td>&hellip;</td></tr><tr><td>&quot;integration&quot;</td><td>1394196</td><td>0.294153</td></tr><tr><td>&quot;integration&quot;</td><td>1392386</td><td>0.294058</td></tr><tr><td>&quot;integration&quot;</td><td>1399225</td><td>0.294006</td></tr><tr><td>&quot;integration&quot;</td><td>224002</td><td>0.293705</td></tr><tr><td>&quot;integration&quot;</td><td>236811</td><td>0.292295</td></tr></tbody></table></div>"
      ],
      "text/plain": [
       "shape: (450, 3)\n",
       "┌──────────────┬────────────┬──────────┐\n",
       "│ vog_category ┆ cluster_id ┆ attn     │\n",
       "│ ---          ┆ ---        ┆ ---      │\n",
       "│ str          ┆ u32        ┆ f32      │\n",
       "╞══════════════╪════════════╪══════════╡\n",
       "│ unknown      ┆ 1634748    ┆ 0.341053 │\n",
       "│ unknown      ┆ 313789     ┆ 0.33946  │\n",
       "│ unknown      ┆ 1711756    ┆ 0.336021 │\n",
       "│ unknown      ┆ 1606130    ┆ 0.33581  │\n",
       "│ other        ┆ 1617312    ┆ 0.335521 │\n",
       "│ …            ┆ …          ┆ …        │\n",
       "│ integration  ┆ 1394196    ┆ 0.294153 │\n",
       "│ integration  ┆ 1392386    ┆ 0.294058 │\n",
       "│ integration  ┆ 1399225    ┆ 0.294006 │\n",
       "│ integration  ┆ 224002     ┆ 0.293705 │\n",
       "│ integration  ┆ 236811     ┆ 0.292295 │\n",
       "└──────────────┴────────────┴──────────┘"
      ]
     },
     "execution_count": 13,
     "metadata": {},
     "output_type": "execute_result"
    }
   ],
   "source": [
    "most_attended_functional_categories(ptn_info, top_n=50, annotation_database=\"VOG\")"
   ]
  }
 ],
 "metadata": {
  "kernelspec": {
   "display_name": "pyg",
   "language": "python",
   "name": "python3"
  },
  "language_info": {
   "codemirror_mode": {
    "name": "ipython",
    "version": 3
   },
   "file_extension": ".py",
   "mimetype": "text/x-python",
   "name": "python",
   "nbconvert_exporter": "python",
   "pygments_lexer": "ipython3",
   "version": "3.10.14"
  }
 },
 "nbformat": 4,
 "nbformat_minor": 2
}
