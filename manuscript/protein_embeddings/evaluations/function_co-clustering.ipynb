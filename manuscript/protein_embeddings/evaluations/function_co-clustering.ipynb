{
 "cells": [
  {
   "cell_type": "code",
   "execution_count": 1,
   "metadata": {},
   "outputs": [],
   "source": [
    "import itertools as it\n",
    "import os\n",
    "from collections import defaultdict\n",
    "\n",
    "import tables as tb\n",
    "import networkx as nx\n",
    "import igraph as ig\n",
    "import numpy as np\n",
    "\n",
    "os.environ[\"POLARS_MAX_THREADS\"] = \"128\"\n",
    "\n",
    "import polars as pl  # noqa: E402"
   ]
  },
  {
   "cell_type": "code",
   "execution_count": 2,
   "metadata": {},
   "outputs": [
    {
     "name": "stdout",
     "output_type": "stream",
     "text": [
      "Python implementation: CPython\n",
      "Python version       : 3.11.3\n",
      "IPython version      : 8.13.2\n",
      "\n",
      "tables  : 3.8.0\n",
      "networkx: 3.1\n",
      "igraph  : 0.11.3\n",
      "numpy   : 1.23.5\n",
      "polars  : 0.20.6\n",
      "\n"
     ]
    }
   ],
   "source": [
    "%load_ext watermark\n",
    "%watermark -vp tables,networkx,igraph,numpy,polars"
   ]
  },
  {
   "cell_type": "code",
   "execution_count": 3,
   "metadata": {},
   "outputs": [
    {
     "data": {
      "text/html": [
       "<div><style>\n",
       ".dataframe > thead > tr,\n",
       ".dataframe > tbody > tr {\n",
       "  text-align: right;\n",
       "  white-space: pre-wrap;\n",
       "}\n",
       "</style>\n",
       "<small>shape: (55, 3)</small><table border=\"1\" class=\"dataframe\"><thead><tr><th>source</th><th>target</th><th>co_occur_count</th></tr><tr><td>str</td><td>str</td><td>i64</td></tr></thead><tbody><tr><td>&quot;tail&quot;</td><td>&quot;nucleotide met…</td><td>1334564</td></tr><tr><td>&quot;tail&quot;</td><td>&quot;head and packa…</td><td>1182290</td></tr><tr><td>&quot;nucleotide met…</td><td>&quot;head and packa…</td><td>1029490</td></tr><tr><td>&quot;tail&quot;</td><td>&quot;other&quot;</td><td>959450</td></tr><tr><td>&quot;nucleotide met…</td><td>&quot;other&quot;</td><td>835450</td></tr><tr><td>&quot;other&quot;</td><td>&quot;head and packa…</td><td>740125</td></tr><tr><td>&quot;tail&quot;</td><td>&quot;gene expressio…</td><td>394922</td></tr><tr><td>&quot;lysis&quot;</td><td>&quot;tail&quot;</td><td>377590</td></tr><tr><td>&quot;gene expressio…</td><td>&quot;nucleotide met…</td><td>343882</td></tr><tr><td>&quot;lysis&quot;</td><td>&quot;nucleotide met…</td><td>328790</td></tr><tr><td>&quot;gene expressio…</td><td>&quot;head and packa…</td><td>304645</td></tr><tr><td>&quot;lysis&quot;</td><td>&quot;head and packa…</td><td>291275</td></tr><tr><td>&hellip;</td><td>&hellip;</td><td>&hellip;</td></tr><tr><td>&quot;lysogeny&quot;</td><td>&quot;connector&quot;</td><td>16560</td></tr><tr><td>&quot;gene expressio…</td><td>&quot;lysogenic conv…</td><td>13398</td></tr><tr><td>&quot;lysis&quot;</td><td>&quot;lysogenic conv…</td><td>12810</td></tr><tr><td>&quot;metabolic gene…</td><td>&quot;connector&quot;</td><td>12006</td></tr><tr><td>&quot;connector&quot;</td><td>&quot;host takeover&quot;</td><td>10488</td></tr><tr><td>&quot;metabolic gene…</td><td>&quot;lysogeny&quot;</td><td>10440</td></tr><tr><td>&quot;lysogeny&quot;</td><td>&quot;host takeover&quot;</td><td>9120</td></tr><tr><td>&quot;metabolic gene…</td><td>&quot;host takeover&quot;</td><td>6612</td></tr><tr><td>&quot;lysogenic conv…</td><td>&quot;connector&quot;</td><td>5796</td></tr><tr><td>&quot;lysogeny&quot;</td><td>&quot;lysogenic conv…</td><td>5040</td></tr><tr><td>&quot;metabolic gene…</td><td>&quot;lysogenic conv…</td><td>3654</td></tr><tr><td>&quot;lysogenic conv…</td><td>&quot;host takeover&quot;</td><td>3192</td></tr></tbody></table></div>"
      ],
      "text/plain": [
       "shape: (55, 3)\n",
       "┌───────────────────────┬───────────────────────┬────────────────┐\n",
       "│ source                ┆ target                ┆ co_occur_count │\n",
       "│ ---                   ┆ ---                   ┆ ---            │\n",
       "│ str                   ┆ str                   ┆ i64            │\n",
       "╞═══════════════════════╪═══════════════════════╪════════════════╡\n",
       "│ tail                  ┆ nucleotide metabolism ┆ 1334564        │\n",
       "│ tail                  ┆ head and packaging    ┆ 1182290        │\n",
       "│ nucleotide metabolism ┆ head and packaging    ┆ 1029490        │\n",
       "│ tail                  ┆ other                 ┆ 959450         │\n",
       "│ nucleotide metabolism ┆ other                 ┆ 835450         │\n",
       "│ …                     ┆ …                     ┆ …              │\n",
       "│ metabolic gene        ┆ host takeover         ┆ 6612           │\n",
       "│ lysogenic conversion  ┆ connector             ┆ 5796           │\n",
       "│ lysogeny              ┆ lysogenic conversion  ┆ 5040           │\n",
       "│ metabolic gene        ┆ lysogenic conversion  ┆ 3654           │\n",
       "│ lysogenic conversion  ┆ host takeover         ┆ 3192           │\n",
       "└───────────────────────┴───────────────────────┴────────────────┘"
      ]
     },
     "execution_count": 3,
     "metadata": {},
     "output_type": "execute_result"
    }
   ],
   "source": [
    "def get_background_counts(database: str = \"PHROG\") -> pl.DataFrame:\n",
    "    if database.upper() == \"PHROG\":\n",
    "        file = \"supplementary_tables/supplementary_table_5.tsv\"\n",
    "        cat_col = \"new_category\"\n",
    "    elif database.upper() == \"VOG\":\n",
    "        file = \"supplementary_tables/supplementary_table_6.tsv\"\n",
    "        cat_col = \"function\"\n",
    "    else:\n",
    "        raise ValueError(f\"Invalid database: {database}. Must be 'PHROG' or 'VOG'\")\n",
    "    \n",
    "    annot_metadata = pl.read_csv(file, separator=\"\\t\")\n",
    "\n",
    "    annot_counts = (\n",
    "        annot_metadata\n",
    "        .filter(~pl.col(cat_col).str.contains(\"unknown\"))\n",
    "        [cat_col]\n",
    "        .value_counts()\n",
    "    )\n",
    "\n",
    "    background_dict = defaultdict(int)\n",
    "    for u, v in it.combinations(annot_counts.iter_rows(named=True), r=2):\n",
    "        u_cat = u[cat_col]\n",
    "        v_cat = v[cat_col]\n",
    "        u_count = u[\"count\"]\n",
    "        v_count = v[\"count\"]\n",
    "\n",
    "        background_dict[(u_cat, v_cat)] = u_count * v_count\n",
    "\n",
    "    to_df = {\n",
    "        \"source\": [],\n",
    "        \"target\": [],\n",
    "        \"co_occur_count\": [],\n",
    "    }\n",
    "\n",
    "    for (u_cat, v_cat), count in background_dict.items():\n",
    "        to_df[\"source\"].append(u_cat)\n",
    "        to_df[\"target\"].append(v_cat)\n",
    "        to_df[\"co_occur_count\"].append(count)\n",
    "\n",
    "    background = pl.DataFrame(to_df).sort(\"co_occur_count\", descending=True)\n",
    "\n",
    "    return background\n",
    "\n",
    "background = get_background_counts(\"PHROG\")\n",
    "background"
   ]
  },
  {
   "cell_type": "code",
   "execution_count": 4,
   "metadata": {},
   "outputs": [],
   "source": [
    "def get_annotation_counts(\n",
    "    ptn_info: pl.DataFrame, \n",
    "    protein_cluster_labels: np.ndarray,\n",
    "    genome_cluster_labels: np.ndarray,\n",
    "    database: str = \"PHROG\",\n",
    ") -> pl.DataFrame:\n",
    "    cat_col = f\"{database.lower()}_category\"\n",
    "\n",
    "    annot_counts = (\n",
    "        ptn_info\n",
    "        .with_columns(\n",
    "            pclu = protein_cluster_labels, # type: ignore\n",
    "            gclu = genome_cluster_labels, # type: ignore\n",
    "        )\n",
    "        .with_columns(\n",
    "            cluster_size = pl.col(\"ptn_id\").len().over(\"pclu\", \"gclu\")\n",
    "        )\n",
    "        .filter(\n",
    "            (pl.col(\"cluster_size\") > 1) &\n",
    "            (~pl.col(cat_col).str.contains(\"unknown\"))\n",
    "        )\n",
    "        .group_by(\"gclu\", \"pclu\")\n",
    "        .agg(\n",
    "            pl.col(cat_col).value_counts()\n",
    "        )\n",
    "        .with_columns(\n",
    "            n_categories = pl.col(cat_col).list.len(),\n",
    "        )\n",
    "        # only care about co-occurrence, so we need more than 1 category\n",
    "        .filter(pl.col(\"n_categories\") > 1)\n",
    "        .explode(cat_col)\n",
    "        .unnest(cat_col)\n",
    "    )\n",
    "\n",
    "    return annot_counts\n",
    "\n",
    "def construct_cooccurrence_graph(annot_counts: pl.DataFrame, background: pl.DataFrame, database: str = \"PHROG\") -> nx.Graph:\n",
    "    cat_col = f\"{database.lower()}_category\"\n",
    "\n",
    "    background_key_order = [\n",
    "        (row[\"source\"], row[\"target\"])\n",
    "        for row in background.iter_rows(named=True)\n",
    "    ]\n",
    "\n",
    "    cooccurence_graph = defaultdict(int)\n",
    "    for _, group_df in annot_counts.group_by(\"gclu\", \"pclu\"):\n",
    "        obs_lut = {\n",
    "            row[cat_col]: row[\"count\"]\n",
    "            for row in group_df.iter_rows(named=True)\n",
    "        }\n",
    "\n",
    "        for (u, v) in background_key_order:\n",
    "            cooccurence_graph[u, v] += obs_lut.get(u, 0) * obs_lut.get(v, 0)\n",
    "\n",
    "    to_df = {\n",
    "        \"source\": [],\n",
    "        \"target\": [],\n",
    "        \"observed_co_occur_count\": [],\n",
    "    }\n",
    "\n",
    "    for (u, v), count in cooccurence_graph.items():\n",
    "        to_df[\"source\"].append(u)\n",
    "        to_df[\"target\"].append(v)\n",
    "        to_df[\"observed_co_occur_count\"].append(count)\n",
    "\n",
    "    df = (\n",
    "        pl.DataFrame(to_df)\n",
    "        .join(background, on=[\"source\", \"target\"])\n",
    "        .rename({\"co_occur_count\": \"expected_co_occur_count\"})\n",
    "        .with_columns(\n",
    "            obs_prop = pl.col(\"observed_co_occur_count\") / pl.col(\"observed_co_occur_count\").sum(),\n",
    "            exp_prop = pl.col(\"expected_co_occur_count\") / pl.col(\"expected_co_occur_count\").sum(),\n",
    "        )\n",
    "        .with_columns(\n",
    "            ratio = pl.col(\"obs_prop\") / pl.col(\"exp_prop\"),\n",
    "        )\n",
    "        .sort(\"ratio\", descending=True)\n",
    "    )\n",
    "\n",
    "    G = nx.Graph()\n",
    "\n",
    "    for row in df.iter_rows(named=True):\n",
    "        G.add_edge(row[\"source\"], row[\"target\"], weight=row[\"ratio\"])\n",
    "\n",
    "    return G\n",
    "\n",
    "def cluster_graph(G: nx.Graph) -> tuple[np.ndarray, np.ndarray]:\n",
    "    graph: ig.Graph = ig.Graph.from_networkx(G, vertex_attr_hashable=\"name\")\n",
    "\n",
    "    function_clusters = np.array(\n",
    "        # resolution 1.0 means focus on clustering \n",
    "        # those enriched above background\n",
    "        graph.community_leiden(weights=\"weight\", resolution=1.0)\n",
    "        .membership\n",
    "    )\n",
    "\n",
    "    nodes = np.array([node[\"name\"] for node in graph.vs])\n",
    "\n",
    "    return nodes, function_clusters"
   ]
  },
  {
   "cell_type": "code",
   "execution_count": 5,
   "metadata": {},
   "outputs": [
    {
     "data": {
      "text/plain": [
       "(7182220,)"
      ]
     },
     "execution_count": 5,
     "metadata": {},
     "output_type": "execute_result"
    }
   ],
   "source": [
    "protein_clusters_file = \"datasets/protein_clusters/embedding-based_protein_clusters_per_genome_cluster.h5\"\n",
    "with tb.open_file(protein_clusters_file) as fp:\n",
    "    # corresponds to (genome_k, genome_res, protein_k, protein_res) ==\n",
    "    # (15, 1.0, 15, 0.5)\n",
    "    clustering_idx = 27\n",
    "    genome_embedding = \"pst-large\"\n",
    "    node = fp.root[genome_embedding]\n",
    "\n",
    "    clustering_metadata = node.metadata[clustering_idx]\n",
    "\n",
    "    protein_embedding = \"pst-large\"\n",
    "    protein_cluster_labels = node[protein_embedding][clustering_idx]\n",
    "    genome_cluster_labels = node[\"genome\"][clustering_idx]\n",
    "\n",
    "protein_cluster_labels.shape"
   ]
  },
  {
   "cell_type": "code",
   "execution_count": 6,
   "metadata": {},
   "outputs": [
    {
     "data": {
      "text/html": [
       "<div><style>\n",
       ".dataframe > thead > tr,\n",
       ".dataframe > tbody > tr {\n",
       "  text-align: right;\n",
       "  white-space: pre-wrap;\n",
       "}\n",
       "</style>\n",
       "<small>shape: (7_182_220, 11)</small><table border=\"1\" class=\"dataframe\"><thead><tr><th>ptn</th><th>ptn_id</th><th>genome</th><th>genome_id</th><th>vog_bitscore</th><th>vog_annot</th><th>vog_category</th><th>phrog_bitscore</th><th>phrog_annot</th><th>phrog_category</th><th>dataset</th></tr><tr><td>str</td><td>i64</td><td>str</td><td>i64</td><td>f64</td><td>str</td><td>str</td><td>i64</td><td>str</td><td>str</td><td>str</td></tr></thead><tbody><tr><td>&quot;IMGVR_UViG_256…</td><td>0</td><td>&quot;IMGVR_UViG_256…</td><td>0</td><td>null</td><td>&quot;unknown functi…</td><td>&quot;unknown&quot;</td><td>null</td><td>&quot;NA&quot;</td><td>&quot;unknown functi…</td><td>&quot;test&quot;</td></tr><tr><td>&quot;IMGVR_UViG_256…</td><td>1</td><td>&quot;IMGVR_UViG_256…</td><td>0</td><td>null</td><td>&quot;unknown functi…</td><td>&quot;unknown&quot;</td><td>null</td><td>&quot;NA&quot;</td><td>&quot;unknown functi…</td><td>&quot;test&quot;</td></tr><tr><td>&quot;IMGVR_UViG_256…</td><td>2</td><td>&quot;IMGVR_UViG_256…</td><td>0</td><td>null</td><td>&quot;unknown functi…</td><td>&quot;unknown&quot;</td><td>null</td><td>&quot;NA&quot;</td><td>&quot;unknown functi…</td><td>&quot;test&quot;</td></tr><tr><td>&quot;IMGVR_UViG_256…</td><td>3</td><td>&quot;IMGVR_UViG_256…</td><td>0</td><td>null</td><td>&quot;unknown functi…</td><td>&quot;unknown&quot;</td><td>null</td><td>&quot;NA&quot;</td><td>&quot;unknown functi…</td><td>&quot;test&quot;</td></tr><tr><td>&quot;IMGVR_UViG_256…</td><td>4</td><td>&quot;IMGVR_UViG_256…</td><td>0</td><td>null</td><td>&quot;unknown functi…</td><td>&quot;unknown&quot;</td><td>null</td><td>&quot;NA&quot;</td><td>&quot;unknown functi…</td><td>&quot;test&quot;</td></tr><tr><td>&quot;IMGVR_UViG_256…</td><td>5</td><td>&quot;IMGVR_UViG_256…</td><td>0</td><td>null</td><td>&quot;unknown functi…</td><td>&quot;unknown&quot;</td><td>null</td><td>&quot;NA&quot;</td><td>&quot;unknown functi…</td><td>&quot;test&quot;</td></tr><tr><td>&quot;IMGVR_UViG_256…</td><td>6</td><td>&quot;IMGVR_UViG_256…</td><td>0</td><td>null</td><td>&quot;unknown functi…</td><td>&quot;unknown&quot;</td><td>null</td><td>&quot;NA&quot;</td><td>&quot;unknown functi…</td><td>&quot;test&quot;</td></tr><tr><td>&quot;IMGVR_UViG_256…</td><td>7</td><td>&quot;IMGVR_UViG_256…</td><td>0</td><td>null</td><td>&quot;unknown functi…</td><td>&quot;unknown&quot;</td><td>null</td><td>&quot;NA&quot;</td><td>&quot;unknown functi…</td><td>&quot;test&quot;</td></tr><tr><td>&quot;IMGVR_UViG_256…</td><td>8</td><td>&quot;IMGVR_UViG_256…</td><td>0</td><td>null</td><td>&quot;unknown functi…</td><td>&quot;unknown&quot;</td><td>58</td><td>&quot;NA&quot;</td><td>&quot;unknown functi…</td><td>&quot;test&quot;</td></tr><tr><td>&quot;IMGVR_UViG_256…</td><td>9</td><td>&quot;IMGVR_UViG_256…</td><td>0</td><td>null</td><td>&quot;unknown functi…</td><td>&quot;unknown&quot;</td><td>null</td><td>&quot;NA&quot;</td><td>&quot;unknown functi…</td><td>&quot;test&quot;</td></tr><tr><td>&quot;IMGVR_UViG_256…</td><td>10</td><td>&quot;IMGVR_UViG_256…</td><td>0</td><td>null</td><td>&quot;unknown functi…</td><td>&quot;unknown&quot;</td><td>null</td><td>&quot;NA&quot;</td><td>&quot;unknown functi…</td><td>&quot;test&quot;</td></tr><tr><td>&quot;IMGVR_UViG_256…</td><td>11</td><td>&quot;IMGVR_UViG_256…</td><td>0</td><td>null</td><td>&quot;unknown functi…</td><td>&quot;unknown&quot;</td><td>null</td><td>&quot;NA&quot;</td><td>&quot;unknown functi…</td><td>&quot;test&quot;</td></tr><tr><td>&hellip;</td><td>&hellip;</td><td>&hellip;</td><td>&hellip;</td><td>&hellip;</td><td>&hellip;</td><td>&hellip;</td><td>&hellip;</td><td>&hellip;</td><td>&hellip;</td><td>&hellip;</td></tr><tr><td>&quot;IMGVR_UViG_GVM…</td><td>7182208</td><td>&quot;IMGVR_UViG_GVM…</td><td>151254</td><td>null</td><td>&quot;unknown functi…</td><td>&quot;unknown&quot;</td><td>null</td><td>&quot;NA&quot;</td><td>&quot;unknown functi…</td><td>&quot;test&quot;</td></tr><tr><td>&quot;IMGVR_UViG_GVM…</td><td>7182209</td><td>&quot;IMGVR_UViG_GVM…</td><td>151254</td><td>52.93</td><td>&quot;sp|Q7Y1W9|SAP9…</td><td>&quot;other&quot;</td><td>null</td><td>&quot;NA&quot;</td><td>&quot;unknown functi…</td><td>&quot;test&quot;</td></tr><tr><td>&quot;IMGVR_UViG_GVM…</td><td>7182210</td><td>&quot;IMGVR_UViG_GVM…</td><td>151254</td><td>308.08</td><td>&quot;sp|A0A7H0DND1|…</td><td>&quot;packaging&quot;</td><td>null</td><td>&quot;NA&quot;</td><td>&quot;unknown functi…</td><td>&quot;test&quot;</td></tr><tr><td>&quot;IMGVR_UViG_GVM…</td><td>7182211</td><td>&quot;IMGVR_UViG_GVM…</td><td>151254</td><td>717.33</td><td>&quot;REFSEQ hypothe…</td><td>&quot;unknown&quot;</td><td>null</td><td>&quot;NA&quot;</td><td>&quot;unknown functi…</td><td>&quot;test&quot;</td></tr><tr><td>&quot;IMGVR_UViG_GVM…</td><td>7182212</td><td>&quot;IMGVR_UViG_GVM…</td><td>151254</td><td>78.04</td><td>&quot;REFSEQ hypothe…</td><td>&quot;unknown&quot;</td><td>null</td><td>&quot;NA&quot;</td><td>&quot;unknown functi…</td><td>&quot;test&quot;</td></tr><tr><td>&quot;IMGVR_UViG_GVM…</td><td>7182213</td><td>&quot;IMGVR_UViG_GVM…</td><td>151254</td><td>229.12</td><td>&quot;REFSEQ hypothe…</td><td>&quot;unknown&quot;</td><td>null</td><td>&quot;NA&quot;</td><td>&quot;unknown functi…</td><td>&quot;test&quot;</td></tr><tr><td>&quot;IMGVR_UViG_GVM…</td><td>7182214</td><td>&quot;IMGVR_UViG_GVM…</td><td>151254</td><td>65.38</td><td>&quot;sp|P04526|LOAD…</td><td>&quot;other&quot;</td><td>null</td><td>&quot;NA&quot;</td><td>&quot;unknown functi…</td><td>&quot;test&quot;</td></tr><tr><td>&quot;IMGVR_UViG_GVM…</td><td>7182215</td><td>&quot;IMGVR_UViG_GVM…</td><td>151254</td><td>null</td><td>&quot;unknown functi…</td><td>&quot;unknown&quot;</td><td>null</td><td>&quot;NA&quot;</td><td>&quot;unknown functi…</td><td>&quot;test&quot;</td></tr><tr><td>&quot;IMGVR_UViG_GVM…</td><td>7182216</td><td>&quot;IMGVR_UViG_GVM…</td><td>151254</td><td>80.35</td><td>&quot;REFSEQ UDP-3-O…</td><td>&quot;other&quot;</td><td>null</td><td>&quot;NA&quot;</td><td>&quot;unknown functi…</td><td>&quot;test&quot;</td></tr><tr><td>&quot;IMGVR_UViG_GVM…</td><td>7182217</td><td>&quot;IMGVR_UViG_GVM…</td><td>151254</td><td>null</td><td>&quot;unknown functi…</td><td>&quot;unknown&quot;</td><td>null</td><td>&quot;NA&quot;</td><td>&quot;unknown functi…</td><td>&quot;test&quot;</td></tr><tr><td>&quot;IMGVR_UViG_GVM…</td><td>7182218</td><td>&quot;IMGVR_UViG_GVM…</td><td>151254</td><td>null</td><td>&quot;unknown functi…</td><td>&quot;unknown&quot;</td><td>null</td><td>&quot;NA&quot;</td><td>&quot;unknown functi…</td><td>&quot;test&quot;</td></tr><tr><td>&quot;IMGVR_UViG_GVM…</td><td>7182219</td><td>&quot;IMGVR_UViG_GVM…</td><td>151254</td><td>null</td><td>&quot;unknown functi…</td><td>&quot;unknown&quot;</td><td>null</td><td>&quot;NA&quot;</td><td>&quot;unknown functi…</td><td>&quot;test&quot;</td></tr></tbody></table></div>"
      ],
      "text/plain": [
       "shape: (7_182_220, 11)\n",
       "┌────────────┬─────────┬────────────┬───────────┬───┬────────────┬───────────┬───────────┬─────────┐\n",
       "│ ptn        ┆ ptn_id  ┆ genome     ┆ genome_id ┆ … ┆ phrog_bits ┆ phrog_ann ┆ phrog_cat ┆ dataset │\n",
       "│ ---        ┆ ---     ┆ ---        ┆ ---       ┆   ┆ core       ┆ ot        ┆ egory     ┆ ---     │\n",
       "│ str        ┆ i64     ┆ str        ┆ i64       ┆   ┆ ---        ┆ ---       ┆ ---       ┆ str     │\n",
       "│            ┆         ┆            ┆           ┆   ┆ i64        ┆ str       ┆ str       ┆         │\n",
       "╞════════════╪═════════╪════════════╪═══════════╪═══╪════════════╪═══════════╪═══════════╪═════════╡\n",
       "│ IMGVR_UViG ┆ 0       ┆ IMGVR_UViG ┆ 0         ┆ … ┆ null       ┆ NA        ┆ unknown   ┆ test    │\n",
       "│ _256151119 ┆         ┆ _256151119 ┆           ┆   ┆            ┆           ┆ function  ┆         │\n",
       "│ 5_000001|2 ┆         ┆ 5_000001   ┆           ┆   ┆            ┆           ┆           ┆         │\n",
       "│ 56…        ┆         ┆            ┆           ┆   ┆            ┆           ┆           ┆         │\n",
       "│ IMGVR_UViG ┆ 1       ┆ IMGVR_UViG ┆ 0         ┆ … ┆ null       ┆ NA        ┆ unknown   ┆ test    │\n",
       "│ _256151119 ┆         ┆ _256151119 ┆           ┆   ┆            ┆           ┆ function  ┆         │\n",
       "│ 5_000001|2 ┆         ┆ 5_000001   ┆           ┆   ┆            ┆           ┆           ┆         │\n",
       "│ 56…        ┆         ┆            ┆           ┆   ┆            ┆           ┆           ┆         │\n",
       "│ IMGVR_UViG ┆ 2       ┆ IMGVR_UViG ┆ 0         ┆ … ┆ null       ┆ NA        ┆ unknown   ┆ test    │\n",
       "│ _256151119 ┆         ┆ _256151119 ┆           ┆   ┆            ┆           ┆ function  ┆         │\n",
       "│ 5_000001|2 ┆         ┆ 5_000001   ┆           ┆   ┆            ┆           ┆           ┆         │\n",
       "│ 56…        ┆         ┆            ┆           ┆   ┆            ┆           ┆           ┆         │\n",
       "│ IMGVR_UViG ┆ 3       ┆ IMGVR_UViG ┆ 0         ┆ … ┆ null       ┆ NA        ┆ unknown   ┆ test    │\n",
       "│ _256151119 ┆         ┆ _256151119 ┆           ┆   ┆            ┆           ┆ function  ┆         │\n",
       "│ 5_000001|2 ┆         ┆ 5_000001   ┆           ┆   ┆            ┆           ┆           ┆         │\n",
       "│ 56…        ┆         ┆            ┆           ┆   ┆            ┆           ┆           ┆         │\n",
       "│ IMGVR_UViG ┆ 4       ┆ IMGVR_UViG ┆ 0         ┆ … ┆ null       ┆ NA        ┆ unknown   ┆ test    │\n",
       "│ _256151119 ┆         ┆ _256151119 ┆           ┆   ┆            ┆           ┆ function  ┆         │\n",
       "│ 5_000001|2 ┆         ┆ 5_000001   ┆           ┆   ┆            ┆           ┆           ┆         │\n",
       "│ 56…        ┆         ┆            ┆           ┆   ┆            ┆           ┆           ┆         │\n",
       "│ …          ┆ …       ┆ …          ┆ …         ┆ … ┆ …          ┆ …         ┆ …         ┆ …       │\n",
       "│ IMGVR_UViG ┆ 7182215 ┆ IMGVR_UViG ┆ 151254    ┆ … ┆ null       ┆ NA        ┆ unknown   ┆ test    │\n",
       "│ _GVMAG-S-E ┆         ┆ _GVMAG-S-E ┆           ┆   ┆            ┆           ┆ function  ┆         │\n",
       "│ RX556133-3 ┆         ┆ RX556133-3 ┆           ┆   ┆            ┆           ┆           ┆         │\n",
       "│ 9_…        ┆         ┆ 9_…        ┆           ┆   ┆            ┆           ┆           ┆         │\n",
       "│ IMGVR_UViG ┆ 7182216 ┆ IMGVR_UViG ┆ 151254    ┆ … ┆ null       ┆ NA        ┆ unknown   ┆ test    │\n",
       "│ _GVMAG-S-E ┆         ┆ _GVMAG-S-E ┆           ┆   ┆            ┆           ┆ function  ┆         │\n",
       "│ RX556133-3 ┆         ┆ RX556133-3 ┆           ┆   ┆            ┆           ┆           ┆         │\n",
       "│ 9_…        ┆         ┆ 9_…        ┆           ┆   ┆            ┆           ┆           ┆         │\n",
       "│ IMGVR_UViG ┆ 7182217 ┆ IMGVR_UViG ┆ 151254    ┆ … ┆ null       ┆ NA        ┆ unknown   ┆ test    │\n",
       "│ _GVMAG-S-E ┆         ┆ _GVMAG-S-E ┆           ┆   ┆            ┆           ┆ function  ┆         │\n",
       "│ RX556133-3 ┆         ┆ RX556133-3 ┆           ┆   ┆            ┆           ┆           ┆         │\n",
       "│ 9_…        ┆         ┆ 9_…        ┆           ┆   ┆            ┆           ┆           ┆         │\n",
       "│ IMGVR_UViG ┆ 7182218 ┆ IMGVR_UViG ┆ 151254    ┆ … ┆ null       ┆ NA        ┆ unknown   ┆ test    │\n",
       "│ _GVMAG-S-E ┆         ┆ _GVMAG-S-E ┆           ┆   ┆            ┆           ┆ function  ┆         │\n",
       "│ RX556133-3 ┆         ┆ RX556133-3 ┆           ┆   ┆            ┆           ┆           ┆         │\n",
       "│ 9_…        ┆         ┆ 9_…        ┆           ┆   ┆            ┆           ┆           ┆         │\n",
       "│ IMGVR_UViG ┆ 7182219 ┆ IMGVR_UViG ┆ 151254    ┆ … ┆ null       ┆ NA        ┆ unknown   ┆ test    │\n",
       "│ _GVMAG-S-E ┆         ┆ _GVMAG-S-E ┆           ┆   ┆            ┆           ┆ function  ┆         │\n",
       "│ RX556133-3 ┆         ┆ RX556133-3 ┆           ┆   ┆            ┆           ┆           ┆         │\n",
       "│ 9_…        ┆         ┆ 9_…        ┆           ┆   ┆            ┆           ┆           ┆         │\n",
       "└────────────┴─────────┴────────────┴───────────┴───┴────────────┴───────────┴───────────┴─────────┘"
      ]
     },
     "execution_count": 6,
     "metadata": {},
     "output_type": "execute_result"
    }
   ],
   "source": [
    "ptn_info = (\n",
    "    pl.read_csv(\"supplementary_tables/supplementary_table_2.tsv\", separator=\"\\t\")\n",
    "    .filter(pl.col(\"dataset\") == \"test\")\n",
    ")\n",
    "\n",
    "ptn_info"
   ]
  },
  {
   "cell_type": "code",
   "execution_count": 7,
   "metadata": {},
   "outputs": [],
   "source": [
    "database = \"PHROG\"\n",
    "\n",
    "annot_counts = get_annotation_counts(\n",
    "    ptn_info, \n",
    "    protein_cluster_labels, \n",
    "    genome_cluster_labels, \n",
    "    database\n",
    ")\n",
    "\n",
    "graph = construct_cooccurrence_graph(annot_counts, background, database)"
   ]
  },
  {
   "cell_type": "markdown",
   "metadata": {},
   "source": [
    "In Figure 4B and Extended Data Figure 7 of the PST manuscript, the connected components are only those that clustered together:"
   ]
  },
  {
   "cell_type": "code",
   "execution_count": 8,
   "metadata": {},
   "outputs": [
    {
     "name": "stdout",
     "output_type": "stream",
     "text": [
      "tail                 : 0\n",
      "connector            : 0\n",
      "lysis                : 0\n",
      "lysogeny             : 1\n",
      "host takeover        : 1\n",
      "gene expression      : 1\n",
      "head and packaging   : 0\n",
      "lysogenic conversion : 1\n",
      "nucleotide metabolism: 1\n",
      "metabolic gene       : 2\n",
      "other                : 2\n"
     ]
    }
   ],
   "source": [
    "nodes, function_clusters = cluster_graph(graph)\n",
    "\n",
    "longest_name = max(len(node) for node in nodes)\n",
    "for node, cluster in zip(nodes, function_clusters):\n",
    "    print(f\"{node:<{longest_name}}: {cluster}\")"
   ]
  }
 ],
 "metadata": {
  "kernelspec": {
   "display_name": "datasci",
   "language": "python",
   "name": "python3"
  },
  "language_info": {
   "codemirror_mode": {
    "name": "ipython",
    "version": 3
   },
   "file_extension": ".py",
   "mimetype": "text/x-python",
   "name": "python",
   "nbconvert_exporter": "python",
   "pygments_lexer": "ipython3",
   "version": "3.11.3"
  }
 },
 "nbformat": 4,
 "nbformat_minor": 2
}
