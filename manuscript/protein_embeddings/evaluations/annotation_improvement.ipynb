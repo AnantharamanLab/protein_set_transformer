{
 "cells": [
  {
   "cell_type": "code",
   "execution_count": 1,
   "metadata": {},
   "outputs": [],
   "source": [
    "import os\n",
    "from pathlib import Path\n",
    "\n",
    "import numpy as np\n",
    "import tables as tb\n",
    "from faiss import (\n",
    "    METRIC_INNER_PRODUCT,\n",
    "    IndexFlatIP,\n",
    "    IndexFlatL2,\n",
    "    IndexIVFFlat,\n",
    "    omp_set_num_threads,\n",
    ")\n",
    "from numpy.typing import NDArray\n",
    "\n",
    "THREADS = 128\n",
    "os.environ[\"POLARS_MAX_THREADS\"] = str(THREADS)\n",
    "import polars as pl  # noqa: E402\n",
    "\n",
    "omp_set_num_threads(THREADS)\n",
    "\n",
    "FloatArray = NDArray[np.float32]\n",
    "LongArray = NDArray[np.int32]"
   ]
  },
  {
   "cell_type": "code",
   "execution_count": 2,
   "metadata": {},
   "outputs": [
    {
     "name": "stdout",
     "output_type": "stream",
     "text": [
      "Python implementation: CPython\n",
      "Python version       : 3.11.3\n",
      "IPython version      : 8.13.2\n",
      "\n",
      "numpy : 1.23.5\n",
      "tables: 3.8.0\n",
      "faiss : 1.8.0\n",
      "polars: 0.20.6\n",
      "\n"
     ]
    }
   ],
   "source": [
    "%load_ext watermark\n",
    "%watermark -vp numpy,tables,faiss,polars"
   ]
  },
  {
   "cell_type": "code",
   "execution_count": 3,
   "metadata": {},
   "outputs": [],
   "source": [
    "def build_index(\n",
    "    data: FloatArray, normalized: bool = True\n",
    ") -> IndexIVFFlat | IndexFlatIP | IndexFlatL2:\n",
    "    dim = data.shape[-1]\n",
    "\n",
    "    n_cells = max(data.shape[0] // 39, 1)\n",
    "\n",
    "    if normalized:\n",
    "        if n_cells == 1:\n",
    "            index = IndexFlatIP(dim)\n",
    "        else:\n",
    "            quantizer = IndexFlatIP(dim)\n",
    "            index = IndexIVFFlat(quantizer, dim, n_cells, METRIC_INNER_PRODUCT)\n",
    "    else:\n",
    "        if n_cells == 1:\n",
    "            index = IndexFlatL2(dim)\n",
    "        else:\n",
    "            quantizer = IndexFlatL2(dim)\n",
    "            index = IndexIVFFlat(quantizer, dim, n_cells)\n",
    "            \n",
    "    index.train(data)  # type: ignore\n",
    "    index.add(data)  # type: ignore\n",
    "    return index"
   ]
  },
  {
   "cell_type": "code",
   "execution_count": 4,
   "metadata": {},
   "outputs": [],
   "source": [
    "def read_data(file: str | Path, loc: str, normalize: bool = True) -> FloatArray:\n",
    "    with tb.open_file(file) as fp:\n",
    "        data = fp.root[loc][:]\n",
    "\n",
    "    if normalize:\n",
    "        norms = np.linalg.norm(data, axis=1, keepdims=True)\n",
    "        data /= norms\n",
    "    return data\n",
    "\n",
    "def read_itemptr(protein_embedding_file: str | Path) -> LongArray:\n",
    "    with tb.open_file(protein_embedding_file) as fp:\n",
    "        return fp.root.ptr[:]\n",
    "    \n",
    "def annotation_improvment(\n",
    "    ptn_info: pl.DataFrame, \n",
    "    ptn_embedding: FloatArray, \n",
    "    genome_clusters: LongArray, \n",
    "    genome_ptr: LongArray, \n",
    "    database: str = \"VOG\", \n",
    "    is_normalized: bool = True\n",
    ") -> pl.DataFrame:\n",
    "    labeled = (~ptn_info[f\"{database.lower()}_category\"].str.contains(\"unknown\")).to_numpy()\n",
    "\n",
    "    results = {\n",
    "        \"unlabeled\": [],\n",
    "        \"get_labeled\": [],\n",
    "        \"num_proteins\": [],\n",
    "        \"num_genomes\": [],\n",
    "    }\n",
    "\n",
    "    uniq_genome_clusters, genome_cluster_sizes = np.unique(genome_clusters, return_counts=True)\n",
    "    for genome_cluster, cluster_size in zip(uniq_genome_clusters, genome_cluster_sizes):\n",
    "        if cluster_size < 2:\n",
    "            continue\n",
    "\n",
    "        genome_idx = np.where(genome_clusters == genome_cluster)[0]\n",
    "        starts = genome_ptr[genome_idx]\n",
    "        ends = genome_ptr[genome_idx + 1]\n",
    "\n",
    "        ptn_ids = np.concatenate(\n",
    "            [np.arange(start, end) for start, end in zip(starts, ends)]\n",
    "        )\n",
    "\n",
    "        local_unlabeled_idx = ~labeled[ptn_ids]\n",
    "        total_unlabeled = local_unlabeled_idx.sum()\n",
    "\n",
    "        # just skip if there are no unlabeled proteins in this genome cluster\n",
    "        if total_unlabeled == 0:\n",
    "            continue\n",
    "\n",
    "        local_ptn_embedding = np.concatenate(\n",
    "            [ptn_embedding[start:ends] for start, ends in zip(starts, ends)]\n",
    "        )\n",
    "\n",
    "        index = build_index(local_ptn_embedding, normalized=is_normalized)\n",
    "\n",
    "        # get the nearest neighbors\n",
    "        # in faiss, the first nearest neighbor is the query itself\n",
    "        _, nn_idx = index.search(local_ptn_embedding[local_unlabeled_idx], k=2)\n",
    "\n",
    "        how_many_get_labeled = (\n",
    "            ~local_unlabeled_idx[nn_idx[:, 1]]\n",
    "        ).sum()\n",
    "\n",
    "        results[\"unlabeled\"].append(total_unlabeled)\n",
    "        results[\"get_labeled\"].append(how_many_get_labeled)\n",
    "        results[\"num_proteins\"].append(len(ptn_ids))\n",
    "        results[\"num_genomes\"].append(cluster_size)\n",
    "    return pl.DataFrame(results)"
   ]
  },
  {
   "cell_type": "code",
   "execution_count": 5,
   "metadata": {},
   "outputs": [
    {
     "data": {
      "text/html": [
       "<div><style>\n",
       ".dataframe > thead > tr,\n",
       ".dataframe > tbody > tr {\n",
       "  text-align: right;\n",
       "  white-space: pre-wrap;\n",
       "}\n",
       "</style>\n",
       "<small>shape: (7_182_220, 9)</small><table border=\"1\" class=\"dataframe\"><thead><tr><th>ptn</th><th>ptn_id</th><th>genome</th><th>genome_id</th><th>vog_annot</th><th>vog_category</th><th>phrog_annot</th><th>phrog_category</th><th>dataset</th></tr><tr><td>str</td><td>i64</td><td>str</td><td>i64</td><td>str</td><td>str</td><td>str</td><td>str</td><td>str</td></tr></thead><tbody><tr><td>&quot;IMGVR_UViG_256…</td><td>0</td><td>&quot;IMGVR_UViG_256…</td><td>0</td><td>&quot;unknown functi…</td><td>&quot;unknown&quot;</td><td>&quot;NA&quot;</td><td>&quot;unknown functi…</td><td>&quot;test&quot;</td></tr><tr><td>&quot;IMGVR_UViG_256…</td><td>1</td><td>&quot;IMGVR_UViG_256…</td><td>0</td><td>&quot;unknown functi…</td><td>&quot;unknown&quot;</td><td>&quot;NA&quot;</td><td>&quot;unknown functi…</td><td>&quot;test&quot;</td></tr><tr><td>&quot;IMGVR_UViG_256…</td><td>2</td><td>&quot;IMGVR_UViG_256…</td><td>0</td><td>&quot;unknown functi…</td><td>&quot;unknown&quot;</td><td>&quot;NA&quot;</td><td>&quot;unknown functi…</td><td>&quot;test&quot;</td></tr><tr><td>&quot;IMGVR_UViG_256…</td><td>3</td><td>&quot;IMGVR_UViG_256…</td><td>0</td><td>&quot;unknown functi…</td><td>&quot;unknown&quot;</td><td>&quot;NA&quot;</td><td>&quot;unknown functi…</td><td>&quot;test&quot;</td></tr><tr><td>&quot;IMGVR_UViG_256…</td><td>4</td><td>&quot;IMGVR_UViG_256…</td><td>0</td><td>&quot;unknown functi…</td><td>&quot;unknown&quot;</td><td>&quot;NA&quot;</td><td>&quot;unknown functi…</td><td>&quot;test&quot;</td></tr><tr><td>&quot;IMGVR_UViG_256…</td><td>5</td><td>&quot;IMGVR_UViG_256…</td><td>0</td><td>&quot;unknown functi…</td><td>&quot;unknown&quot;</td><td>&quot;NA&quot;</td><td>&quot;unknown functi…</td><td>&quot;test&quot;</td></tr><tr><td>&quot;IMGVR_UViG_256…</td><td>6</td><td>&quot;IMGVR_UViG_256…</td><td>0</td><td>&quot;unknown functi…</td><td>&quot;unknown&quot;</td><td>&quot;NA&quot;</td><td>&quot;unknown functi…</td><td>&quot;test&quot;</td></tr><tr><td>&quot;IMGVR_UViG_256…</td><td>7</td><td>&quot;IMGVR_UViG_256…</td><td>0</td><td>&quot;unknown functi…</td><td>&quot;unknown&quot;</td><td>&quot;NA&quot;</td><td>&quot;unknown functi…</td><td>&quot;test&quot;</td></tr><tr><td>&quot;IMGVR_UViG_256…</td><td>8</td><td>&quot;IMGVR_UViG_256…</td><td>0</td><td>&quot;unknown functi…</td><td>&quot;unknown&quot;</td><td>&quot;NA&quot;</td><td>&quot;unknown functi…</td><td>&quot;test&quot;</td></tr><tr><td>&quot;IMGVR_UViG_256…</td><td>9</td><td>&quot;IMGVR_UViG_256…</td><td>0</td><td>&quot;unknown functi…</td><td>&quot;unknown&quot;</td><td>&quot;NA&quot;</td><td>&quot;unknown functi…</td><td>&quot;test&quot;</td></tr><tr><td>&quot;IMGVR_UViG_256…</td><td>10</td><td>&quot;IMGVR_UViG_256…</td><td>0</td><td>&quot;unknown functi…</td><td>&quot;unknown&quot;</td><td>&quot;NA&quot;</td><td>&quot;unknown functi…</td><td>&quot;test&quot;</td></tr><tr><td>&quot;IMGVR_UViG_256…</td><td>11</td><td>&quot;IMGVR_UViG_256…</td><td>0</td><td>&quot;unknown functi…</td><td>&quot;unknown&quot;</td><td>&quot;NA&quot;</td><td>&quot;unknown functi…</td><td>&quot;test&quot;</td></tr><tr><td>&hellip;</td><td>&hellip;</td><td>&hellip;</td><td>&hellip;</td><td>&hellip;</td><td>&hellip;</td><td>&hellip;</td><td>&hellip;</td><td>&hellip;</td></tr><tr><td>&quot;IMGVR_UViG_GVM…</td><td>7182208</td><td>&quot;IMGVR_UViG_GVM…</td><td>151254</td><td>&quot;unknown functi…</td><td>&quot;unknown&quot;</td><td>&quot;NA&quot;</td><td>&quot;unknown functi…</td><td>&quot;test&quot;</td></tr><tr><td>&quot;IMGVR_UViG_GVM…</td><td>7182209</td><td>&quot;IMGVR_UViG_GVM…</td><td>151254</td><td>&quot;sp|Q7Y1W9|SAP9…</td><td>&quot;other&quot;</td><td>&quot;NA&quot;</td><td>&quot;unknown functi…</td><td>&quot;test&quot;</td></tr><tr><td>&quot;IMGVR_UViG_GVM…</td><td>7182210</td><td>&quot;IMGVR_UViG_GVM…</td><td>151254</td><td>&quot;sp|A0A7H0DND1|…</td><td>&quot;packaging&quot;</td><td>&quot;NA&quot;</td><td>&quot;unknown functi…</td><td>&quot;test&quot;</td></tr><tr><td>&quot;IMGVR_UViG_GVM…</td><td>7182211</td><td>&quot;IMGVR_UViG_GVM…</td><td>151254</td><td>&quot;REFSEQ hypothe…</td><td>&quot;unknown&quot;</td><td>&quot;NA&quot;</td><td>&quot;unknown functi…</td><td>&quot;test&quot;</td></tr><tr><td>&quot;IMGVR_UViG_GVM…</td><td>7182212</td><td>&quot;IMGVR_UViG_GVM…</td><td>151254</td><td>&quot;REFSEQ hypothe…</td><td>&quot;unknown&quot;</td><td>&quot;NA&quot;</td><td>&quot;unknown functi…</td><td>&quot;test&quot;</td></tr><tr><td>&quot;IMGVR_UViG_GVM…</td><td>7182213</td><td>&quot;IMGVR_UViG_GVM…</td><td>151254</td><td>&quot;REFSEQ hypothe…</td><td>&quot;unknown&quot;</td><td>&quot;NA&quot;</td><td>&quot;unknown functi…</td><td>&quot;test&quot;</td></tr><tr><td>&quot;IMGVR_UViG_GVM…</td><td>7182214</td><td>&quot;IMGVR_UViG_GVM…</td><td>151254</td><td>&quot;sp|P04526|LOAD…</td><td>&quot;other&quot;</td><td>&quot;NA&quot;</td><td>&quot;unknown functi…</td><td>&quot;test&quot;</td></tr><tr><td>&quot;IMGVR_UViG_GVM…</td><td>7182215</td><td>&quot;IMGVR_UViG_GVM…</td><td>151254</td><td>&quot;unknown functi…</td><td>&quot;unknown&quot;</td><td>&quot;NA&quot;</td><td>&quot;unknown functi…</td><td>&quot;test&quot;</td></tr><tr><td>&quot;IMGVR_UViG_GVM…</td><td>7182216</td><td>&quot;IMGVR_UViG_GVM…</td><td>151254</td><td>&quot;REFSEQ UDP-3-O…</td><td>&quot;other&quot;</td><td>&quot;NA&quot;</td><td>&quot;unknown functi…</td><td>&quot;test&quot;</td></tr><tr><td>&quot;IMGVR_UViG_GVM…</td><td>7182217</td><td>&quot;IMGVR_UViG_GVM…</td><td>151254</td><td>&quot;unknown functi…</td><td>&quot;unknown&quot;</td><td>&quot;NA&quot;</td><td>&quot;unknown functi…</td><td>&quot;test&quot;</td></tr><tr><td>&quot;IMGVR_UViG_GVM…</td><td>7182218</td><td>&quot;IMGVR_UViG_GVM…</td><td>151254</td><td>&quot;unknown functi…</td><td>&quot;unknown&quot;</td><td>&quot;NA&quot;</td><td>&quot;unknown functi…</td><td>&quot;test&quot;</td></tr><tr><td>&quot;IMGVR_UViG_GVM…</td><td>7182219</td><td>&quot;IMGVR_UViG_GVM…</td><td>151254</td><td>&quot;unknown functi…</td><td>&quot;unknown&quot;</td><td>&quot;NA&quot;</td><td>&quot;unknown functi…</td><td>&quot;test&quot;</td></tr></tbody></table></div>"
      ],
      "text/plain": [
       "shape: (7_182_220, 9)\n",
       "┌────────────┬─────────┬────────────┬───────────┬───┬────────────┬───────────┬───────────┬─────────┐\n",
       "│ ptn        ┆ ptn_id  ┆ genome     ┆ genome_id ┆ … ┆ vog_catego ┆ phrog_ann ┆ phrog_cat ┆ dataset │\n",
       "│ ---        ┆ ---     ┆ ---        ┆ ---       ┆   ┆ ry         ┆ ot        ┆ egory     ┆ ---     │\n",
       "│ str        ┆ i64     ┆ str        ┆ i64       ┆   ┆ ---        ┆ ---       ┆ ---       ┆ str     │\n",
       "│            ┆         ┆            ┆           ┆   ┆ str        ┆ str       ┆ str       ┆         │\n",
       "╞════════════╪═════════╪════════════╪═══════════╪═══╪════════════╪═══════════╪═══════════╪═════════╡\n",
       "│ IMGVR_UViG ┆ 0       ┆ IMGVR_UViG ┆ 0         ┆ … ┆ unknown    ┆ NA        ┆ unknown   ┆ test    │\n",
       "│ _256151119 ┆         ┆ _256151119 ┆           ┆   ┆            ┆           ┆ function  ┆         │\n",
       "│ 5_000001|2 ┆         ┆ 5_000001   ┆           ┆   ┆            ┆           ┆           ┆         │\n",
       "│ 56…        ┆         ┆            ┆           ┆   ┆            ┆           ┆           ┆         │\n",
       "│ IMGVR_UViG ┆ 1       ┆ IMGVR_UViG ┆ 0         ┆ … ┆ unknown    ┆ NA        ┆ unknown   ┆ test    │\n",
       "│ _256151119 ┆         ┆ _256151119 ┆           ┆   ┆            ┆           ┆ function  ┆         │\n",
       "│ 5_000001|2 ┆         ┆ 5_000001   ┆           ┆   ┆            ┆           ┆           ┆         │\n",
       "│ 56…        ┆         ┆            ┆           ┆   ┆            ┆           ┆           ┆         │\n",
       "│ IMGVR_UViG ┆ 2       ┆ IMGVR_UViG ┆ 0         ┆ … ┆ unknown    ┆ NA        ┆ unknown   ┆ test    │\n",
       "│ _256151119 ┆         ┆ _256151119 ┆           ┆   ┆            ┆           ┆ function  ┆         │\n",
       "│ 5_000001|2 ┆         ┆ 5_000001   ┆           ┆   ┆            ┆           ┆           ┆         │\n",
       "│ 56…        ┆         ┆            ┆           ┆   ┆            ┆           ┆           ┆         │\n",
       "│ IMGVR_UViG ┆ 3       ┆ IMGVR_UViG ┆ 0         ┆ … ┆ unknown    ┆ NA        ┆ unknown   ┆ test    │\n",
       "│ _256151119 ┆         ┆ _256151119 ┆           ┆   ┆            ┆           ┆ function  ┆         │\n",
       "│ 5_000001|2 ┆         ┆ 5_000001   ┆           ┆   ┆            ┆           ┆           ┆         │\n",
       "│ 56…        ┆         ┆            ┆           ┆   ┆            ┆           ┆           ┆         │\n",
       "│ IMGVR_UViG ┆ 4       ┆ IMGVR_UViG ┆ 0         ┆ … ┆ unknown    ┆ NA        ┆ unknown   ┆ test    │\n",
       "│ _256151119 ┆         ┆ _256151119 ┆           ┆   ┆            ┆           ┆ function  ┆         │\n",
       "│ 5_000001|2 ┆         ┆ 5_000001   ┆           ┆   ┆            ┆           ┆           ┆         │\n",
       "│ 56…        ┆         ┆            ┆           ┆   ┆            ┆           ┆           ┆         │\n",
       "│ …          ┆ …       ┆ …          ┆ …         ┆ … ┆ …          ┆ …         ┆ …         ┆ …       │\n",
       "│ IMGVR_UViG ┆ 7182215 ┆ IMGVR_UViG ┆ 151254    ┆ … ┆ unknown    ┆ NA        ┆ unknown   ┆ test    │\n",
       "│ _GVMAG-S-E ┆         ┆ _GVMAG-S-E ┆           ┆   ┆            ┆           ┆ function  ┆         │\n",
       "│ RX556133-3 ┆         ┆ RX556133-3 ┆           ┆   ┆            ┆           ┆           ┆         │\n",
       "│ 9_…        ┆         ┆ 9_…        ┆           ┆   ┆            ┆           ┆           ┆         │\n",
       "│ IMGVR_UViG ┆ 7182216 ┆ IMGVR_UViG ┆ 151254    ┆ … ┆ other      ┆ NA        ┆ unknown   ┆ test    │\n",
       "│ _GVMAG-S-E ┆         ┆ _GVMAG-S-E ┆           ┆   ┆            ┆           ┆ function  ┆         │\n",
       "│ RX556133-3 ┆         ┆ RX556133-3 ┆           ┆   ┆            ┆           ┆           ┆         │\n",
       "│ 9_…        ┆         ┆ 9_…        ┆           ┆   ┆            ┆           ┆           ┆         │\n",
       "│ IMGVR_UViG ┆ 7182217 ┆ IMGVR_UViG ┆ 151254    ┆ … ┆ unknown    ┆ NA        ┆ unknown   ┆ test    │\n",
       "│ _GVMAG-S-E ┆         ┆ _GVMAG-S-E ┆           ┆   ┆            ┆           ┆ function  ┆         │\n",
       "│ RX556133-3 ┆         ┆ RX556133-3 ┆           ┆   ┆            ┆           ┆           ┆         │\n",
       "│ 9_…        ┆         ┆ 9_…        ┆           ┆   ┆            ┆           ┆           ┆         │\n",
       "│ IMGVR_UViG ┆ 7182218 ┆ IMGVR_UViG ┆ 151254    ┆ … ┆ unknown    ┆ NA        ┆ unknown   ┆ test    │\n",
       "│ _GVMAG-S-E ┆         ┆ _GVMAG-S-E ┆           ┆   ┆            ┆           ┆ function  ┆         │\n",
       "│ RX556133-3 ┆         ┆ RX556133-3 ┆           ┆   ┆            ┆           ┆           ┆         │\n",
       "│ 9_…        ┆         ┆ 9_…        ┆           ┆   ┆            ┆           ┆           ┆         │\n",
       "│ IMGVR_UViG ┆ 7182219 ┆ IMGVR_UViG ┆ 151254    ┆ … ┆ unknown    ┆ NA        ┆ unknown   ┆ test    │\n",
       "│ _GVMAG-S-E ┆         ┆ _GVMAG-S-E ┆           ┆   ┆            ┆           ┆ function  ┆         │\n",
       "│ RX556133-3 ┆         ┆ RX556133-3 ┆           ┆   ┆            ┆           ┆           ┆         │\n",
       "│ 9_…        ┆         ┆ 9_…        ┆           ┆   ┆            ┆           ┆           ┆         │\n",
       "└────────────┴─────────┴────────────┴───────────┴───┴────────────┴───────────┴───────────┴─────────┘"
      ]
     },
     "execution_count": 5,
     "metadata": {},
     "output_type": "execute_result"
    }
   ],
   "source": [
    "ptn_info = (\n",
    "    pl.read_csv(\"supplementary_table_2.tsv\", separator=\"\\t\")\n",
    "    .filter(pl.col(\"dataset\") == \"test\")\n",
    ")\n",
    "ptn_info"
   ]
  },
  {
   "cell_type": "code",
   "execution_count": 6,
   "metadata": {},
   "outputs": [
    {
     "data": {
      "text/plain": [
       "(7182220, 320)"
      ]
     },
     "execution_count": 6,
     "metadata": {},
     "output_type": "execute_result"
    }
   ],
   "source": [
    "ptn_embedding = read_data(\"../IMGVRv4_test_set_esm-small.h5\", \"data\", normalize=True)\n",
    "ptn_embedding.shape"
   ]
  },
  {
   "cell_type": "code",
   "execution_count": 7,
   "metadata": {},
   "outputs": [
    {
     "data": {
      "text/plain": [
       "(151255,)"
      ]
     },
     "execution_count": 7,
     "metadata": {},
     "output_type": "execute_result"
    }
   ],
   "source": [
    "with tb.open_file(\"genome_clusters.h5\") as fp:\n",
    "    genome_clusters = fp.root.test[\"pst-large\"].data[14, :]\n",
    "\n",
    "genome_clusters.shape"
   ]
  },
  {
   "cell_type": "code",
   "execution_count": 8,
   "metadata": {},
   "outputs": [
    {
     "data": {
      "text/plain": [
       "(151256,)"
      ]
     },
     "execution_count": 8,
     "metadata": {},
     "output_type": "execute_result"
    }
   ],
   "source": [
    "genome_ptr = read_itemptr(\"../IMGVRv4_test_set_esm-small.h5\")\n",
    "genome_ptr.shape"
   ]
  },
  {
   "cell_type": "markdown",
   "metadata": {},
   "source": [
    "For the PST manuscript, we focused on VOG annotations, since the VOG HMMs had a greater number of hits. "
   ]
  },
  {
   "cell_type": "code",
   "execution_count": 9,
   "metadata": {},
   "outputs": [
    {
     "data": {
      "text/html": [
       "<div><style>\n",
       ".dataframe > thead > tr,\n",
       ".dataframe > tbody > tr {\n",
       "  text-align: right;\n",
       "  white-space: pre-wrap;\n",
       "}\n",
       "</style>\n",
       "<small>shape: (3_812, 4)</small><table border=\"1\" class=\"dataframe\"><thead><tr><th>unlabeled</th><th>get_labeled</th><th>num_proteins</th><th>num_genomes</th></tr><tr><td>i64</td><td>i64</td><td>i64</td><td>i64</td></tr></thead><tbody><tr><td>1950</td><td>408</td><td>2465</td><td>92</td></tr><tr><td>397</td><td>47</td><td>468</td><td>42</td></tr><tr><td>522</td><td>114</td><td>652</td><td>56</td></tr><tr><td>315</td><td>61</td><td>404</td><td>36</td></tr><tr><td>41</td><td>12</td><td>54</td><td>5</td></tr><tr><td>270</td><td>49</td><td>339</td><td>26</td></tr><tr><td>148</td><td>37</td><td>195</td><td>12</td></tr><tr><td>1086</td><td>202</td><td>1359</td><td>58</td></tr><tr><td>754</td><td>183</td><td>991</td><td>64</td></tr><tr><td>335</td><td>76</td><td>425</td><td>29</td></tr><tr><td>141</td><td>31</td><td>200</td><td>30</td></tr><tr><td>360</td><td>79</td><td>488</td><td>65</td></tr><tr><td>&hellip;</td><td>&hellip;</td><td>&hellip;</td><td>&hellip;</td></tr><tr><td>92</td><td>22</td><td>130</td><td>2</td></tr><tr><td>140</td><td>22</td><td>174</td><td>3</td></tr><tr><td>64</td><td>25</td><td>109</td><td>2</td></tr><tr><td>197</td><td>70</td><td>322</td><td>5</td></tr><tr><td>67</td><td>37</td><td>155</td><td>3</td></tr><tr><td>91</td><td>24</td><td>148</td><td>3</td></tr><tr><td>59</td><td>26</td><td>98</td><td>2</td></tr><tr><td>82</td><td>26</td><td>130</td><td>3</td></tr><tr><td>32</td><td>8</td><td>41</td><td>2</td></tr><tr><td>55</td><td>26</td><td>110</td><td>2</td></tr><tr><td>92</td><td>25</td><td>130</td><td>3</td></tr><tr><td>77</td><td>25</td><td>104</td><td>2</td></tr></tbody></table></div>"
      ],
      "text/plain": [
       "shape: (3_812, 4)\n",
       "┌───────────┬─────────────┬──────────────┬─────────────┐\n",
       "│ unlabeled ┆ get_labeled ┆ num_proteins ┆ num_genomes │\n",
       "│ ---       ┆ ---         ┆ ---          ┆ ---         │\n",
       "│ i64       ┆ i64         ┆ i64          ┆ i64         │\n",
       "╞═══════════╪═════════════╪══════════════╪═════════════╡\n",
       "│ 1950      ┆ 408         ┆ 2465         ┆ 92          │\n",
       "│ 397       ┆ 47          ┆ 468          ┆ 42          │\n",
       "│ 522       ┆ 114         ┆ 652          ┆ 56          │\n",
       "│ 315       ┆ 61          ┆ 404          ┆ 36          │\n",
       "│ 41        ┆ 12          ┆ 54           ┆ 5           │\n",
       "│ …         ┆ …           ┆ …            ┆ …           │\n",
       "│ 82        ┆ 26          ┆ 130          ┆ 3           │\n",
       "│ 32        ┆ 8           ┆ 41           ┆ 2           │\n",
       "│ 55        ┆ 26          ┆ 110          ┆ 2           │\n",
       "│ 92        ┆ 25          ┆ 130          ┆ 3           │\n",
       "│ 77        ┆ 25          ┆ 104          ┆ 2           │\n",
       "└───────────┴─────────────┴──────────────┴─────────────┘"
      ]
     },
     "execution_count": 9,
     "metadata": {},
     "output_type": "execute_result"
    }
   ],
   "source": [
    "annot_improvement_results = annotation_improvment(\n",
    "    ptn_info, ptn_embedding, genome_clusters, genome_ptr, database=\"VOG\", is_normalized=True\n",
    ")\n",
    "\n",
    "annot_improvement_results"
   ]
  },
  {
   "cell_type": "markdown",
   "metadata": {},
   "source": [
    "We can summarize these results by totaling the percentages of unlabeled proteins before and after this annotation transfer. In the manuscript, we used `get_labeled_prop` for Figure 4A since the total number of proteins was constant for that analysis."
   ]
  },
  {
   "cell_type": "code",
   "execution_count": 10,
   "metadata": {},
   "outputs": [],
   "source": [
    "def summarize_annotation_improvement(results: pl.DataFrame) -> pl.DataFrame:\n",
    "    summary = (\n",
    "        results\n",
    "        .with_columns(\n",
    "            group_by_var = 0,\n",
    "        )\n",
    "        .group_by(\"group_by_var\")\n",
    "        .agg(\n",
    "            pl.sum(\"unlabeled\"),\n",
    "            pl.sum(\"get_labeled\"),\n",
    "            pl.sum(\"num_proteins\"),\n",
    "        )\n",
    "        .drop(\"group_by_var\")\n",
    "        .with_columns(\n",
    "            labeled_before = pl.col(\"num_proteins\") - pl.col(\"unlabeled\"),\n",
    "            get_labeled_prop = pl.col(\"get_labeled\") / pl.col(\"unlabeled\"),\n",
    "        )\n",
    "        .with_columns(\n",
    "            labeled_after = pl.col(\"labeled_before\") + pl.col(\"get_labeled\"),\n",
    "            before_annot_prop = pl.col(\"labeled_before\") / pl.col(\"num_proteins\"),\n",
    "        )\n",
    "        .with_columns(\n",
    "            after_annot_prop = pl.col(\"labeled_after\") / pl.col(\"num_proteins\"),\n",
    "        )\n",
    "    )\n",
    "\n",
    "    return summary"
   ]
  },
  {
   "cell_type": "code",
   "execution_count": 11,
   "metadata": {},
   "outputs": [
    {
     "data": {
      "text/html": [
       "<div><style>\n",
       ".dataframe > thead > tr,\n",
       ".dataframe > tbody > tr {\n",
       "  text-align: right;\n",
       "  white-space: pre-wrap;\n",
       "}\n",
       "</style>\n",
       "<small>shape: (1, 8)</small><table border=\"1\" class=\"dataframe\"><thead><tr><th>unlabeled</th><th>get_labeled</th><th>num_proteins</th><th>labeled_before</th><th>get_labeled_prop</th><th>labeled_after</th><th>before_annot_prop</th><th>after_annot_prop</th></tr><tr><td>i64</td><td>i64</td><td>i64</td><td>i64</td><td>f64</td><td>i64</td><td>f64</td><td>f64</td></tr></thead><tbody><tr><td>5257627</td><td>1338980</td><td>7177634</td><td>1920007</td><td>0.254674</td><td>3258987</td><td>0.267499</td><td>0.454048</td></tr></tbody></table></div>"
      ],
      "text/plain": [
       "shape: (1, 8)\n",
       "┌───────────┬────────────┬────────────┬────────────┬───────────┬───────────┬───────────┬───────────┐\n",
       "│ unlabeled ┆ get_labele ┆ num_protei ┆ labeled_be ┆ get_label ┆ labeled_a ┆ before_an ┆ after_ann │\n",
       "│ ---       ┆ d          ┆ ns         ┆ fore       ┆ ed_prop   ┆ fter      ┆ not_prop  ┆ ot_prop   │\n",
       "│ i64       ┆ ---        ┆ ---        ┆ ---        ┆ ---       ┆ ---       ┆ ---       ┆ ---       │\n",
       "│           ┆ i64        ┆ i64        ┆ i64        ┆ f64       ┆ i64       ┆ f64       ┆ f64       │\n",
       "╞═══════════╪════════════╪════════════╪════════════╪═══════════╪═══════════╪═══════════╪═══════════╡\n",
       "│ 5257627   ┆ 1338980    ┆ 7177634    ┆ 1920007    ┆ 0.254674  ┆ 3258987   ┆ 0.267499  ┆ 0.454048  │\n",
       "└───────────┴────────────┴────────────┴────────────┴───────────┴───────────┴───────────┴───────────┘"
      ]
     },
     "execution_count": 11,
     "metadata": {},
     "output_type": "execute_result"
    }
   ],
   "source": [
    "summarize_annotation_improvement(annot_improvement_results)"
   ]
  },
  {
   "cell_type": "markdown",
   "metadata": {},
   "source": [
    "## Annotation *rate* improvement\n",
    "\n",
    "In the manuscript, we also computed the sensitivity of genome clustering parameters (k-nearest neighbors and Leiden resolution). We computed the sensitivity as the slope of `get_labeled_prop` over k (nearest neighbors). The interpretation is the rate of annotation proporation improvement as the number of genome neighbors increases. Positive sensitivity values indicate that the genome clustering leads to increased ability to annotate proteins."
   ]
  },
  {
   "cell_type": "code",
   "execution_count": 12,
   "metadata": {},
   "outputs": [
    {
     "name": "stdout",
     "output_type": "stream",
     "text": [
      "genome_k=2 | genome_res=0.1\n",
      "genome_k=5 | genome_res=0.1\n",
      "genome_k=10 | genome_res=0.1\n",
      "genome_k=15 | genome_res=0.1\n",
      "genome_k=25 | genome_res=0.1\n",
      "genome_k=50 | genome_res=0.1\n"
     ]
    },
    {
     "data": {
      "text/html": [
       "<div><style>\n",
       ".dataframe > thead > tr,\n",
       ".dataframe > tbody > tr {\n",
       "  text-align: right;\n",
       "  white-space: pre-wrap;\n",
       "}\n",
       "</style>\n",
       "<small>shape: (6, 10)</small><table border=\"1\" class=\"dataframe\"><thead><tr><th>unlabeled</th><th>get_labeled</th><th>num_proteins</th><th>labeled_before</th><th>get_labeled_prop</th><th>labeled_after</th><th>before_annot_prop</th><th>after_annot_prop</th><th>genome_k</th><th>genome_resolution</th></tr><tr><td>i64</td><td>i64</td><td>i64</td><td>i64</td><td>f64</td><td>i64</td><td>f64</td><td>f64</td><td>i32</td><td>f64</td></tr></thead><tbody><tr><td>5245950</td><td>1316859</td><td>7161047</td><td>1915097</td><td>0.251024</td><td>3231956</td><td>0.267433</td><td>0.451325</td><td>2</td><td>0.1</td></tr><tr><td>5245215</td><td>1330331</td><td>7160619</td><td>1915404</td><td>0.253628</td><td>3245735</td><td>0.267491</td><td>0.453276</td><td>5</td><td>0.1</td></tr><tr><td>5256830</td><td>1338694</td><td>7176514</td><td>1919684</td><td>0.254658</td><td>3258378</td><td>0.267495</td><td>0.454034</td><td>10</td><td>0.1</td></tr><tr><td>5257627</td><td>1338980</td><td>7177634</td><td>1920007</td><td>0.254674</td><td>3258987</td><td>0.267499</td><td>0.454048</td><td>15</td><td>0.1</td></tr><tr><td>5257627</td><td>1338991</td><td>7177634</td><td>1920007</td><td>0.254676</td><td>3258998</td><td>0.267499</td><td>0.454049</td><td>25</td><td>0.1</td></tr><tr><td>5257627</td><td>1338996</td><td>7177634</td><td>1920007</td><td>0.254677</td><td>3259003</td><td>0.267499</td><td>0.45405</td><td>50</td><td>0.1</td></tr></tbody></table></div>"
      ],
      "text/plain": [
       "shape: (6, 10)\n",
       "┌───────────┬───────────┬───────────┬───────────┬───┬───────────┬───────────┬──────────┬───────────┐\n",
       "│ unlabeled ┆ get_label ┆ num_prote ┆ labeled_b ┆ … ┆ before_an ┆ after_ann ┆ genome_k ┆ genome_re │\n",
       "│ ---       ┆ ed        ┆ ins       ┆ efore     ┆   ┆ not_prop  ┆ ot_prop   ┆ ---      ┆ solution  │\n",
       "│ i64       ┆ ---       ┆ ---       ┆ ---       ┆   ┆ ---       ┆ ---       ┆ i32      ┆ ---       │\n",
       "│           ┆ i64       ┆ i64       ┆ i64       ┆   ┆ f64       ┆ f64       ┆          ┆ f64       │\n",
       "╞═══════════╪═══════════╪═══════════╪═══════════╪═══╪═══════════╪═══════════╪══════════╪═══════════╡\n",
       "│ 5245950   ┆ 1316859   ┆ 7161047   ┆ 1915097   ┆ … ┆ 0.267433  ┆ 0.451325  ┆ 2        ┆ 0.1       │\n",
       "│ 5245215   ┆ 1330331   ┆ 7160619   ┆ 1915404   ┆ … ┆ 0.267491  ┆ 0.453276  ┆ 5        ┆ 0.1       │\n",
       "│ 5256830   ┆ 1338694   ┆ 7176514   ┆ 1919684   ┆ … ┆ 0.267495  ┆ 0.454034  ┆ 10       ┆ 0.1       │\n",
       "│ 5257627   ┆ 1338980   ┆ 7177634   ┆ 1920007   ┆ … ┆ 0.267499  ┆ 0.454048  ┆ 15       ┆ 0.1       │\n",
       "│ 5257627   ┆ 1338991   ┆ 7177634   ┆ 1920007   ┆ … ┆ 0.267499  ┆ 0.454049  ┆ 25       ┆ 0.1       │\n",
       "│ 5257627   ┆ 1338996   ┆ 7177634   ┆ 1920007   ┆ … ┆ 0.267499  ┆ 0.45405   ┆ 50       ┆ 0.1       │\n",
       "└───────────┴───────────┴───────────┴───────────┴───┴───────────┴───────────┴──────────┴───────────┘"
      ]
     },
     "execution_count": 12,
     "metadata": {},
     "output_type": "execute_result"
    }
   ],
   "source": [
    "with tb.open_file(\"genome_clusters.h5\") as fp:\n",
    "    # genome_clusters = fp.root.test[\"pst-large\"].data[14, :]\n",
    "    genome_resolution = 0.1\n",
    "    clustering_metadata = fp.root.test[\"pst-large\"].metadata[:]\n",
    "    mask = np.array(\n",
    "        [genome_res == genome_resolution for genome_res in clustering_metadata[\"resolution\"]]\n",
    "    )\n",
    "\n",
    "    mask_idx = np.where(mask)[0]\n",
    "    all_genome_clusters = fp.root.test[\"pst-large\"].data[mask_idx, :]\n",
    "    clustering_metadata = clustering_metadata[mask]\n",
    "\n",
    "results: list[pl.DataFrame] = []\n",
    "for genome_clusters, (genome_k, genome_res) in zip(all_genome_clusters, clustering_metadata):\n",
    "    print(f\"{genome_k=} | {genome_res=}\")\n",
    "\n",
    "    annot_improvement_results = annotation_improvment(\n",
    "        ptn_info, ptn_embedding, genome_clusters, genome_ptr, database=\"VOG\", is_normalized=True\n",
    "    )\n",
    "\n",
    "    summary = (\n",
    "        summarize_annotation_improvement(annot_improvement_results)\n",
    "        .with_columns(\n",
    "            genome_k = genome_k,\n",
    "            genome_resolution = genome_res,\n",
    "        )\n",
    "    )\n",
    "\n",
    "    results.append(summary)\n",
    "\n",
    "sensitivity_df = pl.concat(results)\n",
    "sensitivity_df"
   ]
  },
  {
   "cell_type": "code",
   "execution_count": 13,
   "metadata": {},
   "outputs": [],
   "source": [
    "def compute_sensitivity(sensitivity_df: pl.DataFrame) -> float:\n",
    "    sensitivity_df = sensitivity_df.sort(\"genome_k\")\n",
    "\n",
    "    x = sensitivity_df[\"genome_k\"].to_numpy()\n",
    "    y = sensitivity_df[\"get_labeled_prop\"].to_numpy()\n",
    "    slope = np.polyfit(x, y, 1)[0]\n",
    "\n",
    "    return slope"
   ]
  },
  {
   "cell_type": "markdown",
   "metadata": {},
   "source": [
    "The result will, of course, only make sense in the context of other sensitivity values...."
   ]
  },
  {
   "cell_type": "code",
   "execution_count": 14,
   "metadata": {},
   "outputs": [
    {
     "data": {
      "text/plain": [
       "4.5487924091762055e-05"
      ]
     },
     "execution_count": 14,
     "metadata": {},
     "output_type": "execute_result"
    }
   ],
   "source": [
    "compute_sensitivity(sensitivity_df)"
   ]
  }
 ],
 "metadata": {
  "kernelspec": {
   "display_name": "datasci",
   "language": "python",
   "name": "python3"
  },
  "language_info": {
   "codemirror_mode": {
    "name": "ipython",
    "version": 3
   },
   "file_extension": ".py",
   "mimetype": "text/x-python",
   "name": "python",
   "nbconvert_exporter": "python",
   "pygments_lexer": "ipython3",
   "version": "3.11.3"
  }
 },
 "nbformat": 4,
 "nbformat_minor": 2
}
