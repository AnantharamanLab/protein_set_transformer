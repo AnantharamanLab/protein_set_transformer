{
 "cells": [
  {
   "cell_type": "code",
   "execution_count": 1,
   "metadata": {},
   "outputs": [],
   "source": [
    "import os\n",
    "import tables as tb\n",
    "\n",
    "os.environ[\"POLARS_MAX_THREADS\"] = \"128\"\n",
    "import polars as pl\n",
    "import polars.selectors as cs"
   ]
  },
  {
   "cell_type": "code",
   "execution_count": 2,
   "metadata": {},
   "outputs": [
    {
     "name": "stdout",
     "output_type": "stream",
     "text": [
      "Python implementation: CPython\n",
      "Python version       : 3.11.3\n",
      "IPython version      : 8.13.2\n",
      "\n",
      "polars: 0.20.6\n",
      "tables: 3.8.0\n",
      "\n"
     ]
    }
   ],
   "source": [
    "%load_ext watermark\n",
    "%watermark -vp polars,tables"
   ]
  },
  {
   "cell_type": "markdown",
   "metadata": {},
   "source": [
    "# Acquiring a candidate set of proteins for structural searches\n",
    "To search for capsid folds, we used foldseek. Instead of directly predicting a structure (which can be computationally expensive), we used the ProstT5 model implemented in foldseek that translates amino acid alphabets (proteins) to a structural alphabet. This can use pre-existing text alignment strategies (notably implemented in mmseqs2, reimplemented for foldseek) to search structural alphabet databases instead of the most computationally expensive 3D structural alignment.\n",
    "\n",
    "For our investigations, rather than focus on all proteins in our dataset (which would take a long time), we only kept proteins belonging to protein clusters that had either VOG-detectable capsids and unannotated proteins. Our implicit assumption is that these represent protein clusters that are structurally similar, which we indirectly infer by detecting if these unannotated proteins contain capsid-like structural folds."
   ]
  },
  {
   "cell_type": "code",
   "execution_count": 3,
   "metadata": {},
   "outputs": [
    {
     "data": {
      "text/html": [
       "<div><style>\n",
       ".dataframe > thead > tr,\n",
       ".dataframe > tbody > tr {\n",
       "  text-align: right;\n",
       "  white-space: pre-wrap;\n",
       "}\n",
       "</style>\n",
       "<small>shape: (5, 5)</small><table border=\"1\" class=\"dataframe\"><thead><tr><th>ptn</th><th>ptn_id</th><th>vog_bitscore</th><th>vog_annot</th><th>vog_category</th></tr><tr><td>str</td><td>i64</td><td>f64</td><td>str</td><td>str</td></tr></thead><tbody><tr><td>&quot;IMGVR_UViG_256…</td><td>0</td><td>null</td><td>&quot;unknown functi…</td><td>&quot;unknown&quot;</td></tr><tr><td>&quot;IMGVR_UViG_256…</td><td>1</td><td>null</td><td>&quot;unknown functi…</td><td>&quot;unknown&quot;</td></tr><tr><td>&quot;IMGVR_UViG_256…</td><td>2</td><td>null</td><td>&quot;unknown functi…</td><td>&quot;unknown&quot;</td></tr><tr><td>&quot;IMGVR_UViG_256…</td><td>3</td><td>null</td><td>&quot;unknown functi…</td><td>&quot;unknown&quot;</td></tr><tr><td>&quot;IMGVR_UViG_256…</td><td>4</td><td>null</td><td>&quot;unknown functi…</td><td>&quot;unknown&quot;</td></tr></tbody></table></div>"
      ],
      "text/plain": [
       "shape: (5, 5)\n",
       "┌───────────────────────────────────┬────────┬──────────────┬──────────────────┬──────────────┐\n",
       "│ ptn                               ┆ ptn_id ┆ vog_bitscore ┆ vog_annot        ┆ vog_category │\n",
       "│ ---                               ┆ ---    ┆ ---          ┆ ---              ┆ ---          │\n",
       "│ str                               ┆ i64    ┆ f64          ┆ str              ┆ str          │\n",
       "╞═══════════════════════════════════╪════════╪══════════════╪══════════════════╪══════════════╡\n",
       "│ IMGVR_UViG_2561511195_000001|256… ┆ 0      ┆ null         ┆ unknown function ┆ unknown      │\n",
       "│ IMGVR_UViG_2561511195_000001|256… ┆ 1      ┆ null         ┆ unknown function ┆ unknown      │\n",
       "│ IMGVR_UViG_2561511195_000001|256… ┆ 2      ┆ null         ┆ unknown function ┆ unknown      │\n",
       "│ IMGVR_UViG_2561511195_000001|256… ┆ 3      ┆ null         ┆ unknown function ┆ unknown      │\n",
       "│ IMGVR_UViG_2561511195_000001|256… ┆ 4      ┆ null         ┆ unknown function ┆ unknown      │\n",
       "└───────────────────────────────────┴────────┴──────────────┴──────────────────┴──────────────┘"
      ]
     },
     "execution_count": 3,
     "metadata": {},
     "output_type": "execute_result"
    }
   ],
   "source": [
    "# for simplicity we are changing the \"vog_category\"\n",
    "# for major capsid proteins to \"MCP\" instead of \"structural\"\n",
    "mcp_query = (\n",
    "    pl.col(\"vog_annot\").str.contains(\"(?i)(Major )?capsid protein\") &\n",
    "    (~pl.col(\"vog_annot\").str.contains(\"Minor\")) &\n",
    "    pl.col(\"vog_bitscore\").ge(75)\n",
    ")\n",
    "\n",
    "ptn_info = (\n",
    "    pl.scan_csv(\"supplementary_tables/supplementary_table_2.tsv\", separator=\"\\t\")\n",
    "    .filter(pl.col(\"dataset\") == \"test\")\n",
    "    .with_columns(\n",
    "        vog_category = (\n",
    "            pl.when(mcp_query)\n",
    "            .then(pl.lit(\"MCP\"))\n",
    "            .otherwise(pl.col(\"vog_category\"))\n",
    "        )\n",
    "    )\n",
    "    .drop(cs.starts_with(\"phrog\"))\n",
    "    .drop(\"genome\", \"genome_id\", \"dataset\")\n",
    "    .collect()\n",
    ")\n",
    "\n",
    "\n",
    "\n",
    "ptn_info.head()"
   ]
  },
  {
   "cell_type": "markdown",
   "metadata": {},
   "source": [
    "We select our candidates from all combinations of protein-genome clustering. We only consider genome clustering with the hyperparameters of k=15 and resolution=1.0 (high):"
   ]
  },
  {
   "cell_type": "code",
   "execution_count": 4,
   "metadata": {},
   "outputs": [
    {
     "data": {
      "text/plain": [
       "72322"
      ]
     },
     "execution_count": 4,
     "metadata": {},
     "output_type": "execute_result"
    }
   ],
   "source": [
    "candidates: list[pl.LazyFrame] = []\n",
    "ptn_clusters_file = \"datasets/protein_clusters/embedding-based_protein_clusters_per_genome_cluster.h5\"\n",
    "\n",
    "ptn_embedding_methods = [\"esm-small\", \"esm-large\", \"pst-small\", \"pst-large\", \"genslm\"]\n",
    "with tb.open_file(ptn_clusters_file) as fp:\n",
    "    for gm_node in fp.root:\n",
    "        genome_method = gm_node._v_name\n",
    "\n",
    "        for ptn_method in ptn_embedding_methods:\n",
    "            clustering_metadata = gm_node[\"metadata\"][:]\n",
    "            ptn_clusters = gm_node[ptn_method][:]\n",
    "            genome_clusters = gm_node[\"genome\"][:]\n",
    "\n",
    "            for pclu, gclu, (genome_k, genome_res, protein_k, protein_res) in zip(\n",
    "                ptn_clusters, genome_clusters, clustering_metadata\n",
    "            ):\n",
    "                if (genome_k != 15) or (genome_res != 1.0) or (protein_res == 0.85):\n",
    "                    continue\n",
    "\n",
    "                ptn_df = (\n",
    "                    ptn_info\n",
    "                    .lazy()\n",
    "                    .with_columns(\n",
    "                        genome_cluster = pl.lit(gclu),\n",
    "                        protein_cluster = pl.lit(pclu),\n",
    "                    )\n",
    "                    .with_columns(\n",
    "                        cluster_size = pl.len().over(\"genome_cluster\", \"protein_cluster\")\n",
    "                    )\n",
    "                    .filter(pl.col(\"cluster_size\") > 1)\n",
    "                    .with_columns(\n",
    "                        num_categories = pl.n_unique(\"vog_category\").over(\"genome_cluster\", \"protein_cluster\"),\n",
    "                        interested = (\n",
    "                            pl.col(\"vog_category\")\n",
    "                            .is_in([\"MCP\", \"unknown\"])\n",
    "                            .all()\n",
    "                            .over(\"genome_cluster\", \"protein_cluster\")\n",
    "                        )\n",
    "                    )\n",
    "                    .filter(\n",
    "                        (pl.col(\"num_categories\") == 2)\n",
    "                        & pl.col(\"interested\")\n",
    "                    )\n",
    "                    .select(\"ptn\")\n",
    "                )\n",
    "\n",
    "                candidates.append(ptn_df)\n",
    "\n",
    "candidate_proteins = (\n",
    "    pl.concat(pl.collect_all(candidates))\n",
    "    [\"ptn\"]\n",
    "    .value_counts()\n",
    "    .filter(pl.col(\"count\") >= 10)\n",
    ")\n",
    "\n",
    "len(candidate_proteins)"
   ]
  },
  {
   "cell_type": "markdown",
   "metadata": {},
   "source": [
    "To this set of 72,322 proteins, we considered that these proteins belong to sequence identity-based clusters, since those are the most similar proteins in the traditional sense. These additional proteins are homologs to those above. Think of these more as like positive controls."
   ]
  },
  {
   "cell_type": "code",
   "execution_count": 5,
   "metadata": {},
   "outputs": [],
   "source": [
    "mmseqs_clusters = (\n",
    "    pl.read_csv(\n",
    "        \"datasets/protein_clusters/sequence_identity_clusters.tsv\", \n",
    "        separator=\"\\t\",\n",
    "        has_header=False,\n",
    "        new_columns=[\"rep\", \"ptn\"],\n",
    "    )\n",
    "    .with_columns(\n",
    "        cluster_size = pl.col(\"ptn\").len().over(\"rep\"),\n",
    "        cluster_id = pl.col(\"rep\").rle_id(),\n",
    "    )\n",
    ")"
   ]
  },
  {
   "cell_type": "markdown",
   "metadata": {},
   "source": [
    "First we need to detect the mmseqs clusters that contain capsids:"
   ]
  },
  {
   "cell_type": "code",
   "execution_count": 6,
   "metadata": {},
   "outputs": [
    {
     "data": {
      "text/plain": [
       "46564"
      ]
     },
     "execution_count": 6,
     "metadata": {},
     "output_type": "execute_result"
    }
   ],
   "source": [
    "detectable_mcp_clusters = (\n",
    "    ptn_info\n",
    "    .filter(pl.col(\"vog_category\") == \"MCP\")\n",
    "    .select(\"ptn\")\n",
    "    .join(mmseqs_clusters, on=\"ptn\")\n",
    "    .filter(pl.col(\"cluster_size\") > 1)\n",
    "    [\"cluster_id\"]\n",
    ")\n",
    "\n",
    "len(detectable_mcp_clusters)"
   ]
  },
  {
   "cell_type": "markdown",
   "metadata": {},
   "source": [
    "Then choose all mmseqs clusters that contain both capsids and unannotated proteins:"
   ]
  },
  {
   "cell_type": "code",
   "execution_count": 7,
   "metadata": {},
   "outputs": [
    {
     "data": {
      "text/plain": [
       "40357"
      ]
     },
     "execution_count": 7,
     "metadata": {},
     "output_type": "execute_result"
    }
   ],
   "source": [
    "unknown_with_mcp_clusters = (\n",
    "    ptn_info\n",
    "    .join(mmseqs_clusters, on=\"ptn\")\n",
    "    .filter(pl.col(\"cluster_id\").is_in(detectable_mcp_clusters))\n",
    "    .group_by(\"cluster_id\")\n",
    "    .agg(\n",
    "        pl.first(\"cluster_size\"),\n",
    "        cats = pl.col(\"vog_category\").unique(),\n",
    "    )\n",
    "    # should also have at least 1 MCP due to the filter on line 4\n",
    "    .filter(pl.col(\"cats\").list.contains(\"unknown\"))\n",
    "    [\"cluster_id\"]\n",
    ")\n",
    "\n",
    "mmseqs_ptn_candidates = (\n",
    "    mmseqs_clusters\n",
    "    .filter(pl.col(\"cluster_id\").is_in(unknown_with_mcp_clusters))\n",
    "    [\"ptn\"]\n",
    ")\n",
    "\n",
    "len(mmseqs_ptn_candidates)"
   ]
  },
  {
   "cell_type": "markdown",
   "metadata": {},
   "source": [
    "Thus, the total number of candidate proteins to search for structural similarity to capsid proteins is:"
   ]
  },
  {
   "cell_type": "code",
   "execution_count": 8,
   "metadata": {},
   "outputs": [
    {
     "data": {
      "text/plain": [
       "100704"
      ]
     },
     "execution_count": 8,
     "metadata": {},
     "output_type": "execute_result"
    }
   ],
   "source": [
    "total_candidates = set(candidate_proteins[\"ptn\"]) | set(mmseqs_ptn_candidates)\n",
    "\n",
    "len(total_candidates)"
   ]
  },
  {
   "cell_type": "markdown",
   "metadata": {},
   "source": [
    "We then extracted the 100,704 candidated MCPs into a separate FASTA file and ran the following `foldseek` (v9.427df8a) commands to:\n",
    "1. Convert these protein sequences in to the 3Di-structure sequence:\n",
    "\n",
    "```bash\n",
    "# download ProstT5 model\n",
    "foldseek databases ProstT5 prostt5 tmp\n",
    "\n",
    "# translate protein amino acids to structure\n",
    "foldseek createdb FASTAFILE structDB --prostt5-model prostt5\n",
    "```\n",
    "\n",
    "2. Search against Protein Data Bank structures\n",
    "\n",
    "```bash\n",
    "# use foldseek to download structures\n",
    "foldseek databases PDB pdb tmp\n",
    "\n",
    "# then search\n",
    "foldseek search structDB pdb/pdb searchDB tmp\n",
    "```\n",
    "\n",
    "3. Then compute alignment stats\n",
    "\n",
    "```bash\n",
    "foldseek convertalis structDB pdb/pdb searchDB\n",
    "```\n",
    "\n",
    "The structural alignments from this analysis are available with the supplementary data at the path: `fig4/capsid_candidates_structural_search_against_pdb.tsv`\n",
    "\n",
    "Then, to determine which PDB structures corresponded to capsids, we queried PDB at the web server ([https://www.rcsb.org](https://www.rcsb.org)) with: `capsid, major capsid, coat, minor capsid, virion`, and selected all PDB IDs the came up. This list of capsid PDB IDs is available with supplementary data at: `fig4/capsid_pdb_ids.txt`.\n",
    "\n",
    "# Analyzing structural searches\n",
    "\n",
    "We used the above 2 files to process the structural alignment results:"
   ]
  },
  {
   "cell_type": "code",
   "execution_count": 9,
   "metadata": {},
   "outputs": [
    {
     "data": {
      "text/html": [
       "<div><style>\n",
       ".dataframe > thead > tr,\n",
       ".dataframe > tbody > tr {\n",
       "  text-align: right;\n",
       "  white-space: pre-wrap;\n",
       "}\n",
       "</style>\n",
       "<small>shape: (69_546, 17)</small><table border=\"1\" class=\"dataframe\"><thead><tr><th>query</th><th>target</th><th>fident</th><th>alnlen</th><th>mismatch</th><th>gapopen</th><th>qstart</th><th>qend</th><th>tstart</th><th>tend</th><th>evalue</th><th>bits</th><th>qlen</th><th>tlen</th><th>pdb_id</th><th>chain</th><th>is_capsid</th></tr><tr><td>str</td><td>str</td><td>f64</td><td>i64</td><td>i64</td><td>i64</td><td>i64</td><td>i64</td><td>i64</td><td>i64</td><td>f64</td><td>i64</td><td>i64</td><td>i64</td><td>str</td><td>str</td><td>bool</td></tr></thead><tbody><tr><td>&quot;IMGVR_UViG_330…</td><td>&quot;8i4l-assembly1…</td><td>0.278</td><td>359</td><td>233</td><td>0</td><td>13</td><td>371</td><td>4</td><td>327</td><td>5.8330e-21</td><td>857</td><td>378</td><td>327</td><td>&quot;8I4L&quot;</td><td>&quot;D&quot;</td><td>true</td></tr><tr><td>&quot;IMGVR_UViG_287…</td><td>&quot;8k37-assembly1…</td><td>0.102</td><td>142</td><td>98</td><td>0</td><td>4</td><td>145</td><td>5</td><td>114</td><td>0.01722</td><td>176</td><td>152</td><td>114</td><td>&quot;8K37&quot;</td><td>&quot;M&quot;</td><td>true</td></tr><tr><td>&quot;IMGVR_UViG_282…</td><td>&quot;7rfo-assembly1…</td><td>0.12</td><td>163</td><td>122</td><td>0</td><td>81</td><td>243</td><td>187</td><td>326</td><td>0.00008</td><td>303</td><td>578</td><td>330</td><td>&quot;7RFO&quot;</td><td>&quot;B&quot;</td><td>false</td></tr><tr><td>&quot;IMGVR_UViG_284…</td><td>&quot;7z45-assembly1…</td><td>0.156</td><td>336</td><td>262</td><td>0</td><td>37</td><td>372</td><td>37</td><td>347</td><td>4.0700e-16</td><td>695</td><td>374</td><td>347</td><td>&quot;7Z45-ASSEMBLY1…</td><td>&quot;A-4&quot;</td><td>false</td></tr><tr><td>&quot;IMGVR_UViG_330…</td><td>&quot;1opo-assembly1…</td><td>0.177</td><td>296</td><td>219</td><td>0</td><td>29</td><td>324</td><td>2</td><td>268</td><td>1.1720e-8</td><td>451</td><td>329</td><td>268</td><td>&quot;1OPO&quot;</td><td>&quot;C&quot;</td><td>true</td></tr><tr><td>&quot;IMGVR_UViG_330…</td><td>&quot;8h89-assembly1…</td><td>0.235</td><td>339</td><td>252</td><td>0</td><td>32</td><td>370</td><td>32</td><td>361</td><td>2.1360e-15</td><td>639</td><td>370</td><td>368</td><td>&quot;8H89&quot;</td><td>&quot;D&quot;</td><td>true</td></tr><tr><td>&quot;IMGVR_UViG_330…</td><td>&quot;6tb9-assembly1…</td><td>0.166</td><td>309</td><td>235</td><td>0</td><td>157</td><td>465</td><td>13</td><td>295</td><td>6.7220e-16</td><td>675</td><td>466</td><td>297</td><td>&quot;6TB9&quot;</td><td>&quot;C5&quot;</td><td>false</td></tr><tr><td>&quot;IMGVR_UViG_330…</td><td>&quot;1opo-assembly1…</td><td>0.155</td><td>317</td><td>226</td><td>0</td><td>103</td><td>419</td><td>1</td><td>268</td><td>3.6360e-9</td><td>430</td><td>423</td><td>268</td><td>&quot;1OPO&quot;</td><td>&quot;C&quot;</td><td>true</td></tr><tr><td>&quot;IMGVR_UViG_330…</td><td>&quot;7a02-assembly1…</td><td>0.1</td><td>112</td><td>100</td><td>0</td><td>28</td><td>139</td><td>1</td><td>112</td><td>0.004642</td><td>206</td><td>139</td><td>112</td><td>&quot;7A02&quot;</td><td>&quot;A&quot;</td><td>false</td></tr><tr><td>&quot;IMGVR_UViG_264…</td><td>&quot;6xgq-assembly1…</td><td>0.269</td><td>329</td><td>237</td><td>0</td><td>15</td><td>343</td><td>7</td><td>331</td><td>7.8890e-24</td><td>994</td><td>343</td><td>332</td><td>&quot;6XGQ&quot;</td><td>&quot;G&quot;</td><td>true</td></tr><tr><td>&quot;IMGVR_UViG_330…</td><td>&quot;6tb9-assembly1…</td><td>0.316</td><td>301</td><td>202</td><td>0</td><td>107</td><td>407</td><td>1</td><td>297</td><td>1.0310e-23</td><td>993</td><td>408</td><td>297</td><td>&quot;6TB9&quot;</td><td>&quot;C5&quot;</td><td>false</td></tr><tr><td>&quot;IMGVR_UViG_330…</td><td>&quot;2fs3-assembly1…</td><td>0.155</td><td>270</td><td>222</td><td>0</td><td>30</td><td>293</td><td>11</td><td>280</td><td>8.6620e-11</td><td>473</td><td>293</td><td>280</td><td>&quot;2FS3-ASSEMBLY1…</td><td>&quot;A-60&quot;</td><td>false</td></tr><tr><td>&hellip;</td><td>&hellip;</td><td>&hellip;</td><td>&hellip;</td><td>&hellip;</td><td>&hellip;</td><td>&hellip;</td><td>&hellip;</td><td>&hellip;</td><td>&hellip;</td><td>&hellip;</td><td>&hellip;</td><td>&hellip;</td><td>&hellip;</td><td>&hellip;</td><td>&hellip;</td><td>&hellip;</td></tr><tr><td>&quot;IMGVR_UViG_330…</td><td>&quot;6y2k-assembly1…</td><td>0.146</td><td>417</td><td>329</td><td>0</td><td>555</td><td>971</td><td>2</td><td>387</td><td>4.8060e-14</td><td>691</td><td>1036</td><td>656</td><td>&quot;6Y2K&quot;</td><td>&quot;A&quot;</td><td>false</td></tr><tr><td>&quot;IMGVR_UViG_265…</td><td>&quot;6hwn-assembly1…</td><td>0.303</td><td>166</td><td>113</td><td>0</td><td>39</td><td>201</td><td>19</td><td>184</td><td>5.1360e-13</td><td>656</td><td>522</td><td>184</td><td>&quot;6HWN-ASSEMBLY1…</td><td>&quot;G-2&quot;</td><td>false</td></tr><tr><td>&quot;IMGVR_UViG_330…</td><td>&quot;8i4l-assembly1…</td><td>0.124</td><td>277</td><td>212</td><td>0</td><td>88</td><td>330</td><td>49</td><td>325</td><td>8.3000e-11</td><td>467</td><td>330</td><td>327</td><td>&quot;8I4L&quot;</td><td>&quot;D&quot;</td><td>true</td></tr><tr><td>&quot;IMGVR_UViG_330…</td><td>&quot;6nj8-assembly1…</td><td>0.124</td><td>300</td><td>234</td><td>0</td><td>3</td><td>302</td><td>5</td><td>272</td><td>4.8050e-10</td><td>449</td><td>305</td><td>277</td><td>&quot;6NJ8-ASSEMBLY1…</td><td>&quot;A-60&quot;</td><td>false</td></tr><tr><td>&quot;IMGVR_UViG_330…</td><td>&quot;8apo-assembly1…</td><td>0.173</td><td>93</td><td>69</td><td>0</td><td>2</td><td>94</td><td>72</td><td>156</td><td>0.02666</td><td>156</td><td>129</td><td>170</td><td>&quot;8APO&quot;</td><td>&quot;AN&quot;</td><td>false</td></tr><tr><td>&quot;IMGVR_UViG_330…</td><td>&quot;6zu5-assembly1…</td><td>0.152</td><td>69</td><td>51</td><td>0</td><td>1</td><td>61</td><td>14</td><td>82</td><td>0.08271</td><td>128</td><td>67</td><td>97</td><td>&quot;6ZU5&quot;</td><td>&quot;SAA&quot;</td><td>false</td></tr><tr><td>&quot;IMGVR_UViG_330…</td><td>&quot;7z45-assembly1…</td><td>0.251</td><td>344</td><td>237</td><td>0</td><td>4</td><td>320</td><td>4</td><td>347</td><td>9.9190e-23</td><td>939</td><td>320</td><td>347</td><td>&quot;7Z45-ASSEMBLY1…</td><td>&quot;A-4&quot;</td><td>false</td></tr><tr><td>&quot;IMGVR_UViG_330…</td><td>&quot;6yff-assembly1…</td><td>0.151</td><td>85</td><td>70</td><td>0</td><td>47</td><td>130</td><td>41</td><td>125</td><td>0.01646</td><td>154</td><td>130</td><td>126</td><td>&quot;6YFF&quot;</td><td>&quot;AA&quot;</td><td>true</td></tr><tr><td>&quot;IMGVR_UViG_291…</td><td>&quot;2fs3-assembly1…</td><td>0.158</td><td>262</td><td>205</td><td>0</td><td>155</td><td>416</td><td>11</td><td>255</td><td>8.3770e-13</td><td>569</td><td>420</td><td>258</td><td>&quot;2FS3&quot;</td><td>&quot;F&quot;</td><td>true</td></tr><tr><td>&quot;IMGVR_UViG_330…</td><td>&quot;7z45-assembly1…</td><td>0.227</td><td>344</td><td>237</td><td>0</td><td>7</td><td>313</td><td>4</td><td>347</td><td>3.8490e-21</td><td>853</td><td>313</td><td>347</td><td>&quot;7Z45-ASSEMBLY1…</td><td>&quot;A-4&quot;</td><td>false</td></tr><tr><td>&quot;IMGVR_UViG_GVM…</td><td>&quot;7w7r-assembly1…</td><td>0.303</td><td>99</td><td>59</td><td>0</td><td>3</td><td>87</td><td>9</td><td>107</td><td>0.0008687</td><td>232</td><td>88</td><td>224</td><td>&quot;7W7R-ASSEMBLY1…</td><td>&quot;C-2&quot;</td><td>false</td></tr><tr><td>&quot;IMGVR_UViG_330…</td><td>&quot;8hdt-assembly1…</td><td>0.328</td><td>289</td><td>191</td><td>0</td><td>48</td><td>332</td><td>11</td><td>299</td><td>2.6890e-20</td><td>845</td><td>333</td><td>300</td><td>&quot;8HDT&quot;</td><td>&quot;C&quot;</td><td>true</td></tr></tbody></table></div>"
      ],
      "text/plain": [
       "shape: (69_546, 17)\n",
       "┌────────────────┬────────────────┬────────┬────────┬───┬──────┬───────────────┬───────┬───────────┐\n",
       "│ query          ┆ target         ┆ fident ┆ alnlen ┆ … ┆ tlen ┆ pdb_id        ┆ chain ┆ is_capsid │\n",
       "│ ---            ┆ ---            ┆ ---    ┆ ---    ┆   ┆ ---  ┆ ---           ┆ ---   ┆ ---       │\n",
       "│ str            ┆ str            ┆ f64    ┆ i64    ┆   ┆ i64  ┆ str           ┆ str   ┆ bool      │\n",
       "╞════════════════╪════════════════╪════════╪════════╪═══╪══════╪═══════════════╪═══════╪═══════════╡\n",
       "│ IMGVR_UViG_330 ┆ 8i4l-assembly1 ┆ 0.278  ┆ 359    ┆ … ┆ 327  ┆ 8I4L          ┆ D     ┆ true      │\n",
       "│ 0020456_000028 ┆ .cif.gz_D      ┆        ┆        ┆   ┆      ┆               ┆       ┆           │\n",
       "│ |330…          ┆                ┆        ┆        ┆   ┆      ┆               ┆       ┆           │\n",
       "│ IMGVR_UViG_287 ┆ 8k37-assembly1 ┆ 0.102  ┆ 142    ┆ … ┆ 114  ┆ 8K37          ┆ M     ┆ true      │\n",
       "│ 2922060_000001 ┆ .cif.gz_M      ┆        ┆        ┆   ┆      ┆               ┆       ┆           │\n",
       "│ |287…          ┆                ┆        ┆        ┆   ┆      ┆               ┆       ┆           │\n",
       "│ IMGVR_UViG_282 ┆ 7rfo-assembly1 ┆ 0.12   ┆ 163    ┆ … ┆ 330  ┆ 7RFO          ┆ B     ┆ false     │\n",
       "│ 2101822_000002 ┆ .cif.gz_B      ┆        ┆        ┆   ┆      ┆               ┆       ┆           │\n",
       "│ |282…          ┆                ┆        ┆        ┆   ┆      ┆               ┆       ┆           │\n",
       "│ IMGVR_UViG_284 ┆ 7z45-assembly1 ┆ 0.156  ┆ 336    ┆ … ┆ 347  ┆ 7Z45-ASSEMBLY ┆ A-4   ┆ false     │\n",
       "│ 8732850_000001 ┆ .cif.gz_A-4    ┆        ┆        ┆   ┆      ┆ 1.CIF.GZ_A    ┆       ┆           │\n",
       "│ |284…          ┆                ┆        ┆        ┆   ┆      ┆               ┆       ┆           │\n",
       "│ IMGVR_UViG_330 ┆ 1opo-assembly1 ┆ 0.177  ┆ 296    ┆ … ┆ 268  ┆ 1OPO          ┆ C     ┆ true      │\n",
       "│ 0006596_000127 ┆ .cif.gz_C      ┆        ┆        ┆   ┆      ┆               ┆       ┆           │\n",
       "│ |330…          ┆                ┆        ┆        ┆   ┆      ┆               ┆       ┆           │\n",
       "│ …              ┆ …              ┆ …      ┆ …      ┆ … ┆ …    ┆ …             ┆ …     ┆ …         │\n",
       "│ IMGVR_UViG_330 ┆ 6yff-assembly1 ┆ 0.151  ┆ 85     ┆ … ┆ 126  ┆ 6YFF          ┆ AA    ┆ true      │\n",
       "│ 0019225_000019 ┆ .cif.gz_AA     ┆        ┆        ┆   ┆      ┆               ┆       ┆           │\n",
       "│ |330…          ┆                ┆        ┆        ┆   ┆      ┆               ┆       ┆           │\n",
       "│ IMGVR_UViG_291 ┆ 2fs3-assembly1 ┆ 0.158  ┆ 262    ┆ … ┆ 258  ┆ 2FS3          ┆ F     ┆ true      │\n",
       "│ 7296605_000001 ┆ .cif.gz_F      ┆        ┆        ┆   ┆      ┆               ┆       ┆           │\n",
       "│ |291…          ┆                ┆        ┆        ┆   ┆      ┆               ┆       ┆           │\n",
       "│ IMGVR_UViG_330 ┆ 7z45-assembly1 ┆ 0.227  ┆ 344    ┆ … ┆ 347  ┆ 7Z45-ASSEMBLY ┆ A-4   ┆ false     │\n",
       "│ 0047474_000140 ┆ .cif.gz_A-4    ┆        ┆        ┆   ┆      ┆ 1.CIF.GZ_A    ┆       ┆           │\n",
       "│ |330…          ┆                ┆        ┆        ┆   ┆      ┆               ┆       ┆           │\n",
       "│ IMGVR_UViG_GVM ┆ 7w7r-assembly1 ┆ 0.303  ┆ 99     ┆ … ┆ 224  ┆ 7W7R-ASSEMBLY ┆ C-2   ┆ false     │\n",
       "│ AG-S-1101173-8 ┆ .cif.gz_C-2    ┆        ┆        ┆   ┆      ┆ 1.CIF.GZ_C    ┆       ┆           │\n",
       "│ 3_00…          ┆                ┆        ┆        ┆   ┆      ┆               ┆       ┆           │\n",
       "│ IMGVR_UViG_330 ┆ 8hdt-assembly1 ┆ 0.328  ┆ 289    ┆ … ┆ 300  ┆ 8HDT          ┆ C     ┆ true      │\n",
       "│ 0046522_000729 ┆ .cif.gz_C      ┆        ┆        ┆   ┆      ┆               ┆       ┆           │\n",
       "│ |330…          ┆                ┆        ┆        ┆   ┆      ┆               ┆       ┆           │\n",
       "└────────────────┴────────────────┴────────┴────────┴───┴──────┴───────────────┴───────┴───────────┘"
      ]
     },
     "execution_count": 9,
     "metadata": {},
     "output_type": "execute_result"
    }
   ],
   "source": [
    "foldseek_columns = \"query,target,fident,alnlen,mismatch,gapopen,qstart,qend,tstart,tend,evalue,bits,qlen,tlen\".split(\",\")\n",
    "\n",
    "with open(\"supplementary_data/fig4/capsid_pdb_ids.txt\") as fp:\n",
    "    capsid_pdb_ids = {line.rstrip() for line in fp}\n",
    "\n",
    "struct_aln = (\n",
    "    pl.scan_csv(\n",
    "        \"supplementary_data/fig4/capsid_candidates_structural_search_against_pdb.tsv\",\n",
    "        separator=\"\\t\",\n",
    "        has_header=False,\n",
    "        new_columns=foldseek_columns,\n",
    "    )\n",
    "    .filter(pl.col(\"bits\") >= 100.)\n",
    "    .with_columns(\n",
    "        pdb_id = pl.col(\"target\").str.extract(\"^(.*)?-.*$\").str.to_uppercase(),\n",
    "        chain = pl.col(\"target\").str.split(\"_\").list.get(1).str.to_uppercase(),\n",
    "    )\n",
    "    .with_columns(\n",
    "        is_capsid = pl.col(\"pdb_id\").is_in(capsid_pdb_ids),\n",
    "    )\n",
    "    .sort(\"bits\", descending=True)\n",
    "    # choose best PDB hit for each query protein\n",
    "    .unique(subset=\"query\", keep=\"first\")\n",
    "    .collect()\n",
    ")\n",
    "\n",
    "struct_aln"
   ]
  },
  {
   "cell_type": "markdown",
   "metadata": {},
   "source": [
    "Now we compute for each protein cluster only containing only unannotated proteins and VOG-detectable capsids the proportion of unannotated proteins that have structural similarity to capsids in the above table:"
   ]
  },
  {
   "cell_type": "code",
   "execution_count": 10,
   "metadata": {},
   "outputs": [
    {
     "data": {
      "text/html": [
       "<div><style>\n",
       ".dataframe > thead > tr,\n",
       ".dataframe > tbody > tr {\n",
       "  text-align: right;\n",
       "  white-space: pre-wrap;\n",
       "}\n",
       "</style>\n",
       "<small>shape: (10_461_674, 30)</small><table border=\"1\" class=\"dataframe\"><thead><tr><th>ptn</th><th>ptn_id</th><th>vog_bitscore</th><th>vog_annot</th><th>vog_category</th><th>genome_cluster</th><th>protein_cluster</th><th>cluster_size</th><th>target</th><th>fident</th><th>alnlen</th><th>mismatch</th><th>gapopen</th><th>qstart</th><th>qend</th><th>tstart</th><th>tend</th><th>evalue</th><th>bits</th><th>qlen</th><th>tlen</th><th>pdb_id</th><th>chain</th><th>is_capsid</th><th>ptn_method</th><th>genome_method</th><th>genome_k</th><th>genome_r</th><th>ptn_r</th><th>ptn_k</th></tr><tr><td>str</td><td>i64</td><td>f64</td><td>str</td><td>str</td><td>u32</td><td>u32</td><td>u32</td><td>str</td><td>f64</td><td>i64</td><td>i64</td><td>i64</td><td>i64</td><td>i64</td><td>i64</td><td>i64</td><td>f64</td><td>i64</td><td>i64</td><td>i64</td><td>str</td><td>str</td><td>bool</td><td>str</td><td>str</td><td>i32</td><td>f64</td><td>f64</td><td>i32</td></tr></thead><tbody><tr><td>&quot;IMGVR_UViG_257…</td><td>43</td><td>null</td><td>&quot;unknown functi…</td><td>&quot;unknown&quot;</td><td>2</td><td>1</td><td>16</td><td>&quot;4dam-assembly2…</td><td>0.162</td><td>104</td><td>85</td><td>0</td><td>1</td><td>103</td><td>1</td><td>104</td><td>0.0001624</td><td>262</td><td>105</td><td>108</td><td>&quot;4DAM&quot;</td><td>&quot;H&quot;</td><td>false</td><td>&quot;esm-small&quot;</td><td>&quot;ctx-avg-large&quot;</td><td>15</td><td>1.0</td><td>0.1</td><td>5</td></tr><tr><td>&quot;IMGVR_UViG_264…</td><td>1012</td><td>260.42</td><td>&quot;sp|P15895|ORF4…</td><td>&quot;unknown&quot;</td><td>60</td><td>0</td><td>15</td><td>&quot;4v8p-assembly4…</td><td>0.097</td><td>115</td><td>103</td><td>0</td><td>14</td><td>128</td><td>33</td><td>147</td><td>0.2194</td><td>121</td><td>143</td><td>156</td><td>&quot;4V8P&quot;</td><td>&quot;GP&quot;</td><td>false</td><td>&quot;esm-small&quot;</td><td>&quot;ctx-avg-large&quot;</td><td>15</td><td>1.0</td><td>0.1</td><td>5</td></tr><tr><td>&quot;IMGVR_UViG_264…</td><td>1014</td><td>null</td><td>&quot;unknown functi…</td><td>&quot;unknown&quot;</td><td>60</td><td>2</td><td>13</td><td>&quot;3pvv-assembly2…</td><td>0.086</td><td>58</td><td>49</td><td>0</td><td>45</td><td>99</td><td>23</td><td>80</td><td>0.6603</td><td>109</td><td>150</td><td>95</td><td>&quot;3PVV&quot;</td><td>&quot;B&quot;</td><td>false</td><td>&quot;esm-small&quot;</td><td>&quot;ctx-avg-large&quot;</td><td>15</td><td>1.0</td><td>0.1</td><td>5</td></tr><tr><td>&quot;IMGVR_UViG_264…</td><td>1016</td><td>332.97</td><td>&quot;sp|P15893|ORF2…</td><td>&quot;unknown&quot;</td><td>60</td><td>3</td><td>7</td><td>&quot;6p8v-assembly1…</td><td>0.165</td><td>146</td><td>107</td><td>0</td><td>75</td><td>203</td><td>72</td><td>217</td><td>0.00001</td><td>267</td><td>224</td><td>302</td><td>&quot;6P8V&quot;</td><td>&quot;B&quot;</td><td>false</td><td>&quot;esm-small&quot;</td><td>&quot;ctx-avg-large&quot;</td><td>15</td><td>1.0</td><td>0.1</td><td>5</td></tr><tr><td>&quot;IMGVR_UViG_264…</td><td>1021</td><td>null</td><td>&quot;unknown functi…</td><td>&quot;unknown&quot;</td><td>60</td><td>1</td><td>18</td><td>&quot;3pvv-assembly2…</td><td>0.086</td><td>58</td><td>49</td><td>0</td><td>45</td><td>99</td><td>23</td><td>80</td><td>0.6603</td><td>109</td><td>150</td><td>95</td><td>&quot;3PVV&quot;</td><td>&quot;B&quot;</td><td>false</td><td>&quot;esm-small&quot;</td><td>&quot;ctx-avg-large&quot;</td><td>15</td><td>1.0</td><td>0.1</td><td>5</td></tr><tr><td>&quot;IMGVR_UViG_264…</td><td>1022</td><td>null</td><td>&quot;unknown functi…</td><td>&quot;unknown&quot;</td><td>60</td><td>1</td><td>18</td><td>&quot;3pvv-assembly2…</td><td>0.086</td><td>58</td><td>49</td><td>0</td><td>45</td><td>99</td><td>23</td><td>80</td><td>0.6603</td><td>109</td><td>150</td><td>95</td><td>&quot;3PVV&quot;</td><td>&quot;B&quot;</td><td>false</td><td>&quot;esm-small&quot;</td><td>&quot;ctx-avg-large&quot;</td><td>15</td><td>1.0</td><td>0.1</td><td>5</td></tr><tr><td>&quot;IMGVR_UViG_264…</td><td>1023</td><td>177.56</td><td>&quot;sp|P15892|ORF1…</td><td>&quot;unknown&quot;</td><td>60</td><td>1</td><td>18</td><td>&quot;8snb-assembly1…</td><td>0.109</td><td>146</td><td>118</td><td>0</td><td>68</td><td>213</td><td>3</td><td>135</td><td>0.1312</td><td>124</td><td>423</td><td>529</td><td>&quot;8SNB&quot;</td><td>&quot;7G&quot;</td><td>false</td><td>&quot;esm-small&quot;</td><td>&quot;ctx-avg-large&quot;</td><td>15</td><td>1.0</td><td>0.1</td><td>5</td></tr><tr><td>&quot;IMGVR_UViG_264…</td><td>1025</td><td>null</td><td>&quot;unknown functi…</td><td>&quot;unknown&quot;</td><td>60</td><td>0</td><td>15</td><td>&quot;4oq2-assembly1…</td><td>0.177</td><td>117</td><td>94</td><td>0</td><td>1</td><td>115</td><td>22</td><td>138</td><td>0.001093</td><td>183</td><td>115</td><td>297</td><td>&quot;4OQ2&quot;</td><td>&quot;A&quot;</td><td>false</td><td>&quot;esm-small&quot;</td><td>&quot;ctx-avg-large&quot;</td><td>15</td><td>1.0</td><td>0.1</td><td>5</td></tr><tr><td>&quot;IMGVR_UViG_265…</td><td>1096</td><td>null</td><td>&quot;unknown functi…</td><td>&quot;unknown&quot;</td><td>64</td><td>3</td><td>15</td><td>&quot;7u8r-assembly1…</td><td>0.12</td><td>166</td><td>118</td><td>0</td><td>4</td><td>169</td><td>13</td><td>147</td><td>0.698</td><td>113</td><td>186</td><td>150</td><td>&quot;7U8R&quot;</td><td>&quot;H&quot;</td><td>false</td><td>&quot;esm-small&quot;</td><td>&quot;ctx-avg-large&quot;</td><td>15</td><td>1.0</td><td>0.1</td><td>5</td></tr><tr><td>&quot;IMGVR_UViG_265…</td><td>1098</td><td>null</td><td>&quot;unknown functi…</td><td>&quot;unknown&quot;</td><td>64</td><td>3</td><td>15</td><td>&quot;4jiu-assembly1…</td><td>0.242</td><td>95</td><td>67</td><td>0</td><td>135</td><td>224</td><td>2</td><td>96</td><td>0.000051</td><td>262</td><td>229</td><td>105</td><td>&quot;4JIU&quot;</td><td>&quot;A&quot;</td><td>false</td><td>&quot;esm-small&quot;</td><td>&quot;ctx-avg-large&quot;</td><td>15</td><td>1.0</td><td>0.1</td><td>5</td></tr><tr><td>&quot;IMGVR_UViG_268…</td><td>1284</td><td>41.66</td><td>&quot;sp|P15794|CAPS…</td><td>&quot;structural&quot;</td><td>76</td><td>0</td><td>11</td><td>&quot;2vvf-assembly1…</td><td>0.166</td><td>281</td><td>219</td><td>0</td><td>2</td><td>282</td><td>3</td><td>266</td><td>8.1940e-12</td><td>580</td><td>283</td><td>269</td><td>&quot;2VVF&quot;</td><td>&quot;A&quot;</td><td>true</td><td>&quot;esm-small&quot;</td><td>&quot;ctx-avg-large&quot;</td><td>15</td><td>1.0</td><td>0.1</td><td>5</td></tr><tr><td>&quot;IMGVR_UViG_GVM…</td><td>3634</td><td>543.89</td><td>&quot;sp|A7U6E9|MCP_…</td><td>&quot;MCP&quot;</td><td>202</td><td>9</td><td>20</td><td>&quot;8h2i-assembly1…</td><td>0.338</td><td>435</td><td>282</td><td>0</td><td>5</td><td>431</td><td>2</td><td>436</td><td>1.8400e-34</td><td>1529</td><td>431</td><td>436</td><td>&quot;8H2I-ASSEMBLY1…</td><td>&quot;AB-5&quot;</td><td>false</td><td>&quot;esm-small&quot;</td><td>&quot;ctx-avg-large&quot;</td><td>15</td><td>1.0</td><td>0.1</td><td>5</td></tr><tr><td>&hellip;</td><td>&hellip;</td><td>&hellip;</td><td>&hellip;</td><td>&hellip;</td><td>&hellip;</td><td>&hellip;</td><td>&hellip;</td><td>&hellip;</td><td>&hellip;</td><td>&hellip;</td><td>&hellip;</td><td>&hellip;</td><td>&hellip;</td><td>&hellip;</td><td>&hellip;</td><td>&hellip;</td><td>&hellip;</td><td>&hellip;</td><td>&hellip;</td><td>&hellip;</td><td>&hellip;</td><td>&hellip;</td><td>&hellip;</td><td>&hellip;</td><td>&hellip;</td><td>&hellip;</td><td>&hellip;</td><td>&hellip;</td><td>&hellip;</td></tr><tr><td>&quot;IMGVR_UViG_GVM…</td><td>7180762</td><td>484.57</td><td>&quot;sp|A7U6E9|MCP_…</td><td>&quot;MCP&quot;</td><td>37536</td><td>30</td><td>16</td><td>&quot;8h2i-assembly1…</td><td>0.392</td><td>435</td><td>244</td><td>0</td><td>3</td><td>404</td><td>2</td><td>436</td><td>5.5710e-34</td><td>1479</td><td>404</td><td>436</td><td>&quot;8H2I-ASSEMBLY1…</td><td>&quot;AB-5&quot;</td><td>false</td><td>&quot;genslm&quot;</td><td>&quot;pst-small&quot;</td><td>15</td><td>1.0</td><td>0.5</td><td>15</td></tr><tr><td>&quot;IMGVR_UViG_GVM…</td><td>7180763</td><td>485.69</td><td>&quot;sp|A7U6E9|MCP_…</td><td>&quot;MCP&quot;</td><td>37536</td><td>30</td><td>16</td><td>&quot;8h2i-assembly1…</td><td>0.398</td><td>435</td><td>231</td><td>0</td><td>3</td><td>387</td><td>2</td><td>436</td><td>4.6150e-36</td><td>1588</td><td>387</td><td>436</td><td>&quot;8H2I-ASSEMBLY1…</td><td>&quot;AB-5&quot;</td><td>false</td><td>&quot;genslm&quot;</td><td>&quot;pst-small&quot;</td><td>15</td><td>1.0</td><td>0.5</td><td>15</td></tr><tr><td>&quot;IMGVR_UViG_GVM…</td><td>7180811</td><td>null</td><td>&quot;unknown functi…</td><td>&quot;unknown&quot;</td><td>37536</td><td>39</td><td>9</td><td>&quot;8otz-assembly1…</td><td>0.094</td><td>436</td><td>281</td><td>0</td><td>434</td><td>869</td><td>2</td><td>312</td><td>0.6483</td><td>124</td><td>1019</td><td>319</td><td>&quot;8OTZ&quot;</td><td>&quot;EW&quot;</td><td>false</td><td>&quot;genslm&quot;</td><td>&quot;pst-small&quot;</td><td>15</td><td>1.0</td><td>0.5</td><td>15</td></tr><tr><td>&quot;IMGVR_UViG_GVM…</td><td>7180821</td><td>null</td><td>&quot;unknown functi…</td><td>&quot;unknown&quot;</td><td>37536</td><td>16</td><td>24</td><td>&quot;5yc4-assembly1…</td><td>0.264</td><td>66</td><td>42</td><td>0</td><td>37</td><td>102</td><td>1</td><td>58</td><td>0.02428</td><td>146</td><td>126</td><td>60</td><td>&quot;5YC4&quot;</td><td>&quot;A&quot;</td><td>false</td><td>&quot;genslm&quot;</td><td>&quot;pst-small&quot;</td><td>15</td><td>1.0</td><td>0.5</td><td>15</td></tr><tr><td>&quot;IMGVR_UViG_GVM…</td><td>7181019</td><td>466.58</td><td>&quot;sp|A7U6E9|MCP_…</td><td>&quot;MCP&quot;</td><td>40170</td><td>39</td><td>22</td><td>&quot;8h2i-assembly1…</td><td>0.284</td><td>536</td><td>311</td><td>0</td><td>3</td><td>538</td><td>2</td><td>436</td><td>6.7690e-34</td><td>1428</td><td>538</td><td>436</td><td>&quot;8H2I-ASSEMBLY1…</td><td>&quot;AB-5&quot;</td><td>false</td><td>&quot;genslm&quot;</td><td>&quot;pst-small&quot;</td><td>15</td><td>1.0</td><td>0.5</td><td>15</td></tr><tr><td>&quot;IMGVR_UViG_GVM…</td><td>7181020</td><td>476.24</td><td>&quot;sp|A7U6E9|MCP_…</td><td>&quot;MCP&quot;</td><td>40170</td><td>136</td><td>15</td><td>&quot;8h2i-assembly1…</td><td>0.322</td><td>457</td><td>294</td><td>0</td><td>3</td><td>459</td><td>2</td><td>436</td><td>1.8730e-34</td><td>1479</td><td>459</td><td>436</td><td>&quot;8H2I-ASSEMBLY1…</td><td>&quot;AB-5&quot;</td><td>false</td><td>&quot;genslm&quot;</td><td>&quot;pst-small&quot;</td><td>15</td><td>1.0</td><td>0.5</td><td>15</td></tr><tr><td>&quot;IMGVR_UViG_GVM…</td><td>7181493</td><td>646.16</td><td>&quot;sp|A7U6E9|MCP_…</td><td>&quot;MCP&quot;</td><td>40170</td><td>70</td><td>28</td><td>&quot;8h2i-assembly1…</td><td>0.347</td><td>542</td><td>283</td><td>0</td><td>3</td><td>544</td><td>2</td><td>436</td><td>1.1050e-38</td><td>1627</td><td>544</td><td>436</td><td>&quot;8H2I-ASSEMBLY1…</td><td>&quot;AB-5&quot;</td><td>false</td><td>&quot;genslm&quot;</td><td>&quot;pst-small&quot;</td><td>15</td><td>1.0</td><td>0.5</td><td>15</td></tr><tr><td>&quot;IMGVR_UViG_GVM…</td><td>7181768</td><td>338.24</td><td>&quot;sp|A7U6E9|MCP_…</td><td>&quot;MCP&quot;</td><td>40170</td><td>308</td><td>11</td><td>&quot;8rbs-assembly1…</td><td>0.169</td><td>510</td><td>397</td><td>0</td><td>3</td><td>512</td><td>2</td><td>480</td><td>6.2920e-26</td><td>1157</td><td>518</td><td>482</td><td>&quot;8RBS&quot;</td><td>&quot;A1&quot;</td><td>true</td><td>&quot;genslm&quot;</td><td>&quot;pst-small&quot;</td><td>15</td><td>1.0</td><td>0.5</td><td>15</td></tr><tr><td>&quot;IMGVR_UViG_GVM…</td><td>7181857</td><td>null</td><td>&quot;unknown functi…</td><td>&quot;unknown&quot;</td><td>40170</td><td>195</td><td>20</td><td>&quot;7qsg-assembly1…</td><td>0.095</td><td>369</td><td>326</td><td>0</td><td>404</td><td>764</td><td>2</td><td>370</td><td>7.1280e-7</td><td>412</td><td>765</td><td>379</td><td>&quot;7QSG&quot;</td><td>&quot;A&quot;</td><td>false</td><td>&quot;genslm&quot;</td><td>&quot;pst-small&quot;</td><td>15</td><td>1.0</td><td>0.5</td><td>15</td></tr><tr><td>&quot;IMGVR_UViG_GVM…</td><td>7182107</td><td>null</td><td>&quot;unknown functi…</td><td>&quot;unknown&quot;</td><td>40170</td><td>225</td><td>19</td><td>&quot;3lmc-assembly1…</td><td>0.096</td><td>155</td><td>101</td><td>0</td><td>82</td><td>194</td><td>1</td><td>155</td><td>0.04069</td><td>148</td><td>339</td><td>191</td><td>&quot;3LMC&quot;</td><td>&quot;A&quot;</td><td>false</td><td>&quot;genslm&quot;</td><td>&quot;pst-small&quot;</td><td>15</td><td>1.0</td><td>0.5</td><td>15</td></tr><tr><td>&quot;IMGVR_UViG_GVM…</td><td>7182117</td><td>659.96</td><td>&quot;sp|A7U6E9|MCP_…</td><td>&quot;MCP&quot;</td><td>40170</td><td>31</td><td>26</td><td>&quot;8h2i-assembly1…</td><td>0.375</td><td>521</td><td>271</td><td>0</td><td>3</td><td>523</td><td>2</td><td>436</td><td>1.5820e-39</td><td>1697</td><td>523</td><td>436</td><td>&quot;8H2I-ASSEMBLY1…</td><td>&quot;AB-5&quot;</td><td>false</td><td>&quot;genslm&quot;</td><td>&quot;pst-small&quot;</td><td>15</td><td>1.0</td><td>0.5</td><td>15</td></tr><tr><td>&quot;IMGVR_UViG_GVM…</td><td>7182202</td><td>267.94</td><td>&quot;sp|A7U6E9|MCP_…</td><td>&quot;MCP&quot;</td><td>40170</td><td>192</td><td>25</td><td>&quot;8h2i-assembly1…</td><td>0.19</td><td>569</td><td>352</td><td>0</td><td>3</td><td>571</td><td>2</td><td>436</td><td>2.7300e-23</td><td>1036</td><td>571</td><td>436</td><td>&quot;8H2I-ASSEMBLY1…</td><td>&quot;AB-5&quot;</td><td>false</td><td>&quot;genslm&quot;</td><td>&quot;pst-small&quot;</td><td>15</td><td>1.0</td><td>0.5</td><td>15</td></tr></tbody></table></div>"
      ],
      "text/plain": [
       "shape: (10_461_674, 30)\n",
       "┌───────────────┬─────────┬──────────────┬───────────────┬───┬──────────┬──────────┬───────┬───────┐\n",
       "│ ptn           ┆ ptn_id  ┆ vog_bitscore ┆ vog_annot     ┆ … ┆ genome_k ┆ genome_r ┆ ptn_r ┆ ptn_k │\n",
       "│ ---           ┆ ---     ┆ ---          ┆ ---           ┆   ┆ ---      ┆ ---      ┆ ---   ┆ ---   │\n",
       "│ str           ┆ i64     ┆ f64          ┆ str           ┆   ┆ i32      ┆ f64      ┆ f64   ┆ i32   │\n",
       "╞═══════════════╪═════════╪══════════════╪═══════════════╪═══╪══════════╪══════════╪═══════╪═══════╡\n",
       "│ IMGVR_UViG_25 ┆ 43      ┆ null         ┆ unknown       ┆ … ┆ 15       ┆ 1.0      ┆ 0.1   ┆ 5     │\n",
       "│ 79778745_0000 ┆         ┆              ┆ function      ┆   ┆          ┆          ┆       ┆       │\n",
       "│ 01|257…       ┆         ┆              ┆               ┆   ┆          ┆          ┆       ┆       │\n",
       "│ IMGVR_UViG_26 ┆ 1012    ┆ 260.42       ┆ sp|P15895|ORF ┆ … ┆ 15       ┆ 1.0      ┆ 0.1   ┆ 5     │\n",
       "│ 48501348_0000 ┆         ┆              ┆ 4_SPV1R       ┆   ┆          ┆          ┆       ┆       │\n",
       "│ 05|264…       ┆         ┆              ┆ Uncharacter…  ┆   ┆          ┆          ┆       ┆       │\n",
       "│ IMGVR_UViG_26 ┆ 1014    ┆ null         ┆ unknown       ┆ … ┆ 15       ┆ 1.0      ┆ 0.1   ┆ 5     │\n",
       "│ 48501348_0000 ┆         ┆              ┆ function      ┆   ┆          ┆          ┆       ┆       │\n",
       "│ 05|264…       ┆         ┆              ┆               ┆   ┆          ┆          ┆       ┆       │\n",
       "│ IMGVR_UViG_26 ┆ 1016    ┆ 332.97       ┆ sp|P15893|ORF ┆ … ┆ 15       ┆ 1.0      ┆ 0.1   ┆ 5     │\n",
       "│ 48501348_0000 ┆         ┆              ┆ 2_SPV1R       ┆   ┆          ┆          ┆       ┆       │\n",
       "│ 05|264…       ┆         ┆              ┆ Uncharacter…  ┆   ┆          ┆          ┆       ┆       │\n",
       "│ IMGVR_UViG_26 ┆ 1021    ┆ null         ┆ unknown       ┆ … ┆ 15       ┆ 1.0      ┆ 0.1   ┆ 5     │\n",
       "│ 48501348_0000 ┆         ┆              ┆ function      ┆   ┆          ┆          ┆       ┆       │\n",
       "│ 05|264…       ┆         ┆              ┆               ┆   ┆          ┆          ┆       ┆       │\n",
       "│ …             ┆ …       ┆ …            ┆ …             ┆ … ┆ …        ┆ …        ┆ …     ┆ …     │\n",
       "│ IMGVR_UViG_GV ┆ 7181768 ┆ 338.24       ┆ sp|A7U6E9|MCP ┆ … ┆ 15       ┆ 1.0      ┆ 0.5   ┆ 15    │\n",
       "│ MAG-S-ERX5561 ┆         ┆              ┆ _POV01 Major  ┆   ┆          ┆          ┆       ┆       │\n",
       "│ 27-47_…       ┆         ┆              ┆ capsid…       ┆   ┆          ┆          ┆       ┆       │\n",
       "│ IMGVR_UViG_GV ┆ 7181857 ┆ null         ┆ unknown       ┆ … ┆ 15       ┆ 1.0      ┆ 0.5   ┆ 15    │\n",
       "│ MAG-S-ERX5561 ┆         ┆              ┆ function      ┆   ┆          ┆          ┆       ┆       │\n",
       "│ 33-39_…       ┆         ┆              ┆               ┆   ┆          ┆          ┆       ┆       │\n",
       "│ IMGVR_UViG_GV ┆ 7182107 ┆ null         ┆ unknown       ┆ … ┆ 15       ┆ 1.0      ┆ 0.5   ┆ 15    │\n",
       "│ MAG-S-ERX5561 ┆         ┆              ┆ function      ┆   ┆          ┆          ┆       ┆       │\n",
       "│ 33-39_…       ┆         ┆              ┆               ┆   ┆          ┆          ┆       ┆       │\n",
       "│ IMGVR_UViG_GV ┆ 7182117 ┆ 659.96       ┆ sp|A7U6E9|MCP ┆ … ┆ 15       ┆ 1.0      ┆ 0.5   ┆ 15    │\n",
       "│ MAG-S-ERX5561 ┆         ┆              ┆ _POV01 Major  ┆   ┆          ┆          ┆       ┆       │\n",
       "│ 33-39_…       ┆         ┆              ┆ capsid…       ┆   ┆          ┆          ┆       ┆       │\n",
       "│ IMGVR_UViG_GV ┆ 7182202 ┆ 267.94       ┆ sp|A7U6E9|MCP ┆ … ┆ 15       ┆ 1.0      ┆ 0.5   ┆ 15    │\n",
       "│ MAG-S-ERX5561 ┆         ┆              ┆ _POV01 Major  ┆   ┆          ┆          ┆       ┆       │\n",
       "│ 33-39_…       ┆         ┆              ┆ capsid…       ┆   ┆          ┆          ┆       ┆       │\n",
       "└───────────────┴─────────┴──────────────┴───────────────┴───┴──────────┴──────────┴───────┴───────┘"
      ]
     },
     "execution_count": 10,
     "metadata": {},
     "output_type": "execute_result"
    }
   ],
   "source": [
    "results: list[pl.LazyFrame] = []\n",
    "\n",
    "ptn_embedding_methods = [\n",
    "    \"esm-small\", \"esm-large\", \"pst-small\", \"pst-large\", \"genslm\"\n",
    "\n",
    "]\n",
    "with tb.open_file(ptn_clusters_file) as fp:\n",
    "    for gm_node in fp.root:\n",
    "        genome_method = gm_node._v_name\n",
    "\n",
    "        for ptn_method in ptn_embedding_methods:\n",
    "            clustering_metadata = gm_node[\"metadata\"][:]\n",
    "            ptn_clusters = gm_node[ptn_method][:]\n",
    "            genome_clusters = gm_node[\"genome\"][:]\n",
    "\n",
    "            for pclu, gclu, (genome_k, genome_res, protein_k, protein_res) in zip(\n",
    "                ptn_clusters, genome_clusters, clustering_metadata\n",
    "            ):\n",
    "                if (genome_k != 15) or (genome_res != 1.0) or (protein_res == 0.85):\n",
    "                    continue\n",
    "\n",
    "                cluster_df = (\n",
    "                    ptn_info\n",
    "                    .lazy()\n",
    "                    .with_columns(\n",
    "                        genome_cluster = pl.lit(gclu),\n",
    "                        protein_cluster = pl.lit(pclu),\n",
    "                    )\n",
    "                    .with_columns(\n",
    "                        cluster_size = pl.len().over(\"genome_cluster\", \"protein_cluster\")\n",
    "                    )\n",
    "                    .filter(pl.col(\"cluster_size\") > 1)\n",
    "                    .join(struct_aln.lazy(), left_on=\"ptn\", right_on=\"query\")\n",
    "                    .with_columns(\n",
    "                        ptn_method=pl.lit(ptn_method),\n",
    "                        genome_method=pl.lit(genome_method),\n",
    "                        genome_k=pl.lit(genome_k),\n",
    "                        genome_r=pl.lit(genome_res),\n",
    "                        ptn_r=pl.lit(protein_res),\n",
    "                        ptn_k=pl.lit(protein_k),\n",
    "                    )\n",
    "                )\n",
    "\n",
    "                results.append(cluster_df)\n",
    "\n",
    "cluster_summary = pl.concat(pl.collect_all(results))\n",
    "cluster_summary"
   ]
  },
  {
   "cell_type": "code",
   "execution_count": 11,
   "metadata": {},
   "outputs": [
    {
     "data": {
      "text/html": [
       "<div><style>\n",
       ".dataframe > thead > tr,\n",
       ".dataframe > tbody > tr {\n",
       "  text-align: right;\n",
       "  white-space: pre-wrap;\n",
       "}\n",
       "</style>\n",
       "<small>shape: (5_856_744, 9)</small><table border=\"1\" class=\"dataframe\"><thead><tr><th>genome_method</th><th>ptn_method</th><th>genome_k</th><th>genome_r</th><th>ptn_k</th><th>ptn_r</th><th>genome_cluster</th><th>protein_cluster</th><th>known_mcps</th></tr><tr><td>str</td><td>str</td><td>i32</td><td>f64</td><td>i32</td><td>f64</td><td>u32</td><td>u32</td><td>u32</td></tr></thead><tbody><tr><td>&quot;ctx-avg-large&quot;</td><td>&quot;esm-small&quot;</td><td>15</td><td>1.0</td><td>5</td><td>0.1</td><td>202</td><td>99</td><td>1</td></tr><tr><td>&quot;ctx-avg-large&quot;</td><td>&quot;esm-small&quot;</td><td>15</td><td>1.0</td><td>5</td><td>0.1</td><td>380</td><td>0</td><td>1</td></tr><tr><td>&quot;ctx-avg-large&quot;</td><td>&quot;esm-small&quot;</td><td>15</td><td>1.0</td><td>5</td><td>0.1</td><td>957</td><td>2</td><td>1</td></tr><tr><td>&quot;ctx-avg-large&quot;</td><td>&quot;esm-small&quot;</td><td>15</td><td>1.0</td><td>5</td><td>0.1</td><td>988</td><td>0</td><td>2</td></tr><tr><td>&quot;ctx-avg-large&quot;</td><td>&quot;esm-small&quot;</td><td>15</td><td>1.0</td><td>5</td><td>0.1</td><td>2129</td><td>0</td><td>1</td></tr><tr><td>&quot;ctx-avg-large&quot;</td><td>&quot;esm-small&quot;</td><td>15</td><td>1.0</td><td>5</td><td>0.1</td><td>2512</td><td>0</td><td>1</td></tr><tr><td>&quot;ctx-avg-large&quot;</td><td>&quot;esm-small&quot;</td><td>15</td><td>1.0</td><td>5</td><td>0.1</td><td>2859</td><td>0</td><td>1</td></tr><tr><td>&quot;ctx-avg-large&quot;</td><td>&quot;esm-small&quot;</td><td>15</td><td>1.0</td><td>5</td><td>0.1</td><td>2332</td><td>0</td><td>2</td></tr><tr><td>&quot;ctx-avg-large&quot;</td><td>&quot;esm-small&quot;</td><td>15</td><td>1.0</td><td>5</td><td>0.1</td><td>3411</td><td>0</td><td>1</td></tr><tr><td>&quot;ctx-avg-large&quot;</td><td>&quot;esm-small&quot;</td><td>15</td><td>1.0</td><td>5</td><td>0.1</td><td>850</td><td>3</td><td>2</td></tr><tr><td>&quot;ctx-avg-large&quot;</td><td>&quot;esm-small&quot;</td><td>15</td><td>1.0</td><td>5</td><td>0.1</td><td>3047</td><td>0</td><td>1</td></tr><tr><td>&quot;ctx-avg-large&quot;</td><td>&quot;esm-small&quot;</td><td>15</td><td>1.0</td><td>5</td><td>0.1</td><td>3953</td><td>0</td><td>1</td></tr><tr><td>&hellip;</td><td>&hellip;</td><td>&hellip;</td><td>&hellip;</td><td>&hellip;</td><td>&hellip;</td><td>&hellip;</td><td>&hellip;</td><td>&hellip;</td></tr><tr><td>&quot;pst-small&quot;</td><td>&quot;genslm&quot;</td><td>15</td><td>1.0</td><td>15</td><td>0.5</td><td>57622</td><td>6</td><td>1</td></tr><tr><td>&quot;pst-small&quot;</td><td>&quot;genslm&quot;</td><td>15</td><td>1.0</td><td>15</td><td>0.5</td><td>53522</td><td>22</td><td>1</td></tr><tr><td>&quot;pst-small&quot;</td><td>&quot;genslm&quot;</td><td>15</td><td>1.0</td><td>15</td><td>0.5</td><td>53859</td><td>0</td><td>1</td></tr><tr><td>&quot;pst-small&quot;</td><td>&quot;genslm&quot;</td><td>15</td><td>1.0</td><td>15</td><td>0.5</td><td>55753</td><td>9</td><td>1</td></tr><tr><td>&quot;pst-small&quot;</td><td>&quot;genslm&quot;</td><td>15</td><td>1.0</td><td>15</td><td>0.5</td><td>42569</td><td>67</td><td>1</td></tr><tr><td>&quot;pst-small&quot;</td><td>&quot;genslm&quot;</td><td>15</td><td>1.0</td><td>15</td><td>0.5</td><td>53223</td><td>21</td><td>1</td></tr><tr><td>&quot;pst-small&quot;</td><td>&quot;genslm&quot;</td><td>15</td><td>1.0</td><td>15</td><td>0.5</td><td>51796</td><td>85</td><td>1</td></tr><tr><td>&quot;pst-small&quot;</td><td>&quot;genslm&quot;</td><td>15</td><td>1.0</td><td>15</td><td>0.5</td><td>63373</td><td>284</td><td>1</td></tr><tr><td>&quot;pst-small&quot;</td><td>&quot;genslm&quot;</td><td>15</td><td>1.0</td><td>15</td><td>0.5</td><td>64209</td><td>3</td><td>4</td></tr><tr><td>&quot;pst-small&quot;</td><td>&quot;genslm&quot;</td><td>15</td><td>1.0</td><td>15</td><td>0.5</td><td>62315</td><td>99</td><td>1</td></tr><tr><td>&quot;pst-small&quot;</td><td>&quot;genslm&quot;</td><td>15</td><td>1.0</td><td>15</td><td>0.5</td><td>64277</td><td>258</td><td>1</td></tr><tr><td>&quot;pst-small&quot;</td><td>&quot;genslm&quot;</td><td>15</td><td>1.0</td><td>15</td><td>0.5</td><td>64325</td><td>84</td><td>1</td></tr></tbody></table></div>"
      ],
      "text/plain": [
       "shape: (5_856_744, 9)\n",
       "┌────────────┬────────────┬──────────┬──────────┬───┬───────┬────────────┬────────────┬────────────┐\n",
       "│ genome_met ┆ ptn_method ┆ genome_k ┆ genome_r ┆ … ┆ ptn_r ┆ genome_clu ┆ protein_cl ┆ known_mcps │\n",
       "│ hod        ┆ ---        ┆ ---      ┆ ---      ┆   ┆ ---   ┆ ster       ┆ uster      ┆ ---        │\n",
       "│ ---        ┆ str        ┆ i32      ┆ f64      ┆   ┆ f64   ┆ ---        ┆ ---        ┆ u32        │\n",
       "│ str        ┆            ┆          ┆          ┆   ┆       ┆ u32        ┆ u32        ┆            │\n",
       "╞════════════╪════════════╪══════════╪══════════╪═══╪═══════╪════════════╪════════════╪════════════╡\n",
       "│ ctx-avg-la ┆ esm-small  ┆ 15       ┆ 1.0      ┆ … ┆ 0.1   ┆ 202        ┆ 99         ┆ 1          │\n",
       "│ rge        ┆            ┆          ┆          ┆   ┆       ┆            ┆            ┆            │\n",
       "│ ctx-avg-la ┆ esm-small  ┆ 15       ┆ 1.0      ┆ … ┆ 0.1   ┆ 380        ┆ 0          ┆ 1          │\n",
       "│ rge        ┆            ┆          ┆          ┆   ┆       ┆            ┆            ┆            │\n",
       "│ ctx-avg-la ┆ esm-small  ┆ 15       ┆ 1.0      ┆ … ┆ 0.1   ┆ 957        ┆ 2          ┆ 1          │\n",
       "│ rge        ┆            ┆          ┆          ┆   ┆       ┆            ┆            ┆            │\n",
       "│ ctx-avg-la ┆ esm-small  ┆ 15       ┆ 1.0      ┆ … ┆ 0.1   ┆ 988        ┆ 0          ┆ 2          │\n",
       "│ rge        ┆            ┆          ┆          ┆   ┆       ┆            ┆            ┆            │\n",
       "│ ctx-avg-la ┆ esm-small  ┆ 15       ┆ 1.0      ┆ … ┆ 0.1   ┆ 2129       ┆ 0          ┆ 1          │\n",
       "│ rge        ┆            ┆          ┆          ┆   ┆       ┆            ┆            ┆            │\n",
       "│ …          ┆ …          ┆ …        ┆ …        ┆ … ┆ …     ┆ …          ┆ …          ┆ …          │\n",
       "│ pst-small  ┆ genslm     ┆ 15       ┆ 1.0      ┆ … ┆ 0.5   ┆ 63373      ┆ 284        ┆ 1          │\n",
       "│ pst-small  ┆ genslm     ┆ 15       ┆ 1.0      ┆ … ┆ 0.5   ┆ 64209      ┆ 3          ┆ 4          │\n",
       "│ pst-small  ┆ genslm     ┆ 15       ┆ 1.0      ┆ … ┆ 0.5   ┆ 62315      ┆ 99         ┆ 1          │\n",
       "│ pst-small  ┆ genslm     ┆ 15       ┆ 1.0      ┆ … ┆ 0.5   ┆ 64277      ┆ 258        ┆ 1          │\n",
       "│ pst-small  ┆ genslm     ┆ 15       ┆ 1.0      ┆ … ┆ 0.5   ┆ 64325      ┆ 84         ┆ 1          │\n",
       "└────────────┴────────────┴──────────┴──────────┴───┴───────┴────────────┴────────────┴────────────┘"
      ]
     },
     "execution_count": 11,
     "metadata": {},
     "output_type": "execute_result"
    }
   ],
   "source": [
    "group_cols = [\"genome_method\", \"ptn_method\", \"genome_k\", \"genome_r\", \"ptn_k\", \"ptn_r\"]\n",
    "\n",
    "# need this to compute prop of only unannotated proteins that are capsids\n",
    "detected_capsids = (\n",
    "    cluster_summary\n",
    "    .filter(pl.col(\"vog_category\") != \"unknown\")\n",
    "    .group_by(*group_cols, \"genome_cluster\", \"protein_cluster\")\n",
    "    .agg(\n",
    "        known_mcps = pl.len()\n",
    "    )\n",
    ")\n",
    "\n",
    "detected_capsids"
   ]
  },
  {
   "cell_type": "code",
   "execution_count": 12,
   "metadata": {},
   "outputs": [
    {
     "data": {
      "text/html": [
       "<div><style>\n",
       ".dataframe > thead > tr,\n",
       ".dataframe > tbody > tr {\n",
       "  text-align: right;\n",
       "  white-space: pre-wrap;\n",
       "}\n",
       "</style>\n",
       "<small>shape: (247_191, 14)</small><table border=\"1\" class=\"dataframe\"><thead><tr><th>genome_method</th><th>ptn_method</th><th>genome_k</th><th>genome_r</th><th>ptn_k</th><th>ptn_r</th><th>genome_cluster</th><th>protein_cluster</th><th>cluster_size</th><th>capsid_hits</th><th>known_mcps</th><th>prop</th><th>weight</th><th>weighted_prop</th></tr><tr><td>str</td><td>str</td><td>i32</td><td>f64</td><td>i32</td><td>f64</td><td>u32</td><td>u32</td><td>u32</td><td>u32</td><td>u32</td><td>f64</td><td>f64</td><td>f64</td></tr></thead><tbody><tr><td>&quot;ctx-avg-large&quot;</td><td>&quot;esm-small&quot;</td><td>15</td><td>1.0</td><td>5</td><td>0.1</td><td>3047</td><td>0</td><td>15</td><td>1</td><td>1</td><td>0.071429</td><td>0.000577</td><td>0.000041</td></tr><tr><td>&quot;ctx-avg-large&quot;</td><td>&quot;esm-small&quot;</td><td>15</td><td>1.0</td><td>5</td><td>0.1</td><td>1899</td><td>1</td><td>19</td><td>1</td><td>1</td><td>0.055556</td><td>0.000731</td><td>0.000041</td></tr><tr><td>&quot;ctx-avg-large&quot;</td><td>&quot;esm-small&quot;</td><td>15</td><td>1.0</td><td>5</td><td>0.1</td><td>20079</td><td>1</td><td>18</td><td>1</td><td>2</td><td>0.0625</td><td>0.000693</td><td>0.000043</td></tr><tr><td>&quot;ctx-avg-large&quot;</td><td>&quot;esm-small&quot;</td><td>15</td><td>1.0</td><td>5</td><td>0.1</td><td>1042</td><td>4</td><td>14</td><td>1</td><td>1</td><td>0.076923</td><td>0.000539</td><td>0.000041</td></tr><tr><td>&quot;ctx-avg-large&quot;</td><td>&quot;esm-small&quot;</td><td>15</td><td>1.0</td><td>5</td><td>0.1</td><td>20467</td><td>5</td><td>19</td><td>1</td><td>1</td><td>0.055556</td><td>0.000731</td><td>0.000041</td></tr><tr><td>&quot;ctx-avg-large&quot;</td><td>&quot;esm-small&quot;</td><td>15</td><td>1.0</td><td>5</td><td>0.1</td><td>21163</td><td>9</td><td>16</td><td>1</td><td>1</td><td>0.066667</td><td>0.000616</td><td>0.000041</td></tr><tr><td>&quot;ctx-avg-large&quot;</td><td>&quot;esm-small&quot;</td><td>15</td><td>1.0</td><td>5</td><td>0.1</td><td>24446</td><td>0</td><td>10</td><td>2</td><td>1</td><td>0.222222</td><td>0.000385</td><td>0.000086</td></tr><tr><td>&quot;ctx-avg-large&quot;</td><td>&quot;esm-small&quot;</td><td>15</td><td>1.0</td><td>5</td><td>0.1</td><td>19388</td><td>11</td><td>14</td><td>1</td><td>1</td><td>0.076923</td><td>0.000539</td><td>0.000041</td></tr><tr><td>&quot;ctx-avg-large&quot;</td><td>&quot;esm-small&quot;</td><td>15</td><td>1.0</td><td>5</td><td>0.1</td><td>10876</td><td>8</td><td>22</td><td>1</td><td>1</td><td>0.047619</td><td>0.000847</td><td>0.00004</td></tr><tr><td>&quot;ctx-avg-large&quot;</td><td>&quot;esm-small&quot;</td><td>15</td><td>1.0</td><td>5</td><td>0.1</td><td>24280</td><td>0</td><td>29</td><td>1</td><td>1</td><td>0.035714</td><td>0.001116</td><td>0.00004</td></tr><tr><td>&quot;ctx-avg-large&quot;</td><td>&quot;esm-small&quot;</td><td>15</td><td>1.0</td><td>5</td><td>0.1</td><td>18894</td><td>0</td><td>26</td><td>1</td><td>1</td><td>0.04</td><td>0.001001</td><td>0.00004</td></tr><tr><td>&quot;ctx-avg-large&quot;</td><td>&quot;esm-small&quot;</td><td>15</td><td>1.0</td><td>5</td><td>0.1</td><td>17030</td><td>58</td><td>31</td><td>1</td><td>1</td><td>0.033333</td><td>0.001193</td><td>0.00004</td></tr><tr><td>&hellip;</td><td>&hellip;</td><td>&hellip;</td><td>&hellip;</td><td>&hellip;</td><td>&hellip;</td><td>&hellip;</td><td>&hellip;</td><td>&hellip;</td><td>&hellip;</td><td>&hellip;</td><td>&hellip;</td><td>&hellip;</td><td>&hellip;</td></tr><tr><td>&quot;pst-small&quot;</td><td>&quot;genslm&quot;</td><td>15</td><td>1.0</td><td>15</td><td>0.1</td><td>43171</td><td>11</td><td>76</td><td>1</td><td>2</td><td>0.013514</td><td>0.000964</td><td>0.000013</td></tr><tr><td>&quot;pst-small&quot;</td><td>&quot;genslm&quot;</td><td>15</td><td>1.0</td><td>15</td><td>0.5</td><td>3292</td><td>0</td><td>25</td><td>1</td><td>1</td><td>0.041667</td><td>0.00087</td><td>0.000036</td></tr><tr><td>&quot;pst-small&quot;</td><td>&quot;genslm&quot;</td><td>15</td><td>1.0</td><td>15</td><td>0.5</td><td>3734</td><td>0</td><td>18</td><td>1</td><td>1</td><td>0.058824</td><td>0.000626</td><td>0.000037</td></tr><tr><td>&quot;pst-small&quot;</td><td>&quot;genslm&quot;</td><td>15</td><td>1.0</td><td>15</td><td>0.5</td><td>8404</td><td>1</td><td>11</td><td>1</td><td>1</td><td>0.1</td><td>0.000383</td><td>0.000038</td></tr><tr><td>&quot;pst-small&quot;</td><td>&quot;genslm&quot;</td><td>15</td><td>1.0</td><td>15</td><td>0.5</td><td>18055</td><td>8</td><td>24</td><td>1</td><td>1</td><td>0.043478</td><td>0.000835</td><td>0.000036</td></tr><tr><td>&quot;pst-small&quot;</td><td>&quot;genslm&quot;</td><td>15</td><td>1.0</td><td>15</td><td>0.5</td><td>34853</td><td>14</td><td>17</td><td>2</td><td>1</td><td>0.125</td><td>0.000591</td><td>0.000074</td></tr><tr><td>&quot;pst-small&quot;</td><td>&quot;genslm&quot;</td><td>15</td><td>1.0</td><td>15</td><td>0.5</td><td>33706</td><td>26</td><td>19</td><td>1</td><td>1</td><td>0.055556</td><td>0.000661</td><td>0.000037</td></tr><tr><td>&quot;pst-small&quot;</td><td>&quot;genslm&quot;</td><td>15</td><td>1.0</td><td>15</td><td>0.5</td><td>39212</td><td>15</td><td>24</td><td>1</td><td>1</td><td>0.043478</td><td>0.000835</td><td>0.000036</td></tr><tr><td>&quot;pst-small&quot;</td><td>&quot;genslm&quot;</td><td>15</td><td>1.0</td><td>15</td><td>0.5</td><td>39420</td><td>10</td><td>25</td><td>1</td><td>1</td><td>0.041667</td><td>0.00087</td><td>0.000036</td></tr><tr><td>&quot;pst-small&quot;</td><td>&quot;genslm&quot;</td><td>15</td><td>1.0</td><td>15</td><td>0.5</td><td>16741</td><td>23</td><td>22</td><td>2</td><td>1</td><td>0.095238</td><td>0.000765</td><td>0.000073</td></tr><tr><td>&quot;pst-small&quot;</td><td>&quot;genslm&quot;</td><td>15</td><td>1.0</td><td>15</td><td>0.5</td><td>39061</td><td>22</td><td>11</td><td>1</td><td>1</td><td>0.1</td><td>0.000383</td><td>0.000038</td></tr><tr><td>&quot;pst-small&quot;</td><td>&quot;genslm&quot;</td><td>15</td><td>1.0</td><td>15</td><td>0.5</td><td>44477</td><td>35</td><td>17</td><td>1</td><td>2</td><td>0.066667</td><td>0.000591</td><td>0.000039</td></tr></tbody></table></div>"
      ],
      "text/plain": [
       "shape: (247_191, 14)\n",
       "┌────────────┬────────────┬──────────┬──────────┬───┬────────────┬──────────┬──────────┬───────────┐\n",
       "│ genome_met ┆ ptn_method ┆ genome_k ┆ genome_r ┆ … ┆ known_mcps ┆ prop     ┆ weight   ┆ weighted_ │\n",
       "│ hod        ┆ ---        ┆ ---      ┆ ---      ┆   ┆ ---        ┆ ---      ┆ ---      ┆ prop      │\n",
       "│ ---        ┆ str        ┆ i32      ┆ f64      ┆   ┆ u32        ┆ f64      ┆ f64      ┆ ---       │\n",
       "│ str        ┆            ┆          ┆          ┆   ┆            ┆          ┆          ┆ f64       │\n",
       "╞════════════╪════════════╪══════════╪══════════╪═══╪════════════╪══════════╪══════════╪═══════════╡\n",
       "│ ctx-avg-la ┆ esm-small  ┆ 15       ┆ 1.0      ┆ … ┆ 1          ┆ 0.071429 ┆ 0.000577 ┆ 0.000041  │\n",
       "│ rge        ┆            ┆          ┆          ┆   ┆            ┆          ┆          ┆           │\n",
       "│ ctx-avg-la ┆ esm-small  ┆ 15       ┆ 1.0      ┆ … ┆ 1          ┆ 0.055556 ┆ 0.000731 ┆ 0.000041  │\n",
       "│ rge        ┆            ┆          ┆          ┆   ┆            ┆          ┆          ┆           │\n",
       "│ ctx-avg-la ┆ esm-small  ┆ 15       ┆ 1.0      ┆ … ┆ 2          ┆ 0.0625   ┆ 0.000693 ┆ 0.000043  │\n",
       "│ rge        ┆            ┆          ┆          ┆   ┆            ┆          ┆          ┆           │\n",
       "│ ctx-avg-la ┆ esm-small  ┆ 15       ┆ 1.0      ┆ … ┆ 1          ┆ 0.076923 ┆ 0.000539 ┆ 0.000041  │\n",
       "│ rge        ┆            ┆          ┆          ┆   ┆            ┆          ┆          ┆           │\n",
       "│ ctx-avg-la ┆ esm-small  ┆ 15       ┆ 1.0      ┆ … ┆ 1          ┆ 0.055556 ┆ 0.000731 ┆ 0.000041  │\n",
       "│ rge        ┆            ┆          ┆          ┆   ┆            ┆          ┆          ┆           │\n",
       "│ …          ┆ …          ┆ …        ┆ …        ┆ … ┆ …          ┆ …        ┆ …        ┆ …         │\n",
       "│ pst-small  ┆ genslm     ┆ 15       ┆ 1.0      ┆ … ┆ 1          ┆ 0.043478 ┆ 0.000835 ┆ 0.000036  │\n",
       "│ pst-small  ┆ genslm     ┆ 15       ┆ 1.0      ┆ … ┆ 1          ┆ 0.041667 ┆ 0.00087  ┆ 0.000036  │\n",
       "│ pst-small  ┆ genslm     ┆ 15       ┆ 1.0      ┆ … ┆ 1          ┆ 0.095238 ┆ 0.000765 ┆ 0.000073  │\n",
       "│ pst-small  ┆ genslm     ┆ 15       ┆ 1.0      ┆ … ┆ 1          ┆ 0.1      ┆ 0.000383 ┆ 0.000038  │\n",
       "│ pst-small  ┆ genslm     ┆ 15       ┆ 1.0      ┆ … ┆ 2          ┆ 0.066667 ┆ 0.000591 ┆ 0.000039  │\n",
       "└────────────┴────────────┴──────────┴──────────┴───┴────────────┴──────────┴──────────┴───────────┘"
      ]
     },
     "execution_count": 12,
     "metadata": {},
     "output_type": "execute_result"
    }
   ],
   "source": [
    "per_cluster_proportion_summary = (\n",
    "    cluster_summary\n",
    "    .filter(\n",
    "        pl.col(\"is_capsid\") & (pl.col(\"vog_category\") == \"unknown\")\n",
    "    )\n",
    "    .group_by(*group_cols, \"genome_cluster\", \"protein_cluster\")\n",
    "    .agg(\n",
    "        pl.first(\"cluster_size\"),\n",
    "        capsid_hits = pl.len(),\n",
    "    )\n",
    "    .join(detected_capsids, on=group_cols + [\"genome_cluster\", \"protein_cluster\"])\n",
    "    .with_columns(\n",
    "        prop = pl.col(\"capsid_hits\") / (pl.col(\"cluster_size\") - pl.col(\"known_mcps\")),\n",
    "        weight = pl.col(\"cluster_size\") / pl.sum(\"cluster_size\").over(group_cols)\n",
    "    )\n",
    "    .with_columns(\n",
    "        weighted_prop = pl.col(\"prop\") * pl.col(\"weight\")\n",
    "    )\n",
    ")\n",
    "\n",
    "per_cluster_proportion_summary"
   ]
  },
  {
   "cell_type": "markdown",
   "metadata": {},
   "source": [
    "Then, we use a weighted mean (weights = protein cluster size) to summarize for each genome clustering / protein clustering configuration:"
   ]
  },
  {
   "cell_type": "code",
   "execution_count": 13,
   "metadata": {},
   "outputs": [
    {
     "data": {
      "text/html": [
       "<div><style>\n",
       ".dataframe > thead > tr,\n",
       ".dataframe > tbody > tr {\n",
       "  text-align: right;\n",
       "  white-space: pre-wrap;\n",
       "}\n",
       "</style>\n",
       "<small>shape: (180, 8)</small><table border=\"1\" class=\"dataframe\"><thead><tr><th>genome_method</th><th>ptn_method</th><th>genome_k</th><th>genome_r</th><th>ptn_k</th><th>ptn_r</th><th>prop</th><th>cluster_size</th></tr><tr><td>str</td><td>str</td><td>i32</td><td>f64</td><td>i32</td><td>f64</td><td>f64</td><td>u32</td></tr></thead><tbody><tr><td>&quot;genslm&quot;</td><td>&quot;pst-small&quot;</td><td>15</td><td>1.0</td><td>5</td><td>0.5</td><td>0.387778</td><td>3299</td></tr><tr><td>&quot;ctx-avg-large&quot;</td><td>&quot;pst-small&quot;</td><td>15</td><td>1.0</td><td>5</td><td>0.5</td><td>0.376659</td><td>3062</td></tr><tr><td>&quot;esm2_t30_150M&quot;</td><td>&quot;pst-small&quot;</td><td>15</td><td>1.0</td><td>5</td><td>0.5</td><td>0.374475</td><td>2921</td></tr><tr><td>&quot;pst-small&quot;</td><td>&quot;pst-small&quot;</td><td>15</td><td>1.0</td><td>5</td><td>0.5</td><td>0.371701</td><td>2875</td></tr><tr><td>&quot;hyena-dna&quot;</td><td>&quot;pst-small&quot;</td><td>15</td><td>1.0</td><td>5</td><td>0.5</td><td>0.370921</td><td>3202</td></tr><tr><td>&quot;kmer&quot;</td><td>&quot;genslm&quot;</td><td>15</td><td>1.0</td><td>5</td><td>0.5</td><td>0.370719</td><td>4374</td></tr><tr><td>&quot;kmer&quot;</td><td>&quot;pst-small&quot;</td><td>15</td><td>1.0</td><td>5</td><td>0.5</td><td>0.368512</td><td>2985</td></tr><tr><td>&quot;pst-large&quot;</td><td>&quot;pst-small&quot;</td><td>15</td><td>1.0</td><td>5</td><td>0.5</td><td>0.36673</td><td>3173</td></tr><tr><td>&quot;esm2_t6_8M&quot;</td><td>&quot;pst-small&quot;</td><td>15</td><td>1.0</td><td>5</td><td>0.5</td><td>0.363603</td><td>3146</td></tr><tr><td>&quot;genslm&quot;</td><td>&quot;genslm&quot;</td><td>15</td><td>1.0</td><td>5</td><td>0.5</td><td>0.353726</td><td>5681</td></tr><tr><td>&quot;ctx-avg-small&quot;</td><td>&quot;pst-small&quot;</td><td>15</td><td>1.0</td><td>5</td><td>0.5</td><td>0.350965</td><td>2446</td></tr><tr><td>&quot;hyena-dna&quot;</td><td>&quot;genslm&quot;</td><td>15</td><td>1.0</td><td>5</td><td>0.5</td><td>0.341279</td><td>5879</td></tr><tr><td>&hellip;</td><td>&hellip;</td><td>&hellip;</td><td>&hellip;</td><td>&hellip;</td><td>&hellip;</td><td>&hellip;</td><td>&hellip;</td></tr><tr><td>&quot;pst-large&quot;</td><td>&quot;esm-large&quot;</td><td>15</td><td>1.0</td><td>15</td><td>0.1</td><td>0.028709</td><td>115765</td></tr><tr><td>&quot;hyena-dna&quot;</td><td>&quot;esm-small&quot;</td><td>15</td><td>1.0</td><td>15</td><td>0.1</td><td>0.028384</td><td>116799</td></tr><tr><td>&quot;esm2_t6_8M&quot;</td><td>&quot;esm-large&quot;</td><td>15</td><td>1.0</td><td>15</td><td>0.1</td><td>0.027606</td><td>99172</td></tr><tr><td>&quot;esm2_t30_150M&quot;</td><td>&quot;esm-large&quot;</td><td>15</td><td>1.0</td><td>15</td><td>0.1</td><td>0.027606</td><td>93683</td></tr><tr><td>&quot;pst-large&quot;</td><td>&quot;esm-small&quot;</td><td>15</td><td>1.0</td><td>15</td><td>0.1</td><td>0.026973</td><td>126342</td></tr><tr><td>&quot;kmer&quot;</td><td>&quot;esm-small&quot;</td><td>15</td><td>1.0</td><td>15</td><td>0.1</td><td>0.026916</td><td>95802</td></tr><tr><td>&quot;ctx-avg-large&quot;</td><td>&quot;esm-large&quot;</td><td>15</td><td>1.0</td><td>15</td><td>0.1</td><td>0.026731</td><td>104393</td></tr><tr><td>&quot;esm2_t6_8M&quot;</td><td>&quot;esm-small&quot;</td><td>15</td><td>1.0</td><td>15</td><td>0.1</td><td>0.026478</td><td>105365</td></tr><tr><td>&quot;esm2_t30_150M&quot;</td><td>&quot;esm-small&quot;</td><td>15</td><td>1.0</td><td>15</td><td>0.1</td><td>0.025885</td><td>104099</td></tr><tr><td>&quot;ctx-avg-large&quot;</td><td>&quot;esm-small&quot;</td><td>15</td><td>1.0</td><td>15</td><td>0.1</td><td>0.024675</td><td>119255</td></tr><tr><td>&quot;ctx-avg-small&quot;</td><td>&quot;esm-large&quot;</td><td>15</td><td>1.0</td><td>15</td><td>0.1</td><td>0.023028</td><td>64637</td></tr><tr><td>&quot;ctx-avg-small&quot;</td><td>&quot;esm-small&quot;</td><td>15</td><td>1.0</td><td>15</td><td>0.1</td><td>0.021987</td><td>69974</td></tr></tbody></table></div>"
      ],
      "text/plain": [
       "shape: (180, 8)\n",
       "┌───────────────┬────────────┬──────────┬──────────┬───────┬───────┬──────────┬──────────────┐\n",
       "│ genome_method ┆ ptn_method ┆ genome_k ┆ genome_r ┆ ptn_k ┆ ptn_r ┆ prop     ┆ cluster_size │\n",
       "│ ---           ┆ ---        ┆ ---      ┆ ---      ┆ ---   ┆ ---   ┆ ---      ┆ ---          │\n",
       "│ str           ┆ str        ┆ i32      ┆ f64      ┆ i32   ┆ f64   ┆ f64      ┆ u32          │\n",
       "╞═══════════════╪════════════╪══════════╪══════════╪═══════╪═══════╪══════════╪══════════════╡\n",
       "│ genslm        ┆ pst-small  ┆ 15       ┆ 1.0      ┆ 5     ┆ 0.5   ┆ 0.387778 ┆ 3299         │\n",
       "│ ctx-avg-large ┆ pst-small  ┆ 15       ┆ 1.0      ┆ 5     ┆ 0.5   ┆ 0.376659 ┆ 3062         │\n",
       "│ esm2_t30_150M ┆ pst-small  ┆ 15       ┆ 1.0      ┆ 5     ┆ 0.5   ┆ 0.374475 ┆ 2921         │\n",
       "│ pst-small     ┆ pst-small  ┆ 15       ┆ 1.0      ┆ 5     ┆ 0.5   ┆ 0.371701 ┆ 2875         │\n",
       "│ hyena-dna     ┆ pst-small  ┆ 15       ┆ 1.0      ┆ 5     ┆ 0.5   ┆ 0.370921 ┆ 3202         │\n",
       "│ …             ┆ …          ┆ …        ┆ …        ┆ …     ┆ …     ┆ …        ┆ …            │\n",
       "│ esm2_t6_8M    ┆ esm-small  ┆ 15       ┆ 1.0      ┆ 15    ┆ 0.1   ┆ 0.026478 ┆ 105365       │\n",
       "│ esm2_t30_150M ┆ esm-small  ┆ 15       ┆ 1.0      ┆ 15    ┆ 0.1   ┆ 0.025885 ┆ 104099       │\n",
       "│ ctx-avg-large ┆ esm-small  ┆ 15       ┆ 1.0      ┆ 15    ┆ 0.1   ┆ 0.024675 ┆ 119255       │\n",
       "│ ctx-avg-small ┆ esm-large  ┆ 15       ┆ 1.0      ┆ 15    ┆ 0.1   ┆ 0.023028 ┆ 64637        │\n",
       "│ ctx-avg-small ┆ esm-small  ┆ 15       ┆ 1.0      ┆ 15    ┆ 0.1   ┆ 0.021987 ┆ 69974        │\n",
       "└───────────────┴────────────┴──────────┴──────────┴───────┴───────┴──────────┴──────────────┘"
      ]
     },
     "execution_count": 13,
     "metadata": {},
     "output_type": "execute_result"
    }
   ],
   "source": [
    "proportion_summary = (\n",
    "    per_cluster_proportion_summary\n",
    "    .group_by(group_cols)\n",
    "    .agg(\n",
    "        pl.sum(\"weighted_prop\", \"cluster_size\")\n",
    "    )\n",
    "    .rename({\"weighted_prop\": \"prop\"})\n",
    "    .sort([\"prop\", \"cluster_size\"], descending=True)\n",
    ")\n",
    "\n",
    "proportion_summary"
   ]
  },
  {
   "cell_type": "markdown",
   "metadata": {},
   "source": [
    "The above table was used to make **Extended Data Figure 9A**.\n",
    "\n",
    "For **Figure 4C**, we further summarized this to focus on the differences between protein embeddings used for clustering, regardless of genome clustering:"
   ]
  },
  {
   "cell_type": "code",
   "execution_count": 14,
   "metadata": {},
   "outputs": [
    {
     "data": {
      "text/html": [
       "<div><style>\n",
       ".dataframe > thead > tr,\n",
       ".dataframe > tbody > tr {\n",
       "  text-align: right;\n",
       "  white-space: pre-wrap;\n",
       "}\n",
       "</style>\n",
       "<small>shape: (20, 4)</small><table border=\"1\" class=\"dataframe\"><thead><tr><th>ptn_method</th><th>ptn_k</th><th>ptn_r</th><th>prop</th></tr><tr><td>str</td><td>i32</td><td>f64</td><td>f64</td></tr></thead><tbody><tr><td>&quot;pst-small&quot;</td><td>5</td><td>0.1</td><td>0.141046</td></tr><tr><td>&quot;pst-large&quot;</td><td>5</td><td>0.1</td><td>0.105428</td></tr><tr><td>&quot;genslm&quot;</td><td>5</td><td>0.1</td><td>0.084609</td></tr><tr><td>&quot;esm-small&quot;</td><td>5</td><td>0.1</td><td>0.074845</td></tr><tr><td>&quot;esm-large&quot;</td><td>5</td><td>0.1</td><td>0.073542</td></tr><tr><td>&quot;pst-small&quot;</td><td>5</td><td>0.5</td><td>0.370149</td></tr><tr><td>&quot;genslm&quot;</td><td>5</td><td>0.5</td><td>0.298805</td></tr><tr><td>&quot;pst-large&quot;</td><td>5</td><td>0.5</td><td>0.23857</td></tr><tr><td>&quot;esm-small&quot;</td><td>5</td><td>0.5</td><td>0.235549</td></tr><tr><td>&quot;esm-large&quot;</td><td>5</td><td>0.5</td><td>0.232024</td></tr><tr><td>&quot;pst-small&quot;</td><td>15</td><td>0.1</td><td>0.048594</td></tr><tr><td>&quot;pst-large&quot;</td><td>15</td><td>0.1</td><td>0.041449</td></tr><tr><td>&quot;genslm&quot;</td><td>15</td><td>0.1</td><td>0.036784</td></tr><tr><td>&quot;esm-large&quot;</td><td>15</td><td>0.1</td><td>0.028671</td></tr><tr><td>&quot;esm-small&quot;</td><td>15</td><td>0.1</td><td>0.026672</td></tr><tr><td>&quot;pst-small&quot;</td><td>15</td><td>0.5</td><td>0.221303</td></tr><tr><td>&quot;pst-large&quot;</td><td>15</td><td>0.5</td><td>0.091942</td></tr><tr><td>&quot;genslm&quot;</td><td>15</td><td>0.5</td><td>0.087665</td></tr><tr><td>&quot;esm-small&quot;</td><td>15</td><td>0.5</td><td>0.079305</td></tr><tr><td>&quot;esm-large&quot;</td><td>15</td><td>0.5</td><td>0.077922</td></tr></tbody></table></div>"
      ],
      "text/plain": [
       "shape: (20, 4)\n",
       "┌────────────┬───────┬───────┬──────────┐\n",
       "│ ptn_method ┆ ptn_k ┆ ptn_r ┆ prop     │\n",
       "│ ---        ┆ ---   ┆ ---   ┆ ---      │\n",
       "│ str        ┆ i32   ┆ f64   ┆ f64      │\n",
       "╞════════════╪═══════╪═══════╪══════════╡\n",
       "│ pst-small  ┆ 5     ┆ 0.1   ┆ 0.141046 │\n",
       "│ pst-large  ┆ 5     ┆ 0.1   ┆ 0.105428 │\n",
       "│ genslm     ┆ 5     ┆ 0.1   ┆ 0.084609 │\n",
       "│ esm-small  ┆ 5     ┆ 0.1   ┆ 0.074845 │\n",
       "│ esm-large  ┆ 5     ┆ 0.1   ┆ 0.073542 │\n",
       "│ …          ┆ …     ┆ …     ┆ …        │\n",
       "│ pst-small  ┆ 15    ┆ 0.5   ┆ 0.221303 │\n",
       "│ pst-large  ┆ 15    ┆ 0.5   ┆ 0.091942 │\n",
       "│ genslm     ┆ 15    ┆ 0.5   ┆ 0.087665 │\n",
       "│ esm-small  ┆ 15    ┆ 0.5   ┆ 0.079305 │\n",
       "│ esm-large  ┆ 15    ┆ 0.5   ┆ 0.077922 │\n",
       "└────────────┴───────┴───────┴──────────┘"
      ]
     },
     "execution_count": 14,
     "metadata": {},
     "output_type": "execute_result"
    }
   ],
   "source": [
    "(\n",
    "    proportion_summary\n",
    "    .group_by(\"ptn_method\", \"ptn_k\", \"ptn_r\")\n",
    "    .agg(\n",
    "        pl.mean(\"prop\")\n",
    "    )\n",
    "    .sort([\"ptn_k\", \"ptn_r\", \"prop\"], descending=[False, False, True])\n",
    ")"
   ]
  }
 ],
 "metadata": {
  "kernelspec": {
   "display_name": "datasci",
   "language": "python",
   "name": "python3"
  },
  "language_info": {
   "codemirror_mode": {
    "name": "ipython",
    "version": 3
   },
   "file_extension": ".py",
   "mimetype": "text/x-python",
   "name": "python",
   "nbconvert_exporter": "python",
   "pygments_lexer": "ipython3",
   "version": "3.11.3"
  }
 },
 "nbformat": 4,
 "nbformat_minor": 2
}
