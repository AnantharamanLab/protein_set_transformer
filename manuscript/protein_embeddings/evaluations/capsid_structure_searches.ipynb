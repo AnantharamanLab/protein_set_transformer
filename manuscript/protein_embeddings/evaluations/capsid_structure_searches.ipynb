{
 "cells": [
  {
   "cell_type": "code",
   "execution_count": 1,
   "metadata": {},
   "outputs": [],
   "source": [
    "import os\n",
    "import tables as tb\n",
    "\n",
    "os.environ[\"POLARS_MAX_THREADS\"] = \"128\"\n",
    "import polars as pl\n",
    "import polars.selectors as cs"
   ]
  },
  {
   "cell_type": "code",
   "execution_count": 2,
   "metadata": {},
   "outputs": [
    {
     "name": "stdout",
     "output_type": "stream",
     "text": [
      "Python implementation: CPython\n",
      "Python version       : 3.11.3\n",
      "IPython version      : 8.13.2\n",
      "\n",
      "polars: 0.20.6\n",
      "tables: 3.8.0\n",
      "\n"
     ]
    }
   ],
   "source": [
    "%load_ext watermark\n",
    "%watermark -vp polars,tables"
   ]
  },
  {
   "cell_type": "markdown",
   "metadata": {},
   "source": [
    "# Acquiring a candidate set of proteins for structural searches\n",
    "To search for capsid folds, we used foldseek. Instead of directly predicting a structure (which can be computationally expensive), we used the ProstT5 model implemented in foldseek that translates amino acid alphabets (proteins) to a structural alphabet. This can use pre-existing text alignment strategies (notably implemented in mmseqs2, reimplemented for foldseek) to search structural alphabet databases instead of the most computationally expensive 3D structural alignment.\n",
    "\n",
    "For our investigations, rather than focus on all proteins in our dataset (which would take a long time), we only kept proteins belonging to protein clusters that had either VOG-detectable capsids and unannotated proteins. Our implicit assumption is that these represent protein clusters that are structurally similar, which we indirectly infer by detecting if these unannotated proteins contain capsid-like structural folds."
   ]
  },
  {
   "cell_type": "code",
   "execution_count": 3,
   "metadata": {},
   "outputs": [
    {
     "data": {
      "text/html": [
       "<div><style>\n",
       ".dataframe > thead > tr,\n",
       ".dataframe > tbody > tr {\n",
       "  text-align: right;\n",
       "  white-space: pre-wrap;\n",
       "}\n",
       "</style>\n",
       "<small>shape: (5, 5)</small><table border=\"1\" class=\"dataframe\"><thead><tr><th>ptn</th><th>ptn_id</th><th>vog_bitscore</th><th>vog_annot</th><th>vog_category</th></tr><tr><td>str</td><td>i64</td><td>f64</td><td>str</td><td>str</td></tr></thead><tbody><tr><td>&quot;IMGVR_UViG_256…</td><td>0</td><td>null</td><td>&quot;unknown functi…</td><td>&quot;unknown&quot;</td></tr><tr><td>&quot;IMGVR_UViG_256…</td><td>1</td><td>null</td><td>&quot;unknown functi…</td><td>&quot;unknown&quot;</td></tr><tr><td>&quot;IMGVR_UViG_256…</td><td>2</td><td>null</td><td>&quot;unknown functi…</td><td>&quot;unknown&quot;</td></tr><tr><td>&quot;IMGVR_UViG_256…</td><td>3</td><td>null</td><td>&quot;unknown functi…</td><td>&quot;unknown&quot;</td></tr><tr><td>&quot;IMGVR_UViG_256…</td><td>4</td><td>null</td><td>&quot;unknown functi…</td><td>&quot;unknown&quot;</td></tr></tbody></table></div>"
      ],
      "text/plain": [
       "shape: (5, 5)\n",
       "┌───────────────────────────────────┬────────┬──────────────┬──────────────────┬──────────────┐\n",
       "│ ptn                               ┆ ptn_id ┆ vog_bitscore ┆ vog_annot        ┆ vog_category │\n",
       "│ ---                               ┆ ---    ┆ ---          ┆ ---              ┆ ---          │\n",
       "│ str                               ┆ i64    ┆ f64          ┆ str              ┆ str          │\n",
       "╞═══════════════════════════════════╪════════╪══════════════╪══════════════════╪══════════════╡\n",
       "│ IMGVR_UViG_2561511195_000001|256… ┆ 0      ┆ null         ┆ unknown function ┆ unknown      │\n",
       "│ IMGVR_UViG_2561511195_000001|256… ┆ 1      ┆ null         ┆ unknown function ┆ unknown      │\n",
       "│ IMGVR_UViG_2561511195_000001|256… ┆ 2      ┆ null         ┆ unknown function ┆ unknown      │\n",
       "│ IMGVR_UViG_2561511195_000001|256… ┆ 3      ┆ null         ┆ unknown function ┆ unknown      │\n",
       "│ IMGVR_UViG_2561511195_000001|256… ┆ 4      ┆ null         ┆ unknown function ┆ unknown      │\n",
       "└───────────────────────────────────┴────────┴──────────────┴──────────────────┴──────────────┘"
      ]
     },
     "execution_count": 3,
     "metadata": {},
     "output_type": "execute_result"
    }
   ],
   "source": [
    "# for simplicity we are changing the \"vog_category\"\n",
    "# for major capsid proteins to \"MCP\" instead of \"structural\"\n",
    "mcp_query = (\n",
    "    pl.col(\"vog_annot\").str.contains(\"(?i)(Major )?capsid protein\") &\n",
    "    (~pl.col(\"vog_annot\").str.contains(\"Minor\")) &\n",
    "    pl.col(\"vog_bitscore\").ge(75)\n",
    ")\n",
    "\n",
    "ptn_info = (\n",
    "    pl.scan_csv(\"supplementary_table_2.tsv\", separator=\"\\t\")\n",
    "    .filter(pl.col(\"dataset\") == \"test\")\n",
    "    .with_columns(\n",
    "        vog_category = (\n",
    "            pl.when(mcp_query)\n",
    "            .then(pl.lit(\"MCP\"))\n",
    "            .otherwise(pl.col(\"vog_category\"))\n",
    "        )\n",
    "    )\n",
    "    .drop(cs.starts_with(\"phrog\"))\n",
    "    .drop(\"genome\", \"genome_id\", \"dataset\")\n",
    "    .collect()\n",
    ")\n",
    "\n",
    "\n",
    "\n",
    "ptn_info.head()"
   ]
  },
  {
   "cell_type": "markdown",
   "metadata": {},
   "source": [
    "We select our candidates from all combinations of protein-genome clustering. We only consider genome clustering with the hyperparameters of k=15 and resolution=1.0 (high):"
   ]
  },
  {
   "cell_type": "code",
   "execution_count": 4,
   "metadata": {},
   "outputs": [
    {
     "data": {
      "text/plain": [
       "72322"
      ]
     },
     "execution_count": 4,
     "metadata": {},
     "output_type": "execute_result"
    }
   ],
   "source": [
    "candidates: list[pl.LazyFrame] = []\n",
    "\n",
    "ptn_embedding_methods = [\"esm-small\", \"esm-large\", \"pst-small\", \"pst-large\", \"genslm\"]\n",
    "with tb.open_file(\"embedding-based_protein_clusters_per_genome_cluster.h5\") as fp:\n",
    "    for gm_node in fp.root:\n",
    "        genome_method = gm_node._v_name\n",
    "\n",
    "        for ptn_method in ptn_embedding_methods:\n",
    "            clustering_metadata = gm_node[\"metadata\"][:]\n",
    "            ptn_clusters = gm_node[ptn_method][:]\n",
    "            genome_clusters = gm_node[\"genome\"][:]\n",
    "\n",
    "            for pclu, gclu, (genome_k, genome_res, protein_k, protein_res) in zip(\n",
    "                ptn_clusters, genome_clusters, clustering_metadata\n",
    "            ):\n",
    "                if (genome_k != 15) or (genome_res != 1.0) or (protein_res == 0.85):\n",
    "                    continue\n",
    "\n",
    "                ptn_df = (\n",
    "                    ptn_info\n",
    "                    .lazy()\n",
    "                    .with_columns(\n",
    "                        genome_cluster = pl.lit(gclu),\n",
    "                        protein_cluster = pl.lit(pclu),\n",
    "                    )\n",
    "                    .with_columns(\n",
    "                        cluster_size = pl.len().over(\"genome_cluster\", \"protein_cluster\")\n",
    "                    )\n",
    "                    .filter(pl.col(\"cluster_size\") > 1)\n",
    "                    .with_columns(\n",
    "                        num_categories = pl.n_unique(\"vog_category\").over(\"genome_cluster\", \"protein_cluster\"),\n",
    "                        interested = (\n",
    "                            pl.col(\"vog_category\")\n",
    "                            .is_in([\"MCP\", \"unknown\"])\n",
    "                            .all()\n",
    "                            .over(\"genome_cluster\", \"protein_cluster\")\n",
    "                        )\n",
    "                    )\n",
    "                    .filter(\n",
    "                        (pl.col(\"num_categories\") == 2)\n",
    "                        & pl.col(\"interested\")\n",
    "                    )\n",
    "                    .select(\"ptn\")\n",
    "                )\n",
    "\n",
    "                candidates.append(ptn_df)\n",
    "\n",
    "candidate_proteins = (\n",
    "    pl.concat(pl.collect_all(candidates))\n",
    "    [\"ptn\"]\n",
    "    .value_counts()\n",
    "    .filter(pl.col(\"count\") >= 10)\n",
    ")\n",
    "\n",
    "len(candidate_proteins)"
   ]
  },
  {
   "cell_type": "markdown",
   "metadata": {},
   "source": [
    "To this set of 72,322 proteins, we considered that these proteins belong to sequence identity-based clusters, since those are the most similar proteins in the traditional sense. These additional proteins are homologs to those above. Think of these more as like positive controls."
   ]
  },
  {
   "cell_type": "code",
   "execution_count": 5,
   "metadata": {},
   "outputs": [],
   "source": [
    "mmseqs_clusters = (\n",
    "    pl.read_csv(\n",
    "        \"sequence_identity_clusters.tsv\", \n",
    "        separator=\"\\t\",\n",
    "        has_header=False,\n",
    "        new_columns=[\"rep\", \"ptn\"],\n",
    "    )\n",
    "    .with_columns(\n",
    "        cluster_size = pl.col(\"ptn\").len().over(\"rep\"),\n",
    "        cluster_id = pl.col(\"rep\").rle_id(),\n",
    "    )\n",
    ")"
   ]
  },
  {
   "cell_type": "markdown",
   "metadata": {},
   "source": [
    "First we need to detect the mmseqs clusters that contain capsids:"
   ]
  },
  {
   "cell_type": "code",
   "execution_count": 6,
   "metadata": {},
   "outputs": [
    {
     "data": {
      "text/plain": [
       "46564"
      ]
     },
     "execution_count": 6,
     "metadata": {},
     "output_type": "execute_result"
    }
   ],
   "source": [
    "detectable_mcp_clusters = (\n",
    "    ptn_info\n",
    "    .filter(pl.col(\"vog_category\") == \"MCP\")\n",
    "    .select(\"ptn\")\n",
    "    .join(mmseqs_clusters, on=\"ptn\")\n",
    "    .filter(pl.col(\"cluster_size\") > 1)\n",
    "    [\"cluster_id\"]\n",
    ")\n",
    "\n",
    "len(detectable_mcp_clusters)"
   ]
  },
  {
   "cell_type": "markdown",
   "metadata": {},
   "source": [
    "Then choose all mmseqs clusters that contain both capsids and unannotated proteins:"
   ]
  },
  {
   "cell_type": "code",
   "execution_count": 7,
   "metadata": {},
   "outputs": [
    {
     "data": {
      "text/plain": [
       "40357"
      ]
     },
     "execution_count": 7,
     "metadata": {},
     "output_type": "execute_result"
    }
   ],
   "source": [
    "unknown_with_mcp_clusters = (\n",
    "    ptn_info\n",
    "    .join(mmseqs_clusters, on=\"ptn\")\n",
    "    .filter(pl.col(\"cluster_id\").is_in(detectable_mcp_clusters))\n",
    "    .group_by(\"cluster_id\")\n",
    "    .agg(\n",
    "        pl.first(\"cluster_size\"),\n",
    "        cats = pl.col(\"vog_category\").unique(),\n",
    "    )\n",
    "    # should also have at least 1 MCP due to the filter on line 4\n",
    "    .filter(pl.col(\"cats\").list.contains(\"unknown\"))\n",
    "    [\"cluster_id\"]\n",
    ")\n",
    "\n",
    "mmseqs_ptn_candidates = (\n",
    "    mmseqs_clusters\n",
    "    .filter(pl.col(\"cluster_id\").is_in(unknown_with_mcp_clusters))\n",
    "    [\"ptn\"]\n",
    ")\n",
    "\n",
    "len(mmseqs_ptn_candidates)"
   ]
  },
  {
   "cell_type": "markdown",
   "metadata": {},
   "source": [
    "Thus, the total number of candidate proteins to search for structural similarity to capsid proteins is:"
   ]
  },
  {
   "cell_type": "code",
   "execution_count": 8,
   "metadata": {},
   "outputs": [
    {
     "data": {
      "text/plain": [
       "100704"
      ]
     },
     "execution_count": 8,
     "metadata": {},
     "output_type": "execute_result"
    }
   ],
   "source": [
    "total_candidates = set(candidate_proteins[\"ptn\"]) | set(mmseqs_ptn_candidates)\n",
    "\n",
    "len(total_candidates)"
   ]
  },
  {
   "cell_type": "markdown",
   "metadata": {},
   "source": [
    "We then extracted the 100,704 candidated MCPs into a separate FASTA file and ran the following `foldseek` (v9.427df8a) commands to:\n",
    "1. Convert these protein sequences in to the 3Di-structure sequence:\n",
    "\n",
    "```bash\n",
    "# download ProstT5 model\n",
    "foldseek databases ProstT5 prostt5 tmp\n",
    "\n",
    "# translate protein amino acids to structure\n",
    "foldseek createdb FASTAFILE structDB --prostt5-model prostt5\n",
    "```\n",
    "\n",
    "2. Search against Protein Data Bank structures\n",
    "\n",
    "```bash\n",
    "# use foldseek to download structures\n",
    "foldseek databases PDB pdb tmp\n",
    "\n",
    "# then search\n",
    "foldseek search structDB pdb/pdb searchDB tmp\n",
    "```\n",
    "\n",
    "3. Then compute alignment stats\n",
    "\n",
    "```bash\n",
    "foldseek convertalis structDB pdb/pdb searchDB\n",
    "```\n",
    "\n",
    "The structural alignments from this analysis are available with the supplementary data at the path: `fig4/capsid_candidates_structural_search_against_pdb.tsv`\n",
    "\n",
    "Then, to determine which PDB structures corresponded to capsids, we queried PDB at the web server ([https://www.rcsb.org](https://www.rcsb.org)) with: `capsid, major capsid, coat, minor capsid, virion`, and selected all PDB IDs the came up. This list of capsid PDB IDs is available with supplementary data at: `fig4/capsid_pdb_ids.txt`.\n",
    "\n",
    "# Analyzing structural searches\n",
    "\n",
    "We used the above 2 files to process the structural alignment results:"
   ]
  },
  {
   "cell_type": "code",
   "execution_count": 9,
   "metadata": {},
   "outputs": [
    {
     "data": {
      "text/html": [
       "<div><style>\n",
       ".dataframe > thead > tr,\n",
       ".dataframe > tbody > tr {\n",
       "  text-align: right;\n",
       "  white-space: pre-wrap;\n",
       "}\n",
       "</style>\n",
       "<small>shape: (69_546, 17)</small><table border=\"1\" class=\"dataframe\"><thead><tr><th>query</th><th>target</th><th>fident</th><th>alnlen</th><th>mismatch</th><th>gapopen</th><th>qstart</th><th>qend</th><th>tstart</th><th>tend</th><th>evalue</th><th>bits</th><th>qlen</th><th>tlen</th><th>pdb_id</th><th>chain</th><th>is_capsid</th></tr><tr><td>str</td><td>str</td><td>f64</td><td>i64</td><td>i64</td><td>i64</td><td>i64</td><td>i64</td><td>i64</td><td>i64</td><td>f64</td><td>i64</td><td>i64</td><td>i64</td><td>str</td><td>str</td><td>bool</td></tr></thead><tbody><tr><td>&quot;IMGVR_UViG_GVM…</td><td>&quot;8h2i-assembly1…</td><td>0.306</td><td>516</td><td>300</td><td>0</td><td>3</td><td>435</td><td>2</td><td>517</td><td>6.8630e-36</td><td>1581</td><td>437</td><td>517</td><td>&quot;8H2I&quot;</td><td>&quot;BU&quot;</td><td>true</td></tr><tr><td>&quot;IMGVR_UViG_330…</td><td>&quot;2fs3-assembly1…</td><td>0.196</td><td>287</td><td>206</td><td>0</td><td>155</td><td>441</td><td>1</td><td>257</td><td>3.1010e-14</td><td>630</td><td>448</td><td>258</td><td>&quot;2FS3&quot;</td><td>&quot;F&quot;</td><td>true</td></tr><tr><td>&quot;IMGVR_UViG_GVM…</td><td>&quot;8h2i-assembly1…</td><td>0.342</td><td>540</td><td>286</td><td>0</td><td>3</td><td>542</td><td>2</td><td>436</td><td>9.7660e-39</td><td>1650</td><td>542</td><td>436</td><td>&quot;8H2I-ASSEMBLY1…</td><td>&quot;AB-5&quot;</td><td>false</td></tr><tr><td>&quot;IMGVR_UViG_330…</td><td>&quot;6ibc-assembly1…</td><td>0.166</td><td>365</td><td>296</td><td>0</td><td>2</td><td>357</td><td>10</td><td>374</td><td>8.0110e-13</td><td>563</td><td>358</td><td>374</td><td>&quot;6IBC-ASSEMBLY1…</td><td>&quot;A-60&quot;</td><td>false</td></tr><tr><td>&quot;IMGVR_UViG_330…</td><td>&quot;1if0-assembly1…</td><td>0.134</td><td>299</td><td>219</td><td>0</td><td>94</td><td>392</td><td>3</td><td>256</td><td>2.4010e-9</td><td>431</td><td>393</td><td>256</td><td>&quot;1IF0&quot;</td><td>&quot;D&quot;</td><td>true</td></tr><tr><td>&quot;IMGVR_UViG_275…</td><td>&quot;2fs3-assembly1…</td><td>0.754</td><td>277</td><td>68</td><td>0</td><td>106</td><td>382</td><td>3</td><td>279</td><td>2.8700e-37</td><td>1510</td><td>388</td><td>280</td><td>&quot;2FS3-ASSEMBLY1…</td><td>&quot;A-60&quot;</td><td>false</td></tr><tr><td>&quot;IMGVR_UViG_261…</td><td>&quot;2r7h-assembly1…</td><td>0.103</td><td>165</td><td>138</td><td>0</td><td>2</td><td>166</td><td>3</td><td>157</td><td>2.8800e-7</td><td>331</td><td>169</td><td>159</td><td>&quot;2R7H&quot;</td><td>&quot;B&quot;</td><td>false</td></tr><tr><td>&quot;IMGVR_UViG_330…</td><td>&quot;7lcc-assembly1…</td><td>0.196</td><td>118</td><td>85</td><td>0</td><td>16</td><td>122</td><td>361</td><td>478</td><td>0.004488</td><td>180</td><td>290</td><td>1369</td><td>&quot;7LCC&quot;</td><td>&quot;A&quot;</td><td>false</td></tr><tr><td>&quot;IMGVR_UViG_330…</td><td>&quot;1gff-assembly1…</td><td>0.177</td><td>282</td><td>216</td><td>0</td><td>17</td><td>280</td><td>3</td><td>284</td><td>0.0003871</td><td>212</td><td>424</td><td>417</td><td>&quot;1GFF&quot;</td><td>&quot;1&quot;</td><td>true</td></tr><tr><td>&quot;IMGVR_UViG_330…</td><td>&quot;6ab6-assembly1…</td><td>0.131</td><td>351</td><td>292</td><td>0</td><td>54</td><td>404</td><td>1</td><td>337</td><td>0.000003</td><td>320</td><td>416</td><td>337</td><td>&quot;6AB6&quot;</td><td>&quot;C&quot;</td><td>true</td></tr><tr><td>&quot;IMGVR_UViG_330…</td><td>&quot;1opo-assembly1…</td><td>0.161</td><td>314</td><td>218</td><td>0</td><td>58</td><td>371</td><td>1</td><td>261</td><td>3.0530e-7</td><td>355</td><td>373</td><td>268</td><td>&quot;1OPO&quot;</td><td>&quot;C&quot;</td><td>true</td></tr><tr><td>&quot;IMGVR_UViG_GVM…</td><td>&quot;8h2i-assembly1…</td><td>0.435</td><td>435</td><td>197</td><td>0</td><td>3</td><td>351</td><td>2</td><td>436</td><td>1.9220e-37</td><td>1636</td><td>351</td><td>436</td><td>&quot;8H2I-ASSEMBLY1…</td><td>&quot;AB-5&quot;</td><td>false</td></tr><tr><td>&hellip;</td><td>&hellip;</td><td>&hellip;</td><td>&hellip;</td><td>&hellip;</td><td>&hellip;</td><td>&hellip;</td><td>&hellip;</td><td>&hellip;</td><td>&hellip;</td><td>&hellip;</td><td>&hellip;</td><td>&hellip;</td><td>&hellip;</td><td>&hellip;</td><td>&hellip;</td><td>&hellip;</td></tr><tr><td>&quot;IMGVR_UViG_330…</td><td>&quot;2yrq-assembly1…</td><td>0.263</td><td>88</td><td>60</td><td>0</td><td>1</td><td>88</td><td>59</td><td>141</td><td>0.02417</td><td>136</td><td>92</td><td>173</td><td>&quot;2YRQ&quot;</td><td>&quot;A&quot;</td><td>false</td></tr><tr><td>&quot;IMGVR_UViG_330…</td><td>&quot;1gff-assembly1…</td><td>0.124</td><td>350</td><td>247</td><td>0</td><td>23</td><td>372</td><td>1</td><td>283</td><td>0.01596</td><td>159</td><td>546</td><td>417</td><td>&quot;1GFF&quot;</td><td>&quot;1&quot;</td><td>true</td></tr><tr><td>&quot;IMGVR_UViG_330…</td><td>&quot;1nhm-assembly1…</td><td>0.272</td><td>55</td><td>35</td><td>0</td><td>42</td><td>90</td><td>4</td><td>58</td><td>0.08519</td><td>114</td><td>90</td><td>79</td><td>&quot;1NHM&quot;</td><td>&quot;A&quot;</td><td>false</td></tr><tr><td>&quot;IMGVR_UViG_GVM…</td><td>&quot;8h2i-assembly1…</td><td>0.329</td><td>618</td><td>291</td><td>0</td><td>3</td><td>620</td><td>2</td><td>436</td><td>7.5160e-37</td><td>1570</td><td>620</td><td>436</td><td>&quot;8H2I-ASSEMBLY1…</td><td>&quot;AB-5&quot;</td><td>false</td></tr><tr><td>&quot;IMGVR_UViG_330…</td><td>&quot;8eld-assembly1…</td><td>0.105</td><td>290</td><td>215</td><td>0</td><td>44</td><td>284</td><td>36</td><td>325</td><td>5.0620e-10</td><td>459</td><td>284</td><td>327</td><td>&quot;8ELD&quot;</td><td>&quot;A&quot;</td><td>true</td></tr><tr><td>&quot;IMGVR_UViG_330…</td><td>&quot;2fs3-assembly1…</td><td>0.109</td><td>288</td><td>224</td><td>0</td><td>27</td><td>314</td><td>4</td><td>255</td><td>4.8400e-9</td><td>401</td><td>317</td><td>258</td><td>&quot;2FS3&quot;</td><td>&quot;F&quot;</td><td>true</td></tr><tr><td>&quot;IMGVR_UViG_330…</td><td>&quot;5opz-assembly2…</td><td>0.198</td><td>113</td><td>90</td><td>0</td><td>39</td><td>151</td><td>21</td><td>133</td><td>0.1558</td><td>117</td><td>168</td><td>133</td><td>&quot;5OPZ&quot;</td><td>&quot;B&quot;</td><td>false</td></tr><tr><td>&quot;IMGVR_UViG_639…</td><td>&quot;3bjq-assembly1…</td><td>0.2</td><td>323</td><td>242</td><td>0</td><td>1</td><td>323</td><td>1</td><td>303</td><td>2.5530e-17</td><td>721</td><td>324</td><td>303</td><td>&quot;3BJQ&quot;</td><td>&quot;B&quot;</td><td>false</td></tr><tr><td>&quot;IMGVR_UViG_GVM…</td><td>&quot;8h2i-assembly1…</td><td>0.43</td><td>65</td><td>36</td><td>0</td><td>2</td><td>66</td><td>1</td><td>65</td><td>0.01055</td><td>152</td><td>118</td><td>436</td><td>&quot;8H2I-ASSEMBLY1…</td><td>&quot;AB-5&quot;</td><td>false</td></tr><tr><td>&quot;IMGVR_UViG_330…</td><td>&quot;7mh2-assembly1…</td><td>0.143</td><td>290</td><td>231</td><td>0</td><td>354</td><td>643</td><td>2</td><td>271</td><td>2.2320e-10</td><td>500</td><td>649</td><td>279</td><td>&quot;7MH2&quot;</td><td>&quot;B&quot;</td><td>false</td></tr><tr><td>&quot;IMGVR_UViG_330…</td><td>&quot;8ppv-assembly1…</td><td>0.153</td><td>277</td><td>233</td><td>0</td><td>56</td><td>332</td><td>167</td><td>442</td><td>6.9390e-9</td><td>395</td><td>335</td><td>447</td><td>&quot;8PPV&quot;</td><td>&quot;A&quot;</td><td>false</td></tr><tr><td>&quot;IMGVR_UViG_330…</td><td>&quot;6yfh-assembly1…</td><td>0.445</td><td>142</td><td>77</td><td>0</td><td>3</td><td>144</td><td>2</td><td>141</td><td>0.000008</td><td>277</td><td>159</td><td>156</td><td>&quot;6YFH&quot;</td><td>&quot;AA&quot;</td><td>true</td></tr></tbody></table></div>"
      ],
      "text/plain": [
       "shape: (69_546, 17)\n",
       "┌────────────────┬────────────────┬────────┬────────┬───┬──────┬───────────────┬───────┬───────────┐\n",
       "│ query          ┆ target         ┆ fident ┆ alnlen ┆ … ┆ tlen ┆ pdb_id        ┆ chain ┆ is_capsid │\n",
       "│ ---            ┆ ---            ┆ ---    ┆ ---    ┆   ┆ ---  ┆ ---           ┆ ---   ┆ ---       │\n",
       "│ str            ┆ str            ┆ f64    ┆ i64    ┆   ┆ i64  ┆ str           ┆ str   ┆ bool      │\n",
       "╞════════════════╪════════════════╪════════╪════════╪═══╪══════╪═══════════════╪═══════╪═══════════╡\n",
       "│ IMGVR_UViG_GVM ┆ 8h2i-assembly1 ┆ 0.306  ┆ 516    ┆ … ┆ 517  ┆ 8H2I          ┆ BU    ┆ true      │\n",
       "│ AG-S-ERX555967 ┆ .cif.gz_bu     ┆        ┆        ┆   ┆      ┆               ┆       ┆           │\n",
       "│ -93_…          ┆                ┆        ┆        ┆   ┆      ┆               ┆       ┆           │\n",
       "│ IMGVR_UViG_330 ┆ 2fs3-assembly1 ┆ 0.196  ┆ 287    ┆ … ┆ 258  ┆ 2FS3          ┆ F     ┆ true      │\n",
       "│ 0034061_001882 ┆ .cif.gz_F      ┆        ┆        ┆   ┆      ┆               ┆       ┆           │\n",
       "│ |330…          ┆                ┆        ┆        ┆   ┆      ┆               ┆       ┆           │\n",
       "│ IMGVR_UViG_GVM ┆ 8h2i-assembly1 ┆ 0.342  ┆ 540    ┆ … ┆ 436  ┆ 8H2I-ASSEMBLY ┆ AB-5  ┆ false     │\n",
       "│ AG-M-330000224 ┆ .cif.gz_ab-5   ┆        ┆        ┆   ┆      ┆ 1.CIF.GZ_AB   ┆       ┆           │\n",
       "│ 2-2_…          ┆                ┆        ┆        ┆   ┆      ┆               ┆       ┆           │\n",
       "│ IMGVR_UViG_330 ┆ 6ibc-assembly1 ┆ 0.166  ┆ 365    ┆ … ┆ 374  ┆ 6IBC-ASSEMBLY ┆ A-60  ┆ false     │\n",
       "│ 0037453_000373 ┆ .cif.gz_A-60   ┆        ┆        ┆   ┆      ┆ 1.CIF.GZ_A    ┆       ┆           │\n",
       "│ |330…          ┆                ┆        ┆        ┆   ┆      ┆               ┆       ┆           │\n",
       "│ IMGVR_UViG_330 ┆ 1if0-assembly1 ┆ 0.134  ┆ 299    ┆ … ┆ 256  ┆ 1IF0          ┆ D     ┆ true      │\n",
       "│ 0036985_003246 ┆ .cif.gz_D      ┆        ┆        ┆   ┆      ┆               ┆       ┆           │\n",
       "│ |330…          ┆                ┆        ┆        ┆   ┆      ┆               ┆       ┆           │\n",
       "│ …              ┆ …              ┆ …      ┆ …      ┆ … ┆ …    ┆ …             ┆ …     ┆ …         │\n",
       "│ IMGVR_UViG_639 ┆ 3bjq-assembly1 ┆ 0.2    ┆ 323    ┆ … ┆ 303  ┆ 3BJQ          ┆ B     ┆ false     │\n",
       "│ 857001_000001| ┆ .cif.gz_B      ┆        ┆        ┆   ┆      ┆               ┆       ┆           │\n",
       "│ 6398…          ┆                ┆        ┆        ┆   ┆      ┆               ┆       ┆           │\n",
       "│ IMGVR_UViG_GVM ┆ 8h2i-assembly1 ┆ 0.43   ┆ 65     ┆ … ┆ 436  ┆ 8H2I-ASSEMBLY ┆ AB-5  ┆ false     │\n",
       "│ AG-M-330000427 ┆ .cif.gz_ab-5   ┆        ┆        ┆   ┆      ┆ 1.CIF.GZ_AB   ┆       ┆           │\n",
       "│ 7-10…          ┆                ┆        ┆        ┆   ┆      ┆               ┆       ┆           │\n",
       "│ IMGVR_UViG_330 ┆ 7mh2-assembly1 ┆ 0.143  ┆ 290    ┆ … ┆ 279  ┆ 7MH2          ┆ B     ┆ false     │\n",
       "│ 0020047_017371 ┆ .cif.gz_B      ┆        ┆        ┆   ┆      ┆               ┆       ┆           │\n",
       "│ |330…          ┆                ┆        ┆        ┆   ┆      ┆               ┆       ┆           │\n",
       "│ IMGVR_UViG_330 ┆ 8ppv-assembly1 ┆ 0.153  ┆ 277    ┆ … ┆ 447  ┆ 8PPV          ┆ A     ┆ false     │\n",
       "│ 0042449_002081 ┆ .cif.gz_A      ┆        ┆        ┆   ┆      ┆               ┆       ┆           │\n",
       "│ |330…          ┆                ┆        ┆        ┆   ┆      ┆               ┆       ┆           │\n",
       "│ IMGVR_UViG_330 ┆ 6yfh-assembly1 ┆ 0.445  ┆ 142    ┆ … ┆ 156  ┆ 6YFH          ┆ AA    ┆ true      │\n",
       "│ 0043810_000065 ┆ .cif.gz_AA     ┆        ┆        ┆   ┆      ┆               ┆       ┆           │\n",
       "│ |330…          ┆                ┆        ┆        ┆   ┆      ┆               ┆       ┆           │\n",
       "└────────────────┴────────────────┴────────┴────────┴───┴──────┴───────────────┴───────┴───────────┘"
      ]
     },
     "execution_count": 9,
     "metadata": {},
     "output_type": "execute_result"
    }
   ],
   "source": [
    "foldseek_columns = \"query,target,fident,alnlen,mismatch,gapopen,qstart,qend,tstart,tend,evalue,bits,qlen,tlen\".split(\",\")\n",
    "\n",
    "with open(\"supplementary_data/fig4/capsid_pdb_ids.txt\") as fp:\n",
    "    capsid_pdb_ids = {line.rstrip() for line in fp}\n",
    "\n",
    "struct_aln = (\n",
    "    pl.scan_csv(\n",
    "        \"supplementary_data/fig4/capsid_candidates_structural_search_against_pdb.tsv\",\n",
    "        separator=\"\\t\",\n",
    "        has_header=False,\n",
    "        new_columns=foldseek_columns,\n",
    "    )\n",
    "    .filter(pl.col(\"bits\") >= 100.)\n",
    "    .with_columns(\n",
    "        pdb_id = pl.col(\"target\").str.extract(\"^(.*)?-.*$\").str.to_uppercase(),\n",
    "        chain = pl.col(\"target\").str.split(\"_\").list.get(1).str.to_uppercase(),\n",
    "    )\n",
    "    .with_columns(\n",
    "        is_capsid = pl.col(\"pdb_id\").is_in(capsid_pdb_ids),\n",
    "    )\n",
    "    .sort(\"bits\", descending=True)\n",
    "    # choose best PDB hit for each query protein\n",
    "    .unique(subset=\"query\", keep=\"first\")\n",
    "    .collect()\n",
    ")\n",
    "\n",
    "struct_aln"
   ]
  },
  {
   "cell_type": "markdown",
   "metadata": {},
   "source": [
    "Now we compute for each protein cluster only containing only unannotated proteins and VOG-detectable capsids the proportion of unannotated proteins that have structural similarity to capsids in the above table:"
   ]
  },
  {
   "cell_type": "code",
   "execution_count": 10,
   "metadata": {},
   "outputs": [
    {
     "data": {
      "text/html": [
       "<div><style>\n",
       ".dataframe > thead > tr,\n",
       ".dataframe > tbody > tr {\n",
       "  text-align: right;\n",
       "  white-space: pre-wrap;\n",
       "}\n",
       "</style>\n",
       "<small>shape: (10_461_674, 30)</small><table border=\"1\" class=\"dataframe\"><thead><tr><th>ptn</th><th>ptn_id</th><th>vog_bitscore</th><th>vog_annot</th><th>vog_category</th><th>genome_cluster</th><th>protein_cluster</th><th>cluster_size</th><th>target</th><th>fident</th><th>alnlen</th><th>mismatch</th><th>gapopen</th><th>qstart</th><th>qend</th><th>tstart</th><th>tend</th><th>evalue</th><th>bits</th><th>qlen</th><th>tlen</th><th>pdb_id</th><th>chain</th><th>is_capsid</th><th>ptn_method</th><th>genome_method</th><th>genome_k</th><th>genome_r</th><th>ptn_r</th><th>ptn_k</th></tr><tr><td>str</td><td>i64</td><td>f64</td><td>str</td><td>str</td><td>u32</td><td>u32</td><td>u32</td><td>str</td><td>f64</td><td>i64</td><td>i64</td><td>i64</td><td>i64</td><td>i64</td><td>i64</td><td>i64</td><td>f64</td><td>i64</td><td>i64</td><td>i64</td><td>str</td><td>str</td><td>bool</td><td>str</td><td>str</td><td>i32</td><td>f64</td><td>f64</td><td>i32</td></tr></thead><tbody><tr><td>&quot;IMGVR_UViG_257…</td><td>43</td><td>null</td><td>&quot;unknown functi…</td><td>&quot;unknown&quot;</td><td>2</td><td>1</td><td>16</td><td>&quot;4dam-assembly2…</td><td>0.162</td><td>104</td><td>85</td><td>0</td><td>1</td><td>103</td><td>1</td><td>104</td><td>0.0001624</td><td>262</td><td>105</td><td>108</td><td>&quot;4DAM&quot;</td><td>&quot;H&quot;</td><td>false</td><td>&quot;esm-small&quot;</td><td>&quot;ctx-avg-large&quot;</td><td>15</td><td>1.0</td><td>0.1</td><td>5</td></tr><tr><td>&quot;IMGVR_UViG_264…</td><td>1012</td><td>260.42</td><td>&quot;sp|P15895|ORF4…</td><td>&quot;unknown&quot;</td><td>60</td><td>0</td><td>15</td><td>&quot;4v8p-assembly4…</td><td>0.097</td><td>115</td><td>103</td><td>0</td><td>14</td><td>128</td><td>33</td><td>147</td><td>0.2194</td><td>121</td><td>143</td><td>156</td><td>&quot;4V8P&quot;</td><td>&quot;GP&quot;</td><td>false</td><td>&quot;esm-small&quot;</td><td>&quot;ctx-avg-large&quot;</td><td>15</td><td>1.0</td><td>0.1</td><td>5</td></tr><tr><td>&quot;IMGVR_UViG_264…</td><td>1014</td><td>null</td><td>&quot;unknown functi…</td><td>&quot;unknown&quot;</td><td>60</td><td>2</td><td>13</td><td>&quot;3pvv-assembly2…</td><td>0.086</td><td>58</td><td>49</td><td>0</td><td>45</td><td>99</td><td>23</td><td>80</td><td>0.6603</td><td>109</td><td>150</td><td>95</td><td>&quot;3PVV&quot;</td><td>&quot;B&quot;</td><td>false</td><td>&quot;esm-small&quot;</td><td>&quot;ctx-avg-large&quot;</td><td>15</td><td>1.0</td><td>0.1</td><td>5</td></tr><tr><td>&quot;IMGVR_UViG_264…</td><td>1016</td><td>332.97</td><td>&quot;sp|P15893|ORF2…</td><td>&quot;unknown&quot;</td><td>60</td><td>3</td><td>7</td><td>&quot;6p8v-assembly1…</td><td>0.165</td><td>146</td><td>107</td><td>0</td><td>75</td><td>203</td><td>72</td><td>217</td><td>0.00001</td><td>267</td><td>224</td><td>302</td><td>&quot;6P8V&quot;</td><td>&quot;B&quot;</td><td>false</td><td>&quot;esm-small&quot;</td><td>&quot;ctx-avg-large&quot;</td><td>15</td><td>1.0</td><td>0.1</td><td>5</td></tr><tr><td>&quot;IMGVR_UViG_264…</td><td>1021</td><td>null</td><td>&quot;unknown functi…</td><td>&quot;unknown&quot;</td><td>60</td><td>1</td><td>18</td><td>&quot;3pvv-assembly2…</td><td>0.086</td><td>58</td><td>49</td><td>0</td><td>45</td><td>99</td><td>23</td><td>80</td><td>0.6603</td><td>109</td><td>150</td><td>95</td><td>&quot;3PVV&quot;</td><td>&quot;B&quot;</td><td>false</td><td>&quot;esm-small&quot;</td><td>&quot;ctx-avg-large&quot;</td><td>15</td><td>1.0</td><td>0.1</td><td>5</td></tr><tr><td>&quot;IMGVR_UViG_264…</td><td>1022</td><td>null</td><td>&quot;unknown functi…</td><td>&quot;unknown&quot;</td><td>60</td><td>1</td><td>18</td><td>&quot;3pvv-assembly2…</td><td>0.086</td><td>58</td><td>49</td><td>0</td><td>45</td><td>99</td><td>23</td><td>80</td><td>0.6603</td><td>109</td><td>150</td><td>95</td><td>&quot;3PVV&quot;</td><td>&quot;B&quot;</td><td>false</td><td>&quot;esm-small&quot;</td><td>&quot;ctx-avg-large&quot;</td><td>15</td><td>1.0</td><td>0.1</td><td>5</td></tr><tr><td>&quot;IMGVR_UViG_264…</td><td>1023</td><td>177.56</td><td>&quot;sp|P15892|ORF1…</td><td>&quot;unknown&quot;</td><td>60</td><td>1</td><td>18</td><td>&quot;8snb-assembly1…</td><td>0.109</td><td>146</td><td>118</td><td>0</td><td>68</td><td>213</td><td>3</td><td>135</td><td>0.1312</td><td>124</td><td>423</td><td>529</td><td>&quot;8SNB&quot;</td><td>&quot;7G&quot;</td><td>false</td><td>&quot;esm-small&quot;</td><td>&quot;ctx-avg-large&quot;</td><td>15</td><td>1.0</td><td>0.1</td><td>5</td></tr><tr><td>&quot;IMGVR_UViG_264…</td><td>1025</td><td>null</td><td>&quot;unknown functi…</td><td>&quot;unknown&quot;</td><td>60</td><td>0</td><td>15</td><td>&quot;4oq2-assembly1…</td><td>0.177</td><td>117</td><td>94</td><td>0</td><td>1</td><td>115</td><td>22</td><td>138</td><td>0.001093</td><td>183</td><td>115</td><td>297</td><td>&quot;4OQ2&quot;</td><td>&quot;A&quot;</td><td>false</td><td>&quot;esm-small&quot;</td><td>&quot;ctx-avg-large&quot;</td><td>15</td><td>1.0</td><td>0.1</td><td>5</td></tr><tr><td>&quot;IMGVR_UViG_265…</td><td>1096</td><td>null</td><td>&quot;unknown functi…</td><td>&quot;unknown&quot;</td><td>64</td><td>3</td><td>15</td><td>&quot;7u8r-assembly1…</td><td>0.12</td><td>166</td><td>118</td><td>0</td><td>4</td><td>169</td><td>13</td><td>147</td><td>0.698</td><td>113</td><td>186</td><td>150</td><td>&quot;7U8R&quot;</td><td>&quot;H&quot;</td><td>false</td><td>&quot;esm-small&quot;</td><td>&quot;ctx-avg-large&quot;</td><td>15</td><td>1.0</td><td>0.1</td><td>5</td></tr><tr><td>&quot;IMGVR_UViG_265…</td><td>1098</td><td>null</td><td>&quot;unknown functi…</td><td>&quot;unknown&quot;</td><td>64</td><td>3</td><td>15</td><td>&quot;4jiu-assembly1…</td><td>0.242</td><td>95</td><td>67</td><td>0</td><td>135</td><td>224</td><td>2</td><td>96</td><td>0.000051</td><td>262</td><td>229</td><td>105</td><td>&quot;4JIU&quot;</td><td>&quot;A&quot;</td><td>false</td><td>&quot;esm-small&quot;</td><td>&quot;ctx-avg-large&quot;</td><td>15</td><td>1.0</td><td>0.1</td><td>5</td></tr><tr><td>&quot;IMGVR_UViG_268…</td><td>1284</td><td>41.66</td><td>&quot;sp|P15794|CAPS…</td><td>&quot;structural&quot;</td><td>76</td><td>0</td><td>11</td><td>&quot;2vvf-assembly1…</td><td>0.166</td><td>281</td><td>219</td><td>0</td><td>2</td><td>282</td><td>3</td><td>266</td><td>8.1940e-12</td><td>580</td><td>283</td><td>269</td><td>&quot;2VVF&quot;</td><td>&quot;A&quot;</td><td>true</td><td>&quot;esm-small&quot;</td><td>&quot;ctx-avg-large&quot;</td><td>15</td><td>1.0</td><td>0.1</td><td>5</td></tr><tr><td>&quot;IMGVR_UViG_GVM…</td><td>3634</td><td>543.89</td><td>&quot;sp|A7U6E9|MCP_…</td><td>&quot;MCP&quot;</td><td>202</td><td>9</td><td>20</td><td>&quot;8h2i-assembly1…</td><td>0.338</td><td>435</td><td>282</td><td>0</td><td>5</td><td>431</td><td>2</td><td>436</td><td>1.8400e-34</td><td>1529</td><td>431</td><td>436</td><td>&quot;8H2I-ASSEMBLY1…</td><td>&quot;AB-5&quot;</td><td>false</td><td>&quot;esm-small&quot;</td><td>&quot;ctx-avg-large&quot;</td><td>15</td><td>1.0</td><td>0.1</td><td>5</td></tr><tr><td>&hellip;</td><td>&hellip;</td><td>&hellip;</td><td>&hellip;</td><td>&hellip;</td><td>&hellip;</td><td>&hellip;</td><td>&hellip;</td><td>&hellip;</td><td>&hellip;</td><td>&hellip;</td><td>&hellip;</td><td>&hellip;</td><td>&hellip;</td><td>&hellip;</td><td>&hellip;</td><td>&hellip;</td><td>&hellip;</td><td>&hellip;</td><td>&hellip;</td><td>&hellip;</td><td>&hellip;</td><td>&hellip;</td><td>&hellip;</td><td>&hellip;</td><td>&hellip;</td><td>&hellip;</td><td>&hellip;</td><td>&hellip;</td><td>&hellip;</td></tr><tr><td>&quot;IMGVR_UViG_GVM…</td><td>7180762</td><td>484.57</td><td>&quot;sp|A7U6E9|MCP_…</td><td>&quot;MCP&quot;</td><td>37536</td><td>30</td><td>16</td><td>&quot;8h2i-assembly1…</td><td>0.392</td><td>435</td><td>244</td><td>0</td><td>3</td><td>404</td><td>2</td><td>436</td><td>5.5710e-34</td><td>1479</td><td>404</td><td>436</td><td>&quot;8H2I-ASSEMBLY1…</td><td>&quot;AB-5&quot;</td><td>false</td><td>&quot;genslm&quot;</td><td>&quot;pst-small&quot;</td><td>15</td><td>1.0</td><td>0.5</td><td>15</td></tr><tr><td>&quot;IMGVR_UViG_GVM…</td><td>7180763</td><td>485.69</td><td>&quot;sp|A7U6E9|MCP_…</td><td>&quot;MCP&quot;</td><td>37536</td><td>30</td><td>16</td><td>&quot;8h2i-assembly1…</td><td>0.398</td><td>435</td><td>231</td><td>0</td><td>3</td><td>387</td><td>2</td><td>436</td><td>4.6150e-36</td><td>1588</td><td>387</td><td>436</td><td>&quot;8H2I-ASSEMBLY1…</td><td>&quot;AB-5&quot;</td><td>false</td><td>&quot;genslm&quot;</td><td>&quot;pst-small&quot;</td><td>15</td><td>1.0</td><td>0.5</td><td>15</td></tr><tr><td>&quot;IMGVR_UViG_GVM…</td><td>7180811</td><td>null</td><td>&quot;unknown functi…</td><td>&quot;unknown&quot;</td><td>37536</td><td>39</td><td>9</td><td>&quot;8otz-assembly1…</td><td>0.094</td><td>436</td><td>281</td><td>0</td><td>434</td><td>869</td><td>2</td><td>312</td><td>0.6483</td><td>124</td><td>1019</td><td>319</td><td>&quot;8OTZ&quot;</td><td>&quot;EW&quot;</td><td>false</td><td>&quot;genslm&quot;</td><td>&quot;pst-small&quot;</td><td>15</td><td>1.0</td><td>0.5</td><td>15</td></tr><tr><td>&quot;IMGVR_UViG_GVM…</td><td>7180821</td><td>null</td><td>&quot;unknown functi…</td><td>&quot;unknown&quot;</td><td>37536</td><td>16</td><td>24</td><td>&quot;5yc4-assembly1…</td><td>0.264</td><td>66</td><td>42</td><td>0</td><td>37</td><td>102</td><td>1</td><td>58</td><td>0.02428</td><td>146</td><td>126</td><td>60</td><td>&quot;5YC4&quot;</td><td>&quot;A&quot;</td><td>false</td><td>&quot;genslm&quot;</td><td>&quot;pst-small&quot;</td><td>15</td><td>1.0</td><td>0.5</td><td>15</td></tr><tr><td>&quot;IMGVR_UViG_GVM…</td><td>7181019</td><td>466.58</td><td>&quot;sp|A7U6E9|MCP_…</td><td>&quot;MCP&quot;</td><td>40170</td><td>39</td><td>22</td><td>&quot;8h2i-assembly1…</td><td>0.284</td><td>536</td><td>311</td><td>0</td><td>3</td><td>538</td><td>2</td><td>436</td><td>6.7690e-34</td><td>1428</td><td>538</td><td>436</td><td>&quot;8H2I-ASSEMBLY1…</td><td>&quot;AB-5&quot;</td><td>false</td><td>&quot;genslm&quot;</td><td>&quot;pst-small&quot;</td><td>15</td><td>1.0</td><td>0.5</td><td>15</td></tr><tr><td>&quot;IMGVR_UViG_GVM…</td><td>7181020</td><td>476.24</td><td>&quot;sp|A7U6E9|MCP_…</td><td>&quot;MCP&quot;</td><td>40170</td><td>136</td><td>15</td><td>&quot;8h2i-assembly1…</td><td>0.322</td><td>457</td><td>294</td><td>0</td><td>3</td><td>459</td><td>2</td><td>436</td><td>1.8730e-34</td><td>1479</td><td>459</td><td>436</td><td>&quot;8H2I-ASSEMBLY1…</td><td>&quot;AB-5&quot;</td><td>false</td><td>&quot;genslm&quot;</td><td>&quot;pst-small&quot;</td><td>15</td><td>1.0</td><td>0.5</td><td>15</td></tr><tr><td>&quot;IMGVR_UViG_GVM…</td><td>7181493</td><td>646.16</td><td>&quot;sp|A7U6E9|MCP_…</td><td>&quot;MCP&quot;</td><td>40170</td><td>70</td><td>28</td><td>&quot;8h2i-assembly1…</td><td>0.347</td><td>542</td><td>283</td><td>0</td><td>3</td><td>544</td><td>2</td><td>436</td><td>1.1050e-38</td><td>1627</td><td>544</td><td>436</td><td>&quot;8H2I-ASSEMBLY1…</td><td>&quot;AB-5&quot;</td><td>false</td><td>&quot;genslm&quot;</td><td>&quot;pst-small&quot;</td><td>15</td><td>1.0</td><td>0.5</td><td>15</td></tr><tr><td>&quot;IMGVR_UViG_GVM…</td><td>7181768</td><td>338.24</td><td>&quot;sp|A7U6E9|MCP_…</td><td>&quot;MCP&quot;</td><td>40170</td><td>308</td><td>11</td><td>&quot;8rbs-assembly1…</td><td>0.169</td><td>510</td><td>397</td><td>0</td><td>3</td><td>512</td><td>2</td><td>480</td><td>6.2920e-26</td><td>1157</td><td>518</td><td>482</td><td>&quot;8RBS&quot;</td><td>&quot;A1&quot;</td><td>true</td><td>&quot;genslm&quot;</td><td>&quot;pst-small&quot;</td><td>15</td><td>1.0</td><td>0.5</td><td>15</td></tr><tr><td>&quot;IMGVR_UViG_GVM…</td><td>7181857</td><td>null</td><td>&quot;unknown functi…</td><td>&quot;unknown&quot;</td><td>40170</td><td>195</td><td>20</td><td>&quot;7qsg-assembly1…</td><td>0.095</td><td>369</td><td>326</td><td>0</td><td>404</td><td>764</td><td>2</td><td>370</td><td>7.1280e-7</td><td>412</td><td>765</td><td>379</td><td>&quot;7QSG&quot;</td><td>&quot;A&quot;</td><td>false</td><td>&quot;genslm&quot;</td><td>&quot;pst-small&quot;</td><td>15</td><td>1.0</td><td>0.5</td><td>15</td></tr><tr><td>&quot;IMGVR_UViG_GVM…</td><td>7182107</td><td>null</td><td>&quot;unknown functi…</td><td>&quot;unknown&quot;</td><td>40170</td><td>225</td><td>19</td><td>&quot;3lmc-assembly1…</td><td>0.096</td><td>155</td><td>101</td><td>0</td><td>82</td><td>194</td><td>1</td><td>155</td><td>0.04069</td><td>148</td><td>339</td><td>191</td><td>&quot;3LMC&quot;</td><td>&quot;A&quot;</td><td>false</td><td>&quot;genslm&quot;</td><td>&quot;pst-small&quot;</td><td>15</td><td>1.0</td><td>0.5</td><td>15</td></tr><tr><td>&quot;IMGVR_UViG_GVM…</td><td>7182117</td><td>659.96</td><td>&quot;sp|A7U6E9|MCP_…</td><td>&quot;MCP&quot;</td><td>40170</td><td>31</td><td>26</td><td>&quot;8h2i-assembly1…</td><td>0.375</td><td>521</td><td>271</td><td>0</td><td>3</td><td>523</td><td>2</td><td>436</td><td>1.5820e-39</td><td>1697</td><td>523</td><td>436</td><td>&quot;8H2I-ASSEMBLY1…</td><td>&quot;AB-5&quot;</td><td>false</td><td>&quot;genslm&quot;</td><td>&quot;pst-small&quot;</td><td>15</td><td>1.0</td><td>0.5</td><td>15</td></tr><tr><td>&quot;IMGVR_UViG_GVM…</td><td>7182202</td><td>267.94</td><td>&quot;sp|A7U6E9|MCP_…</td><td>&quot;MCP&quot;</td><td>40170</td><td>192</td><td>25</td><td>&quot;8h2i-assembly1…</td><td>0.19</td><td>569</td><td>352</td><td>0</td><td>3</td><td>571</td><td>2</td><td>436</td><td>2.7300e-23</td><td>1036</td><td>571</td><td>436</td><td>&quot;8H2I-ASSEMBLY1…</td><td>&quot;AB-5&quot;</td><td>false</td><td>&quot;genslm&quot;</td><td>&quot;pst-small&quot;</td><td>15</td><td>1.0</td><td>0.5</td><td>15</td></tr></tbody></table></div>"
      ],
      "text/plain": [
       "shape: (10_461_674, 30)\n",
       "┌───────────────┬─────────┬──────────────┬───────────────┬───┬──────────┬──────────┬───────┬───────┐\n",
       "│ ptn           ┆ ptn_id  ┆ vog_bitscore ┆ vog_annot     ┆ … ┆ genome_k ┆ genome_r ┆ ptn_r ┆ ptn_k │\n",
       "│ ---           ┆ ---     ┆ ---          ┆ ---           ┆   ┆ ---      ┆ ---      ┆ ---   ┆ ---   │\n",
       "│ str           ┆ i64     ┆ f64          ┆ str           ┆   ┆ i32      ┆ f64      ┆ f64   ┆ i32   │\n",
       "╞═══════════════╪═════════╪══════════════╪═══════════════╪═══╪══════════╪══════════╪═══════╪═══════╡\n",
       "│ IMGVR_UViG_25 ┆ 43      ┆ null         ┆ unknown       ┆ … ┆ 15       ┆ 1.0      ┆ 0.1   ┆ 5     │\n",
       "│ 79778745_0000 ┆         ┆              ┆ function      ┆   ┆          ┆          ┆       ┆       │\n",
       "│ 01|257…       ┆         ┆              ┆               ┆   ┆          ┆          ┆       ┆       │\n",
       "│ IMGVR_UViG_26 ┆ 1012    ┆ 260.42       ┆ sp|P15895|ORF ┆ … ┆ 15       ┆ 1.0      ┆ 0.1   ┆ 5     │\n",
       "│ 48501348_0000 ┆         ┆              ┆ 4_SPV1R       ┆   ┆          ┆          ┆       ┆       │\n",
       "│ 05|264…       ┆         ┆              ┆ Uncharacter…  ┆   ┆          ┆          ┆       ┆       │\n",
       "│ IMGVR_UViG_26 ┆ 1014    ┆ null         ┆ unknown       ┆ … ┆ 15       ┆ 1.0      ┆ 0.1   ┆ 5     │\n",
       "│ 48501348_0000 ┆         ┆              ┆ function      ┆   ┆          ┆          ┆       ┆       │\n",
       "│ 05|264…       ┆         ┆              ┆               ┆   ┆          ┆          ┆       ┆       │\n",
       "│ IMGVR_UViG_26 ┆ 1016    ┆ 332.97       ┆ sp|P15893|ORF ┆ … ┆ 15       ┆ 1.0      ┆ 0.1   ┆ 5     │\n",
       "│ 48501348_0000 ┆         ┆              ┆ 2_SPV1R       ┆   ┆          ┆          ┆       ┆       │\n",
       "│ 05|264…       ┆         ┆              ┆ Uncharacter…  ┆   ┆          ┆          ┆       ┆       │\n",
       "│ IMGVR_UViG_26 ┆ 1021    ┆ null         ┆ unknown       ┆ … ┆ 15       ┆ 1.0      ┆ 0.1   ┆ 5     │\n",
       "│ 48501348_0000 ┆         ┆              ┆ function      ┆   ┆          ┆          ┆       ┆       │\n",
       "│ 05|264…       ┆         ┆              ┆               ┆   ┆          ┆          ┆       ┆       │\n",
       "│ …             ┆ …       ┆ …            ┆ …             ┆ … ┆ …        ┆ …        ┆ …     ┆ …     │\n",
       "│ IMGVR_UViG_GV ┆ 7181768 ┆ 338.24       ┆ sp|A7U6E9|MCP ┆ … ┆ 15       ┆ 1.0      ┆ 0.5   ┆ 15    │\n",
       "│ MAG-S-ERX5561 ┆         ┆              ┆ _POV01 Major  ┆   ┆          ┆          ┆       ┆       │\n",
       "│ 27-47_…       ┆         ┆              ┆ capsid…       ┆   ┆          ┆          ┆       ┆       │\n",
       "│ IMGVR_UViG_GV ┆ 7181857 ┆ null         ┆ unknown       ┆ … ┆ 15       ┆ 1.0      ┆ 0.5   ┆ 15    │\n",
       "│ MAG-S-ERX5561 ┆         ┆              ┆ function      ┆   ┆          ┆          ┆       ┆       │\n",
       "│ 33-39_…       ┆         ┆              ┆               ┆   ┆          ┆          ┆       ┆       │\n",
       "│ IMGVR_UViG_GV ┆ 7182107 ┆ null         ┆ unknown       ┆ … ┆ 15       ┆ 1.0      ┆ 0.5   ┆ 15    │\n",
       "│ MAG-S-ERX5561 ┆         ┆              ┆ function      ┆   ┆          ┆          ┆       ┆       │\n",
       "│ 33-39_…       ┆         ┆              ┆               ┆   ┆          ┆          ┆       ┆       │\n",
       "│ IMGVR_UViG_GV ┆ 7182117 ┆ 659.96       ┆ sp|A7U6E9|MCP ┆ … ┆ 15       ┆ 1.0      ┆ 0.5   ┆ 15    │\n",
       "│ MAG-S-ERX5561 ┆         ┆              ┆ _POV01 Major  ┆   ┆          ┆          ┆       ┆       │\n",
       "│ 33-39_…       ┆         ┆              ┆ capsid…       ┆   ┆          ┆          ┆       ┆       │\n",
       "│ IMGVR_UViG_GV ┆ 7182202 ┆ 267.94       ┆ sp|A7U6E9|MCP ┆ … ┆ 15       ┆ 1.0      ┆ 0.5   ┆ 15    │\n",
       "│ MAG-S-ERX5561 ┆         ┆              ┆ _POV01 Major  ┆   ┆          ┆          ┆       ┆       │\n",
       "│ 33-39_…       ┆         ┆              ┆ capsid…       ┆   ┆          ┆          ┆       ┆       │\n",
       "└───────────────┴─────────┴──────────────┴───────────────┴───┴──────────┴──────────┴───────┴───────┘"
      ]
     },
     "execution_count": 10,
     "metadata": {},
     "output_type": "execute_result"
    }
   ],
   "source": [
    "results: list[pl.LazyFrame] = []\n",
    "\n",
    "ptn_embedding_methods = [\n",
    "    \"esm-small\", \"esm-large\", \"pst-small\", \"pst-large\", \"genslm\"\n",
    "\n",
    "]\n",
    "with tb.open_file(\"embedding-based_protein_clusters_per_genome_cluster.h5\") as fp:\n",
    "    for gm_node in fp.root:\n",
    "        genome_method = gm_node._v_name\n",
    "\n",
    "        for ptn_method in ptn_embedding_methods:\n",
    "            clustering_metadata = gm_node[\"metadata\"][:]\n",
    "            ptn_clusters = gm_node[ptn_method][:]\n",
    "            genome_clusters = gm_node[\"genome\"][:]\n",
    "\n",
    "            for pclu, gclu, (genome_k, genome_res, protein_k, protein_res) in zip(\n",
    "                ptn_clusters, genome_clusters, clustering_metadata\n",
    "            ):\n",
    "                if (genome_k != 15) or (genome_res != 1.0) or (protein_res == 0.85):\n",
    "                    continue\n",
    "\n",
    "                cluster_df = (\n",
    "                    ptn_info\n",
    "                    .lazy()\n",
    "                    .with_columns(\n",
    "                        genome_cluster = pl.lit(gclu),\n",
    "                        protein_cluster = pl.lit(pclu),\n",
    "                    )\n",
    "                    .with_columns(\n",
    "                        cluster_size = pl.len().over(\"genome_cluster\", \"protein_cluster\")\n",
    "                    )\n",
    "                    .filter(pl.col(\"cluster_size\") > 1)\n",
    "                    .join(struct_aln.lazy(), left_on=\"ptn\", right_on=\"query\")\n",
    "                    .with_columns(\n",
    "                        ptn_method=pl.lit(ptn_method),\n",
    "                        genome_method=pl.lit(genome_method),\n",
    "                        genome_k=pl.lit(genome_k),\n",
    "                        genome_r=pl.lit(genome_res),\n",
    "                        ptn_r=pl.lit(protein_res),\n",
    "                        ptn_k=pl.lit(protein_k),\n",
    "                    )\n",
    "                )\n",
    "\n",
    "                results.append(cluster_df)\n",
    "\n",
    "cluster_summary = pl.concat(pl.collect_all(results))\n",
    "cluster_summary"
   ]
  },
  {
   "cell_type": "code",
   "execution_count": 11,
   "metadata": {},
   "outputs": [
    {
     "data": {
      "text/html": [
       "<div><style>\n",
       ".dataframe > thead > tr,\n",
       ".dataframe > tbody > tr {\n",
       "  text-align: right;\n",
       "  white-space: pre-wrap;\n",
       "}\n",
       "</style>\n",
       "<small>shape: (5_856_744, 9)</small><table border=\"1\" class=\"dataframe\"><thead><tr><th>genome_method</th><th>ptn_method</th><th>genome_k</th><th>genome_r</th><th>ptn_k</th><th>ptn_r</th><th>genome_cluster</th><th>protein_cluster</th><th>known_mcps</th></tr><tr><td>str</td><td>str</td><td>i32</td><td>f64</td><td>i32</td><td>f64</td><td>u32</td><td>u32</td><td>u32</td></tr></thead><tbody><tr><td>&quot;ctx-avg-large&quot;</td><td>&quot;esm-small&quot;</td><td>15</td><td>1.0</td><td>5</td><td>0.1</td><td>480</td><td>0</td><td>1</td></tr><tr><td>&quot;ctx-avg-large&quot;</td><td>&quot;esm-small&quot;</td><td>15</td><td>1.0</td><td>5</td><td>0.1</td><td>855</td><td>3</td><td>2</td></tr><tr><td>&quot;ctx-avg-large&quot;</td><td>&quot;esm-small&quot;</td><td>15</td><td>1.0</td><td>5</td><td>0.1</td><td>1290</td><td>2</td><td>2</td></tr><tr><td>&quot;ctx-avg-large&quot;</td><td>&quot;esm-small&quot;</td><td>15</td><td>1.0</td><td>5</td><td>0.1</td><td>2058</td><td>1</td><td>2</td></tr><tr><td>&quot;ctx-avg-large&quot;</td><td>&quot;esm-small&quot;</td><td>15</td><td>1.0</td><td>5</td><td>0.1</td><td>455</td><td>3</td><td>3</td></tr><tr><td>&quot;ctx-avg-large&quot;</td><td>&quot;esm-small&quot;</td><td>15</td><td>1.0</td><td>5</td><td>0.1</td><td>2264</td><td>1</td><td>3</td></tr><tr><td>&quot;ctx-avg-large&quot;</td><td>&quot;esm-small&quot;</td><td>15</td><td>1.0</td><td>5</td><td>0.1</td><td>2418</td><td>0</td><td>1</td></tr><tr><td>&quot;ctx-avg-large&quot;</td><td>&quot;esm-small&quot;</td><td>15</td><td>1.0</td><td>5</td><td>0.1</td><td>2988</td><td>0</td><td>1</td></tr><tr><td>&quot;ctx-avg-large&quot;</td><td>&quot;esm-small&quot;</td><td>15</td><td>1.0</td><td>5</td><td>0.1</td><td>1058</td><td>0</td><td>2</td></tr><tr><td>&quot;ctx-avg-large&quot;</td><td>&quot;esm-small&quot;</td><td>15</td><td>1.0</td><td>5</td><td>0.1</td><td>3136</td><td>0</td><td>1</td></tr><tr><td>&quot;ctx-avg-large&quot;</td><td>&quot;esm-small&quot;</td><td>15</td><td>1.0</td><td>5</td><td>0.1</td><td>3178</td><td>2</td><td>2</td></tr><tr><td>&quot;ctx-avg-large&quot;</td><td>&quot;esm-small&quot;</td><td>15</td><td>1.0</td><td>5</td><td>0.1</td><td>3293</td><td>1</td><td>2</td></tr><tr><td>&hellip;</td><td>&hellip;</td><td>&hellip;</td><td>&hellip;</td><td>&hellip;</td><td>&hellip;</td><td>&hellip;</td><td>&hellip;</td><td>&hellip;</td></tr><tr><td>&quot;pst-small&quot;</td><td>&quot;genslm&quot;</td><td>15</td><td>1.0</td><td>15</td><td>0.5</td><td>63861</td><td>41</td><td>1</td></tr><tr><td>&quot;pst-small&quot;</td><td>&quot;genslm&quot;</td><td>15</td><td>1.0</td><td>15</td><td>0.5</td><td>54997</td><td>68</td><td>3</td></tr><tr><td>&quot;pst-small&quot;</td><td>&quot;genslm&quot;</td><td>15</td><td>1.0</td><td>15</td><td>0.5</td><td>55164</td><td>64</td><td>3</td></tr><tr><td>&quot;pst-small&quot;</td><td>&quot;genslm&quot;</td><td>15</td><td>1.0</td><td>15</td><td>0.5</td><td>50200</td><td>15</td><td>1</td></tr><tr><td>&quot;pst-small&quot;</td><td>&quot;genslm&quot;</td><td>15</td><td>1.0</td><td>15</td><td>0.5</td><td>63921</td><td>388</td><td>1</td></tr><tr><td>&quot;pst-small&quot;</td><td>&quot;genslm&quot;</td><td>15</td><td>1.0</td><td>15</td><td>0.5</td><td>50980</td><td>1</td><td>2</td></tr><tr><td>&quot;pst-small&quot;</td><td>&quot;genslm&quot;</td><td>15</td><td>1.0</td><td>15</td><td>0.5</td><td>64028</td><td>43</td><td>1</td></tr><tr><td>&quot;pst-small&quot;</td><td>&quot;genslm&quot;</td><td>15</td><td>1.0</td><td>15</td><td>0.5</td><td>64254</td><td>74</td><td>1</td></tr><tr><td>&quot;pst-small&quot;</td><td>&quot;genslm&quot;</td><td>15</td><td>1.0</td><td>15</td><td>0.5</td><td>64069</td><td>356</td><td>1</td></tr><tr><td>&quot;pst-small&quot;</td><td>&quot;genslm&quot;</td><td>15</td><td>1.0</td><td>15</td><td>0.5</td><td>64055</td><td>455</td><td>1</td></tr><tr><td>&quot;pst-small&quot;</td><td>&quot;genslm&quot;</td><td>15</td><td>1.0</td><td>15</td><td>0.5</td><td>64145</td><td>4</td><td>1</td></tr><tr><td>&quot;pst-small&quot;</td><td>&quot;genslm&quot;</td><td>15</td><td>1.0</td><td>15</td><td>0.5</td><td>64315</td><td>75</td><td>1</td></tr></tbody></table></div>"
      ],
      "text/plain": [
       "shape: (5_856_744, 9)\n",
       "┌────────────┬────────────┬──────────┬──────────┬───┬───────┬────────────┬────────────┬────────────┐\n",
       "│ genome_met ┆ ptn_method ┆ genome_k ┆ genome_r ┆ … ┆ ptn_r ┆ genome_clu ┆ protein_cl ┆ known_mcps │\n",
       "│ hod        ┆ ---        ┆ ---      ┆ ---      ┆   ┆ ---   ┆ ster       ┆ uster      ┆ ---        │\n",
       "│ ---        ┆ str        ┆ i32      ┆ f64      ┆   ┆ f64   ┆ ---        ┆ ---        ┆ u32        │\n",
       "│ str        ┆            ┆          ┆          ┆   ┆       ┆ u32        ┆ u32        ┆            │\n",
       "╞════════════╪════════════╪══════════╪══════════╪═══╪═══════╪════════════╪════════════╪════════════╡\n",
       "│ ctx-avg-la ┆ esm-small  ┆ 15       ┆ 1.0      ┆ … ┆ 0.1   ┆ 480        ┆ 0          ┆ 1          │\n",
       "│ rge        ┆            ┆          ┆          ┆   ┆       ┆            ┆            ┆            │\n",
       "│ ctx-avg-la ┆ esm-small  ┆ 15       ┆ 1.0      ┆ … ┆ 0.1   ┆ 855        ┆ 3          ┆ 2          │\n",
       "│ rge        ┆            ┆          ┆          ┆   ┆       ┆            ┆            ┆            │\n",
       "│ ctx-avg-la ┆ esm-small  ┆ 15       ┆ 1.0      ┆ … ┆ 0.1   ┆ 1290       ┆ 2          ┆ 2          │\n",
       "│ rge        ┆            ┆          ┆          ┆   ┆       ┆            ┆            ┆            │\n",
       "│ ctx-avg-la ┆ esm-small  ┆ 15       ┆ 1.0      ┆ … ┆ 0.1   ┆ 2058       ┆ 1          ┆ 2          │\n",
       "│ rge        ┆            ┆          ┆          ┆   ┆       ┆            ┆            ┆            │\n",
       "│ ctx-avg-la ┆ esm-small  ┆ 15       ┆ 1.0      ┆ … ┆ 0.1   ┆ 455        ┆ 3          ┆ 3          │\n",
       "│ rge        ┆            ┆          ┆          ┆   ┆       ┆            ┆            ┆            │\n",
       "│ …          ┆ …          ┆ …        ┆ …        ┆ … ┆ …     ┆ …          ┆ …          ┆ …          │\n",
       "│ pst-small  ┆ genslm     ┆ 15       ┆ 1.0      ┆ … ┆ 0.5   ┆ 64254      ┆ 74         ┆ 1          │\n",
       "│ pst-small  ┆ genslm     ┆ 15       ┆ 1.0      ┆ … ┆ 0.5   ┆ 64069      ┆ 356        ┆ 1          │\n",
       "│ pst-small  ┆ genslm     ┆ 15       ┆ 1.0      ┆ … ┆ 0.5   ┆ 64055      ┆ 455        ┆ 1          │\n",
       "│ pst-small  ┆ genslm     ┆ 15       ┆ 1.0      ┆ … ┆ 0.5   ┆ 64145      ┆ 4          ┆ 1          │\n",
       "│ pst-small  ┆ genslm     ┆ 15       ┆ 1.0      ┆ … ┆ 0.5   ┆ 64315      ┆ 75         ┆ 1          │\n",
       "└────────────┴────────────┴──────────┴──────────┴───┴───────┴────────────┴────────────┴────────────┘"
      ]
     },
     "execution_count": 11,
     "metadata": {},
     "output_type": "execute_result"
    }
   ],
   "source": [
    "group_cols = [\"genome_method\", \"ptn_method\", \"genome_k\", \"genome_r\", \"ptn_k\", \"ptn_r\"]\n",
    "\n",
    "# need this to compute prop of only unannotated proteins that are capsids\n",
    "detected_capsids = (\n",
    "    cluster_summary\n",
    "    .filter(pl.col(\"vog_category\") != \"unknown\")\n",
    "    .group_by(*group_cols, \"genome_cluster\", \"protein_cluster\")\n",
    "    .agg(\n",
    "        known_mcps = pl.len()\n",
    "    )\n",
    ")\n",
    "\n",
    "detected_capsids"
   ]
  },
  {
   "cell_type": "code",
   "execution_count": 12,
   "metadata": {},
   "outputs": [
    {
     "data": {
      "text/html": [
       "<div><style>\n",
       ".dataframe > thead > tr,\n",
       ".dataframe > tbody > tr {\n",
       "  text-align: right;\n",
       "  white-space: pre-wrap;\n",
       "}\n",
       "</style>\n",
       "<small>shape: (247_191, 14)</small><table border=\"1\" class=\"dataframe\"><thead><tr><th>genome_method</th><th>ptn_method</th><th>genome_k</th><th>genome_r</th><th>ptn_k</th><th>ptn_r</th><th>genome_cluster</th><th>protein_cluster</th><th>cluster_size</th><th>capsid_hits</th><th>known_mcps</th><th>prop</th><th>weight</th><th>weighted_prop</th></tr><tr><td>str</td><td>str</td><td>i32</td><td>f64</td><td>i32</td><td>f64</td><td>u32</td><td>u32</td><td>u32</td><td>u32</td><td>u32</td><td>f64</td><td>f64</td><td>f64</td></tr></thead><tbody><tr><td>&quot;ctx-avg-large&quot;</td><td>&quot;esm-small&quot;</td><td>15</td><td>1.0</td><td>5</td><td>0.1</td><td>3136</td><td>0</td><td>12</td><td>1</td><td>1</td><td>0.090909</td><td>0.000462</td><td>0.000042</td></tr><tr><td>&quot;ctx-avg-large&quot;</td><td>&quot;esm-small&quot;</td><td>15</td><td>1.0</td><td>5</td><td>0.1</td><td>3178</td><td>2</td><td>13</td><td>1</td><td>2</td><td>0.090909</td><td>0.0005</td><td>0.000045</td></tr><tr><td>&quot;ctx-avg-large&quot;</td><td>&quot;esm-small&quot;</td><td>15</td><td>1.0</td><td>5</td><td>0.1</td><td>2151</td><td>0</td><td>18</td><td>1</td><td>1</td><td>0.058824</td><td>0.000693</td><td>0.000041</td></tr><tr><td>&quot;ctx-avg-large&quot;</td><td>&quot;esm-small&quot;</td><td>15</td><td>1.0</td><td>5</td><td>0.1</td><td>9726</td><td>0</td><td>12</td><td>2</td><td>1</td><td>0.181818</td><td>0.000462</td><td>0.000084</td></tr><tr><td>&quot;ctx-avg-large&quot;</td><td>&quot;esm-small&quot;</td><td>15</td><td>1.0</td><td>5</td><td>0.1</td><td>2002</td><td>0</td><td>21</td><td>1</td><td>1</td><td>0.05</td><td>0.000808</td><td>0.00004</td></tr><tr><td>&quot;ctx-avg-large&quot;</td><td>&quot;esm-small&quot;</td><td>15</td><td>1.0</td><td>5</td><td>0.1</td><td>24268</td><td>0</td><td>10</td><td>1</td><td>2</td><td>0.125</td><td>0.000385</td><td>0.000048</td></tr><tr><td>&quot;ctx-avg-large&quot;</td><td>&quot;esm-small&quot;</td><td>15</td><td>1.0</td><td>5</td><td>0.1</td><td>19901</td><td>0</td><td>6</td><td>1</td><td>1</td><td>0.2</td><td>0.000231</td><td>0.000046</td></tr><tr><td>&quot;ctx-avg-large&quot;</td><td>&quot;esm-small&quot;</td><td>15</td><td>1.0</td><td>5</td><td>0.1</td><td>2169</td><td>0</td><td>20</td><td>1</td><td>1</td><td>0.052632</td><td>0.00077</td><td>0.000041</td></tr><tr><td>&quot;ctx-avg-large&quot;</td><td>&quot;esm-small&quot;</td><td>15</td><td>1.0</td><td>5</td><td>0.1</td><td>26391</td><td>1</td><td>23</td><td>1</td><td>1</td><td>0.045455</td><td>0.000885</td><td>0.00004</td></tr><tr><td>&quot;ctx-avg-large&quot;</td><td>&quot;esm-small&quot;</td><td>15</td><td>1.0</td><td>5</td><td>0.1</td><td>23591</td><td>0</td><td>24</td><td>2</td><td>1</td><td>0.086957</td><td>0.000924</td><td>0.00008</td></tr><tr><td>&quot;ctx-avg-large&quot;</td><td>&quot;esm-small&quot;</td><td>15</td><td>1.0</td><td>5</td><td>0.1</td><td>23340</td><td>19</td><td>17</td><td>1</td><td>1</td><td>0.0625</td><td>0.000654</td><td>0.000041</td></tr><tr><td>&quot;ctx-avg-large&quot;</td><td>&quot;esm-small&quot;</td><td>15</td><td>1.0</td><td>5</td><td>0.1</td><td>26242</td><td>52</td><td>19</td><td>1</td><td>1</td><td>0.055556</td><td>0.000731</td><td>0.000041</td></tr><tr><td>&hellip;</td><td>&hellip;</td><td>&hellip;</td><td>&hellip;</td><td>&hellip;</td><td>&hellip;</td><td>&hellip;</td><td>&hellip;</td><td>&hellip;</td><td>&hellip;</td><td>&hellip;</td><td>&hellip;</td><td>&hellip;</td><td>&hellip;</td></tr><tr><td>&quot;pst-small&quot;</td><td>&quot;genslm&quot;</td><td>15</td><td>1.0</td><td>15</td><td>0.1</td><td>38932</td><td>3</td><td>82</td><td>1</td><td>1</td><td>0.012346</td><td>0.00104</td><td>0.000013</td></tr><tr><td>&quot;pst-small&quot;</td><td>&quot;genslm&quot;</td><td>15</td><td>1.0</td><td>15</td><td>0.5</td><td>1619</td><td>0</td><td>22</td><td>1</td><td>7</td><td>0.066667</td><td>0.000765</td><td>0.000051</td></tr><tr><td>&quot;pst-small&quot;</td><td>&quot;genslm&quot;</td><td>15</td><td>1.0</td><td>15</td><td>0.5</td><td>487</td><td>0</td><td>26</td><td>1</td><td>3</td><td>0.043478</td><td>0.000904</td><td>0.000039</td></tr><tr><td>&quot;pst-small&quot;</td><td>&quot;genslm&quot;</td><td>15</td><td>1.0</td><td>15</td><td>0.5</td><td>1228</td><td>0</td><td>14</td><td>1</td><td>1</td><td>0.076923</td><td>0.000487</td><td>0.000037</td></tr><tr><td>&quot;pst-small&quot;</td><td>&quot;genslm&quot;</td><td>15</td><td>1.0</td><td>15</td><td>0.5</td><td>5014</td><td>0</td><td>16</td><td>1</td><td>2</td><td>0.071429</td><td>0.000557</td><td>0.00004</td></tr><tr><td>&quot;pst-small&quot;</td><td>&quot;genslm&quot;</td><td>15</td><td>1.0</td><td>15</td><td>0.5</td><td>14752</td><td>2</td><td>9</td><td>2</td><td>2</td><td>0.285714</td><td>0.000313</td><td>0.000089</td></tr><tr><td>&quot;pst-small&quot;</td><td>&quot;genslm&quot;</td><td>15</td><td>1.0</td><td>15</td><td>0.5</td><td>25040</td><td>7</td><td>16</td><td>1</td><td>1</td><td>0.066667</td><td>0.000557</td><td>0.000037</td></tr><tr><td>&quot;pst-small&quot;</td><td>&quot;genslm&quot;</td><td>15</td><td>1.0</td><td>15</td><td>0.5</td><td>11783</td><td>2</td><td>18</td><td>2</td><td>1</td><td>0.117647</td><td>0.000626</td><td>0.000074</td></tr><tr><td>&quot;pst-small&quot;</td><td>&quot;genslm&quot;</td><td>15</td><td>1.0</td><td>15</td><td>0.5</td><td>36769</td><td>94</td><td>24</td><td>1</td><td>2</td><td>0.045455</td><td>0.000835</td><td>0.000038</td></tr><tr><td>&quot;pst-small&quot;</td><td>&quot;genslm&quot;</td><td>15</td><td>1.0</td><td>15</td><td>0.5</td><td>12357</td><td>0</td><td>13</td><td>1</td><td>1</td><td>0.083333</td><td>0.000452</td><td>0.000038</td></tr><tr><td>&quot;pst-small&quot;</td><td>&quot;genslm&quot;</td><td>15</td><td>1.0</td><td>15</td><td>0.5</td><td>50876</td><td>19</td><td>8</td><td>1</td><td>1</td><td>0.142857</td><td>0.000278</td><td>0.00004</td></tr><tr><td>&quot;pst-small&quot;</td><td>&quot;genslm&quot;</td><td>15</td><td>1.0</td><td>15</td><td>0.5</td><td>55507</td><td>7</td><td>16</td><td>1</td><td>1</td><td>0.066667</td><td>0.000557</td><td>0.000037</td></tr></tbody></table></div>"
      ],
      "text/plain": [
       "shape: (247_191, 14)\n",
       "┌────────────┬────────────┬──────────┬──────────┬───┬────────────┬──────────┬──────────┬───────────┐\n",
       "│ genome_met ┆ ptn_method ┆ genome_k ┆ genome_r ┆ … ┆ known_mcps ┆ prop     ┆ weight   ┆ weighted_ │\n",
       "│ hod        ┆ ---        ┆ ---      ┆ ---      ┆   ┆ ---        ┆ ---      ┆ ---      ┆ prop      │\n",
       "│ ---        ┆ str        ┆ i32      ┆ f64      ┆   ┆ u32        ┆ f64      ┆ f64      ┆ ---       │\n",
       "│ str        ┆            ┆          ┆          ┆   ┆            ┆          ┆          ┆ f64       │\n",
       "╞════════════╪════════════╪══════════╪══════════╪═══╪════════════╪══════════╪══════════╪═══════════╡\n",
       "│ ctx-avg-la ┆ esm-small  ┆ 15       ┆ 1.0      ┆ … ┆ 1          ┆ 0.090909 ┆ 0.000462 ┆ 0.000042  │\n",
       "│ rge        ┆            ┆          ┆          ┆   ┆            ┆          ┆          ┆           │\n",
       "│ ctx-avg-la ┆ esm-small  ┆ 15       ┆ 1.0      ┆ … ┆ 2          ┆ 0.090909 ┆ 0.0005   ┆ 0.000045  │\n",
       "│ rge        ┆            ┆          ┆          ┆   ┆            ┆          ┆          ┆           │\n",
       "│ ctx-avg-la ┆ esm-small  ┆ 15       ┆ 1.0      ┆ … ┆ 1          ┆ 0.058824 ┆ 0.000693 ┆ 0.000041  │\n",
       "│ rge        ┆            ┆          ┆          ┆   ┆            ┆          ┆          ┆           │\n",
       "│ ctx-avg-la ┆ esm-small  ┆ 15       ┆ 1.0      ┆ … ┆ 1          ┆ 0.181818 ┆ 0.000462 ┆ 0.000084  │\n",
       "│ rge        ┆            ┆          ┆          ┆   ┆            ┆          ┆          ┆           │\n",
       "│ ctx-avg-la ┆ esm-small  ┆ 15       ┆ 1.0      ┆ … ┆ 1          ┆ 0.05     ┆ 0.000808 ┆ 0.00004   │\n",
       "│ rge        ┆            ┆          ┆          ┆   ┆            ┆          ┆          ┆           │\n",
       "│ …          ┆ …          ┆ …        ┆ …        ┆ … ┆ …          ┆ …        ┆ …        ┆ …         │\n",
       "│ pst-small  ┆ genslm     ┆ 15       ┆ 1.0      ┆ … ┆ 1          ┆ 0.117647 ┆ 0.000626 ┆ 0.000074  │\n",
       "│ pst-small  ┆ genslm     ┆ 15       ┆ 1.0      ┆ … ┆ 2          ┆ 0.045455 ┆ 0.000835 ┆ 0.000038  │\n",
       "│ pst-small  ┆ genslm     ┆ 15       ┆ 1.0      ┆ … ┆ 1          ┆ 0.083333 ┆ 0.000452 ┆ 0.000038  │\n",
       "│ pst-small  ┆ genslm     ┆ 15       ┆ 1.0      ┆ … ┆ 1          ┆ 0.142857 ┆ 0.000278 ┆ 0.00004   │\n",
       "│ pst-small  ┆ genslm     ┆ 15       ┆ 1.0      ┆ … ┆ 1          ┆ 0.066667 ┆ 0.000557 ┆ 0.000037  │\n",
       "└────────────┴────────────┴──────────┴──────────┴───┴────────────┴──────────┴──────────┴───────────┘"
      ]
     },
     "execution_count": 12,
     "metadata": {},
     "output_type": "execute_result"
    }
   ],
   "source": [
    "per_cluster_proportion_summary = (\n",
    "    cluster_summary\n",
    "    .filter(\n",
    "        pl.col(\"is_capsid\") & (pl.col(\"vog_category\") == \"unknown\")\n",
    "    )\n",
    "    .group_by(*group_cols, \"genome_cluster\", \"protein_cluster\")\n",
    "    .agg(\n",
    "        pl.first(\"cluster_size\"),\n",
    "        capsid_hits = pl.len(),\n",
    "    )\n",
    "    .join(detected_capsids, on=group_cols + [\"genome_cluster\", \"protein_cluster\"])\n",
    "    .with_columns(\n",
    "        prop = pl.col(\"capsid_hits\") / (pl.col(\"cluster_size\") - pl.col(\"known_mcps\")),\n",
    "        weight = pl.col(\"cluster_size\") / pl.sum(\"cluster_size\").over(group_cols)\n",
    "    )\n",
    "    .with_columns(\n",
    "        weighted_prop = pl.col(\"prop\") * pl.col(\"weight\")\n",
    "    )\n",
    ")\n",
    "\n",
    "per_cluster_proportion_summary"
   ]
  },
  {
   "cell_type": "markdown",
   "metadata": {},
   "source": [
    "Then, we use a weighted mean (weights = protein cluster size) to summarize for each genome clustering / protein clustering configuration:"
   ]
  },
  {
   "cell_type": "code",
   "execution_count": 13,
   "metadata": {},
   "outputs": [
    {
     "data": {
      "text/html": [
       "<div><style>\n",
       ".dataframe > thead > tr,\n",
       ".dataframe > tbody > tr {\n",
       "  text-align: right;\n",
       "  white-space: pre-wrap;\n",
       "}\n",
       "</style>\n",
       "<small>shape: (180, 8)</small><table border=\"1\" class=\"dataframe\"><thead><tr><th>genome_method</th><th>ptn_method</th><th>genome_k</th><th>genome_r</th><th>ptn_k</th><th>ptn_r</th><th>prop</th><th>cluster_size</th></tr><tr><td>str</td><td>str</td><td>i32</td><td>f64</td><td>i32</td><td>f64</td><td>f64</td><td>u32</td></tr></thead><tbody><tr><td>&quot;genslm&quot;</td><td>&quot;pst-small&quot;</td><td>15</td><td>1.0</td><td>5</td><td>0.5</td><td>0.387778</td><td>3299</td></tr><tr><td>&quot;ctx-avg-large&quot;</td><td>&quot;pst-small&quot;</td><td>15</td><td>1.0</td><td>5</td><td>0.5</td><td>0.376659</td><td>3062</td></tr><tr><td>&quot;esm2_t30_150M&quot;</td><td>&quot;pst-small&quot;</td><td>15</td><td>1.0</td><td>5</td><td>0.5</td><td>0.374475</td><td>2921</td></tr><tr><td>&quot;pst-small&quot;</td><td>&quot;pst-small&quot;</td><td>15</td><td>1.0</td><td>5</td><td>0.5</td><td>0.371701</td><td>2875</td></tr><tr><td>&quot;hyena-dna&quot;</td><td>&quot;pst-small&quot;</td><td>15</td><td>1.0</td><td>5</td><td>0.5</td><td>0.370921</td><td>3202</td></tr><tr><td>&quot;kmer&quot;</td><td>&quot;genslm&quot;</td><td>15</td><td>1.0</td><td>5</td><td>0.5</td><td>0.370719</td><td>4374</td></tr><tr><td>&quot;kmer&quot;</td><td>&quot;pst-small&quot;</td><td>15</td><td>1.0</td><td>5</td><td>0.5</td><td>0.368512</td><td>2985</td></tr><tr><td>&quot;pst-large&quot;</td><td>&quot;pst-small&quot;</td><td>15</td><td>1.0</td><td>5</td><td>0.5</td><td>0.36673</td><td>3173</td></tr><tr><td>&quot;esm2_t6_8M&quot;</td><td>&quot;pst-small&quot;</td><td>15</td><td>1.0</td><td>5</td><td>0.5</td><td>0.363603</td><td>3146</td></tr><tr><td>&quot;genslm&quot;</td><td>&quot;genslm&quot;</td><td>15</td><td>1.0</td><td>5</td><td>0.5</td><td>0.353726</td><td>5681</td></tr><tr><td>&quot;ctx-avg-small&quot;</td><td>&quot;pst-small&quot;</td><td>15</td><td>1.0</td><td>5</td><td>0.5</td><td>0.350965</td><td>2446</td></tr><tr><td>&quot;hyena-dna&quot;</td><td>&quot;genslm&quot;</td><td>15</td><td>1.0</td><td>5</td><td>0.5</td><td>0.341279</td><td>5879</td></tr><tr><td>&hellip;</td><td>&hellip;</td><td>&hellip;</td><td>&hellip;</td><td>&hellip;</td><td>&hellip;</td><td>&hellip;</td><td>&hellip;</td></tr><tr><td>&quot;pst-large&quot;</td><td>&quot;esm-large&quot;</td><td>15</td><td>1.0</td><td>15</td><td>0.1</td><td>0.028709</td><td>115765</td></tr><tr><td>&quot;hyena-dna&quot;</td><td>&quot;esm-small&quot;</td><td>15</td><td>1.0</td><td>15</td><td>0.1</td><td>0.028384</td><td>116799</td></tr><tr><td>&quot;esm2_t6_8M&quot;</td><td>&quot;esm-large&quot;</td><td>15</td><td>1.0</td><td>15</td><td>0.1</td><td>0.027606</td><td>99172</td></tr><tr><td>&quot;esm2_t30_150M&quot;</td><td>&quot;esm-large&quot;</td><td>15</td><td>1.0</td><td>15</td><td>0.1</td><td>0.027606</td><td>93683</td></tr><tr><td>&quot;pst-large&quot;</td><td>&quot;esm-small&quot;</td><td>15</td><td>1.0</td><td>15</td><td>0.1</td><td>0.026973</td><td>126342</td></tr><tr><td>&quot;kmer&quot;</td><td>&quot;esm-small&quot;</td><td>15</td><td>1.0</td><td>15</td><td>0.1</td><td>0.026916</td><td>95802</td></tr><tr><td>&quot;ctx-avg-large&quot;</td><td>&quot;esm-large&quot;</td><td>15</td><td>1.0</td><td>15</td><td>0.1</td><td>0.026731</td><td>104393</td></tr><tr><td>&quot;esm2_t6_8M&quot;</td><td>&quot;esm-small&quot;</td><td>15</td><td>1.0</td><td>15</td><td>0.1</td><td>0.026478</td><td>105365</td></tr><tr><td>&quot;esm2_t30_150M&quot;</td><td>&quot;esm-small&quot;</td><td>15</td><td>1.0</td><td>15</td><td>0.1</td><td>0.025885</td><td>104099</td></tr><tr><td>&quot;ctx-avg-large&quot;</td><td>&quot;esm-small&quot;</td><td>15</td><td>1.0</td><td>15</td><td>0.1</td><td>0.024675</td><td>119255</td></tr><tr><td>&quot;ctx-avg-small&quot;</td><td>&quot;esm-large&quot;</td><td>15</td><td>1.0</td><td>15</td><td>0.1</td><td>0.023028</td><td>64637</td></tr><tr><td>&quot;ctx-avg-small&quot;</td><td>&quot;esm-small&quot;</td><td>15</td><td>1.0</td><td>15</td><td>0.1</td><td>0.021987</td><td>69974</td></tr></tbody></table></div>"
      ],
      "text/plain": [
       "shape: (180, 8)\n",
       "┌───────────────┬────────────┬──────────┬──────────┬───────┬───────┬──────────┬──────────────┐\n",
       "│ genome_method ┆ ptn_method ┆ genome_k ┆ genome_r ┆ ptn_k ┆ ptn_r ┆ prop     ┆ cluster_size │\n",
       "│ ---           ┆ ---        ┆ ---      ┆ ---      ┆ ---   ┆ ---   ┆ ---      ┆ ---          │\n",
       "│ str           ┆ str        ┆ i32      ┆ f64      ┆ i32   ┆ f64   ┆ f64      ┆ u32          │\n",
       "╞═══════════════╪════════════╪══════════╪══════════╪═══════╪═══════╪══════════╪══════════════╡\n",
       "│ genslm        ┆ pst-small  ┆ 15       ┆ 1.0      ┆ 5     ┆ 0.5   ┆ 0.387778 ┆ 3299         │\n",
       "│ ctx-avg-large ┆ pst-small  ┆ 15       ┆ 1.0      ┆ 5     ┆ 0.5   ┆ 0.376659 ┆ 3062         │\n",
       "│ esm2_t30_150M ┆ pst-small  ┆ 15       ┆ 1.0      ┆ 5     ┆ 0.5   ┆ 0.374475 ┆ 2921         │\n",
       "│ pst-small     ┆ pst-small  ┆ 15       ┆ 1.0      ┆ 5     ┆ 0.5   ┆ 0.371701 ┆ 2875         │\n",
       "│ hyena-dna     ┆ pst-small  ┆ 15       ┆ 1.0      ┆ 5     ┆ 0.5   ┆ 0.370921 ┆ 3202         │\n",
       "│ …             ┆ …          ┆ …        ┆ …        ┆ …     ┆ …     ┆ …        ┆ …            │\n",
       "│ esm2_t6_8M    ┆ esm-small  ┆ 15       ┆ 1.0      ┆ 15    ┆ 0.1   ┆ 0.026478 ┆ 105365       │\n",
       "│ esm2_t30_150M ┆ esm-small  ┆ 15       ┆ 1.0      ┆ 15    ┆ 0.1   ┆ 0.025885 ┆ 104099       │\n",
       "│ ctx-avg-large ┆ esm-small  ┆ 15       ┆ 1.0      ┆ 15    ┆ 0.1   ┆ 0.024675 ┆ 119255       │\n",
       "│ ctx-avg-small ┆ esm-large  ┆ 15       ┆ 1.0      ┆ 15    ┆ 0.1   ┆ 0.023028 ┆ 64637        │\n",
       "│ ctx-avg-small ┆ esm-small  ┆ 15       ┆ 1.0      ┆ 15    ┆ 0.1   ┆ 0.021987 ┆ 69974        │\n",
       "└───────────────┴────────────┴──────────┴──────────┴───────┴───────┴──────────┴──────────────┘"
      ]
     },
     "execution_count": 13,
     "metadata": {},
     "output_type": "execute_result"
    }
   ],
   "source": [
    "proportion_summary = (\n",
    "    per_cluster_proportion_summary\n",
    "    .group_by(group_cols)\n",
    "    .agg(\n",
    "        pl.sum(\"weighted_prop\", \"cluster_size\")\n",
    "    )\n",
    "    .rename({\"weighted_prop\": \"prop\"})\n",
    "    .sort([\"prop\", \"cluster_size\"], descending=True)\n",
    ")\n",
    "\n",
    "proportion_summary"
   ]
  },
  {
   "cell_type": "markdown",
   "metadata": {},
   "source": [
    "The above table was used to make **Extended Data Figure 9A**.\n",
    "\n",
    "For **Figure 4C**, we further summarized this to focus on the differences between protein embeddings used for clustering, regardless of genome clustering:"
   ]
  },
  {
   "cell_type": "code",
   "execution_count": 14,
   "metadata": {},
   "outputs": [
    {
     "data": {
      "text/html": [
       "<div><style>\n",
       ".dataframe > thead > tr,\n",
       ".dataframe > tbody > tr {\n",
       "  text-align: right;\n",
       "  white-space: pre-wrap;\n",
       "}\n",
       "</style>\n",
       "<small>shape: (20, 4)</small><table border=\"1\" class=\"dataframe\"><thead><tr><th>ptn_method</th><th>ptn_k</th><th>ptn_r</th><th>prop</th></tr><tr><td>str</td><td>i32</td><td>f64</td><td>f64</td></tr></thead><tbody><tr><td>&quot;pst-small&quot;</td><td>5</td><td>0.1</td><td>0.141046</td></tr><tr><td>&quot;pst-large&quot;</td><td>5</td><td>0.1</td><td>0.105428</td></tr><tr><td>&quot;genslm&quot;</td><td>5</td><td>0.1</td><td>0.084609</td></tr><tr><td>&quot;esm-small&quot;</td><td>5</td><td>0.1</td><td>0.074845</td></tr><tr><td>&quot;esm-large&quot;</td><td>5</td><td>0.1</td><td>0.073542</td></tr><tr><td>&quot;pst-small&quot;</td><td>5</td><td>0.5</td><td>0.370149</td></tr><tr><td>&quot;genslm&quot;</td><td>5</td><td>0.5</td><td>0.298805</td></tr><tr><td>&quot;pst-large&quot;</td><td>5</td><td>0.5</td><td>0.23857</td></tr><tr><td>&quot;esm-small&quot;</td><td>5</td><td>0.5</td><td>0.235549</td></tr><tr><td>&quot;esm-large&quot;</td><td>5</td><td>0.5</td><td>0.232024</td></tr><tr><td>&quot;pst-small&quot;</td><td>15</td><td>0.1</td><td>0.048594</td></tr><tr><td>&quot;pst-large&quot;</td><td>15</td><td>0.1</td><td>0.041449</td></tr><tr><td>&quot;genslm&quot;</td><td>15</td><td>0.1</td><td>0.036784</td></tr><tr><td>&quot;esm-large&quot;</td><td>15</td><td>0.1</td><td>0.028671</td></tr><tr><td>&quot;esm-small&quot;</td><td>15</td><td>0.1</td><td>0.026672</td></tr><tr><td>&quot;pst-small&quot;</td><td>15</td><td>0.5</td><td>0.221303</td></tr><tr><td>&quot;pst-large&quot;</td><td>15</td><td>0.5</td><td>0.091942</td></tr><tr><td>&quot;genslm&quot;</td><td>15</td><td>0.5</td><td>0.087665</td></tr><tr><td>&quot;esm-small&quot;</td><td>15</td><td>0.5</td><td>0.079305</td></tr><tr><td>&quot;esm-large&quot;</td><td>15</td><td>0.5</td><td>0.077922</td></tr></tbody></table></div>"
      ],
      "text/plain": [
       "shape: (20, 4)\n",
       "┌────────────┬───────┬───────┬──────────┐\n",
       "│ ptn_method ┆ ptn_k ┆ ptn_r ┆ prop     │\n",
       "│ ---        ┆ ---   ┆ ---   ┆ ---      │\n",
       "│ str        ┆ i32   ┆ f64   ┆ f64      │\n",
       "╞════════════╪═══════╪═══════╪══════════╡\n",
       "│ pst-small  ┆ 5     ┆ 0.1   ┆ 0.141046 │\n",
       "│ pst-large  ┆ 5     ┆ 0.1   ┆ 0.105428 │\n",
       "│ genslm     ┆ 5     ┆ 0.1   ┆ 0.084609 │\n",
       "│ esm-small  ┆ 5     ┆ 0.1   ┆ 0.074845 │\n",
       "│ esm-large  ┆ 5     ┆ 0.1   ┆ 0.073542 │\n",
       "│ …          ┆ …     ┆ …     ┆ …        │\n",
       "│ pst-small  ┆ 15    ┆ 0.5   ┆ 0.221303 │\n",
       "│ pst-large  ┆ 15    ┆ 0.5   ┆ 0.091942 │\n",
       "│ genslm     ┆ 15    ┆ 0.5   ┆ 0.087665 │\n",
       "│ esm-small  ┆ 15    ┆ 0.5   ┆ 0.079305 │\n",
       "│ esm-large  ┆ 15    ┆ 0.5   ┆ 0.077922 │\n",
       "└────────────┴───────┴───────┴──────────┘"
      ]
     },
     "execution_count": 14,
     "metadata": {},
     "output_type": "execute_result"
    }
   ],
   "source": [
    "(\n",
    "    proportion_summary\n",
    "    .group_by(\"ptn_method\", \"ptn_k\", \"ptn_r\")\n",
    "    .agg(\n",
    "        pl.mean(\"prop\")\n",
    "    )\n",
    "    .sort([\"ptn_k\", \"ptn_r\", \"prop\"], descending=[False, False, True])\n",
    ")"
   ]
  }
 ],
 "metadata": {
  "kernelspec": {
   "display_name": "datasci",
   "language": "python",
   "name": "python3"
  },
  "language_info": {
   "codemirror_mode": {
    "name": "ipython",
    "version": 3
   },
   "file_extension": ".py",
   "mimetype": "text/x-python",
   "name": "python",
   "nbconvert_exporter": "python",
   "pygments_lexer": "ipython3",
   "version": "3.11.3"
  }
 },
 "nbformat": 4,
 "nbformat_minor": 2
}
