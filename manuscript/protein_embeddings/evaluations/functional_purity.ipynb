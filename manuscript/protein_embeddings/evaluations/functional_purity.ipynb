{
 "cells": [
  {
   "cell_type": "code",
   "execution_count": 8,
   "metadata": {},
   "outputs": [],
   "source": [
    "import os\n",
    "from pathlib import Path\n",
    "import itertools as it\n",
    "\n",
    "import numpy as np\n",
    "import pandas as pd\n",
    "import tables as tb\n",
    "from numpy.typing import NDArray\n",
    "from tqdm import tqdm, trange\n",
    "from collections import defaultdict\n",
    "\n",
    "import matplotlib.pyplot as plt\n",
    "import seaborn as sns\n",
    "import seaborn.objects as so\n",
    "from seaborn import axes_style, plotting_context\n",
    "\n",
    "import networkx as nx\n",
    "\n",
    "from fastatools import FastaFile\n",
    "\n",
    "os.environ[\"POLARS_MAX_THREADS\"] = \"128\"\n",
    "\n",
    "import polars as pl  # noqa: E402\n",
    "\n",
    "LongArray = NDArray[np.int64]"
   ]
  },
  {
   "cell_type": "code",
   "execution_count": 36,
   "metadata": {},
   "outputs": [],
   "source": [
    "def get_background_counts(database: str) -> pl.DataFrame:\n",
    "    if database == \"PHROG\":\n",
    "        file = \"supplementary_table_5.tsv\"\n",
    "        cat_col = \"new_category\"\n",
    "    elif database == \"VOG\":\n",
    "        file = \"supplementary_table_6.tsv\"\n",
    "        cat_col = \"function\"\n",
    "    else:\n",
    "        raise ValueError(f\"Unknown database: {database}. Must be 'PHROG' or 'VOG'\")\n",
    "    \n",
    "    counts = (\n",
    "        pl.read_csv(file, separator=\"\\t\")\n",
    "        [cat_col]\n",
    "        .value_counts()\n",
    "        .sort(cat_col)\n",
    "        .rename({cat_col: \"category\"})\n",
    "        .with_columns(\n",
    "            prop = pl.col(\"count\") / pl.col(\"count\").sum(),\n",
    "        )\n",
    "        .with_columns(\n",
    "            entropy = -pl.col(\"prop\") * pl.col(\"prop\").log(2)\n",
    "        )\n",
    "    )\n",
    "\n",
    "    return counts"
   ]
  },
  {
   "cell_type": "code",
   "execution_count": 7,
   "metadata": {},
   "outputs": [
    {
     "data": {
      "text/html": [
       "<div><style>\n",
       ".dataframe > thead > tr,\n",
       ".dataframe > tbody > tr {\n",
       "  text-align: right;\n",
       "  white-space: pre-wrap;\n",
       "}\n",
       "</style>\n",
       "<small>shape: (12, 4)</small><table border=\"1\" class=\"dataframe\"><thead><tr><th>category</th><th>count</th><th>prop</th><th>entropy</th></tr><tr><td>str</td><td>u32</td><td>f64</td><td>f64</td></tr></thead><tbody><tr><td>&quot;connector&quot;</td><td>138</td><td>0.003549</td><td>0.028886</td></tr><tr><td>&quot;gene expressio…</td><td>319</td><td>0.008205</td><td>0.056853</td></tr><tr><td>&quot;head and packa…</td><td>955</td><td>0.024563</td><td>0.131346</td></tr><tr><td>&quot;host takeover&quot;</td><td>76</td><td>0.001955</td><td>0.01759</td></tr><tr><td>&quot;lysis&quot;</td><td>305</td><td>0.007845</td><td>0.054866</td></tr><tr><td>&quot;lysogenic conv…</td><td>42</td><td>0.00108</td><td>0.010645</td></tr><tr><td>&quot;lysogeny&quot;</td><td>120</td><td>0.003086</td><td>0.02574</td></tr><tr><td>&quot;metabolic gene…</td><td>87</td><td>0.002238</td><td>0.0197</td></tr><tr><td>&quot;nucleotide met…</td><td>1078</td><td>0.027726</td><td>0.143417</td></tr><tr><td>&quot;other&quot;</td><td>775</td><td>0.019933</td><td>0.112596</td></tr><tr><td>&quot;tail&quot;</td><td>1238</td><td>0.031842</td><td>0.158346</td></tr><tr><td>&quot;unknown functi…</td><td>33747</td><td>0.867978</td><td>0.177301</td></tr></tbody></table></div>"
      ],
      "text/plain": [
       "shape: (12, 4)\n",
       "┌───────────────────────┬───────┬──────────┬──────────┐\n",
       "│ category              ┆ count ┆ prop     ┆ entropy  │\n",
       "│ ---                   ┆ ---   ┆ ---      ┆ ---      │\n",
       "│ str                   ┆ u32   ┆ f64      ┆ f64      │\n",
       "╞═══════════════════════╪═══════╪══════════╪══════════╡\n",
       "│ connector             ┆ 138   ┆ 0.003549 ┆ 0.028886 │\n",
       "│ gene expression       ┆ 319   ┆ 0.008205 ┆ 0.056853 │\n",
       "│ head and packaging    ┆ 955   ┆ 0.024563 ┆ 0.131346 │\n",
       "│ host takeover         ┆ 76    ┆ 0.001955 ┆ 0.01759  │\n",
       "│ lysis                 ┆ 305   ┆ 0.007845 ┆ 0.054866 │\n",
       "│ …                     ┆ …     ┆ …        ┆ …        │\n",
       "│ metabolic gene        ┆ 87    ┆ 0.002238 ┆ 0.0197   │\n",
       "│ nucleotide metabolism ┆ 1078  ┆ 0.027726 ┆ 0.143417 │\n",
       "│ other                 ┆ 775   ┆ 0.019933 ┆ 0.112596 │\n",
       "│ tail                  ┆ 1238  ┆ 0.031842 ┆ 0.158346 │\n",
       "│ unknown function      ┆ 33747 ┆ 0.867978 ┆ 0.177301 │\n",
       "└───────────────────────┴───────┴──────────┴──────────┘"
      ]
     },
     "execution_count": 7,
     "metadata": {},
     "output_type": "execute_result"
    }
   ],
   "source": [
    "get_background_counts(\"PHROG\")"
   ]
  },
  {
   "cell_type": "code",
   "execution_count": 34,
   "metadata": {},
   "outputs": [
    {
     "ename": "ColumnNotFoundError",
     "evalue": "function",
     "output_type": "error",
     "traceback": [
      "\u001b[0;31m---------------------------------------------------------------------------\u001b[0m",
      "\u001b[0;31mColumnNotFoundError\u001b[0m                       Traceback (most recent call last)",
      "\u001b[0;32m/tmp/ipykernel_3679920/129341897.py\u001b[0m in \u001b[0;36m?\u001b[0;34m()\u001b[0m\n\u001b[0;32m----> 1\u001b[0;31m \u001b[0mget_background_counts\u001b[0m\u001b[0;34m(\u001b[0m\u001b[0;34m\"VOG\"\u001b[0m\u001b[0;34m)\u001b[0m\u001b[0;34m\u001b[0m\u001b[0;34m\u001b[0m\u001b[0m\n\u001b[0m",
      "\u001b[0;32m/tmp/ipykernel_3679920/3334981675.py\u001b[0m in \u001b[0;36m?\u001b[0;34m(database)\u001b[0m\n\u001b[1;32m      8\u001b[0m     \u001b[0;32melse\u001b[0m\u001b[0;34m:\u001b[0m\u001b[0;34m\u001b[0m\u001b[0;34m\u001b[0m\u001b[0m\n\u001b[1;32m      9\u001b[0m         \u001b[0;32mraise\u001b[0m \u001b[0mValueError\u001b[0m\u001b[0;34m(\u001b[0m\u001b[0;34mf\"Unknown database: {database}. Must be 'PHROG' or 'VOG'\"\u001b[0m\u001b[0;34m)\u001b[0m\u001b[0;34m\u001b[0m\u001b[0;34m\u001b[0m\u001b[0m\n\u001b[1;32m     10\u001b[0m \u001b[0;34m\u001b[0m\u001b[0m\n\u001b[1;32m     11\u001b[0m     counts = (\n\u001b[0;32m---> 12\u001b[0;31m         \u001b[0mpl\u001b[0m\u001b[0;34m.\u001b[0m\u001b[0mread_csv\u001b[0m\u001b[0;34m(\u001b[0m\u001b[0mfile\u001b[0m\u001b[0;34m,\u001b[0m \u001b[0mseparator\u001b[0m\u001b[0;34m=\u001b[0m\u001b[0;34m\"\\t\"\u001b[0m\u001b[0;34m)\u001b[0m\u001b[0;34m\u001b[0m\u001b[0;34m\u001b[0m\u001b[0m\n\u001b[0m\u001b[1;32m     13\u001b[0m         \u001b[0;34m[\u001b[0m\u001b[0mcat_col\u001b[0m\u001b[0;34m]\u001b[0m\u001b[0;34m\u001b[0m\u001b[0;34m\u001b[0m\u001b[0m\n\u001b[1;32m     14\u001b[0m         \u001b[0;34m.\u001b[0m\u001b[0mvalue_counts\u001b[0m\u001b[0;34m(\u001b[0m\u001b[0;34m)\u001b[0m\u001b[0;34m\u001b[0m\u001b[0;34m\u001b[0m\u001b[0m\n\u001b[1;32m     15\u001b[0m         \u001b[0;34m.\u001b[0m\u001b[0msort\u001b[0m\u001b[0;34m(\u001b[0m\u001b[0mcat_col\u001b[0m\u001b[0;34m)\u001b[0m\u001b[0;34m\u001b[0m\u001b[0;34m\u001b[0m\u001b[0m\n",
      "\u001b[0;32m/scratch/ccmartin6/miniconda3/envs/datasci/lib/python3.11/site-packages/polars/dataframe/frame.py\u001b[0m in \u001b[0;36m?\u001b[0;34m(self, item)\u001b[0m\n\u001b[1;32m   1727\u001b[0m \u001b[0;34m\u001b[0m\u001b[0m\n\u001b[1;32m   1728\u001b[0m         \u001b[0;31m# select single column\u001b[0m\u001b[0;34m\u001b[0m\u001b[0;34m\u001b[0m\u001b[0m\n\u001b[1;32m   1729\u001b[0m         \u001b[0;31m# df[\"foo\"]\u001b[0m\u001b[0;34m\u001b[0m\u001b[0;34m\u001b[0m\u001b[0m\n\u001b[1;32m   1730\u001b[0m         \u001b[0;32mif\u001b[0m \u001b[0misinstance\u001b[0m\u001b[0;34m(\u001b[0m\u001b[0mitem\u001b[0m\u001b[0;34m,\u001b[0m \u001b[0mstr\u001b[0m\u001b[0;34m)\u001b[0m\u001b[0;34m:\u001b[0m\u001b[0;34m\u001b[0m\u001b[0;34m\u001b[0m\u001b[0m\n\u001b[0;32m-> 1731\u001b[0;31m             \u001b[0;32mreturn\u001b[0m \u001b[0mself\u001b[0m\u001b[0;34m.\u001b[0m\u001b[0mget_column\u001b[0m\u001b[0;34m(\u001b[0m\u001b[0mitem\u001b[0m\u001b[0;34m)\u001b[0m\u001b[0;34m\u001b[0m\u001b[0;34m\u001b[0m\u001b[0m\n\u001b[0m\u001b[1;32m   1732\u001b[0m \u001b[0;34m\u001b[0m\u001b[0m\n\u001b[1;32m   1733\u001b[0m         \u001b[0;31m# df[idx]\u001b[0m\u001b[0;34m\u001b[0m\u001b[0;34m\u001b[0m\u001b[0m\n\u001b[1;32m   1734\u001b[0m         \u001b[0;32mif\u001b[0m \u001b[0misinstance\u001b[0m\u001b[0;34m(\u001b[0m\u001b[0mitem\u001b[0m\u001b[0;34m,\u001b[0m \u001b[0mint\u001b[0m\u001b[0;34m)\u001b[0m\u001b[0;34m:\u001b[0m\u001b[0;34m\u001b[0m\u001b[0;34m\u001b[0m\u001b[0m\n",
      "\u001b[0;32m/scratch/ccmartin6/miniconda3/envs/datasci/lib/python3.11/site-packages/polars/dataframe/frame.py\u001b[0m in \u001b[0;36m?\u001b[0;34m(self, name)\u001b[0m\n\u001b[1;32m   7064\u001b[0m                 \u001b[0;36m2\u001b[0m\u001b[0;34m\u001b[0m\u001b[0;34m\u001b[0m\u001b[0m\n\u001b[1;32m   7065\u001b[0m                 \u001b[0;36m3\u001b[0m\u001b[0;34m\u001b[0m\u001b[0;34m\u001b[0m\u001b[0m\n\u001b[1;32m   7066\u001b[0m         ]\n\u001b[1;32m   7067\u001b[0m         \"\"\"\n\u001b[0;32m-> 7068\u001b[0;31m         \u001b[0;32mreturn\u001b[0m \u001b[0mwrap_s\u001b[0m\u001b[0;34m(\u001b[0m\u001b[0mself\u001b[0m\u001b[0;34m.\u001b[0m\u001b[0m_df\u001b[0m\u001b[0;34m.\u001b[0m\u001b[0mget_column\u001b[0m\u001b[0;34m(\u001b[0m\u001b[0mname\u001b[0m\u001b[0;34m)\u001b[0m\u001b[0;34m)\u001b[0m\u001b[0;34m\u001b[0m\u001b[0;34m\u001b[0m\u001b[0m\n\u001b[0m",
      "\u001b[0;31mColumnNotFoundError\u001b[0m: function"
     ]
    }
   ],
   "source": [
    "get_background_counts(\"VOG\")"
   ]
  },
  {
   "cell_type": "code",
   "execution_count": 46,
   "metadata": {},
   "outputs": [],
   "source": [
    "def per_cluster_information_gain(\n",
    "    ptn_info: pl.DataFrame, \n",
    "    database: str,\n",
    "    protein_clusters: LongArray,\n",
    "    genome_clusters: LongArray,\n",
    "    **metadata_kwargs,\n",
    ") -> pl.DataFrame:\n",
    "    if database not in {\"PHROG\", \"VOG\", \"vog\", \"phrog\"}:\n",
    "        raise ValueError(f\"Unknown database: {database}. Must be 'PHROG' or 'VOG'\")\n",
    "    else:\n",
    "        database = database.lower()\n",
    "\n",
    "    cat_col = f\"{database}_category\"\n",
    "\n",
    "    metadata = {\n",
    "        k: pl.lit(v)\n",
    "        for k, v in metadata_kwargs.items()\n",
    "    }\n",
    "\n",
    "    per_cluster = (\n",
    "        ptn_info\n",
    "        .lazy()\n",
    "        .with_columns(\n",
    "            gclu = genome_clusters, # type: ignore\n",
    "            pclu = protein_clusters, # type: ignore\n",
    "        )\n",
    "        .with_columns(\n",
    "            cluster_size = pl.col(\"ptn_id\").len().over(\"gclu\", \"pclu\"),\n",
    "        )\n",
    "        # no singleton protein clusters\n",
    "        # and ignore unknown functions\n",
    "        # we effectively compute information gain with only labeled proteins\n",
    "        # but keep the total size of the cluster for weighting purposes\n",
    "        .filter(\n",
    "            (pl.col(\"cluster_size\") > 1) &\n",
    "            (~pl.col(cat_col).str.contains(\"unknown\"))\n",
    "        )\n",
    "        .group_by(\"gclu\", \"pclu\")\n",
    "        .agg(\n",
    "            pl.first(\"cluster_size\"),\n",
    "            pl.col(cat_col).value_counts()\n",
    "        )\n",
    "        .explode(cat_col)\n",
    "        .unnest(cat_col)\n",
    "        .with_columns(\n",
    "            prop = pl.col(\"count\") / pl.col(\"count\").sum().over(\"gclu\", \"pclu\"),\n",
    "        )\n",
    "        .with_columns(\n",
    "            entropy = -pl.col(\"prop\") * pl.col(\"prop\").log(2)\n",
    "        )\n",
    "        .group_by(\"gclu\", \"pclu\")\n",
    "        .agg(\n",
    "            pl.first(\"cluster_size\"),\n",
    "            pl.sum(\"entropy\")\n",
    "        )\n",
    "        .with_columns(\n",
    "            weighted_entropy = pl.col(\"entropy\") * pl.col(\"cluster_size\") / pl.col(\"cluster_size\").sum(),\n",
    "            **metadata,\n",
    "        )\n",
    "        .collect()\n",
    "    )\n",
    "\n",
    "    return per_cluster\n",
    "\n",
    "def information_gain(\n",
    "    ptn_info: pl.DataFrame, \n",
    "    database: str,\n",
    "    protein_clusters: LongArray,\n",
    "    genome_clusters: LongArray,\n",
    "    **metadata_kwargs,\n",
    ") -> pl.DataFrame:\n",
    "    if not metadata_kwargs:\n",
    "        metadata_kwargs = {\n",
    "            \"dummy\": pl.lit(0)\n",
    "        }\n",
    "        delete_dummy = True\n",
    "    else:\n",
    "        delete_dummy = False\n",
    "    \n",
    "    per_cluster = per_cluster_information_gain(\n",
    "        ptn_info, \n",
    "        database, \n",
    "        protein_clusters, \n",
    "        genome_clusters,\n",
    "        **metadata_kwargs,\n",
    "    )\n",
    "\n",
    "    background: float = get_background_counts(database)[\"entropy\"].sum()\n",
    "    total_data = ptn_info[\"ptn_id\"].n_unique()\n",
    "\n",
    "    info_gain = (\n",
    "        per_cluster\n",
    "        .with_columns(\n",
    "            gain = background - pl.col(\"weighted_entropy\"),\n",
    "            total_data = total_data,\n",
    "        )\n",
    "        .with_columns(\n",
    "            gain_ratio = pl.col(\"gain\") / background,\n",
    "        )\n",
    "        .group_by(metadata_kwargs.keys())\n",
    "        .agg(\n",
    "            pl.mean(\"gain\", \"gain_ratio\"),\n",
    "            included_data = pl.sum(\"cluster_size\"),\n",
    "        )\n",
    "        .with_columns(\n",
    "            inclusion_weight = pl.col(\"included_data\") / total_data,\n",
    "        )\n",
    "        .with_columns(\n",
    "            weighted_gain = pl.col(\"gain\") * pl.col(\"inclusion_weight\"),\n",
    "            weighted_gain_ratio = pl.col(\"gain_ratio\") * pl.col(\"inclusion_weight\"),\n",
    "            **metadata_kwargs,\n",
    "        )\n",
    "    )\n",
    "\n",
    "    if delete_dummy:\n",
    "        return info_gain.drop(\"dummy\")\n",
    "    \n",
    "    return info_gain"
   ]
  },
  {
   "cell_type": "code",
   "execution_count": 27,
   "metadata": {},
   "outputs": [
    {
     "data": {
      "text/html": [
       "<div><style>\n",
       ".dataframe > thead > tr,\n",
       ".dataframe > tbody > tr {\n",
       "  text-align: right;\n",
       "  white-space: pre-wrap;\n",
       "}\n",
       "</style>\n",
       "<small>shape: (7_182_220, 9)</small><table border=\"1\" class=\"dataframe\"><thead><tr><th>ptn</th><th>ptn_id</th><th>genome</th><th>genome_id</th><th>vog_annot</th><th>vog_category</th><th>phrog_annot</th><th>phrog_category</th><th>dataset</th></tr><tr><td>str</td><td>i64</td><td>str</td><td>i64</td><td>str</td><td>str</td><td>str</td><td>str</td><td>str</td></tr></thead><tbody><tr><td>&quot;IMGVR_UViG_256…</td><td>0</td><td>&quot;IMGVR_UViG_256…</td><td>0</td><td>&quot;unknown functi…</td><td>&quot;unknown&quot;</td><td>&quot;NA&quot;</td><td>&quot;unknown functi…</td><td>&quot;test&quot;</td></tr><tr><td>&quot;IMGVR_UViG_256…</td><td>1</td><td>&quot;IMGVR_UViG_256…</td><td>0</td><td>&quot;unknown functi…</td><td>&quot;unknown&quot;</td><td>&quot;NA&quot;</td><td>&quot;unknown functi…</td><td>&quot;test&quot;</td></tr><tr><td>&quot;IMGVR_UViG_256…</td><td>2</td><td>&quot;IMGVR_UViG_256…</td><td>0</td><td>&quot;unknown functi…</td><td>&quot;unknown&quot;</td><td>&quot;NA&quot;</td><td>&quot;unknown functi…</td><td>&quot;test&quot;</td></tr><tr><td>&quot;IMGVR_UViG_256…</td><td>3</td><td>&quot;IMGVR_UViG_256…</td><td>0</td><td>&quot;unknown functi…</td><td>&quot;unknown&quot;</td><td>&quot;NA&quot;</td><td>&quot;unknown functi…</td><td>&quot;test&quot;</td></tr><tr><td>&quot;IMGVR_UViG_256…</td><td>4</td><td>&quot;IMGVR_UViG_256…</td><td>0</td><td>&quot;unknown functi…</td><td>&quot;unknown&quot;</td><td>&quot;NA&quot;</td><td>&quot;unknown functi…</td><td>&quot;test&quot;</td></tr><tr><td>&quot;IMGVR_UViG_256…</td><td>5</td><td>&quot;IMGVR_UViG_256…</td><td>0</td><td>&quot;unknown functi…</td><td>&quot;unknown&quot;</td><td>&quot;NA&quot;</td><td>&quot;unknown functi…</td><td>&quot;test&quot;</td></tr><tr><td>&quot;IMGVR_UViG_256…</td><td>6</td><td>&quot;IMGVR_UViG_256…</td><td>0</td><td>&quot;unknown functi…</td><td>&quot;unknown&quot;</td><td>&quot;NA&quot;</td><td>&quot;unknown functi…</td><td>&quot;test&quot;</td></tr><tr><td>&quot;IMGVR_UViG_256…</td><td>7</td><td>&quot;IMGVR_UViG_256…</td><td>0</td><td>&quot;unknown functi…</td><td>&quot;unknown&quot;</td><td>&quot;NA&quot;</td><td>&quot;unknown functi…</td><td>&quot;test&quot;</td></tr><tr><td>&quot;IMGVR_UViG_256…</td><td>8</td><td>&quot;IMGVR_UViG_256…</td><td>0</td><td>&quot;unknown functi…</td><td>&quot;unknown&quot;</td><td>&quot;NA&quot;</td><td>&quot;unknown functi…</td><td>&quot;test&quot;</td></tr><tr><td>&quot;IMGVR_UViG_256…</td><td>9</td><td>&quot;IMGVR_UViG_256…</td><td>0</td><td>&quot;unknown functi…</td><td>&quot;unknown&quot;</td><td>&quot;NA&quot;</td><td>&quot;unknown functi…</td><td>&quot;test&quot;</td></tr><tr><td>&quot;IMGVR_UViG_256…</td><td>10</td><td>&quot;IMGVR_UViG_256…</td><td>0</td><td>&quot;unknown functi…</td><td>&quot;unknown&quot;</td><td>&quot;NA&quot;</td><td>&quot;unknown functi…</td><td>&quot;test&quot;</td></tr><tr><td>&quot;IMGVR_UViG_256…</td><td>11</td><td>&quot;IMGVR_UViG_256…</td><td>0</td><td>&quot;unknown functi…</td><td>&quot;unknown&quot;</td><td>&quot;NA&quot;</td><td>&quot;unknown functi…</td><td>&quot;test&quot;</td></tr><tr><td>&hellip;</td><td>&hellip;</td><td>&hellip;</td><td>&hellip;</td><td>&hellip;</td><td>&hellip;</td><td>&hellip;</td><td>&hellip;</td><td>&hellip;</td></tr><tr><td>&quot;IMGVR_UViG_GVM…</td><td>7182208</td><td>&quot;IMGVR_UViG_GVM…</td><td>151254</td><td>&quot;unknown functi…</td><td>&quot;unknown&quot;</td><td>&quot;NA&quot;</td><td>&quot;unknown functi…</td><td>&quot;test&quot;</td></tr><tr><td>&quot;IMGVR_UViG_GVM…</td><td>7182209</td><td>&quot;IMGVR_UViG_GVM…</td><td>151254</td><td>&quot;sp|Q7Y1W9|SAP9…</td><td>&quot;other&quot;</td><td>&quot;NA&quot;</td><td>&quot;unknown functi…</td><td>&quot;test&quot;</td></tr><tr><td>&quot;IMGVR_UViG_GVM…</td><td>7182210</td><td>&quot;IMGVR_UViG_GVM…</td><td>151254</td><td>&quot;sp|A0A7H0DND1|…</td><td>&quot;packaging&quot;</td><td>&quot;NA&quot;</td><td>&quot;unknown functi…</td><td>&quot;test&quot;</td></tr><tr><td>&quot;IMGVR_UViG_GVM…</td><td>7182211</td><td>&quot;IMGVR_UViG_GVM…</td><td>151254</td><td>&quot;REFSEQ hypothe…</td><td>&quot;unknown&quot;</td><td>&quot;NA&quot;</td><td>&quot;unknown functi…</td><td>&quot;test&quot;</td></tr><tr><td>&quot;IMGVR_UViG_GVM…</td><td>7182212</td><td>&quot;IMGVR_UViG_GVM…</td><td>151254</td><td>&quot;REFSEQ hypothe…</td><td>&quot;unknown&quot;</td><td>&quot;NA&quot;</td><td>&quot;unknown functi…</td><td>&quot;test&quot;</td></tr><tr><td>&quot;IMGVR_UViG_GVM…</td><td>7182213</td><td>&quot;IMGVR_UViG_GVM…</td><td>151254</td><td>&quot;REFSEQ hypothe…</td><td>&quot;unknown&quot;</td><td>&quot;NA&quot;</td><td>&quot;unknown functi…</td><td>&quot;test&quot;</td></tr><tr><td>&quot;IMGVR_UViG_GVM…</td><td>7182214</td><td>&quot;IMGVR_UViG_GVM…</td><td>151254</td><td>&quot;sp|P04526|LOAD…</td><td>&quot;other&quot;</td><td>&quot;NA&quot;</td><td>&quot;unknown functi…</td><td>&quot;test&quot;</td></tr><tr><td>&quot;IMGVR_UViG_GVM…</td><td>7182215</td><td>&quot;IMGVR_UViG_GVM…</td><td>151254</td><td>&quot;unknown functi…</td><td>&quot;unknown&quot;</td><td>&quot;NA&quot;</td><td>&quot;unknown functi…</td><td>&quot;test&quot;</td></tr><tr><td>&quot;IMGVR_UViG_GVM…</td><td>7182216</td><td>&quot;IMGVR_UViG_GVM…</td><td>151254</td><td>&quot;REFSEQ UDP-3-O…</td><td>&quot;other&quot;</td><td>&quot;NA&quot;</td><td>&quot;unknown functi…</td><td>&quot;test&quot;</td></tr><tr><td>&quot;IMGVR_UViG_GVM…</td><td>7182217</td><td>&quot;IMGVR_UViG_GVM…</td><td>151254</td><td>&quot;unknown functi…</td><td>&quot;unknown&quot;</td><td>&quot;NA&quot;</td><td>&quot;unknown functi…</td><td>&quot;test&quot;</td></tr><tr><td>&quot;IMGVR_UViG_GVM…</td><td>7182218</td><td>&quot;IMGVR_UViG_GVM…</td><td>151254</td><td>&quot;unknown functi…</td><td>&quot;unknown&quot;</td><td>&quot;NA&quot;</td><td>&quot;unknown functi…</td><td>&quot;test&quot;</td></tr><tr><td>&quot;IMGVR_UViG_GVM…</td><td>7182219</td><td>&quot;IMGVR_UViG_GVM…</td><td>151254</td><td>&quot;unknown functi…</td><td>&quot;unknown&quot;</td><td>&quot;NA&quot;</td><td>&quot;unknown functi…</td><td>&quot;test&quot;</td></tr></tbody></table></div>"
      ],
      "text/plain": [
       "shape: (7_182_220, 9)\n",
       "┌────────────┬─────────┬────────────┬───────────┬───┬────────────┬───────────┬───────────┬─────────┐\n",
       "│ ptn        ┆ ptn_id  ┆ genome     ┆ genome_id ┆ … ┆ vog_catego ┆ phrog_ann ┆ phrog_cat ┆ dataset │\n",
       "│ ---        ┆ ---     ┆ ---        ┆ ---       ┆   ┆ ry         ┆ ot        ┆ egory     ┆ ---     │\n",
       "│ str        ┆ i64     ┆ str        ┆ i64       ┆   ┆ ---        ┆ ---       ┆ ---       ┆ str     │\n",
       "│            ┆         ┆            ┆           ┆   ┆ str        ┆ str       ┆ str       ┆         │\n",
       "╞════════════╪═════════╪════════════╪═══════════╪═══╪════════════╪═══════════╪═══════════╪═════════╡\n",
       "│ IMGVR_UViG ┆ 0       ┆ IMGVR_UViG ┆ 0         ┆ … ┆ unknown    ┆ NA        ┆ unknown   ┆ test    │\n",
       "│ _256151119 ┆         ┆ _256151119 ┆           ┆   ┆            ┆           ┆ function  ┆         │\n",
       "│ 5_000001|2 ┆         ┆ 5_000001   ┆           ┆   ┆            ┆           ┆           ┆         │\n",
       "│ 56…        ┆         ┆            ┆           ┆   ┆            ┆           ┆           ┆         │\n",
       "│ IMGVR_UViG ┆ 1       ┆ IMGVR_UViG ┆ 0         ┆ … ┆ unknown    ┆ NA        ┆ unknown   ┆ test    │\n",
       "│ _256151119 ┆         ┆ _256151119 ┆           ┆   ┆            ┆           ┆ function  ┆         │\n",
       "│ 5_000001|2 ┆         ┆ 5_000001   ┆           ┆   ┆            ┆           ┆           ┆         │\n",
       "│ 56…        ┆         ┆            ┆           ┆   ┆            ┆           ┆           ┆         │\n",
       "│ IMGVR_UViG ┆ 2       ┆ IMGVR_UViG ┆ 0         ┆ … ┆ unknown    ┆ NA        ┆ unknown   ┆ test    │\n",
       "│ _256151119 ┆         ┆ _256151119 ┆           ┆   ┆            ┆           ┆ function  ┆         │\n",
       "│ 5_000001|2 ┆         ┆ 5_000001   ┆           ┆   ┆            ┆           ┆           ┆         │\n",
       "│ 56…        ┆         ┆            ┆           ┆   ┆            ┆           ┆           ┆         │\n",
       "│ IMGVR_UViG ┆ 3       ┆ IMGVR_UViG ┆ 0         ┆ … ┆ unknown    ┆ NA        ┆ unknown   ┆ test    │\n",
       "│ _256151119 ┆         ┆ _256151119 ┆           ┆   ┆            ┆           ┆ function  ┆         │\n",
       "│ 5_000001|2 ┆         ┆ 5_000001   ┆           ┆   ┆            ┆           ┆           ┆         │\n",
       "│ 56…        ┆         ┆            ┆           ┆   ┆            ┆           ┆           ┆         │\n",
       "│ IMGVR_UViG ┆ 4       ┆ IMGVR_UViG ┆ 0         ┆ … ┆ unknown    ┆ NA        ┆ unknown   ┆ test    │\n",
       "│ _256151119 ┆         ┆ _256151119 ┆           ┆   ┆            ┆           ┆ function  ┆         │\n",
       "│ 5_000001|2 ┆         ┆ 5_000001   ┆           ┆   ┆            ┆           ┆           ┆         │\n",
       "│ 56…        ┆         ┆            ┆           ┆   ┆            ┆           ┆           ┆         │\n",
       "│ …          ┆ …       ┆ …          ┆ …         ┆ … ┆ …          ┆ …         ┆ …         ┆ …       │\n",
       "│ IMGVR_UViG ┆ 7182215 ┆ IMGVR_UViG ┆ 151254    ┆ … ┆ unknown    ┆ NA        ┆ unknown   ┆ test    │\n",
       "│ _GVMAG-S-E ┆         ┆ _GVMAG-S-E ┆           ┆   ┆            ┆           ┆ function  ┆         │\n",
       "│ RX556133-3 ┆         ┆ RX556133-3 ┆           ┆   ┆            ┆           ┆           ┆         │\n",
       "│ 9_…        ┆         ┆ 9_…        ┆           ┆   ┆            ┆           ┆           ┆         │\n",
       "│ IMGVR_UViG ┆ 7182216 ┆ IMGVR_UViG ┆ 151254    ┆ … ┆ other      ┆ NA        ┆ unknown   ┆ test    │\n",
       "│ _GVMAG-S-E ┆         ┆ _GVMAG-S-E ┆           ┆   ┆            ┆           ┆ function  ┆         │\n",
       "│ RX556133-3 ┆         ┆ RX556133-3 ┆           ┆   ┆            ┆           ┆           ┆         │\n",
       "│ 9_…        ┆         ┆ 9_…        ┆           ┆   ┆            ┆           ┆           ┆         │\n",
       "│ IMGVR_UViG ┆ 7182217 ┆ IMGVR_UViG ┆ 151254    ┆ … ┆ unknown    ┆ NA        ┆ unknown   ┆ test    │\n",
       "│ _GVMAG-S-E ┆         ┆ _GVMAG-S-E ┆           ┆   ┆            ┆           ┆ function  ┆         │\n",
       "│ RX556133-3 ┆         ┆ RX556133-3 ┆           ┆   ┆            ┆           ┆           ┆         │\n",
       "│ 9_…        ┆         ┆ 9_…        ┆           ┆   ┆            ┆           ┆           ┆         │\n",
       "│ IMGVR_UViG ┆ 7182218 ┆ IMGVR_UViG ┆ 151254    ┆ … ┆ unknown    ┆ NA        ┆ unknown   ┆ test    │\n",
       "│ _GVMAG-S-E ┆         ┆ _GVMAG-S-E ┆           ┆   ┆            ┆           ┆ function  ┆         │\n",
       "│ RX556133-3 ┆         ┆ RX556133-3 ┆           ┆   ┆            ┆           ┆           ┆         │\n",
       "│ 9_…        ┆         ┆ 9_…        ┆           ┆   ┆            ┆           ┆           ┆         │\n",
       "│ IMGVR_UViG ┆ 7182219 ┆ IMGVR_UViG ┆ 151254    ┆ … ┆ unknown    ┆ NA        ┆ unknown   ┆ test    │\n",
       "│ _GVMAG-S-E ┆         ┆ _GVMAG-S-E ┆           ┆   ┆            ┆           ┆ function  ┆         │\n",
       "│ RX556133-3 ┆         ┆ RX556133-3 ┆           ┆   ┆            ┆           ┆           ┆         │\n",
       "│ 9_…        ┆         ┆ 9_…        ┆           ┆   ┆            ┆           ┆           ┆         │\n",
       "└────────────┴─────────┴────────────┴───────────┴───┴────────────┴───────────┴───────────┴─────────┘"
      ]
     },
     "execution_count": 27,
     "metadata": {},
     "output_type": "execute_result"
    }
   ],
   "source": [
    "ptn_info = (\n",
    "    pl.read_csv(\"supplementary_table_2.tsv\", separator=\"\\t\")\n",
    "    .filter(pl.col(\"dataset\") == \"test\")\n",
    ")\n",
    "\n",
    "ptn_info"
   ]
  },
  {
   "cell_type": "code",
   "execution_count": 29,
   "metadata": {},
   "outputs": [
    {
     "data": {
      "text/plain": [
       "(7182220,)"
      ]
     },
     "execution_count": 29,
     "metadata": {},
     "output_type": "execute_result"
    }
   ],
   "source": [
    "with tb.open_file(\"pst-large_per_genome_ptn_clustering.h5\") as fp:\n",
    "    protein_embedding = \"pst-large\"\n",
    "    idx = 27\n",
    "    # corresponds to: \n",
    "    # (genome_k, genome_res, protein_k, protein_res):\n",
    "    # (15, 1.0, 15, 0.5)\n",
    "    clustering_metadata = {\n",
    "        label: value\n",
    "        for label, value in zip(\n",
    "            [\"genome_k\", \"genome_res\", \"protein_k\", \"protein_res\"],\n",
    "            fp.root.metadata[idx],\n",
    "        )\n",
    "    }\n",
    "    genome_clusters = fp.root[f\"{protein_embedding}__genome\"][idx]\n",
    "    protein_clusters = fp.root[f\"{protein_embedding}__protein\"][idx]\n",
    "\n",
    "protein_clusters.shape"
   ]
  },
  {
   "cell_type": "code",
   "execution_count": 30,
   "metadata": {},
   "outputs": [
    {
     "data": {
      "text/plain": [
       "(7182220,)"
      ]
     },
     "execution_count": 30,
     "metadata": {},
     "output_type": "execute_result"
    }
   ],
   "source": [
    "genome_clusters.shape"
   ]
  },
  {
   "cell_type": "code",
   "execution_count": 41,
   "metadata": {},
   "outputs": [
    {
     "data": {
      "text/html": [
       "<div><style>\n",
       ".dataframe > thead > tr,\n",
       ".dataframe > tbody > tr {\n",
       "  text-align: right;\n",
       "  white-space: pre-wrap;\n",
       "}\n",
       "</style>\n",
       "<small>shape: (492_200, 9)</small><table border=\"1\" class=\"dataframe\"><thead><tr><th>gclu</th><th>pclu</th><th>cluster_size</th><th>entropy</th><th>weighted_entropy</th><th>genome_k</th><th>genome_res</th><th>protein_k</th><th>protein_res</th></tr><tr><td>u32</td><td>u32</td><td>u32</td><td>f64</td><td>f64</td><td>i32</td><td>f64</td><td>i32</td><td>f64</td></tr></thead><tbody><tr><td>12049</td><td>14</td><td>16</td><td>0.918296</td><td>0.000002</td><td>15</td><td>1.0</td><td>15</td><td>0.5</td></tr><tr><td>12893</td><td>3</td><td>17</td><td>1.548795</td><td>0.000004</td><td>15</td><td>1.0</td><td>15</td><td>0.5</td></tr><tr><td>12797</td><td>8</td><td>10</td><td>1.0</td><td>0.000002</td><td>15</td><td>1.0</td><td>15</td><td>0.5</td></tr><tr><td>14096</td><td>28</td><td>10</td><td>1.5</td><td>0.000002</td><td>15</td><td>1.0</td><td>15</td><td>0.5</td></tr><tr><td>8115</td><td>16</td><td>7</td><td>1.0</td><td>0.000001</td><td>15</td><td>1.0</td><td>15</td><td>0.5</td></tr><tr><td>23166</td><td>6</td><td>3</td><td>-0.0</td><td>-0.0</td><td>15</td><td>1.0</td><td>15</td><td>0.5</td></tr><tr><td>23331</td><td>9</td><td>19</td><td>1.351644</td><td>0.000004</td><td>15</td><td>1.0</td><td>15</td><td>0.5</td></tr><tr><td>16984</td><td>9</td><td>16</td><td>1.459148</td><td>0.000004</td><td>15</td><td>1.0</td><td>15</td><td>0.5</td></tr><tr><td>16158</td><td>13</td><td>18</td><td>1.921928</td><td>0.000006</td><td>15</td><td>1.0</td><td>15</td><td>0.5</td></tr><tr><td>28236</td><td>16</td><td>15</td><td>1.0</td><td>0.000002</td><td>15</td><td>1.0</td><td>15</td><td>0.5</td></tr><tr><td>28439</td><td>2</td><td>12</td><td>0.918296</td><td>0.000002</td><td>15</td><td>1.0</td><td>15</td><td>0.5</td></tr><tr><td>30880</td><td>6</td><td>16</td><td>1.811278</td><td>0.000005</td><td>15</td><td>1.0</td><td>15</td><td>0.5</td></tr><tr><td>&hellip;</td><td>&hellip;</td><td>&hellip;</td><td>&hellip;</td><td>&hellip;</td><td>&hellip;</td><td>&hellip;</td><td>&hellip;</td><td>&hellip;</td></tr><tr><td>27983</td><td>4</td><td>16</td><td>1.921928</td><td>0.000005</td><td>15</td><td>1.0</td><td>15</td><td>0.5</td></tr><tr><td>28939</td><td>9</td><td>16</td><td>1.0</td><td>0.000003</td><td>15</td><td>1.0</td><td>15</td><td>0.5</td></tr><tr><td>11952</td><td>77</td><td>19</td><td>1.0</td><td>0.000003</td><td>15</td><td>1.0</td><td>15</td><td>0.5</td></tr><tr><td>32104</td><td>7</td><td>17</td><td>1.459148</td><td>0.000004</td><td>15</td><td>1.0</td><td>15</td><td>0.5</td></tr><tr><td>29728</td><td>1</td><td>6</td><td>1.0</td><td>9.9176e-7</td><td>15</td><td>1.0</td><td>15</td><td>0.5</td></tr><tr><td>16250</td><td>34</td><td>4</td><td>-0.0</td><td>-0.0</td><td>15</td><td>1.0</td><td>15</td><td>0.5</td></tr><tr><td>24572</td><td>23</td><td>3</td><td>-0.0</td><td>-0.0</td><td>15</td><td>1.0</td><td>15</td><td>0.5</td></tr><tr><td>23545</td><td>47</td><td>5</td><td>-0.0</td><td>-0.0</td><td>15</td><td>1.0</td><td>15</td><td>0.5</td></tr><tr><td>31471</td><td>9</td><td>2</td><td>-0.0</td><td>-0.0</td><td>15</td><td>1.0</td><td>15</td><td>0.5</td></tr><tr><td>10483</td><td>138</td><td>15</td><td>0.650022</td><td>0.000002</td><td>15</td><td>1.0</td><td>15</td><td>0.5</td></tr><tr><td>21027</td><td>380</td><td>13</td><td>1.584963</td><td>0.000003</td><td>15</td><td>1.0</td><td>15</td><td>0.5</td></tr><tr><td>41575</td><td>479</td><td>17</td><td>1.918296</td><td>0.000005</td><td>15</td><td>1.0</td><td>15</td><td>0.5</td></tr></tbody></table></div>"
      ],
      "text/plain": [
       "shape: (492_200, 9)\n",
       "┌───────┬──────┬──────────────┬──────────┬───┬──────────┬────────────┬───────────┬─────────────┐\n",
       "│ gclu  ┆ pclu ┆ cluster_size ┆ entropy  ┆ … ┆ genome_k ┆ genome_res ┆ protein_k ┆ protein_res │\n",
       "│ ---   ┆ ---  ┆ ---          ┆ ---      ┆   ┆ ---      ┆ ---        ┆ ---       ┆ ---         │\n",
       "│ u32   ┆ u32  ┆ u32          ┆ f64      ┆   ┆ i32      ┆ f64        ┆ i32       ┆ f64         │\n",
       "╞═══════╪══════╪══════════════╪══════════╪═══╪══════════╪════════════╪═══════════╪═════════════╡\n",
       "│ 12049 ┆ 14   ┆ 16           ┆ 0.918296 ┆ … ┆ 15       ┆ 1.0        ┆ 15        ┆ 0.5         │\n",
       "│ 12893 ┆ 3    ┆ 17           ┆ 1.548795 ┆ … ┆ 15       ┆ 1.0        ┆ 15        ┆ 0.5         │\n",
       "│ 12797 ┆ 8    ┆ 10           ┆ 1.0      ┆ … ┆ 15       ┆ 1.0        ┆ 15        ┆ 0.5         │\n",
       "│ 14096 ┆ 28   ┆ 10           ┆ 1.5      ┆ … ┆ 15       ┆ 1.0        ┆ 15        ┆ 0.5         │\n",
       "│ 8115  ┆ 16   ┆ 7            ┆ 1.0      ┆ … ┆ 15       ┆ 1.0        ┆ 15        ┆ 0.5         │\n",
       "│ …     ┆ …    ┆ …            ┆ …        ┆ … ┆ …        ┆ …          ┆ …         ┆ …           │\n",
       "│ 23545 ┆ 47   ┆ 5            ┆ -0.0     ┆ … ┆ 15       ┆ 1.0        ┆ 15        ┆ 0.5         │\n",
       "│ 31471 ┆ 9    ┆ 2            ┆ -0.0     ┆ … ┆ 15       ┆ 1.0        ┆ 15        ┆ 0.5         │\n",
       "│ 10483 ┆ 138  ┆ 15           ┆ 0.650022 ┆ … ┆ 15       ┆ 1.0        ┆ 15        ┆ 0.5         │\n",
       "│ 21027 ┆ 380  ┆ 13           ┆ 1.584963 ┆ … ┆ 15       ┆ 1.0        ┆ 15        ┆ 0.5         │\n",
       "│ 41575 ┆ 479  ┆ 17           ┆ 1.918296 ┆ … ┆ 15       ┆ 1.0        ┆ 15        ┆ 0.5         │\n",
       "└───────┴──────┴──────────────┴──────────┴───┴──────────┴────────────┴───────────┴─────────────┘"
      ]
     },
     "execution_count": 41,
     "metadata": {},
     "output_type": "execute_result"
    }
   ],
   "source": [
    "pc = per_cluster_information_gain(ptn_info, \"VOG\", protein_clusters, genome_clusters, **clustering_metadata)\n",
    "\n",
    "pc"
   ]
  },
  {
   "cell_type": "code",
   "execution_count": 42,
   "metadata": {},
   "outputs": [
    {
     "data": {
      "text/plain": [
       "1.0685823658949747"
      ]
     },
     "execution_count": 42,
     "metadata": {},
     "output_type": "execute_result"
    }
   ],
   "source": [
    "pc[\"weighted_entropy\"].sum()"
   ]
  },
  {
   "cell_type": "markdown",
   "metadata": {},
   "source": [
    "The inclusion weight keeps track of how many clustered proteins were considered for this analysis (defined as being in a cluster with more than 1 protein and at least 1 labeled protein)"
   ]
  },
  {
   "cell_type": "code",
   "execution_count": 47,
   "metadata": {},
   "outputs": [
    {
     "data": {
      "text/html": [
       "<div><style>\n",
       ".dataframe > thead > tr,\n",
       ".dataframe > tbody > tr {\n",
       "  text-align: right;\n",
       "  white-space: pre-wrap;\n",
       "}\n",
       "</style>\n",
       "<small>shape: (1, 10)</small><table border=\"1\" class=\"dataframe\"><thead><tr><th>genome_k</th><th>genome_res</th><th>protein_k</th><th>protein_res</th><th>gain</th><th>gain_ratio</th><th>included_data</th><th>inclusion_weight</th><th>weighted_gain</th><th>weighted_gain_ratio</th></tr><tr><td>i32</td><td>f64</td><td>i32</td><td>f64</td><td>f64</td><td>f64</td><td>u32</td><td>f64</td><td>f64</td><td>f64</td></tr></thead><tbody><tr><td>15</td><td>1.0</td><td>15</td><td>0.5</td><td>1.072121</td><td>0.999998</td><td>6049841</td><td>0.842336</td><td>0.903086</td><td>0.842334</td></tr></tbody></table></div>"
      ],
      "text/plain": [
       "shape: (1, 10)\n",
       "┌──────────┬───────────┬───────────┬───────────┬───┬───────────┬───────────┬───────────┬───────────┐\n",
       "│ genome_k ┆ genome_re ┆ protein_k ┆ protein_r ┆ … ┆ included_ ┆ inclusion ┆ weighted_ ┆ weighted_ │\n",
       "│ ---      ┆ s         ┆ ---       ┆ es        ┆   ┆ data      ┆ _weight   ┆ gain      ┆ gain_rati │\n",
       "│ i32      ┆ ---       ┆ i32       ┆ ---       ┆   ┆ ---       ┆ ---       ┆ ---       ┆ o         │\n",
       "│          ┆ f64       ┆           ┆ f64       ┆   ┆ u32       ┆ f64       ┆ f64       ┆ ---       │\n",
       "│          ┆           ┆           ┆           ┆   ┆           ┆           ┆           ┆ f64       │\n",
       "╞══════════╪═══════════╪═══════════╪═══════════╪═══╪═══════════╪═══════════╪═══════════╪═══════════╡\n",
       "│ 15       ┆ 1.0       ┆ 15        ┆ 0.5       ┆ … ┆ 6049841   ┆ 0.842336  ┆ 0.903086  ┆ 0.842334  │\n",
       "└──────────┴───────────┴───────────┴───────────┴───┴───────────┴───────────┴───────────┴───────────┘"
      ]
     },
     "execution_count": 47,
     "metadata": {},
     "output_type": "execute_result"
    }
   ],
   "source": [
    "information_gain(\n",
    "    ptn_info, \n",
    "    \"VOG\", \n",
    "    protein_clusters, \n",
    "    genome_clusters, \n",
    "    **clustering_metadata\n",
    ")"
   ]
  }
 ],
 "metadata": {
  "kernelspec": {
   "display_name": "datasci",
   "language": "python",
   "name": "python3"
  },
  "language_info": {
   "codemirror_mode": {
    "name": "ipython",
    "version": 3
   },
   "file_extension": ".py",
   "mimetype": "text/x-python",
   "name": "python",
   "nbconvert_exporter": "python",
   "pygments_lexer": "ipython3",
   "version": "3.11.3"
  }
 },
 "nbformat": 4,
 "nbformat_minor": 2
}
