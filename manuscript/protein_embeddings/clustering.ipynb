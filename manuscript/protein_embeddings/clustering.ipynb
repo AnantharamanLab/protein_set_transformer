{
 "cells": [
  {
   "cell_type": "code",
   "execution_count": 1,
   "metadata": {},
   "outputs": [],
   "source": [
    "from pathlib import Path\n",
    "from typing import NamedTuple\n",
    "\n",
    "import igraph as ig\n",
    "import numpy as np\n",
    "import scipy.sparse as sp\n",
    "import tables as tb\n",
    "from faiss import (\n",
    "    METRIC_INNER_PRODUCT,\n",
    "    IndexFlatIP,\n",
    "    IndexFlatL2,\n",
    "    IndexIVFFlat,\n",
    "    omp_set_num_threads,\n",
    ")\n",
    "from numpy.typing import NDArray\n",
    "from tqdm import tqdm"
   ]
  },
  {
   "cell_type": "code",
   "execution_count": 2,
   "metadata": {},
   "outputs": [
    {
     "name": "stdout",
     "output_type": "stream",
     "text": [
      "Python implementation: CPython\n",
      "Python version       : 3.11.3\n",
      "IPython version      : 8.13.2\n",
      "\n",
      "igraph: 0.11.3\n",
      "numpy : 1.23.5\n",
      "scipy : 1.11.4\n",
      "tables: 3.8.0\n",
      "faiss : 1.8.0\n",
      "tqdm  : 4.65.0\n",
      "\n"
     ]
    }
   ],
   "source": [
    "%load_ext watermark\n",
    "%watermark -vp igraph,numpy,scipy,tables,faiss,tqdm"
   ]
  },
  {
   "cell_type": "code",
   "execution_count": 3,
   "metadata": {},
   "outputs": [],
   "source": [
    "FloatArray = NDArray[np.float32]\n",
    "INTTYPE = np.uint32\n",
    "LongArray = NDArray[INTTYPE]\n",
    "THREADS = 128\n",
    "\n",
    "omp_set_num_threads(THREADS)\n",
    "\n",
    "class KnnGraphBase(NamedTuple):\n",
    "    sim: FloatArray\n",
    "    idx: LongArray"
   ]
  },
  {
   "cell_type": "code",
   "execution_count": 4,
   "metadata": {},
   "outputs": [],
   "source": [
    "def build_index(\n",
    "    data: FloatArray, normalized: bool = True\n",
    ") -> IndexIVFFlat | IndexFlatIP | IndexFlatL2:\n",
    "    dim = data.shape[-1]\n",
    "\n",
    "    n_cells = max(data.shape[0] // 39, 1)\n",
    "\n",
    "    if normalized:\n",
    "        if n_cells == 1:\n",
    "            index = IndexFlatIP(dim)\n",
    "        else:\n",
    "            quantizer = IndexFlatIP(dim)\n",
    "            index = IndexIVFFlat(quantizer, dim, n_cells, METRIC_INNER_PRODUCT)\n",
    "    else:\n",
    "        if n_cells == 1:\n",
    "            index = IndexFlatL2(dim)\n",
    "        else:\n",
    "            quantizer = IndexFlatL2(dim)\n",
    "            index = IndexIVFFlat(quantizer, dim, n_cells)\n",
    "\n",
    "    index.train(data)  # type: ignore\n",
    "    index.add(data)  # type: ignore\n",
    "    return index"
   ]
  },
  {
   "cell_type": "code",
   "execution_count": 5,
   "metadata": {},
   "outputs": [],
   "source": [
    "def to_csr(edge_index: LongArray, edge_attr: FloatArray) -> sp.csr_array:\n",
    "    n_nodes = edge_index.max() + 1\n",
    "    spadj = sp.coo_matrix(\n",
    "        (edge_attr, (edge_index[0], edge_index[1])), shape=(n_nodes, n_nodes)\n",
    "    ).tocsr()\n",
    "    return spadj\n",
    "\n",
    "\n",
    "def to_sparse(idx: LongArray, sim: FloatArray) -> sp.csr_array:\n",
    "    k = idx.shape[-1]\n",
    "    edge_index = np.vstack(\n",
    "        (\n",
    "            np.repeat(np.arange(idx.shape[0], dtype=INTTYPE), k),\n",
    "            idx.flatten(),\n",
    "        )\n",
    "    )\n",
    "\n",
    "    edge_attr = sim.flatten()\n",
    "    mask = edge_attr > 0.0\n",
    "\n",
    "    edge_index = edge_index[:, mask]\n",
    "    edge_attr = edge_attr[mask]\n",
    "\n",
    "    rev_edge_index = np.vstack((edge_index[1], edge_index[0]), dtype=INTTYPE)\n",
    "    edge_index = np.hstack((edge_index, rev_edge_index), dtype=INTTYPE)\n",
    "    edge_attr = np.concatenate((edge_attr, edge_attr))\n",
    "\n",
    "    edge_index, sort_idx = np.unique(edge_index, return_index=True, axis=1)\n",
    "    edge_attr = edge_attr[sort_idx]\n",
    "\n",
    "    return to_csr(edge_index, edge_attr)\n",
    "\n",
    "\n",
    "def to_graph(idx: LongArray, sim: FloatArray) -> ig.Graph:\n",
    "    adj = to_sparse(idx, sim)\n",
    "\n",
    "    graph = ig.Graph.Weighted_Adjacency(adj, mode=\"undirected\", attr=\"weight\")\n",
    "\n",
    "    return graph\n",
    "\n",
    "\n",
    "def knn(\n",
    "    data: FloatArray,\n",
    "    index: IndexIVFFlat | IndexFlatIP | IndexFlatL2,\n",
    "    k: int,\n",
    ") -> KnnGraphBase:\n",
    "    keff = k + 1\n",
    "    dist: FloatArray\n",
    "    idx: LongArray\n",
    "    dist, idx = index.search(data, k=keff)  # type: ignore\n",
    "\n",
    "    idx = idx.astype(INTTYPE)\n",
    "\n",
    "    if index.metric_type == METRIC_INNER_PRODUCT:\n",
    "        return KnnGraphBase(sim=dist, idx=idx)\n",
    "\n",
    "    scale = 1 / np.sqrt(data.shape[-1])\n",
    "    rbf = np.exp(-(np.square(dist.astype(np.float64))) * scale).astype(np.float32)\n",
    "    return KnnGraphBase(sim=rbf, idx=idx)\n",
    "\n",
    "\n",
    "def leiden_clustering(knn_graph: ig.Graph, resolution: float = 1.0) -> LongArray:\n",
    "    # result df has two columns: vertex and partition, ie genome id and cluster id\n",
    "    result = knn_graph.community_leiden(\n",
    "        objective_function=\"cpm\", weights=\"weight\", resolution=resolution\n",
    "    )\n",
    "\n",
    "    return np.array(result.membership, dtype=INTTYPE)\n",
    "\n",
    "\n",
    "def read_data(file: str | Path, loc: str, normalize: bool = True) -> FloatArray:\n",
    "    with tb.open_file(file) as fp:\n",
    "        data = fp.root[loc][:]\n",
    "\n",
    "    if normalize:\n",
    "        norms = np.linalg.norm(data, axis=1, keepdims=True)\n",
    "        data /= norms\n",
    "    return data"
   ]
  },
  {
   "cell_type": "markdown",
   "metadata": {},
   "source": [
    "Proteins are only clustered if their source genomes cluster together."
   ]
  },
  {
   "cell_type": "code",
   "execution_count": 6,
   "metadata": {},
   "outputs": [],
   "source": [
    "def cluster_proteins(\n",
    "    ptn_embeddings: FloatArray,\n",
    "    protein_k: int,\n",
    "    protein_resolution: float,\n",
    "    genome_ptr: LongArray,\n",
    "    genome_clusters: LongArray,\n",
    "    is_normalized: bool = True,\n",
    ") -> tuple[LongArray, LongArray]:\n",
    "    uniq_genome_clusters, genome_cluster_sizes = np.unique(genome_clusters, return_counts=True)\n",
    "\n",
    "    n_ptns = ptn_embeddings.shape[0]\n",
    "    ptn_cluster_labels = np.arange(n_ptns, dtype=INTTYPE)\n",
    "\n",
    "    genome_cluster_labels = np.arange(n_ptns, dtype=INTTYPE)\n",
    "\n",
    "    pbar = tqdm(total=uniq_genome_clusters.size)\n",
    "    for genome_cluster, genome_cluster_size in zip(uniq_genome_clusters, genome_cluster_sizes):\n",
    "        # only cluster proteins within the same genome cluster\n",
    "        genome_idx = np.where(genome_clusters == genome_cluster)[0]\n",
    "\n",
    "        global_starts = genome_ptr[genome_idx]\n",
    "        global_ends = genome_ptr[genome_idx + 1]\n",
    "        genome_sizes = global_ends - global_starts\n",
    "\n",
    "        local_ptr = np.concatenate((\n",
    "            [0],\n",
    "            np.cumsum(genome_sizes)\n",
    "        ))\n",
    "\n",
    "        local_starts = local_ptr[:-1]\n",
    "        local_ends = local_ptr[1:]\n",
    "\n",
    "        for start, end in zip(global_starts, global_ends):\n",
    "            genome_cluster_labels[start:end] = genome_cluster\n",
    "\n",
    "        if genome_cluster_size < 2:\n",
    "            continue\n",
    "\n",
    "        local_ptn_embeddings = np.concatenate([\n",
    "            ptn_embeddings[start:end] for start, end in zip(global_starts, global_ends)\n",
    "        ])\n",
    "\n",
    "        index = build_index(local_ptn_embeddings, normalized=is_normalized)\n",
    "\n",
    "        knn_base = knn(local_ptn_embeddings, index, protein_k)\n",
    "        graph = to_graph(knn_base.idx, knn_base.sim)\n",
    "        labels = leiden_clustering(graph, protein_resolution)\n",
    "\n",
    "        for start, end, local_start, local_end in zip(global_starts, global_ends, local_starts, local_ends):\n",
    "            ptn_cluster_labels[start:end] = labels[local_start:local_end]\n",
    "\n",
    "        pbar.update(1)\n",
    "\n",
    "    return ptn_cluster_labels, genome_cluster_labels"
   ]
  },
  {
   "cell_type": "code",
   "execution_count": 7,
   "metadata": {},
   "outputs": [
    {
     "data": {
      "text/plain": [
       "array([   0,    1,    2, ..., 2643, 3327, 1490])"
      ]
     },
     "execution_count": 7,
     "metadata": {},
     "output_type": "execute_result"
    }
   ],
   "source": [
    "with tb.open_file(\"../genome_embeddings/evaluations/genome_clusters.h5\") as fp:\n",
    "    genome_clusters = fp.root.test[\"pst-large\"].data[14, :]\n",
    "\n",
    "genome_clusters"
   ]
  },
  {
   "cell_type": "code",
   "execution_count": 8,
   "metadata": {},
   "outputs": [
    {
     "data": {
      "text/plain": [
       "(7182220, 320)"
      ]
     },
     "execution_count": 8,
     "metadata": {},
     "output_type": "execute_result"
    }
   ],
   "source": [
    "ptn_embeddings = read_data(\n",
    "    \"IMGVRv4_test_set_esm-small.h5\", \"data\", normalize=True\n",
    ")\n",
    "\n",
    "ptn_embeddings.shape"
   ]
  },
  {
   "cell_type": "code",
   "execution_count": 9,
   "metadata": {},
   "outputs": [
    {
     "data": {
      "text/plain": [
       "(151256,)"
      ]
     },
     "execution_count": 9,
     "metadata": {},
     "output_type": "execute_result"
    }
   ],
   "source": [
    "with tb.open_file(\"evaluations/IMGVRv4_test_set_esm-large_embeddings.h5\") as fp:\n",
    "    genome_ptr = fp.root.ptr[:]\n",
    "\n",
    "# shape: (num genomes + 1,)\n",
    "genome_ptr.shape"
   ]
  },
  {
   "cell_type": "code",
   "execution_count": 10,
   "metadata": {},
   "outputs": [
    {
     "name": "stderr",
     "output_type": "stream",
     "text": [
      " 98%|█████████▊| 3812/3891 [18:56<00:23,  3.35it/s]  \n"
     ]
    },
    {
     "data": {
      "text/plain": [
       "(array([   0,    1,    2, ..., 1239, 2821, 2799], dtype=uint32),\n",
       " array([   0,    0,    0, ..., 1490, 1490, 1490], dtype=uint32))"
      ]
     },
     "execution_count": 10,
     "metadata": {},
     "output_type": "execute_result"
    }
   ],
   "source": [
    "pclu, gclu = cluster_proteins(\n",
    "    ptn_embeddings,\n",
    "    15,\n",
    "    0.5,\n",
    "    genome_ptr,\n",
    "    genome_clusters,\n",
    "    is_normalized=True,\n",
    ")\n",
    "\n",
    "pclu, gclu"
   ]
  },
  {
   "cell_type": "code",
   "execution_count": 11,
   "metadata": {},
   "outputs": [
    {
     "data": {
      "text/plain": [
       "((7182220,), (7182220,))"
      ]
     },
     "execution_count": 11,
     "metadata": {},
     "output_type": "execute_result"
    }
   ],
   "source": [
    "pclu.shape, gclu.shape"
   ]
  }
 ],
 "metadata": {
  "kernelspec": {
   "display_name": "datasci",
   "language": "python",
   "name": "python3"
  },
  "language_info": {
   "codemirror_mode": {
    "name": "ipython",
    "version": 3
   },
   "file_extension": ".py",
   "mimetype": "text/x-python",
   "name": "python",
   "nbconvert_exporter": "python",
   "pygments_lexer": "ipython3",
   "version": "3.11.3"
  }
 },
 "nbformat": 4,
 "nbformat_minor": 2
}
